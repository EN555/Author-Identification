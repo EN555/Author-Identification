{
 "cells": [
  {
   "cell_type": "markdown",
   "id": "e1a8e4d0",
   "metadata": {},
   "source": [
    "# Author Idenfication"
   ]
  },
  {
   "cell_type": "code",
   "execution_count": 1,
   "id": "f79f5eb9",
   "metadata": {
    "ExecuteTime": {
     "end_time": "2021-11-17T06:58:55.639529Z",
     "start_time": "2021-11-17T06:58:53.154549Z"
    }
   },
   "outputs": [],
   "source": [
    "import numpy as np\n",
    "import pandas as pd\n",
    "import matplotlib.pyplot as plt\n",
    "import nltk"
   ]
  },
  {
   "cell_type": "code",
   "execution_count": 2,
   "id": "370591a8",
   "metadata": {
    "ExecuteTime": {
     "end_time": "2021-11-17T06:58:55.686531Z",
     "start_time": "2021-11-17T06:58:55.673533Z"
    }
   },
   "outputs": [],
   "source": [
    "csv_path = \"../data.csv\"\n",
    "books_path = \"../books1/epubtxt\""
   ]
  },
  {
   "cell_type": "markdown",
   "id": "74199a42",
   "metadata": {},
   "source": [
    "## Exploration"
   ]
  },
  {
   "cell_type": "code",
   "execution_count": 44,
   "id": "c6d4fe6f",
   "metadata": {
    "ExecuteTime": {
     "end_time": "2021-11-17T08:16:12.265642Z",
     "start_time": "2021-11-17T08:14:41.209057Z"
    }
   },
   "outputs": [],
   "source": [
    "df = pd.read_csv(csv_path,index_col=0)"
   ]
  },
  {
   "cell_type": "code",
   "execution_count": 8,
   "id": "c67e3c82",
   "metadata": {
    "ExecuteTime": {
     "end_time": "2021-11-17T07:35:14.155459Z",
     "start_time": "2021-11-17T07:35:14.101059Z"
    }
   },
   "outputs": [
    {
     "data": {
      "text/html": [
       "<div>\n",
       "<style scoped>\n",
       "    .dataframe tbody tr th:only-of-type {\n",
       "        vertical-align: middle;\n",
       "    }\n",
       "\n",
       "    .dataframe tbody tr th {\n",
       "        vertical-align: top;\n",
       "    }\n",
       "\n",
       "    .dataframe thead th {\n",
       "        text-align: right;\n",
       "    }\n",
       "</style>\n",
       "<table border=\"1\" class=\"dataframe\">\n",
       "  <thead>\n",
       "    <tr style=\"text-align: right;\">\n",
       "      <th></th>\n",
       "      <th>title</th>\n",
       "      <th>author</th>\n",
       "      <th>publish</th>\n",
       "      <th>genres</th>\n",
       "      <th>Text</th>\n",
       "    </tr>\n",
       "  </thead>\n",
       "  <tbody>\n",
       "    <tr>\n",
       "      <th>0</th>\n",
       "      <td>Silence</td>\n",
       "      <td>Natasha Preston</td>\n",
       "      <td>Oct. 19, 2012</td>\n",
       "      <td>['Fiction', 'Romance', 'NewadultFiction', 'Rom...</td>\n",
       "      <td>\\n\\n**Silence**  \\nBy Natasha Preston  \\nSmash...</td>\n",
       "    </tr>\n",
       "    <tr>\n",
       "      <th>1</th>\n",
       "      <td>How to Be Free</td>\n",
       "      <td>Joe Blow</td>\n",
       "      <td>Sep. 13, 2011</td>\n",
       "      <td>['Nonfiction', 'Psychology', 'TheoryNonfiction...</td>\n",
       "      <td>\\n\\nHow can we free ourselves from mental suff...</td>\n",
       "    </tr>\n",
       "    <tr>\n",
       "      <th>2</th>\n",
       "      <td>The Pirate, Part I: The Traitor</td>\n",
       "      <td>Malcolm Torres</td>\n",
       "      <td>March 18, 2017</td>\n",
       "      <td>['Fiction', 'Adventure', 'SeaadventuresFiction...</td>\n",
       "      <td>\\n\\n### THE PIRATE\\n\\n### Part I: The Traitor\\...</td>\n",
       "    </tr>\n",
       "    <tr>\n",
       "      <th>3</th>\n",
       "      <td>The New Girl</td>\n",
       "      <td>Tracie Puckett</td>\n",
       "      <td>Jan. 2, 2012</td>\n",
       "      <td>['Fiction', 'Youngadultorteen', 'RomanceFictio...</td>\n",
       "      <td>The New Girl\\n\\nWebster Grove, Book 1\\n\\nTraci...</td>\n",
       "    </tr>\n",
       "    <tr>\n",
       "      <th>4</th>\n",
       "      <td>Sharp Shooter</td>\n",
       "      <td>Marianne Delacourt</td>\n",
       "      <td>May 25, 2016</td>\n",
       "      <td>['Fiction', 'Mystery&amp;detective', 'WomenSleuths...</td>\n",
       "      <td>\\n# Sharp Shooter\\n\\n### Tara Sharp, Book 1\\n...</td>\n",
       "    </tr>\n",
       "    <tr>\n",
       "      <th>...</th>\n",
       "      <td>...</td>\n",
       "      <td>...</td>\n",
       "      <td>...</td>\n",
       "      <td>...</td>\n",
       "      <td>...</td>\n",
       "    </tr>\n",
       "    <tr>\n",
       "      <th>12336</th>\n",
       "      <td>Hawk Banks - Founding Texas</td>\n",
       "      <td>D. Allen Henry</td>\n",
       "      <td>June 16, 2014</td>\n",
       "      <td>['Fiction', 'Historical', 'USAFiction', 'Adven...</td>\n",
       "      <td>\\n\\n### Hawk Banks\\n\\n### Founding Texas\\n\\n##...</td>\n",
       "    </tr>\n",
       "    <tr>\n",
       "      <th>12337</th>\n",
       "      <td>The Expats</td>\n",
       "      <td>Ivy D'Souza</td>\n",
       "      <td>March 1, 2013</td>\n",
       "      <td>['Fiction', 'Cultural&amp;ethnicthemes', 'Cultural...</td>\n",
       "      <td>\\n### The Expats\\n\\nIvy D'Souza\\n\\nAll rights...</td>\n",
       "    </tr>\n",
       "    <tr>\n",
       "      <th>12338</th>\n",
       "      <td>The Fire of Heaven</td>\n",
       "      <td>Robert Jones</td>\n",
       "      <td>Sep. 21, 2012</td>\n",
       "      <td>['Nonfiction', 'Religion&amp;Spirituality', 'Chris...</td>\n",
       "      <td>\\n### THE FIRE OF HEAVEN\\n\\nBy\\n\\nRev. Robert...</td>\n",
       "    </tr>\n",
       "    <tr>\n",
       "      <th>12339</th>\n",
       "      <td>Dead Ringer</td>\n",
       "      <td>William Cone</td>\n",
       "      <td>Aug. 14, 2015</td>\n",
       "      <td>['Fiction', 'Thriller&amp;suspense', 'Action&amp;suspe...</td>\n",
       "      <td>\\n\\n### DEAD RINGER\\n\\nA Novel\\n\\nby\\n\\nWILLIA...</td>\n",
       "    </tr>\n",
       "    <tr>\n",
       "      <th>12340</th>\n",
       "      <td>Catalyst</td>\n",
       "      <td>Kristin Smith</td>\n",
       "      <td>Nov. 21, 2016</td>\n",
       "      <td>['Fiction', 'Youngadultorteen', 'Sci-Fi&amp;fantas...</td>\n",
       "      <td>\\n# Catalyst\\n\\n### The Deception Game, Book ...</td>\n",
       "    </tr>\n",
       "  </tbody>\n",
       "</table>\n",
       "<p>12341 rows × 5 columns</p>\n",
       "</div>"
      ],
      "text/plain": [
       "                                 title              author         publish  \\\n",
       "0                              Silence     Natasha Preston   Oct. 19, 2012   \n",
       "1                       How to Be Free            Joe Blow   Sep. 13, 2011   \n",
       "2      The Pirate, Part I: The Traitor      Malcolm Torres  March 18, 2017   \n",
       "3                         The New Girl      Tracie Puckett    Jan. 2, 2012   \n",
       "4                        Sharp Shooter  Marianne Delacourt    May 25, 2016   \n",
       "...                                ...                 ...             ...   \n",
       "12336      Hawk Banks - Founding Texas      D. Allen Henry   June 16, 2014   \n",
       "12337                       The Expats         Ivy D'Souza   March 1, 2013   \n",
       "12338               The Fire of Heaven        Robert Jones   Sep. 21, 2012   \n",
       "12339                      Dead Ringer        William Cone   Aug. 14, 2015   \n",
       "12340                         Catalyst       Kristin Smith   Nov. 21, 2016   \n",
       "\n",
       "                                                  genres  \\\n",
       "0      ['Fiction', 'Romance', 'NewadultFiction', 'Rom...   \n",
       "1      ['Nonfiction', 'Psychology', 'TheoryNonfiction...   \n",
       "2      ['Fiction', 'Adventure', 'SeaadventuresFiction...   \n",
       "3      ['Fiction', 'Youngadultorteen', 'RomanceFictio...   \n",
       "4      ['Fiction', 'Mystery&detective', 'WomenSleuths...   \n",
       "...                                                  ...   \n",
       "12336  ['Fiction', 'Historical', 'USAFiction', 'Adven...   \n",
       "12337  ['Fiction', 'Cultural&ethnicthemes', 'Cultural...   \n",
       "12338  ['Nonfiction', 'Religion&Spirituality', 'Chris...   \n",
       "12339  ['Fiction', 'Thriller&suspense', 'Action&suspe...   \n",
       "12340  ['Fiction', 'Youngadultorteen', 'Sci-Fi&fantas...   \n",
       "\n",
       "                                                    Text  \n",
       "0      \\n\\n**Silence**  \\nBy Natasha Preston  \\nSmash...  \n",
       "1      \\n\\nHow can we free ourselves from mental suff...  \n",
       "2      \\n\\n### THE PIRATE\\n\\n### Part I: The Traitor\\...  \n",
       "3      The New Girl\\n\\nWebster Grove, Book 1\\n\\nTraci...  \n",
       "4       \\n# Sharp Shooter\\n\\n### Tara Sharp, Book 1\\n...  \n",
       "...                                                  ...  \n",
       "12336  \\n\\n### Hawk Banks\\n\\n### Founding Texas\\n\\n##...  \n",
       "12337   \\n### The Expats\\n\\nIvy D'Souza\\n\\nAll rights...  \n",
       "12338   \\n### THE FIRE OF HEAVEN\\n\\nBy\\n\\nRev. Robert...  \n",
       "12339  \\n\\n### DEAD RINGER\\n\\nA Novel\\n\\nby\\n\\nWILLIA...  \n",
       "12340   \\n# Catalyst\\n\\n### The Deception Game, Book ...  \n",
       "\n",
       "[12341 rows x 5 columns]"
      ]
     },
     "execution_count": 8,
     "metadata": {},
     "output_type": "execute_result"
    }
   ],
   "source": [
    "df"
   ]
  },
  {
   "cell_type": "code",
   "execution_count": 9,
   "id": "1a64bc24",
   "metadata": {
    "ExecuteTime": {
     "end_time": "2021-11-17T07:35:26.357841Z",
     "start_time": "2021-11-17T07:35:26.107608Z"
    }
   },
   "outputs": [
    {
     "data": {
      "image/png": "[encoded data removed]",
      "text/plain": [
       "<Figure size 936x432 with 1 Axes>"
      ]
     },
     "metadata": {
      "needs_background": "light"
     },
     "output_type": "display_data"
    }
   ],
   "source": [
    "import matplotlib.pyplot as plt\n",
    "\n",
    "fig = plt.figure(figsize=(13, 6))\n",
    "ax = fig.add_axes([0,0,1,1])\n",
    "ax.bar(list([i for i in range(0,100)]), list(df.groupby(\"author\").count().nlargest(100,\"Text\")[\"Text\"]))\n",
    "plt.show()"
   ]
  },
  {
   "cell_type": "code",
   "execution_count": 49,
   "id": "32ef853e",
   "metadata": {
    "ExecuteTime": {
     "end_time": "2021-11-17T08:26:30.351750Z",
     "start_time": "2021-11-17T08:26:30.243758Z"
    }
   },
   "outputs": [],
   "source": [
    "# df[\"genres\"] = df[\"genres\"].apply(lambda s : set(s.replace(\"[\",\"\").replace(\"]\",\"\").replace(\"'\",\"\").split(\",\")))\n",
    "df[\"genres\"] = df[\"genres\"].apply(lambda s : set(s))\n",
    "df2 = df.explode(\"genres\")"
   ]
  },
  {
   "cell_type": "code",
   "execution_count": 59,
   "id": "15564592",
   "metadata": {
    "ExecuteTime": {
     "end_time": "2021-11-17T08:29:31.740400Z",
     "start_time": "2021-11-17T08:29:31.693407Z"
    }
   },
   "outputs": [
    {
     "data": {
      "text/plain": [
       "author\n",
       "Harun Yahya                         89\n",
       "Harun Yahya (Adnan Oktar)           68\n",
       "Osman Nuri Topbas                   20\n",
       "Mohammad Amin Sheikho               18\n",
       "Faisal Fahim                        17\n",
       "Hüseyn Hilmi Işık                   16\n",
       "Adnan Oktar (Harun Yahya)           10\n",
       "Harun Yahya - Adnan Oktar            6\n",
       "Syed Jazib Reza Kazmi                5\n",
       "Talal Itani                          4\n",
       "M. Sıddık Gümüş                      3\n",
       "Meinhaj Hussain                      3\n",
       "Nassim Benamra                       3\n",
       "Javed Jamil                          2\n",
       "Farid Camus                          2\n",
       "Hatem Yahia                          2\n",
       "Mirza Yawar Baig                     2\n",
       "Muhammad Sulaiman                    2\n",
       "Murat Kaya                           2\n",
       "Mirza Tahir Ahmad                    2\n",
       "P. Zainul Abideen                    2\n",
       "Peace Vision                         2\n",
       "Muhammed Hâdimî                      1\n",
       "Mirza Masroor Ahmad                  1\n",
       "Mohammed Irfanullah                  1\n",
       "Musa Topbas                          1\n",
       "S. Muhammad Salih Al-Monajjid        1\n",
       "Sachal Smith                         1\n",
       "Sana S. Khan                         1\n",
       "Sayyid Aliraza Naqvi                 1\n",
       "Mohamed Amine l9m100                 1\n",
       "Sayyid Mujtaba Musavi Lari           1\n",
       "Trung Nguyen                         1\n",
       "William John Cox                     1\n",
       "Abdullah Suwaydî                     1\n",
       "Kamal Barghout                       1\n",
       "Mirza Ghulam Ahmad                   1\n",
       "Mirza Bashir-ud-Din Mahmud Ahmad     1\n",
       "Abu Yahya                            1\n",
       "Ahmad Fârûqî                         1\n",
       "Ahmed A. Khan                        1\n",
       "Ahmed Fârûk                          1\n",
       "Ahmet Tomor                          1\n",
       "Alia Khan                            1\n",
       "Anjum Islam                          1\n",
       "Asmaa Ahmed                          1\n",
       "BS Murthy                            1\n",
       "Bhaskar Sarkar                       1\n",
       "Dan Wickwire                         1\n",
       "David A.                             1\n",
       "Dr Muhammad Muhsin Khan              1\n",
       "Dr. Rashad Khalifa Ph.D.             1\n",
       "Evang. Promise Baker                 1\n",
       "George Clifford                      1\n",
       "Global Policy                        1\n",
       "GoodwordBooks                        1\n",
       "H.M. Baagil                          1\n",
       "Abdurrahman Al Sheha                 1\n",
       "Mirza Bashir Ahmad                   1\n",
       "m Mutairy                            1\n",
       "Name: genres, dtype: int64"
      ]
     },
     "execution_count": 59,
     "metadata": {},
     "output_type": "execute_result"
    }
   ],
   "source": [
    "df2[df2[\"genres\"].str.contains(\"Islam\")].groupby(\"author\").count()[\"genres\"].sort_values(ascending=False)"
   ]
  },
  {
   "cell_type": "code",
   "execution_count": 34,
   "id": "ed218574",
   "metadata": {
    "ExecuteTime": {
     "end_time": "2021-11-17T07:57:05.219709Z",
     "start_time": "2021-11-17T07:57:05.168707Z"
    }
   },
   "outputs": [
    {
     "data": {
      "text/plain": [
       "genres                                                                   author                   \n",
       "['Nonfiction', 'Religion&Spirituality', 'Education']                     Jesus (AJ Miller)            45\n",
       "['Nonfiction', 'Religion&Spirituality', 'Islam', 'Prayerbooks/Islamic']  Harun Yahya                  33\n",
       "                                                                         Harun Yahya (Adnan Oktar)    25\n",
       "['Nonfiction', 'Education&StudyGuides', 'Studyguides-Literature']        David Bruce                  20\n",
       "['Nonfiction', 'Religion&Spirituality', 'Islam', 'Prayerbooks']          Harun Yahya                  19\n",
       "                                                                                                      ..\n",
       "['Fiction', 'Literature', 'Plays&Screenplays']                           Esther Minskoff               1\n",
       "                                                                         JoAnne Soper-Cook             1\n",
       "                                                                         John Foltin                   1\n",
       "                                                                         Jonathan Jackson              1\n",
       "['Screenplays', 'War']                                                   Cory Mccoy                    1\n",
       "Name: title, Length: 10848, dtype: int64"
      ]
     },
     "execution_count": 34,
     "metadata": {},
     "output_type": "execute_result"
    }
   ],
   "source": [
    "df.groupby([\"genres\",\"author\"]).count()[\"title\"].sort_values(ascending=False)"
   ]
  },
  {
   "cell_type": "code",
   "execution_count": 61,
   "id": "8c3d0941",
   "metadata": {
    "ExecuteTime": {
     "end_time": "2021-11-17T08:41:38.610766Z",
     "start_time": "2021-11-17T08:41:38.570769Z"
    }
   },
   "outputs": [
    {
     "data": {
      "text/html": [
       "<div>\n",
       "<style scoped>\n",
       "    .dataframe tbody tr th:only-of-type {\n",
       "        vertical-align: middle;\n",
       "    }\n",
       "\n",
       "    .dataframe tbody tr th {\n",
       "        vertical-align: top;\n",
       "    }\n",
       "\n",
       "    .dataframe thead th {\n",
       "        text-align: right;\n",
       "    }\n",
       "</style>\n",
       "<table border=\"1\" class=\"dataframe\">\n",
       "  <thead>\n",
       "    <tr style=\"text-align: right;\">\n",
       "      <th></th>\n",
       "      <th></th>\n",
       "      <th>title</th>\n",
       "      <th>publish</th>\n",
       "      <th>Text</th>\n",
       "    </tr>\n",
       "    <tr>\n",
       "      <th>author</th>\n",
       "      <th>genres</th>\n",
       "      <th></th>\n",
       "      <th></th>\n",
       "      <th></th>\n",
       "    </tr>\n",
       "  </thead>\n",
       "  <tbody>\n",
       "    <tr>\n",
       "      <th rowspan=\"18\" valign=\"top\">Mohammad Amin Sheikho</th>\n",
       "      <th>Adventurers&amp;explorers</th>\n",
       "      <td>1</td>\n",
       "      <td>1</td>\n",
       "      <td>1</td>\n",
       "    </tr>\n",
       "    <tr>\n",
       "      <th>Biography</th>\n",
       "      <td>1</td>\n",
       "      <td>1</td>\n",
       "      <td>1</td>\n",
       "    </tr>\n",
       "    <tr>\n",
       "      <th>Food-contentguides</th>\n",
       "      <td>1</td>\n",
       "      <td>1</td>\n",
       "      <td>1</td>\n",
       "    </tr>\n",
       "    <tr>\n",
       "      <th>Health</th>\n",
       "      <td>1</td>\n",
       "      <td>1</td>\n",
       "      <td>1</td>\n",
       "    </tr>\n",
       "    <tr>\n",
       "      <th>Islam</th>\n",
       "      <td>1</td>\n",
       "      <td>1</td>\n",
       "      <td>1</td>\n",
       "    </tr>\n",
       "    <tr>\n",
       "      <th>Islam/History</th>\n",
       "      <td>2</td>\n",
       "      <td>2</td>\n",
       "      <td>2</td>\n",
       "    </tr>\n",
       "    <tr>\n",
       "      <th>Islam/Koran&amp;SacredWritings</th>\n",
       "      <td>2</td>\n",
       "      <td>2</td>\n",
       "      <td>2</td>\n",
       "    </tr>\n",
       "    <tr>\n",
       "      <th>Islam/Koran&amp;SacredWritingsNonfiction</th>\n",
       "      <td>8</td>\n",
       "      <td>8</td>\n",
       "      <td>8</td>\n",
       "    </tr>\n",
       "    <tr>\n",
       "      <th>Islam/Rituals&amp;Practice</th>\n",
       "      <td>2</td>\n",
       "      <td>2</td>\n",
       "      <td>2</td>\n",
       "    </tr>\n",
       "    <tr>\n",
       "      <th>Islam/Rituals&amp;PracticeNonfiction</th>\n",
       "      <td>3</td>\n",
       "      <td>3</td>\n",
       "      <td>3</td>\n",
       "    </tr>\n",
       "    <tr>\n",
       "      <th>Philosophy</th>\n",
       "      <td>3</td>\n",
       "      <td>3</td>\n",
       "      <td>3</td>\n",
       "    </tr>\n",
       "    <tr>\n",
       "      <th>Prayerbooks</th>\n",
       "      <td>1</td>\n",
       "      <td>1</td>\n",
       "      <td>1</td>\n",
       "    </tr>\n",
       "    <tr>\n",
       "      <th>Religion&amp;Spirituality</th>\n",
       "      <td>11</td>\n",
       "      <td>11</td>\n",
       "      <td>11</td>\n",
       "    </tr>\n",
       "    <tr>\n",
       "      <th>ReligiousbiographyNonfiction</th>\n",
       "      <td>1</td>\n",
       "      <td>1</td>\n",
       "      <td>1</td>\n",
       "    </tr>\n",
       "    <tr>\n",
       "      <th>Religiousphilosophy</th>\n",
       "      <td>3</td>\n",
       "      <td>3</td>\n",
       "      <td>3</td>\n",
       "    </tr>\n",
       "    <tr>\n",
       "      <th>&amp;medicine</th>\n",
       "      <td>1</td>\n",
       "      <td>1</td>\n",
       "      <td>1</td>\n",
       "    </tr>\n",
       "    <tr>\n",
       "      <th>Nonfiction</th>\n",
       "      <td>12</td>\n",
       "      <td>12</td>\n",
       "      <td>12</td>\n",
       "    </tr>\n",
       "    <tr>\n",
       "      <th>wellbeing</th>\n",
       "      <td>1</td>\n",
       "      <td>1</td>\n",
       "      <td>1</td>\n",
       "    </tr>\n",
       "    <tr>\n",
       "      <th rowspan=\"5\" valign=\"top\">Osman Nuri Topbas</th>\n",
       "      <th>Islam</th>\n",
       "      <td>16</td>\n",
       "      <td>16</td>\n",
       "      <td>16</td>\n",
       "    </tr>\n",
       "    <tr>\n",
       "      <th>Islam/Sufi</th>\n",
       "      <td>2</td>\n",
       "      <td>2</td>\n",
       "      <td>2</td>\n",
       "    </tr>\n",
       "    <tr>\n",
       "      <th>Islam/Theology</th>\n",
       "      <td>2</td>\n",
       "      <td>2</td>\n",
       "      <td>2</td>\n",
       "    </tr>\n",
       "    <tr>\n",
       "      <th>Religion&amp;Spirituality</th>\n",
       "      <td>20</td>\n",
       "      <td>20</td>\n",
       "      <td>20</td>\n",
       "    </tr>\n",
       "    <tr>\n",
       "      <th>Nonfiction</th>\n",
       "      <td>20</td>\n",
       "      <td>20</td>\n",
       "      <td>20</td>\n",
       "    </tr>\n",
       "  </tbody>\n",
       "</table>\n",
       "</div>"
      ],
      "text/plain": [
       "                                                             title  publish  \\\n",
       "author                genres                                                  \n",
       "Mohammad Amin Sheikho  Adventurers&explorers                     1        1   \n",
       "                       Biography                                 1        1   \n",
       "                       Food-contentguides                        1        1   \n",
       "                       Health                                    1        1   \n",
       "                       Islam                                     1        1   \n",
       "                       Islam/History                             2        2   \n",
       "                       Islam/Koran&SacredWritings                2        2   \n",
       "                       Islam/Koran&SacredWritingsNonfiction      8        8   \n",
       "                       Islam/Rituals&Practice                    2        2   \n",
       "                       Islam/Rituals&PracticeNonfiction          3        3   \n",
       "                       Philosophy                                3        3   \n",
       "                       Prayerbooks                               1        1   \n",
       "                       Religion&Spirituality                    11       11   \n",
       "                       ReligiousbiographyNonfiction              1        1   \n",
       "                       Religiousphilosophy                       3        3   \n",
       "                      &medicine                                  1        1   \n",
       "                      Nonfiction                                12       12   \n",
       "                      wellbeing                                  1        1   \n",
       "Osman Nuri Topbas      Islam                                    16       16   \n",
       "                       Islam/Sufi                                2        2   \n",
       "                       Islam/Theology                            2        2   \n",
       "                       Religion&Spirituality                    20       20   \n",
       "                      Nonfiction                                20       20   \n",
       "\n",
       "                                                             Text  \n",
       "author                genres                                       \n",
       "Mohammad Amin Sheikho  Adventurers&explorers                    1  \n",
       "                       Biography                                1  \n",
       "                       Food-contentguides                       1  \n",
       "                       Health                                   1  \n",
       "                       Islam                                    1  \n",
       "                       Islam/History                            2  \n",
       "                       Islam/Koran&SacredWritings               2  \n",
       "                       Islam/Koran&SacredWritingsNonfiction     8  \n",
       "                       Islam/Rituals&Practice                   2  \n",
       "                       Islam/Rituals&PracticeNonfiction         3  \n",
       "                       Philosophy                               3  \n",
       "                       Prayerbooks                              1  \n",
       "                       Religion&Spirituality                   11  \n",
       "                       ReligiousbiographyNonfiction             1  \n",
       "                       Religiousphilosophy                      3  \n",
       "                      &medicine                                 1  \n",
       "                      Nonfiction                               12  \n",
       "                      wellbeing                                 1  \n",
       "Osman Nuri Topbas      Islam                                   16  \n",
       "                       Islam/Sufi                               2  \n",
       "                       Islam/Theology                           2  \n",
       "                       Religion&Spirituality                   20  \n",
       "                      Nonfiction                               20  "
      ]
     },
     "execution_count": 61,
     "metadata": {},
     "output_type": "execute_result"
    }
   ],
   "source": [
    "specfic_authors = [\"Osman Nuri Topbas\",\"Mohammad Amin Sheikho\"]\n",
    "new_df = df2[df2[\"author\"].isin(specfic_authors)]\n",
    "new_df.groupby([\"author\",\"genres\"]).count()"
   ]
  },
  {
   "cell_type": "code",
   "execution_count": 22,
   "id": "534fa149",
   "metadata": {
    "ExecuteTime": {
     "end_time": "2021-11-17T07:50:05.863255Z",
     "start_time": "2021-11-17T07:50:05.840258Z"
    }
   },
   "outputs": [
    {
     "data": {
      "text/plain": [
       "David Bruce    21\n",
       "Name: author, dtype: int64"
      ]
     },
     "execution_count": 22,
     "metadata": {},
     "output_type": "execute_result"
    }
   ],
   "source": [
    "df[(df[\"genres\"].str.contains(\"Education\")) & (df[\"author\"]==\"David Bruce\")][\"author\"].value_counts()"
   ]
  },
  {
   "cell_type": "code",
   "execution_count": 11,
   "id": "76599189",
   "metadata": {
    "ExecuteTime": {
     "end_time": "2021-11-16T19:49:55.683659Z",
     "start_time": "2021-11-16T19:48:44.510189Z"
    }
   },
   "outputs": [
    {
     "data": {
      "application/vnd.jupyter.widget-view+json": {
       "model_id": "36ab2fcd0ca941ac9a6a355d44350761",
       "version_major": 2,
       "version_minor": 0
      },
      "text/plain": [
       "Pandas Apply:   0%|          | 0/12341 [00:00<?, ?it/s]"
      ]
     },
     "metadata": {},
     "output_type": "display_data"
    },
    {
     "data": {
      "text/plain": [
       "count    12341.000000\n",
       "mean       126.519731\n",
       "std        118.946878\n",
       "min          0.000000\n",
       "25%         62.000000\n",
       "50%        105.000000\n",
       "75%        161.000000\n",
       "max       7690.000000\n",
       "Name: Text, dtype: float64"
      ]
     },
     "execution_count": 11,
     "metadata": {},
     "output_type": "execute_result"
    }
   ],
   "source": [
    "counts = df[\"Text\"].swifter.apply(lambda s : len(s.split(\" \"))//500)\n",
    "counts.describe()"
   ]
  },
  {
   "cell_type": "code",
   "execution_count": 32,
   "id": "c519655b",
   "metadata": {
    "ExecuteTime": {
     "end_time": "2021-11-16T20:44:43.055006Z",
     "start_time": "2021-11-16T20:44:43.033996Z"
    }
   },
   "outputs": [
    {
     "data": {
      "text/plain": [
       "300"
      ]
     },
     "execution_count": 32,
     "metadata": {},
     "output_type": "execute_result"
    }
   ],
   "source": [
    "len(list(a[a>=5].index))"
   ]
  },
  {
   "cell_type": "code",
   "execution_count": 29,
   "id": "dac62b16",
   "metadata": {
    "ExecuteTime": {
     "end_time": "2021-11-16T20:26:52.647267Z",
     "start_time": "2021-11-16T20:26:52.529586Z"
    }
   },
   "outputs": [
    {
     "data": {
      "text/html": [
       "<div>\n",
       "<style scoped>\n",
       "    .dataframe tbody tr th:only-of-type {\n",
       "        vertical-align: middle;\n",
       "    }\n",
       "\n",
       "    .dataframe tbody tr th {\n",
       "        vertical-align: top;\n",
       "    }\n",
       "\n",
       "    .dataframe thead th {\n",
       "        text-align: right;\n",
       "    }\n",
       "</style>\n",
       "<table border=\"1\" class=\"dataframe\">\n",
       "  <thead>\n",
       "    <tr style=\"text-align: right;\">\n",
       "      <th></th>\n",
       "      <th>title</th>\n",
       "      <th>author</th>\n",
       "      <th>publish</th>\n",
       "      <th>genres</th>\n",
       "      <th>Text</th>\n",
       "      <th>counts</th>\n",
       "    </tr>\n",
       "  </thead>\n",
       "  <tbody>\n",
       "    <tr>\n",
       "      <th>40</th>\n",
       "      <td>Witch's Bell Book One</td>\n",
       "      <td>Odette C. Bell</td>\n",
       "      <td>Jan. 30, 2012</td>\n",
       "      <td>['Fiction', 'Fantasy', 'Contemporary']</td>\n",
       "      <td>\\n\\nAll characters in this publication are fic...</td>\n",
       "      <td>194</td>\n",
       "    </tr>\n",
       "    <tr>\n",
       "      <th>324</th>\n",
       "      <td>A Plain Jane Book One</td>\n",
       "      <td>Odette C. Bell</td>\n",
       "      <td>Oct. 10, 2012</td>\n",
       "      <td>['Fiction', 'Sciencefiction', 'SpaceoperaFicti...</td>\n",
       "      <td>\\n# Table of Contents\\n\\nA Plain Jane Book One...</td>\n",
       "      <td>136</td>\n",
       "    </tr>\n",
       "    <tr>\n",
       "      <th>458</th>\n",
       "      <td>The Betwixt Book One</td>\n",
       "      <td>Odette C. Bell</td>\n",
       "      <td>Jan. 30, 2012</td>\n",
       "      <td>['Fiction', 'Sciencefiction', 'Adventure']</td>\n",
       "      <td>\\nAll characters in this publication are fict...</td>\n",
       "      <td>160</td>\n",
       "    </tr>\n",
       "    <tr>\n",
       "      <th>583</th>\n",
       "      <td>The Truth about Syria</td>\n",
       "      <td>Barry Rubin</td>\n",
       "      <td>Feb. 15, 2013</td>\n",
       "      <td>['Essay', 'PoliticalNonfiction', 'Politics&amp;Cur...</td>\n",
       "      <td>\\n# The Truth about Syria\\n\\nBy Barry Rubin\\n...</td>\n",
       "      <td>248</td>\n",
       "    </tr>\n",
       "    <tr>\n",
       "      <th>631</th>\n",
       "      <td>Seâdet-i Ebediyye Endless Bliss First Fascicle</td>\n",
       "      <td>Hüseyn Hilmi Işık</td>\n",
       "      <td>Dec. 2, 2011</td>\n",
       "      <td>['Nonfiction', 'Religion&amp;Spirituality', 'Islam']</td>\n",
       "      <td>\\nSeâdet-i Ebediyye Endless Bliss First Fasci...</td>\n",
       "      <td>238</td>\n",
       "    </tr>\n",
       "    <tr>\n",
       "      <th>...</th>\n",
       "      <td>...</td>\n",
       "      <td>...</td>\n",
       "      <td>...</td>\n",
       "      <td>...</td>\n",
       "      <td>...</td>\n",
       "      <td>...</td>\n",
       "    </tr>\n",
       "    <tr>\n",
       "      <th>12095</th>\n",
       "      <td>The Quartet, Jace</td>\n",
       "      <td>Ipam</td>\n",
       "      <td>June 3, 2014</td>\n",
       "      <td>['Fiction', 'Mystery&amp;detective', 'General']</td>\n",
       "      <td>\\nThe Quartet\\n\\nJace\\n\\nipam\\n\\nSmashwords E...</td>\n",
       "      <td>1051</td>\n",
       "    </tr>\n",
       "    <tr>\n",
       "      <th>12119</th>\n",
       "      <td>The Quartet, Jane</td>\n",
       "      <td>Ipam</td>\n",
       "      <td>April 14, 2014</td>\n",
       "      <td>['Fiction', 'Adventure', 'Men’sadventure']</td>\n",
       "      <td>\\nThe Quartet\\n\\nJane\\n\\nipam\\n\\nSmashwords E...</td>\n",
       "      <td>1104</td>\n",
       "    </tr>\n",
       "    <tr>\n",
       "      <th>12165</th>\n",
       "      <td>The Quartet, Babe</td>\n",
       "      <td>Ipam</td>\n",
       "      <td>July 11, 2012</td>\n",
       "      <td>['Fiction', 'Thriller&amp;suspense', 'Psychologica...</td>\n",
       "      <td>\\nThe Quartet\\n\\nBabe\\n\\nipam\\n\\nSmashwords E...</td>\n",
       "      <td>1126</td>\n",
       "    </tr>\n",
       "    <tr>\n",
       "      <th>12215</th>\n",
       "      <td>Aim High</td>\n",
       "      <td>Ipam</td>\n",
       "      <td>Dec. 5, 2016</td>\n",
       "      <td>['Fiction', 'Youngadultorteen', 'Adventure']</td>\n",
       "      <td>\\n\\n### Aim High\\n\\n### ipam\\n\\nSmashwords Edi...</td>\n",
       "      <td>537</td>\n",
       "    </tr>\n",
       "    <tr>\n",
       "      <th>12237</th>\n",
       "      <td>Hubby Hole</td>\n",
       "      <td>Ipam</td>\n",
       "      <td>Sep. 30, 2016</td>\n",
       "      <td>['Fiction', 'Youngadultorteen', 'Romance']</td>\n",
       "      <td>\\n## HUBBY HOLD\\n\\n## ipam\\n\\nSmashwords Edit...</td>\n",
       "      <td>466</td>\n",
       "    </tr>\n",
       "  </tbody>\n",
       "</table>\n",
       "<p>900 rows × 6 columns</p>\n",
       "</div>"
      ],
      "text/plain": [
       "                                                title             author  \\\n",
       "40                              Witch's Bell Book One     Odette C. Bell   \n",
       "324                             A Plain Jane Book One     Odette C. Bell   \n",
       "458                              The Betwixt Book One     Odette C. Bell   \n",
       "583                             The Truth about Syria        Barry Rubin   \n",
       "631    Seâdet-i Ebediyye Endless Bliss First Fascicle  Hüseyn Hilmi Işık   \n",
       "...                                               ...                ...   \n",
       "12095                               The Quartet, Jace               Ipam   \n",
       "12119                               The Quartet, Jane               Ipam   \n",
       "12165                               The Quartet, Babe               Ipam   \n",
       "12215                                        Aim High               Ipam   \n",
       "12237                                      Hubby Hole               Ipam   \n",
       "\n",
       "              publish                                             genres  \\\n",
       "40      Jan. 30, 2012             ['Fiction', 'Fantasy', 'Contemporary']   \n",
       "324     Oct. 10, 2012  ['Fiction', 'Sciencefiction', 'SpaceoperaFicti...   \n",
       "458     Jan. 30, 2012         ['Fiction', 'Sciencefiction', 'Adventure']   \n",
       "583     Feb. 15, 2013  ['Essay', 'PoliticalNonfiction', 'Politics&Cur...   \n",
       "631      Dec. 2, 2011   ['Nonfiction', 'Religion&Spirituality', 'Islam']   \n",
       "...               ...                                                ...   \n",
       "12095    June 3, 2014        ['Fiction', 'Mystery&detective', 'General']   \n",
       "12119  April 14, 2014         ['Fiction', 'Adventure', 'Men’sadventure']   \n",
       "12165   July 11, 2012  ['Fiction', 'Thriller&suspense', 'Psychologica...   \n",
       "12215    Dec. 5, 2016       ['Fiction', 'Youngadultorteen', 'Adventure']   \n",
       "12237   Sep. 30, 2016         ['Fiction', 'Youngadultorteen', 'Romance']   \n",
       "\n",
       "                                                    Text  counts  \n",
       "40     \\n\\nAll characters in this publication are fic...     194  \n",
       "324    \\n# Table of Contents\\n\\nA Plain Jane Book One...     136  \n",
       "458     \\nAll characters in this publication are fict...     160  \n",
       "583     \\n# The Truth about Syria\\n\\nBy Barry Rubin\\n...     248  \n",
       "631     \\nSeâdet-i Ebediyye Endless Bliss First Fasci...     238  \n",
       "...                                                  ...     ...  \n",
       "12095   \\nThe Quartet\\n\\nJace\\n\\nipam\\n\\nSmashwords E...    1051  \n",
       "12119   \\nThe Quartet\\n\\nJane\\n\\nipam\\n\\nSmashwords E...    1104  \n",
       "12165   \\nThe Quartet\\n\\nBabe\\n\\nipam\\n\\nSmashwords E...    1126  \n",
       "12215  \\n\\n### Aim High\\n\\n### ipam\\n\\nSmashwords Edi...     537  \n",
       "12237   \\n## HUBBY HOLD\\n\\n## ipam\\n\\nSmashwords Edit...     466  \n",
       "\n",
       "[900 rows x 6 columns]"
      ]
     },
     "execution_count": 29,
     "metadata": {},
     "output_type": "execute_result"
    }
   ],
   "source": [
    "a = df[\"author\"].value_counts()\n",
    "df[df[\"author\"].isin(list(a[a>=15].index))]"
   ]
  },
  {
   "cell_type": "code",
   "execution_count": null,
   "id": "864e4b4c",
   "metadata": {},
   "outputs": [],
   "source": []
  },
  {
   "cell_type": "code",
   "execution_count": null,
   "id": "4a55009d",
   "metadata": {},
   "outputs": [],
   "source": [
    "df[\"counts\"] = counts"
   ]
  },
  {
   "cell_type": "code",
   "execution_count": 6,
   "id": "a13a30dd",
   "metadata": {
    "ExecuteTime": {
     "end_time": "2021-11-16T19:36:40.896216Z",
     "start_time": "2021-11-16T19:36:30.623844Z"
    }
   },
   "outputs": [
    {
     "data": {
      "text/plain": [
       "(0.0, 40.0)"
      ]
     },
     "execution_count": 6,
     "metadata": {},
     "output_type": "execute_result"
    },
    {
     "data": {
      "image/png": "[encoded data removed]",
      "text/plain": [
       "<Figure size 432x288 with 1 Axes>"
      ]
     },
     "metadata": {
      "needs_background": "light"
     },
     "output_type": "display_data"
    }
   ],
   "source": [
    "authors_count = df[\"author\"].value_counts()\n",
    "plt.bar(list(range(authors_count.size)),authors_count.values)\n",
    "ax = plt.gca()\n",
    "ax.set_ylim([0, 40])\n",
    "# plt.bar(authors_count.index,authors_count.values)"
   ]
  },
  {
   "cell_type": "code",
   "execution_count": 9,
   "id": "7559cd2c",
   "metadata": {
    "ExecuteTime": {
     "end_time": "2021-11-10T21:34:44.140679Z",
     "start_time": "2021-11-10T21:34:44.096690Z"
    }
   },
   "outputs": [
    {
     "data": {
      "text/plain": [
       "Harun Yahya                  91\n",
       "Harun Yahya (Adnan Oktar)    58\n",
       "Rod Island                   48\n",
       "Jesus (AJ Miller)            47\n",
       "Faisal Fahim                 36\n",
       "                             ..\n",
       "Tommy Strelka                 1\n",
       "J.L. Berg                     1\n",
       "Anthony E Thorogood           1\n",
       "Fernando Davalos              1\n",
       "Jeffrey Rubin                 1\n",
       "Name: author, Length: 7792, dtype: int64"
      ]
     },
     "execution_count": 9,
     "metadata": {},
     "output_type": "execute_result"
    }
   ],
   "source": [
    "df[\"author\"].value_counts()"
   ]
  },
  {
   "cell_type": "code",
   "execution_count": 8,
   "id": "3f9d0da2",
   "metadata": {
    "ExecuteTime": {
     "end_time": "2021-11-10T21:34:08.126897Z",
     "start_time": "2021-11-10T21:34:07.751143Z"
    }
   },
   "outputs": [
    {
     "data": {
      "text/plain": [
       "<matplotlib.collections.PathCollection at 0x248905732e0>"
      ]
     },
     "execution_count": 8,
     "metadata": {},
     "output_type": "execute_result"
    },
    {
     "data": {
      "image/png": "[encoded data removed]",
      "text/plain": [
       "<Figure size 432x288 with 1 Axes>"
      ]
     },
     "metadata": {
      "needs_background": "light"
     },
     "output_type": "display_data"
    }
   ],
   "source": [
    "plt.scatter(list(range(s.values.size)),s.values)"
   ]
  },
  {
   "cell_type": "code",
   "execution_count": 22,
   "id": "bab73153",
   "metadata": {
    "ExecuteTime": {
     "end_time": "2021-11-10T21:56:50.951844Z",
     "start_time": "2021-11-10T21:55:49.074856Z"
    }
   },
   "outputs": [
    {
     "data": {
      "application/vnd.jupyter.widget-view+json": {
       "model_id": "a53257bb2c034ecabfdae05633140658",
       "version_major": 2,
       "version_minor": 0
      },
      "text/plain": [
       "Pandas Apply:   0%|          | 0/12341 [00:00<?, ?it/s]"
      ]
     },
     "metadata": {},
     "output_type": "display_data"
    }
   ],
   "source": [
    "import swifter\n",
    "count_lines = df[\"Text\"].swifter.apply(lambda s : s.replace(\"\\n\\n\",\" \").replace(\"  \",\" \").count(' '))"
   ]
  },
  {
   "cell_type": "code",
   "execution_count": 24,
   "id": "a12d1e3b",
   "metadata": {
    "ExecuteTime": {
     "end_time": "2021-11-10T21:57:18.975621Z",
     "start_time": "2021-11-10T21:57:18.595605Z"
    }
   },
   "outputs": [
    {
     "data": {
      "text/plain": [
       "<matplotlib.collections.PathCollection at 0x24891723d00>"
      ]
     },
     "execution_count": 24,
     "metadata": {},
     "output_type": "execute_result"
    },
    {
     "data": {
      "image/png": "[encoded data removed]",
      "text/plain": [
       "<Figure size 432x288 with 1 Axes>"
      ]
     },
     "metadata": {
      "needs_background": "light"
     },
     "output_type": "display_data"
    }
   ],
   "source": [
    "plt.scatter(list(range(count_lines.values.size)),count_lines.values/(9*20))\n",
    "plt.ylim(0,)"
   ]
  },
  {
   "cell_type": "code",
   "execution_count": null,
   "id": "0607d01e",
   "metadata": {
    "ExecuteTime": {
     "end_time": "2021-11-10T21:59:00.472004Z",
     "start_time": "2021-11-10T21:59:00.439885Z"
    }
   },
   "outputs": [],
   "source": [
    "(count_lines*200).describe()"
   ]
  },
  {
   "cell_type": "code",
   "execution_count": null,
   "id": "3239fe9c",
   "metadata": {},
   "outputs": [],
   "source": []
  },
  {
   "cell_type": "markdown",
   "id": "abd20abd",
   "metadata": {},
   "source": [
    "## Models"
   ]
  },
  {
   "cell_type": "markdown",
   "id": "f34cdc52",
   "metadata": {},
   "source": [
    "### Xgboost"
   ]
  },
  {
   "cell_type": "code",
   "execution_count": null,
   "id": "ae245acf",
   "metadata": {},
   "outputs": [],
   "source": []
  },
  {
   "cell_type": "markdown",
   "id": "2c75f960",
   "metadata": {},
   "source": [
    "### LSTM"
   ]
  },
  {
   "cell_type": "code",
   "execution_count": null,
   "id": "f42b0937",
   "metadata": {},
   "outputs": [],
   "source": []
  },
  {
   "cell_type": "markdown",
   "id": "a496c4b9",
   "metadata": {},
   "source": [
    "### NN with Word2Vec"
   ]
  },
  {
   "cell_type": "code",
   "execution_count": null,
   "id": "655a510c",
   "metadata": {},
   "outputs": [],
   "source": []
  },
  {
   "cell_type": "markdown",
   "id": "40a8ba8c",
   "metadata": {},
   "source": [
    "### Using PCA"
   ]
  },
  {
   "cell_type": "code",
   "execution_count": null,
   "id": "e43eef18",
   "metadata": {},
   "outputs": [],
   "source": []
  },
  {
   "cell_type": "code",
   "execution_count": null,
   "id": "5e8ce011",
   "metadata": {},
   "outputs": [],
   "source": []
  }
 ],
 "metadata": {
  "kernelspec": {
   "display_name": "Python 3",
   "language": "python",
   "name": "python3"
  },
  "language_info": {
   "codemirror_mode": {
    "name": "ipython",
    "version": 3
   },
   "file_extension": ".py",
   "mimetype": "text/x-python",
   "name": "python",
   "nbconvert_exporter": "python",
   "pygments_lexer": "ipython3",
   "version": "3.8.8"
  },
  "toc": {
   "base_numbering": 1,
   "nav_menu": {},
   "number_sections": true,
   "sideBar": true,
   "skip_h1_title": false,
   "title_cell": "Table of Contents",
   "title_sidebar": "Contents",
   "toc_cell": false,
   "toc_position": {},
   "toc_section_display": true,
   "toc_window_display": false
  },
  "varInspector": {
   "cols": {
    "lenName": 16,
    "lenType": 16,
    "lenVar": 40
   },
   "kernels_config": {
    "python": {
     "delete_cmd_postfix": "",
     "delete_cmd_prefix": "del ",
     "library": "var_list.py",
     "varRefreshCmd": "print(var_dic_list())"
    },
    "r": {
     "delete_cmd_postfix": ") ",
     "delete_cmd_prefix": "rm(",
     "library": "var_list.r",
     "varRefreshCmd": "cat(var_dic_list()) "
    }
   },
   "types_to_exclude": [
    "module",
    "function",
    "builtin_function_or_method",
    "instance",
    "_Feature"
   ],
   "window_display": false
  }
 },
 "nbformat": 4,
 "nbformat_minor": 5
}
