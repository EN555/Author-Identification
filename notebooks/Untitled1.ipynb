{
 "cells": [
  {
   "cell_type": "code",
   "execution_count": 1,
   "id": "18a586b5",
   "metadata": {
    "ExecuteTime": {
     "end_time": "2022-03-05T18:48:24.169443Z",
     "start_time": "2022-03-05T18:48:10.778247Z"
    }
   },
   "outputs": [
    {
     "name": "stderr",
     "output_type": "stream",
     "text": [
      "[nltk_data] Error loading stopwords: <urlopen error [Errno 11001]\n",
      "[nltk_data]     getaddrinfo failed>\n"
     ]
    }
   ],
   "source": [
    "import numpy as np\n",
    "import pandas as pd\n",
    "import matplotlib.pyplot as plt\n",
    "import seaborn as sns\n",
    "from sklearn.feature_extraction.text import CountVectorizer\n",
    "import nltk\n",
    "import sys\n",
    "sys.path.append(\"../\")\n",
    "from PythonCode.preprocess.preprocess import *\n",
    "from PythonCode.preprocess.complexStyleFeatures import *\n",
    "from PythonCode.preprocess.simpleStyleFeatures import *\n",
    "import seaborn as sns\n",
    "import gensim\n",
    "from gensim.utils import simple_preprocess\n",
    "nltk.download('stopwords')\n",
    "from nltk.corpus import stopwords\n",
    "stop_words = stopwords.words('english')\n",
    "import pickle \n",
    "import gensim.downloader\n",
    "from pprint import pprint\n",
    "DATA_PATH_TRAIN = \"../Data/C50/C50train/\"\n",
    "DATA_PATH_TEST = \"../Data/C50/C50test/\""
   ]
  },
  {
   "cell_type": "markdown",
   "id": "c6c466b1",
   "metadata": {},
   "source": [
    "# Simple"
   ]
  },
  {
   "cell_type": "code",
   "execution_count": 2,
   "id": "f371de9f",
   "metadata": {
    "ExecuteTime": {
     "end_time": "2022-03-05T18:48:24.900197Z",
     "start_time": "2022-03-05T18:48:24.206450Z"
    }
   },
   "outputs": [
    {
     "data": {
      "text/html": [
       "<div>\n",
       "<style scoped>\n",
       "    .dataframe tbody tr th:only-of-type {\n",
       "        vertical-align: middle;\n",
       "    }\n",
       "\n",
       "    .dataframe tbody tr th {\n",
       "        vertical-align: top;\n",
       "    }\n",
       "\n",
       "    .dataframe thead th {\n",
       "        text-align: right;\n",
       "    }\n",
       "</style>\n",
       "<table border=\"1\" class=\"dataframe\">\n",
       "  <thead>\n",
       "    <tr style=\"text-align: right;\">\n",
       "      <th></th>\n",
       "      <th>author_name</th>\n",
       "      <th>book_name</th>\n",
       "      <th>book_text</th>\n",
       "    </tr>\n",
       "  </thead>\n",
       "  <tbody>\n",
       "    <tr>\n",
       "      <th>0</th>\n",
       "      <td>AaronPressman</td>\n",
       "      <td>106247newsML.txt</td>\n",
       "      <td>The Internet may be overflowing with new techn...</td>\n",
       "    </tr>\n",
       "    <tr>\n",
       "      <th>1</th>\n",
       "      <td>AaronPressman</td>\n",
       "      <td>120600newsML.txt</td>\n",
       "      <td>The U.S. Postal Service announced Wednesday a ...</td>\n",
       "    </tr>\n",
       "    <tr>\n",
       "      <th>2</th>\n",
       "      <td>AaronPressman</td>\n",
       "      <td>120683newsML.txt</td>\n",
       "      <td>Elementary school students with access to the ...</td>\n",
       "    </tr>\n",
       "    <tr>\n",
       "      <th>3</th>\n",
       "      <td>AaronPressman</td>\n",
       "      <td>136958newsML.txt</td>\n",
       "      <td>An influential Internet organisation has backe...</td>\n",
       "    </tr>\n",
       "    <tr>\n",
       "      <th>4</th>\n",
       "      <td>AaronPressman</td>\n",
       "      <td>137498newsML.txt</td>\n",
       "      <td>An influential Internet organisation has backe...</td>\n",
       "    </tr>\n",
       "    <tr>\n",
       "      <th>...</th>\n",
       "      <td>...</td>\n",
       "      <td>...</td>\n",
       "      <td>...</td>\n",
       "    </tr>\n",
       "    <tr>\n",
       "      <th>2495</th>\n",
       "      <td>WilliamKazer</td>\n",
       "      <td>28223newsML.txt</td>\n",
       "      <td>China's central bank chief has said that infla...</td>\n",
       "    </tr>\n",
       "    <tr>\n",
       "      <th>2496</th>\n",
       "      <td>WilliamKazer</td>\n",
       "      <td>282935newsML.txt</td>\n",
       "      <td>China ushered in 1997, a year it has hailed as...</td>\n",
       "    </tr>\n",
       "    <tr>\n",
       "      <th>2497</th>\n",
       "      <td>WilliamKazer</td>\n",
       "      <td>287736newsML.txt</td>\n",
       "      <td>China issued tough new rules on the handling o...</td>\n",
       "    </tr>\n",
       "    <tr>\n",
       "      <th>2498</th>\n",
       "      <td>WilliamKazer</td>\n",
       "      <td>289747newsML.txt</td>\n",
       "      <td>China will avoid bold moves in tackling its ai...</td>\n",
       "    </tr>\n",
       "    <tr>\n",
       "      <th>2499</th>\n",
       "      <td>WilliamKazer</td>\n",
       "      <td>304402newsML.txt</td>\n",
       "      <td>Communist Party chief Jiang Zemin has put his ...</td>\n",
       "    </tr>\n",
       "  </tbody>\n",
       "</table>\n",
       "<p>2500 rows × 3 columns</p>\n",
       "</div>"
      ],
      "text/plain": [
       "        author_name         book_name  \\\n",
       "0     AaronPressman  106247newsML.txt   \n",
       "1     AaronPressman  120600newsML.txt   \n",
       "2     AaronPressman  120683newsML.txt   \n",
       "3     AaronPressman  136958newsML.txt   \n",
       "4     AaronPressman  137498newsML.txt   \n",
       "...             ...               ...   \n",
       "2495   WilliamKazer   28223newsML.txt   \n",
       "2496   WilliamKazer  282935newsML.txt   \n",
       "2497   WilliamKazer  287736newsML.txt   \n",
       "2498   WilliamKazer  289747newsML.txt   \n",
       "2499   WilliamKazer  304402newsML.txt   \n",
       "\n",
       "                                              book_text  \n",
       "0     The Internet may be overflowing with new techn...  \n",
       "1     The U.S. Postal Service announced Wednesday a ...  \n",
       "2     Elementary school students with access to the ...  \n",
       "3     An influential Internet organisation has backe...  \n",
       "4     An influential Internet organisation has backe...  \n",
       "...                                                 ...  \n",
       "2495  China's central bank chief has said that infla...  \n",
       "2496  China ushered in 1997, a year it has hailed as...  \n",
       "2497  China issued tough new rules on the handling o...  \n",
       "2498  China will avoid bold moves in tackling its ai...  \n",
       "2499  Communist Party chief Jiang Zemin has put his ...  \n",
       "\n",
       "[2500 rows x 3 columns]"
      ]
     },
     "execution_count": 2,
     "metadata": {},
     "output_type": "execute_result"
    }
   ],
   "source": [
    "df_train = load_data(\"../Data/C50/C50train\",50)\n",
    "df_train"
   ]
  },
  {
   "cell_type": "code",
   "execution_count": 5,
   "id": "a0dbfd68",
   "metadata": {
    "ExecuteTime": {
     "end_time": "2022-03-05T18:54:26.075456Z",
     "start_time": "2022-03-05T18:54:05.983151Z"
    }
   },
   "outputs": [
    {
     "data": {
      "text/html": [
       "<div>\n",
       "<style scoped>\n",
       "    .dataframe tbody tr th:only-of-type {\n",
       "        vertical-align: middle;\n",
       "    }\n",
       "\n",
       "    .dataframe tbody tr th {\n",
       "        vertical-align: top;\n",
       "    }\n",
       "\n",
       "    .dataframe thead th {\n",
       "        text-align: right;\n",
       "    }\n",
       "</style>\n",
       "<table border=\"1\" class=\"dataframe\">\n",
       "  <thead>\n",
       "    <tr style=\"text-align: right;\">\n",
       "      <th></th>\n",
       "      <th>author_name</th>\n",
       "      <th>book_name</th>\n",
       "      <th>book_text</th>\n",
       "    </tr>\n",
       "  </thead>\n",
       "  <tbody>\n",
       "    <tr>\n",
       "      <th>0</th>\n",
       "      <td>AaronPressman</td>\n",
       "      <td>421829newsML.txt</td>\n",
       "      <td>U.S. Senators on Tuesday sharply criticized a ...</td>\n",
       "    </tr>\n",
       "    <tr>\n",
       "      <th>1</th>\n",
       "      <td>AaronPressman</td>\n",
       "      <td>424074newsML.txt</td>\n",
       "      <td>Two members of Congress criticised the Federal...</td>\n",
       "    </tr>\n",
       "    <tr>\n",
       "      <th>2</th>\n",
       "      <td>AaronPressman</td>\n",
       "      <td>42764newsML.txt</td>\n",
       "      <td>Commuters stuck in traffic on the Leesburg Pik...</td>\n",
       "    </tr>\n",
       "    <tr>\n",
       "      <th>3</th>\n",
       "      <td>AaronPressman</td>\n",
       "      <td>43033newsML.txt</td>\n",
       "      <td>A broad coalition of corporations went to Capi...</td>\n",
       "    </tr>\n",
       "    <tr>\n",
       "      <th>4</th>\n",
       "      <td>AaronPressman</td>\n",
       "      <td>433558newsML.txt</td>\n",
       "      <td>On the Internet, where new products come and g...</td>\n",
       "    </tr>\n",
       "    <tr>\n",
       "      <th>...</th>\n",
       "      <td>...</td>\n",
       "      <td>...</td>\n",
       "      <td>...</td>\n",
       "    </tr>\n",
       "    <tr>\n",
       "      <th>2495</th>\n",
       "      <td>WilliamKazer</td>\n",
       "      <td>504283newsML.txt</td>\n",
       "      <td>China has scored new successes in its fight ag...</td>\n",
       "    </tr>\n",
       "    <tr>\n",
       "      <th>2496</th>\n",
       "      <td>WilliamKazer</td>\n",
       "      <td>504526newsML.txt</td>\n",
       "      <td>China has scored new successes in its fight ag...</td>\n",
       "    </tr>\n",
       "    <tr>\n",
       "      <th>2497</th>\n",
       "      <td>WilliamKazer</td>\n",
       "      <td>51502newsML.txt</td>\n",
       "      <td>China is on target with plans to to promote 10...</td>\n",
       "    </tr>\n",
       "    <tr>\n",
       "      <th>2498</th>\n",
       "      <td>WilliamKazer</td>\n",
       "      <td>522090newsML.txt</td>\n",
       "      <td>China may need to adjust the mix of its treasu...</td>\n",
       "    </tr>\n",
       "    <tr>\n",
       "      <th>2499</th>\n",
       "      <td>WilliamKazer</td>\n",
       "      <td>58312newsML.txt</td>\n",
       "      <td>A Chinese ideologue known for his strictly ort...</td>\n",
       "    </tr>\n",
       "  </tbody>\n",
       "</table>\n",
       "<p>2500 rows × 3 columns</p>\n",
       "</div>"
      ],
      "text/plain": [
       "        author_name         book_name  \\\n",
       "0     AaronPressman  421829newsML.txt   \n",
       "1     AaronPressman  424074newsML.txt   \n",
       "2     AaronPressman   42764newsML.txt   \n",
       "3     AaronPressman   43033newsML.txt   \n",
       "4     AaronPressman  433558newsML.txt   \n",
       "...             ...               ...   \n",
       "2495   WilliamKazer  504283newsML.txt   \n",
       "2496   WilliamKazer  504526newsML.txt   \n",
       "2497   WilliamKazer   51502newsML.txt   \n",
       "2498   WilliamKazer  522090newsML.txt   \n",
       "2499   WilliamKazer   58312newsML.txt   \n",
       "\n",
       "                                              book_text  \n",
       "0     U.S. Senators on Tuesday sharply criticized a ...  \n",
       "1     Two members of Congress criticised the Federal...  \n",
       "2     Commuters stuck in traffic on the Leesburg Pik...  \n",
       "3     A broad coalition of corporations went to Capi...  \n",
       "4     On the Internet, where new products come and g...  \n",
       "...                                                 ...  \n",
       "2495  China has scored new successes in its fight ag...  \n",
       "2496  China has scored new successes in its fight ag...  \n",
       "2497  China is on target with plans to to promote 10...  \n",
       "2498  China may need to adjust the mix of its treasu...  \n",
       "2499  A Chinese ideologue known for his strictly ort...  \n",
       "\n",
       "[2500 rows x 3 columns]"
      ]
     },
     "execution_count": 5,
     "metadata": {},
     "output_type": "execute_result"
    }
   ],
   "source": [
    "df_test = load_data(\"../Data/C50/C50test\",50)\n",
    "df_test"
   ]
  },
  {
   "cell_type": "code",
   "execution_count": 7,
   "id": "f5789e01",
   "metadata": {
    "ExecuteTime": {
     "end_time": "2022-03-05T18:55:39.952320Z",
     "start_time": "2022-03-05T18:55:39.933314Z"
    }
   },
   "outputs": [],
   "source": [
    "df = df_train.append(df_test, ignore_index=True)"
   ]
  },
  {
   "cell_type": "code",
   "execution_count": 9,
   "id": "c4f9a56c",
   "metadata": {
    "ExecuteTime": {
     "end_time": "2022-03-05T18:56:55.468961Z",
     "start_time": "2022-03-05T18:56:55.453970Z"
    }
   },
   "outputs": [],
   "source": [
    "TEST_PART = 0.1"
   ]
  },
  {
   "cell_type": "markdown",
   "id": "dcabc444",
   "metadata": {},
   "source": [
    "## Baseline"
   ]
  },
  {
   "cell_type": "markdown",
   "id": "5385e897",
   "metadata": {},
   "source": [
    "### Pre"
   ]
  },
  {
   "cell_type": "code",
   "execution_count": 10,
   "id": "d429fd10",
   "metadata": {
    "ExecuteTime": {
     "end_time": "2022-03-05T18:57:28.730252Z",
     "start_time": "2022-03-05T18:57:28.704268Z"
    }
   },
   "outputs": [],
   "source": [
    "X_train,X_test,y_train,y_test = train_test_split(df[\"book_text\"],df[\"author_name\"],test_size=TEST_PART)"
   ]
  },
  {
   "cell_type": "code",
   "execution_count": 20,
   "id": "fe2f404d",
   "metadata": {
    "ExecuteTime": {
     "end_time": "2022-03-05T19:15:25.463398Z",
     "start_time": "2022-03-05T19:15:25.441423Z"
    }
   },
   "outputs": [],
   "source": [
    "def avg_word_len(df: pd.DataFrame) -> pd.DataFrame:\n",
    "    avg_word_len = df.astype(str).swifter.apply(\n",
    "        lambda s: pd.Series(nltk.word_tokenize(s)).map(len).mean()).rename(\"avg_word_len\")\n",
    "    return pd.DataFrame(avg_word_len)\n",
    "\n",
    "\n",
    "def avg_sentence_len(df: pd.DataFrame) -> pd.DataFrame:\n",
    "    sentence_count = df.astype(str).swifter.apply(\n",
    "        lambda text: pd.Series(nltk.sent_tokenize(text)).map(\n",
    "            lambda sent: len(nltk.word_tokenize(sent))).mean()).rename(\"avg_sentence_len\")\n",
    "\n",
    "    return pd.DataFrame(sentence_count)\n",
    "\n",
    "def hapax_disLegemena(x: pd.DataFrame) -> pd.DataFrame:\n",
    "    \"\"\"\n",
    "    hapax disLegemena Measure for lexicographic diversity: v2/N\n",
    "    v2 = number of words that appears twice\n",
    "    N = number of words or number of unique words\n",
    "    \"\"\"\n",
    "\n",
    "    def get_hapax_disLegemena(text: str) -> (float, float):\n",
    "        words = nltk.word_tokenize(text)\n",
    "        words_count = Counter(words)\n",
    "        v2 = len([_ for _, count in words_count.items() if count == 2])\n",
    "        return pd.Series((v2 / (len(words) + EPSILON), v2 / (len(set(words))+EPSILON)))\n",
    "\n",
    "    return pd.DataFrame(x.astype(str).swifter.apply(get_hapax_disLegemena)).set_axis(['hapax_disLegemena(H)', 'hapax_disLegemena(S)'], axis=1)\n"
   ]
  },
  {
   "cell_type": "code",
   "execution_count": 21,
   "id": "5c6e3ce2",
   "metadata": {
    "ExecuteTime": {
     "end_time": "2022-03-05T19:17:42.804988Z",
     "start_time": "2022-03-05T19:15:26.002387Z"
    }
   },
   "outputs": [
    {
     "data": {
      "application/vnd.jupyter.widget-view+json": {
       "model_id": "d5250eaaad0d47b18c1d3f63337c99f6",
       "version_major": 2,
       "version_minor": 0
      },
      "text/plain": [
       "Pandas Apply:   0%|          | 0/4500 [00:00<?, ?it/s]"
      ]
     },
     "metadata": {},
     "output_type": "display_data"
    },
    {
     "data": {
      "application/vnd.jupyter.widget-view+json": {
       "model_id": "b3d0a87c926e4585b812d352414e5482",
       "version_major": 2,
       "version_minor": 0
      },
      "text/plain": [
       "Pandas Apply:   0%|          | 0/4500 [00:00<?, ?it/s]"
      ]
     },
     "metadata": {},
     "output_type": "display_data"
    },
    {
     "data": {
      "application/vnd.jupyter.widget-view+json": {
       "model_id": "d67c48ca94b04d2398a29fbff33ffa32",
       "version_major": 2,
       "version_minor": 0
      },
      "text/plain": [
       "Pandas Apply:   0%|          | 0/4500 [00:00<?, ?it/s]"
      ]
     },
     "metadata": {},
     "output_type": "display_data"
    },
    {
     "data": {
      "application/vnd.jupyter.widget-view+json": {
       "model_id": "e28461d4496c413fb6baad72d86c2e12",
       "version_major": 2,
       "version_minor": 0
      },
      "text/plain": [
       "Pandas Apply:   0%|          | 0/500 [00:00<?, ?it/s]"
      ]
     },
     "metadata": {},
     "output_type": "display_data"
    },
    {
     "data": {
      "application/vnd.jupyter.widget-view+json": {
       "model_id": "cc46ed669b1d4bcaa37194d4300255b3",
       "version_major": 2,
       "version_minor": 0
      },
      "text/plain": [
       "Pandas Apply:   0%|          | 0/500 [00:00<?, ?it/s]"
      ]
     },
     "metadata": {},
     "output_type": "display_data"
    },
    {
     "data": {
      "application/vnd.jupyter.widget-view+json": {
       "model_id": "76a9350305924344abada82172ff399f",
       "version_major": 2,
       "version_minor": 0
      },
      "text/plain": [
       "Pandas Apply:   0%|          | 0/500 [00:00<?, ?it/s]"
      ]
     },
     "metadata": {},
     "output_type": "display_data"
    }
   ],
   "source": [
    "def preprocess(x_train: pd.DataFrame, x_test: pd.DataFrame) -> (pd.DataFrame, pd.DataFrame):\n",
    "    def helper(x: pd.DataFrame) -> pd.DataFrame:\n",
    "        return pd.concat([avg_word_len(x),avg_sentence_len(x),hapax_disLegemena(x)], axis=1)\n",
    "        \n",
    "    return helper(x_train), helper(x_test)\n",
    "\n",
    "X_train,X_test = preprocess(X_train,X_test)"
   ]
  },
  {
   "cell_type": "code",
   "execution_count": 23,
   "id": "67f3c520",
   "metadata": {
    "ExecuteTime": {
     "end_time": "2022-03-05T19:18:14.087190Z",
     "start_time": "2022-03-05T19:18:14.072176Z"
    }
   },
   "outputs": [],
   "source": [
    "y_train = pd.Categorical(y_train).codes\n",
    "y_test = pd.Categorical(y_test).codes"
   ]
  },
  {
   "cell_type": "markdown",
   "id": "28aba449",
   "metadata": {},
   "source": [
    "### Model"
   ]
  },
  {
   "cell_type": "code",
   "execution_count": 24,
   "id": "e84cb559",
   "metadata": {
    "ExecuteTime": {
     "end_time": "2022-03-05T19:21:51.158137Z",
     "start_time": "2022-03-05T19:19:17.823549Z"
    }
   },
   "outputs": [
    {
     "data": {
      "text/plain": [
       "GradientBoostingClassifier(max_depth=7, random_state=0)"
      ]
     },
     "execution_count": 24,
     "metadata": {},
     "output_type": "execute_result"
    }
   ],
   "source": [
    "from sklearn.ensemble import GradientBoostingClassifier\n",
    "model = GradientBoostingClassifier(n_estimators=100,max_depth=7, random_state=0)\n",
    "model.fit(X_train, y_train)"
   ]
  },
  {
   "cell_type": "code",
   "execution_count": 25,
   "id": "80b807b3",
   "metadata": {
    "ExecuteTime": {
     "end_time": "2022-03-05T19:22:05.657283Z",
     "start_time": "2022-03-05T19:22:05.475290Z"
    }
   },
   "outputs": [
    {
     "name": "stdout",
     "output_type": "stream",
     "text": [
      "              precision    recall  f1-score   support\n",
      "\n",
      "           0       0.17      0.40      0.24         5\n",
      "           1       0.30      0.23      0.26        13\n",
      "           2       0.00      0.00      0.00         5\n",
      "           3       0.00      0.00      0.00        10\n",
      "           4       0.09      0.11      0.10         9\n",
      "           5       0.00      0.00      0.00         8\n",
      "           6       0.10      0.09      0.10        11\n",
      "           7       0.16      0.23      0.19        13\n",
      "           8       0.22      0.20      0.21        10\n",
      "           9       0.12      0.12      0.12         8\n",
      "          10       0.07      0.14      0.09         7\n",
      "          11       0.00      0.00      0.00        10\n",
      "          12       0.14      0.08      0.11        12\n",
      "          13       0.06      0.20      0.09         5\n",
      "          14       0.00      0.00      0.00         9\n",
      "          15       0.38      0.23      0.29        13\n",
      "          16       0.10      0.07      0.08        14\n",
      "          17       0.08      0.17      0.11         6\n",
      "          18       0.11      0.08      0.09        13\n",
      "          19       0.18      0.25      0.21         8\n",
      "          20       0.00      0.00      0.00        10\n",
      "          21       0.07      0.12      0.09         8\n",
      "          22       0.14      0.09      0.11        11\n",
      "          23       0.00      0.00      0.00        13\n",
      "          24       0.00      0.00      0.00        11\n",
      "          25       0.12      0.20      0.15         5\n",
      "          26       0.33      0.40      0.36         5\n",
      "          27       0.10      0.11      0.11         9\n",
      "          28       0.08      0.11      0.09         9\n",
      "          29       0.11      0.09      0.10        11\n",
      "          30       0.00      0.00      0.00         5\n",
      "          31       0.14      0.09      0.11        11\n",
      "          32       0.33      0.33      0.33        12\n",
      "          33       0.00      0.00      0.00         8\n",
      "          34       0.08      0.17      0.11         6\n",
      "          35       0.08      0.12      0.10         8\n",
      "          36       0.29      0.27      0.28        15\n",
      "          37       0.17      0.06      0.09        17\n",
      "          38       0.00      0.00      0.00        13\n",
      "          39       0.12      0.08      0.10        13\n",
      "          40       0.00      0.00      0.00         8\n",
      "          41       0.50      0.45      0.48        11\n",
      "          42       0.00      0.00      0.00         6\n",
      "          43       0.00      0.00      0.00        14\n",
      "          44       0.00      0.00      0.00        10\n",
      "          45       0.15      0.17      0.16        12\n",
      "          46       0.21      0.20      0.21        15\n",
      "          47       0.15      0.14      0.15        14\n",
      "          48       0.06      0.08      0.07        12\n",
      "          49       0.00      0.00      0.00         9\n",
      "\n",
      "    accuracy                           0.12       500\n",
      "   macro avg       0.11      0.12      0.11       500\n",
      "weighted avg       0.12      0.12      0.11       500\n",
      "\n"
     ]
    }
   ],
   "source": [
    "from sklearn.metrics import classification_report\n",
    "y_pred = model.predict(X_test)\n",
    "print(classification_report(y_pred,y_test))"
   ]
  },
  {
   "cell_type": "markdown",
   "id": "36ad5616",
   "metadata": {},
   "source": [
    "# Using Glove"
   ]
  },
  {
   "cell_type": "code",
   "execution_count": 13,
   "id": "08a53bca",
   "metadata": {
    "ExecuteTime": {
     "end_time": "2022-03-05T18:58:27.432510Z",
     "start_time": "2022-03-05T18:58:26.956504Z"
    }
   },
   "outputs": [
    {
     "name": "stdout",
     "output_type": "stream",
     "text": [
      "['fasttext-wiki-news-subwords-300', 'conceptnet-numberbatch-17-06-300', 'word2vec-ruscorpora-300', 'word2vec-google-news-300', 'glove-wiki-gigaword-50', 'glove-wiki-gigaword-100', 'glove-wiki-gigaword-200', 'glove-wiki-gigaword-300', 'glove-twitter-25', 'glove-twitter-50', 'glove-twitter-100', 'glove-twitter-200', '__testing_word2vec-matrix-synopsis']\n"
     ]
    }
   ],
   "source": [
    "print(list(gensim.downloader.info()['models'].keys()))"
   ]
  },
  {
   "cell_type": "code",
   "execution_count": 27,
   "id": "fca656b9",
   "metadata": {
    "ExecuteTime": {
     "end_time": "2022-03-05T19:27:24.405407Z",
     "start_time": "2022-03-05T19:25:51.498331Z"
    }
   },
   "outputs": [
    {
     "name": "stdout",
     "output_type": "stream",
     "text": [
      "[==================================================] 100.0% 66.0/66.0MB downloaded\n"
     ]
    }
   ],
   "source": [
    "glove_vectors = gensim.downloader.load('glove-wiki-gigaword-50')"
   ]
  },
  {
   "cell_type": "code",
   "execution_count": 28,
   "id": "d138ba3e",
   "metadata": {
    "ExecuteTime": {
     "end_time": "2022-03-05T19:28:44.508254Z",
     "start_time": "2022-03-05T19:28:44.490259Z"
    }
   },
   "outputs": [
    {
     "data": {
      "text/plain": [
       "400000"
      ]
     },
     "execution_count": 28,
     "metadata": {},
     "output_type": "execute_result"
    }
   ],
   "source": [
    "len(glove_vectors)"
   ]
  },
  {
   "cell_type": "markdown",
   "id": "b30df483",
   "metadata": {},
   "source": [
    "### Sentence Level"
   ]
  },
  {
   "cell_type": "code",
   "execution_count": 36,
   "id": "e8ec07cf",
   "metadata": {
    "ExecuteTime": {
     "end_time": "2022-03-05T19:29:40.153898Z",
     "start_time": "2022-03-05T19:29:40.128877Z"
    }
   },
   "outputs": [],
   "source": [
    "X_train,X_test,y_train,y_test = train_test_split(df[\"book_text\"],df[\"author_name\"],test_size=TEST_PART)"
   ]
  },
  {
   "cell_type": "code",
   "execution_count": 43,
   "id": "2bff4e27",
   "metadata": {
    "ExecuteTime": {
     "end_time": "2022-03-05T19:31:58.206079Z",
     "start_time": "2022-03-05T19:31:58.189065Z"
    }
   },
   "outputs": [],
   "source": [
    "def num_sentences_based_chucking(df: pd.DataFrame, chunk_size: int):\n",
    "    rows = []\n",
    "    for row in df:\n",
    "        sentences = nltk.tokenize.sent_tokenize(row)\n",
    "        curr_chunk = []\n",
    "        for sentence in sentences:\n",
    "            curr_chunk.append(sentence)\n",
    "            if len(curr_chunk) == chunk_size:\n",
    "                rows.append(\"\".join(curr_chunk))\n",
    "                curr_chunk = []\n",
    "        rows.append(\"\".join(curr_chunk))  # add the last one\n",
    "    return pd.DataFrame(rows)"
   ]
  },
  {
   "cell_type": "code",
   "execution_count": 44,
   "id": "941422bb",
   "metadata": {
    "ExecuteTime": {
     "end_time": "2022-03-05T19:31:59.123113Z",
     "start_time": "2022-03-05T19:31:59.106125Z"
    }
   },
   "outputs": [],
   "source": [
    "NUM_OF_SENTENCE_CHUNK = 3"
   ]
  },
  {
   "cell_type": "code",
   "execution_count": 45,
   "id": "cf54fa5c",
   "metadata": {
    "ExecuteTime": {
     "end_time": "2022-03-05T19:32:06.694922Z",
     "start_time": "2022-03-05T19:31:59.560245Z"
    }
   },
   "outputs": [],
   "source": [
    "X_train = num_sentences_based_chucking(X_train,NUM_OF_SENTENCE_CHUNK)\n",
    "X_test = num_sentences_based_chucking(X_test,NUM_OF_SENTENCE_CHUNK)"
   ]
  },
  {
   "cell_type": "code",
   "execution_count": 51,
   "id": "3586c470",
   "metadata": {
    "ExecuteTime": {
     "end_time": "2022-03-05T19:34:29.794795Z",
     "start_time": "2022-03-05T19:34:29.774814Z"
    }
   },
   "outputs": [],
   "source": [
    "X_train = X_train[0]\n",
    "X_test = X_test[0]"
   ]
  },
  {
   "cell_type": "code",
   "execution_count": 52,
   "id": "ab088f4b",
   "metadata": {
    "ExecuteTime": {
     "end_time": "2022-03-05T19:34:33.066108Z",
     "start_time": "2022-03-05T19:34:33.045112Z"
    }
   },
   "outputs": [
    {
     "data": {
      "text/plain": [
       "0        China unveiled on Tuesday the country's first ...\n",
       "1        The exchange, which has the direct support fro...\n",
       "2        \"With China's fast-growing economy and Shangha...\n",
       "3        But the focus of the business nationwide will ...\n",
       "4        Members of the exchange include ship-owners, m...\n",
       "                               ...                        \n",
       "35521    Chinese sources have said Wang faces a sentenc...\n",
       "35522    Wang appears likely to be the next victim of a...\n",
       "35523    Hopes that the award of the 1996 Nobel Peace P...\n",
       "35524    The court's verdict said Wei, who was jailed f...\n",
       "35525                                                     \n",
       "Name: 0, Length: 35526, dtype: object"
      ]
     },
     "execution_count": 52,
     "metadata": {},
     "output_type": "execute_result"
    }
   ],
   "source": [
    "X_train"
   ]
  },
  {
   "cell_type": "code",
   "execution_count": null,
   "id": "8d7ec766",
   "metadata": {},
   "outputs": [],
   "source": [
    "def preprocess():\n",
    "    pass\n",
    "    # tranform each word by glove table(handle not found word as 'magic-word' and\n",
    "    # delete number and special charcter before(trimming))"
   ]
  },
  {
   "cell_type": "code",
   "execution_count": null,
   "id": "7e1d6ebf",
   "metadata": {},
   "outputs": [],
   "source": []
  },
  {
   "cell_type": "markdown",
   "id": "a28c02d6",
   "metadata": {},
   "source": [
    "### Article Level"
   ]
  },
  {
   "cell_type": "code",
   "execution_count": null,
   "id": "29bba1f5",
   "metadata": {},
   "outputs": [],
   "source": [
    "X_train,X_test,y_train,y_test = train_test_split(df[\"book_text\"],df[\"author_name\"],test_size=TEST_PART)"
   ]
  },
  {
   "cell_type": "code",
   "execution_count": null,
   "id": "5f8ba09d",
   "metadata": {},
   "outputs": [],
   "source": []
  },
  {
   "cell_type": "code",
   "execution_count": null,
   "id": "b5671538",
   "metadata": {},
   "outputs": [],
   "source": []
  },
  {
   "cell_type": "code",
   "execution_count": null,
   "id": "02cdfb7a",
   "metadata": {},
   "outputs": [],
   "source": []
  }
 ],
 "metadata": {
  "kernelspec": {
   "display_name": "Python 3",
   "language": "python",
   "name": "python3"
  },
  "language_info": {
   "codemirror_mode": {
    "name": "ipython",
    "version": 3
   },
   "file_extension": ".py",
   "mimetype": "text/x-python",
   "name": "python",
   "nbconvert_exporter": "python",
   "pygments_lexer": "ipython3",
   "version": "3.8.8"
  },
  "toc": {
   "base_numbering": 1,
   "nav_menu": {},
   "number_sections": true,
   "sideBar": true,
   "skip_h1_title": false,
   "title_cell": "Table of Contents",
   "title_sidebar": "Contents",
   "toc_cell": false,
   "toc_position": {},
   "toc_section_display": true,
   "toc_window_display": false
  },
  "varInspector": {
   "cols": {
    "lenName": 16,
    "lenType": 16,
    "lenVar": 40
   },
   "kernels_config": {
    "python": {
     "delete_cmd_postfix": "",
     "delete_cmd_prefix": "del ",
     "library": "var_list.py",
     "varRefreshCmd": "print(var_dic_list())"
    },
    "r": {
     "delete_cmd_postfix": ") ",
     "delete_cmd_prefix": "rm(",
     "library": "var_list.r",
     "varRefreshCmd": "cat(var_dic_list()) "
    }
   },
   "types_to_exclude": [
    "module",
    "function",
    "builtin_function_or_method",
    "instance",
    "_Feature"
   ],
   "window_display": false
  }
 },
 "nbformat": 4,
 "nbformat_minor": 5
}
