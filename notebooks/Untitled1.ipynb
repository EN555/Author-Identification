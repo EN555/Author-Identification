{
 "cells": [
  {
   "cell_type": "code",
   "execution_count": 1,
   "id": "18a586b5",
   "metadata": {
    "ExecuteTime": {
     "end_time": "2022-03-05T18:48:24.169443Z",
     "start_time": "2022-03-05T18:48:10.778247Z"
    }
   },
   "outputs": [
    {
     "name": "stderr",
     "output_type": "stream",
     "text": [
      "[nltk_data] Error loading stopwords: <urlopen error [Errno 11001]\n",
      "[nltk_data]     getaddrinfo failed>\n"
     ]
    }
   ],
   "source": [
    "import numpy as np\n",
    "import pandas as pd\n",
    "import matplotlib.pyplot as plt\n",
    "import seaborn as sns\n",
    "from sklearn.feature_extraction.text import CountVectorizer\n",
    "import nltk\n",
    "import sys\n",
    "sys.path.append(\"../\")\n",
    "from PythonCode.preprocess.preprocess import *\n",
    "from PythonCode.preprocess.complexStyleFeatures import *\n",
    "from PythonCode.preprocess.simpleStyleFeatures import *\n",
    "import seaborn as sns\n",
    "import gensim\n",
    "from gensim.utils import simple_preprocess\n",
    "nltk.download('stopwords')\n",
    "from nltk.corpus import stopwords\n",
    "stop_words = stopwords.words('english')\n",
    "import pickle \n",
    "import gensim.downloader\n",
    "from pprint import pprint\n",
    "DATA_PATH_TRAIN = \"../Data/C50/C50train/\"\n",
    "DATA_PATH_TEST = \"../Data/C50/C50test/\""
   ]
  },
  {
   "cell_type": "markdown",
   "id": "ea28c2f0",
   "metadata": {},
   "source": [
    "# Simple"
   ]
  },
  {
   "cell_type": "code",
   "execution_count": 2,
   "id": "f371de9f",
   "metadata": {
    "ExecuteTime": {
     "end_time": "2022-03-05T18:48:24.900197Z",
     "start_time": "2022-03-05T18:48:24.206450Z"
    }
   },
   "outputs": [
    {
     "data": {
      "text/html": [
       "<div>\n",
       "<style scoped>\n",
       "    .dataframe tbody tr th:only-of-type {\n",
       "        vertical-align: middle;\n",
       "    }\n",
       "\n",
       "    .dataframe tbody tr th {\n",
       "        vertical-align: top;\n",
       "    }\n",
       "\n",
       "    .dataframe thead th {\n",
       "        text-align: right;\n",
       "    }\n",
       "</style>\n",
       "<table border=\"1\" class=\"dataframe\">\n",
       "  <thead>\n",
       "    <tr style=\"text-align: right;\">\n",
       "      <th></th>\n",
       "      <th>author_name</th>\n",
       "      <th>book_name</th>\n",
       "      <th>book_text</th>\n",
       "    </tr>\n",
       "  </thead>\n",
       "  <tbody>\n",
       "    <tr>\n",
       "      <th>0</th>\n",
       "      <td>AaronPressman</td>\n",
       "      <td>106247newsML.txt</td>\n",
       "      <td>The Internet may be overflowing with new techn...</td>\n",
       "    </tr>\n",
       "    <tr>\n",
       "      <th>1</th>\n",
       "      <td>AaronPressman</td>\n",
       "      <td>120600newsML.txt</td>\n",
       "      <td>The U.S. Postal Service announced Wednesday a ...</td>\n",
       "    </tr>\n",
       "    <tr>\n",
       "      <th>2</th>\n",
       "      <td>AaronPressman</td>\n",
       "      <td>120683newsML.txt</td>\n",
       "      <td>Elementary school students with access to the ...</td>\n",
       "    </tr>\n",
       "    <tr>\n",
       "      <th>3</th>\n",
       "      <td>AaronPressman</td>\n",
       "      <td>136958newsML.txt</td>\n",
       "      <td>An influential Internet organisation has backe...</td>\n",
       "    </tr>\n",
       "    <tr>\n",
       "      <th>4</th>\n",
       "      <td>AaronPressman</td>\n",
       "      <td>137498newsML.txt</td>\n",
       "      <td>An influential Internet organisation has backe...</td>\n",
       "    </tr>\n",
       "    <tr>\n",
       "      <th>...</th>\n",
       "      <td>...</td>\n",
       "      <td>...</td>\n",
       "      <td>...</td>\n",
       "    </tr>\n",
       "    <tr>\n",
       "      <th>2495</th>\n",
       "      <td>WilliamKazer</td>\n",
       "      <td>28223newsML.txt</td>\n",
       "      <td>China's central bank chief has said that infla...</td>\n",
       "    </tr>\n",
       "    <tr>\n",
       "      <th>2496</th>\n",
       "      <td>WilliamKazer</td>\n",
       "      <td>282935newsML.txt</td>\n",
       "      <td>China ushered in 1997, a year it has hailed as...</td>\n",
       "    </tr>\n",
       "    <tr>\n",
       "      <th>2497</th>\n",
       "      <td>WilliamKazer</td>\n",
       "      <td>287736newsML.txt</td>\n",
       "      <td>China issued tough new rules on the handling o...</td>\n",
       "    </tr>\n",
       "    <tr>\n",
       "      <th>2498</th>\n",
       "      <td>WilliamKazer</td>\n",
       "      <td>289747newsML.txt</td>\n",
       "      <td>China will avoid bold moves in tackling its ai...</td>\n",
       "    </tr>\n",
       "    <tr>\n",
       "      <th>2499</th>\n",
       "      <td>WilliamKazer</td>\n",
       "      <td>304402newsML.txt</td>\n",
       "      <td>Communist Party chief Jiang Zemin has put his ...</td>\n",
       "    </tr>\n",
       "  </tbody>\n",
       "</table>\n",
       "<p>2500 rows × 3 columns</p>\n",
       "</div>"
      ],
      "text/plain": [
       "        author_name         book_name  \\\n",
       "0     AaronPressman  106247newsML.txt   \n",
       "1     AaronPressman  120600newsML.txt   \n",
       "2     AaronPressman  120683newsML.txt   \n",
       "3     AaronPressman  136958newsML.txt   \n",
       "4     AaronPressman  137498newsML.txt   \n",
       "...             ...               ...   \n",
       "2495   WilliamKazer   28223newsML.txt   \n",
       "2496   WilliamKazer  282935newsML.txt   \n",
       "2497   WilliamKazer  287736newsML.txt   \n",
       "2498   WilliamKazer  289747newsML.txt   \n",
       "2499   WilliamKazer  304402newsML.txt   \n",
       "\n",
       "                                              book_text  \n",
       "0     The Internet may be overflowing with new techn...  \n",
       "1     The U.S. Postal Service announced Wednesday a ...  \n",
       "2     Elementary school students with access to the ...  \n",
       "3     An influential Internet organisation has backe...  \n",
       "4     An influential Internet organisation has backe...  \n",
       "...                                                 ...  \n",
       "2495  China's central bank chief has said that infla...  \n",
       "2496  China ushered in 1997, a year it has hailed as...  \n",
       "2497  China issued tough new rules on the handling o...  \n",
       "2498  China will avoid bold moves in tackling its ai...  \n",
       "2499  Communist Party chief Jiang Zemin has put his ...  \n",
       "\n",
       "[2500 rows x 3 columns]"
      ]
     },
     "execution_count": 2,
     "metadata": {},
     "output_type": "execute_result"
    }
   ],
   "source": [
    "df_train = load_data(\"../Data/C50/C50train\",50)\n",
    "df_train"
   ]
  },
  {
   "cell_type": "code",
   "execution_count": 5,
   "id": "4349846b",
   "metadata": {
    "ExecuteTime": {
     "end_time": "2022-03-05T18:54:26.075456Z",
     "start_time": "2022-03-05T18:54:05.983151Z"
    }
   },
   "outputs": [
    {
     "data": {
      "text/html": [
       "<div>\n",
       "<style scoped>\n",
       "    .dataframe tbody tr th:only-of-type {\n",
       "        vertical-align: middle;\n",
       "    }\n",
       "\n",
       "    .dataframe tbody tr th {\n",
       "        vertical-align: top;\n",
       "    }\n",
       "\n",
       "    .dataframe thead th {\n",
       "        text-align: right;\n",
       "    }\n",
       "</style>\n",
       "<table border=\"1\" class=\"dataframe\">\n",
       "  <thead>\n",
       "    <tr style=\"text-align: right;\">\n",
       "      <th></th>\n",
       "      <th>author_name</th>\n",
       "      <th>book_name</th>\n",
       "      <th>book_text</th>\n",
       "    </tr>\n",
       "  </thead>\n",
       "  <tbody>\n",
       "    <tr>\n",
       "      <th>0</th>\n",
       "      <td>AaronPressman</td>\n",
       "      <td>421829newsML.txt</td>\n",
       "      <td>U.S. Senators on Tuesday sharply criticized a ...</td>\n",
       "    </tr>\n",
       "    <tr>\n",
       "      <th>1</th>\n",
       "      <td>AaronPressman</td>\n",
       "      <td>424074newsML.txt</td>\n",
       "      <td>Two members of Congress criticised the Federal...</td>\n",
       "    </tr>\n",
       "    <tr>\n",
       "      <th>2</th>\n",
       "      <td>AaronPressman</td>\n",
       "      <td>42764newsML.txt</td>\n",
       "      <td>Commuters stuck in traffic on the Leesburg Pik...</td>\n",
       "    </tr>\n",
       "    <tr>\n",
       "      <th>3</th>\n",
       "      <td>AaronPressman</td>\n",
       "      <td>43033newsML.txt</td>\n",
       "      <td>A broad coalition of corporations went to Capi...</td>\n",
       "    </tr>\n",
       "    <tr>\n",
       "      <th>4</th>\n",
       "      <td>AaronPressman</td>\n",
       "      <td>433558newsML.txt</td>\n",
       "      <td>On the Internet, where new products come and g...</td>\n",
       "    </tr>\n",
       "    <tr>\n",
       "      <th>...</th>\n",
       "      <td>...</td>\n",
       "      <td>...</td>\n",
       "      <td>...</td>\n",
       "    </tr>\n",
       "    <tr>\n",
       "      <th>2495</th>\n",
       "      <td>WilliamKazer</td>\n",
       "      <td>504283newsML.txt</td>\n",
       "      <td>China has scored new successes in its fight ag...</td>\n",
       "    </tr>\n",
       "    <tr>\n",
       "      <th>2496</th>\n",
       "      <td>WilliamKazer</td>\n",
       "      <td>504526newsML.txt</td>\n",
       "      <td>China has scored new successes in its fight ag...</td>\n",
       "    </tr>\n",
       "    <tr>\n",
       "      <th>2497</th>\n",
       "      <td>WilliamKazer</td>\n",
       "      <td>51502newsML.txt</td>\n",
       "      <td>China is on target with plans to to promote 10...</td>\n",
       "    </tr>\n",
       "    <tr>\n",
       "      <th>2498</th>\n",
       "      <td>WilliamKazer</td>\n",
       "      <td>522090newsML.txt</td>\n",
       "      <td>China may need to adjust the mix of its treasu...</td>\n",
       "    </tr>\n",
       "    <tr>\n",
       "      <th>2499</th>\n",
       "      <td>WilliamKazer</td>\n",
       "      <td>58312newsML.txt</td>\n",
       "      <td>A Chinese ideologue known for his strictly ort...</td>\n",
       "    </tr>\n",
       "  </tbody>\n",
       "</table>\n",
       "<p>2500 rows × 3 columns</p>\n",
       "</div>"
      ],
      "text/plain": [
       "        author_name         book_name  \\\n",
       "0     AaronPressman  421829newsML.txt   \n",
       "1     AaronPressman  424074newsML.txt   \n",
       "2     AaronPressman   42764newsML.txt   \n",
       "3     AaronPressman   43033newsML.txt   \n",
       "4     AaronPressman  433558newsML.txt   \n",
       "...             ...               ...   \n",
       "2495   WilliamKazer  504283newsML.txt   \n",
       "2496   WilliamKazer  504526newsML.txt   \n",
       "2497   WilliamKazer   51502newsML.txt   \n",
       "2498   WilliamKazer  522090newsML.txt   \n",
       "2499   WilliamKazer   58312newsML.txt   \n",
       "\n",
       "                                              book_text  \n",
       "0     U.S. Senators on Tuesday sharply criticized a ...  \n",
       "1     Two members of Congress criticised the Federal...  \n",
       "2     Commuters stuck in traffic on the Leesburg Pik...  \n",
       "3     A broad coalition of corporations went to Capi...  \n",
       "4     On the Internet, where new products come and g...  \n",
       "...                                                 ...  \n",
       "2495  China has scored new successes in its fight ag...  \n",
       "2496  China has scored new successes in its fight ag...  \n",
       "2497  China is on target with plans to to promote 10...  \n",
       "2498  China may need to adjust the mix of its treasu...  \n",
       "2499  A Chinese ideologue known for his strictly ort...  \n",
       "\n",
       "[2500 rows x 3 columns]"
      ]
     },
     "execution_count": 5,
     "metadata": {},
     "output_type": "execute_result"
    }
   ],
   "source": [
    "df_test = load_data(\"../Data/C50/C50test\",50)\n",
    "df_test"
   ]
  },
  {
   "cell_type": "code",
   "execution_count": 7,
   "id": "21ad82aa",
   "metadata": {
    "ExecuteTime": {
     "end_time": "2022-03-05T18:55:39.952320Z",
     "start_time": "2022-03-05T18:55:39.933314Z"
    }
   },
   "outputs": [],
   "source": [
    "df = df_train.append(df_test, ignore_index=True)"
   ]
  },
  {
   "cell_type": "code",
   "execution_count": 9,
   "id": "68f922c3",
   "metadata": {
    "ExecuteTime": {
     "end_time": "2022-03-05T18:56:55.468961Z",
     "start_time": "2022-03-05T18:56:55.453970Z"
    }
   },
   "outputs": [],
   "source": [
    "TEST_PART = 0.1"
   ]
  },
  {
   "cell_type": "markdown",
   "id": "efe63378",
   "metadata": {},
   "source": [
    "## Baseline"
   ]
  },
  {
   "cell_type": "markdown",
   "id": "4320bf51",
   "metadata": {},
   "source": [
    "### Pre"
   ]
  },
  {
   "cell_type": "code",
   "execution_count": 10,
   "id": "1254cefe",
   "metadata": {
    "ExecuteTime": {
     "end_time": "2022-03-05T18:57:28.730252Z",
     "start_time": "2022-03-05T18:57:28.704268Z"
    }
   },
   "outputs": [],
   "source": [
    "X_train,X_test,y_train,y_test = train_test_split(df[\"book_text\"],df[\"author_name\"],test_size=TEST_PART)"
   ]
  },
  {
   "cell_type": "code",
   "execution_count": 20,
   "id": "4eeb6331",
   "metadata": {
    "ExecuteTime": {
     "end_time": "2022-03-05T19:15:25.463398Z",
     "start_time": "2022-03-05T19:15:25.441423Z"
    }
   },
   "outputs": [],
   "source": [
    "def avg_word_len(df: pd.DataFrame) -> pd.DataFrame:\n",
    "    avg_word_len = df.astype(str).swifter.apply(\n",
    "        lambda s: pd.Series(nltk.word_tokenize(s)).map(len).mean()).rename(\"avg_word_len\")\n",
    "    return pd.DataFrame(avg_word_len)\n",
    "\n",
    "\n",
    "def avg_sentence_len(df: pd.DataFrame) -> pd.DataFrame:\n",
    "    sentence_count = df.astype(str).swifter.apply(\n",
    "        lambda text: pd.Series(nltk.sent_tokenize(text)).map(\n",
    "            lambda sent: len(nltk.word_tokenize(sent))).mean()).rename(\"avg_sentence_len\")\n",
    "\n",
    "    return pd.DataFrame(sentence_count)\n",
    "\n",
    "def hapax_disLegemena(x: pd.DataFrame) -> pd.DataFrame:\n",
    "    \"\"\"\n",
    "    hapax disLegemena Measure for lexicographic diversity: v2/N\n",
    "    v2 = number of words that appears twice\n",
    "    N = number of words or number of unique words\n",
    "    \"\"\"\n",
    "\n",
    "    def get_hapax_disLegemena(text: str) -> (float, float):\n",
    "        words = nltk.word_tokenize(text)\n",
    "        words_count = Counter(words)\n",
    "        v2 = len([_ for _, count in words_count.items() if count == 2])\n",
    "        return pd.Series((v2 / (len(words) + EPSILON), v2 / (len(set(words))+EPSILON)))\n",
    "\n",
    "    return pd.DataFrame(x.astype(str).swifter.apply(get_hapax_disLegemena)).set_axis(['hapax_disLegemena(H)', 'hapax_disLegemena(S)'], axis=1)\n"
   ]
  },
  {
   "cell_type": "code",
   "execution_count": 21,
   "id": "90271ee4",
   "metadata": {
    "ExecuteTime": {
     "end_time": "2022-03-05T19:17:42.804988Z",
     "start_time": "2022-03-05T19:15:26.002387Z"
    }
   },
   "outputs": [
    {
     "data": {
      "application/vnd.jupyter.widget-view+json": {
       "model_id": "d5250eaaad0d47b18c1d3f63337c99f6",
       "version_major": 2,
       "version_minor": 0
      },
      "text/plain": [
       "Pandas Apply:   0%|          | 0/4500 [00:00<?, ?it/s]"
      ]
     },
     "metadata": {},
     "output_type": "display_data"
    },
    {
     "data": {
      "application/vnd.jupyter.widget-view+json": {
       "model_id": "b3d0a87c926e4585b812d352414e5482",
       "version_major": 2,
       "version_minor": 0
      },
      "text/plain": [
       "Pandas Apply:   0%|          | 0/4500 [00:00<?, ?it/s]"
      ]
     },
     "metadata": {},
     "output_type": "display_data"
    },
    {
     "data": {
      "application/vnd.jupyter.widget-view+json": {
       "model_id": "d67c48ca94b04d2398a29fbff33ffa32",
       "version_major": 2,
       "version_minor": 0
      },
      "text/plain": [
       "Pandas Apply:   0%|          | 0/4500 [00:00<?, ?it/s]"
      ]
     },
     "metadata": {},
     "output_type": "display_data"
    },
    {
     "data": {
      "application/vnd.jupyter.widget-view+json": {
       "model_id": "e28461d4496c413fb6baad72d86c2e12",
       "version_major": 2,
       "version_minor": 0
      },
      "text/plain": [
       "Pandas Apply:   0%|          | 0/500 [00:00<?, ?it/s]"
      ]
     },
     "metadata": {},
     "output_type": "display_data"
    },
    {
     "data": {
      "application/vnd.jupyter.widget-view+json": {
       "model_id": "cc46ed669b1d4bcaa37194d4300255b3",
       "version_major": 2,
       "version_minor": 0
      },
      "text/plain": [
       "Pandas Apply:   0%|          | 0/500 [00:00<?, ?it/s]"
      ]
     },
     "metadata": {},
     "output_type": "display_data"
    },
    {
     "data": {
      "application/vnd.jupyter.widget-view+json": {
       "model_id": "76a9350305924344abada82172ff399f",
       "version_major": 2,
       "version_minor": 0
      },
      "text/plain": [
       "Pandas Apply:   0%|          | 0/500 [00:00<?, ?it/s]"
      ]
     },
     "metadata": {},
     "output_type": "display_data"
    }
   ],
   "source": [
    "def preprocess(x_train: pd.DataFrame, x_test: pd.DataFrame) -> (pd.DataFrame, pd.DataFrame):\n",
    "    def helper(x: pd.DataFrame) -> pd.DataFrame:\n",
    "        return pd.concat([avg_word_len(x),avg_sentence_len(x),hapax_disLegemena(x)], axis=1)\n",
    "        \n",
    "    return helper(x_train), helper(x_test)\n",
    "\n",
    "X_train,X_test = preprocess(X_train,X_test)"
   ]
  },
  {
   "cell_type": "code",
   "execution_count": 23,
   "id": "4fa4a354",
   "metadata": {
    "ExecuteTime": {
     "end_time": "2022-03-05T19:18:14.087190Z",
     "start_time": "2022-03-05T19:18:14.072176Z"
    }
   },
   "outputs": [],
   "source": [
    "y_train = pd.Categorical(y_train).codes\n",
    "y_test = pd.Categorical(y_test).codes"
   ]
  },
  {
   "cell_type": "markdown",
   "id": "1353d27d",
   "metadata": {},
   "source": [
    "### Model"
   ]
  },
  {
   "cell_type": "code",
   "execution_count": 24,
   "id": "c06fba97",
   "metadata": {
    "ExecuteTime": {
     "end_time": "2022-03-05T19:21:51.158137Z",
     "start_time": "2022-03-05T19:19:17.823549Z"
    }
   },
   "outputs": [
    {
     "data": {
      "text/plain": [
       "GradientBoostingClassifier(max_depth=7, random_state=0)"
      ]
     },
     "execution_count": 24,
     "metadata": {},
     "output_type": "execute_result"
    }
   ],
   "source": [
    "from sklearn.ensemble import GradientBoostingClassifier\n",
    "model = GradientBoostingClassifier(n_estimators=100,max_depth=7, random_state=0)\n",
    "model.fit(X_train, y_train)"
   ]
  },
  {
   "cell_type": "code",
   "execution_count": 25,
   "id": "89940c0d",
   "metadata": {
    "ExecuteTime": {
     "end_time": "2022-03-05T19:22:05.657283Z",
     "start_time": "2022-03-05T19:22:05.475290Z"
    }
   },
   "outputs": [
    {
     "name": "stdout",
     "output_type": "stream",
     "text": [
      "              precision    recall  f1-score   support\n",
      "\n",
      "           0       0.17      0.40      0.24         5\n",
      "           1       0.30      0.23      0.26        13\n",
      "           2       0.00      0.00      0.00         5\n",
      "           3       0.00      0.00      0.00        10\n",
      "           4       0.09      0.11      0.10         9\n",
      "           5       0.00      0.00      0.00         8\n",
      "           6       0.10      0.09      0.10        11\n",
      "           7       0.16      0.23      0.19        13\n",
      "           8       0.22      0.20      0.21        10\n",
      "           9       0.12      0.12      0.12         8\n",
      "          10       0.07      0.14      0.09         7\n",
      "          11       0.00      0.00      0.00        10\n",
      "          12       0.14      0.08      0.11        12\n",
      "          13       0.06      0.20      0.09         5\n",
      "          14       0.00      0.00      0.00         9\n",
      "          15       0.38      0.23      0.29        13\n",
      "          16       0.10      0.07      0.08        14\n",
      "          17       0.08      0.17      0.11         6\n",
      "          18       0.11      0.08      0.09        13\n",
      "          19       0.18      0.25      0.21         8\n",
      "          20       0.00      0.00      0.00        10\n",
      "          21       0.07      0.12      0.09         8\n",
      "          22       0.14      0.09      0.11        11\n",
      "          23       0.00      0.00      0.00        13\n",
      "          24       0.00      0.00      0.00        11\n",
      "          25       0.12      0.20      0.15         5\n",
      "          26       0.33      0.40      0.36         5\n",
      "          27       0.10      0.11      0.11         9\n",
      "          28       0.08      0.11      0.09         9\n",
      "          29       0.11      0.09      0.10        11\n",
      "          30       0.00      0.00      0.00         5\n",
      "          31       0.14      0.09      0.11        11\n",
      "          32       0.33      0.33      0.33        12\n",
      "          33       0.00      0.00      0.00         8\n",
      "          34       0.08      0.17      0.11         6\n",
      "          35       0.08      0.12      0.10         8\n",
      "          36       0.29      0.27      0.28        15\n",
      "          37       0.17      0.06      0.09        17\n",
      "          38       0.00      0.00      0.00        13\n",
      "          39       0.12      0.08      0.10        13\n",
      "          40       0.00      0.00      0.00         8\n",
      "          41       0.50      0.45      0.48        11\n",
      "          42       0.00      0.00      0.00         6\n",
      "          43       0.00      0.00      0.00        14\n",
      "          44       0.00      0.00      0.00        10\n",
      "          45       0.15      0.17      0.16        12\n",
      "          46       0.21      0.20      0.21        15\n",
      "          47       0.15      0.14      0.15        14\n",
      "          48       0.06      0.08      0.07        12\n",
      "          49       0.00      0.00      0.00         9\n",
      "\n",
      "    accuracy                           0.12       500\n",
      "   macro avg       0.11      0.12      0.11       500\n",
      "weighted avg       0.12      0.12      0.11       500\n",
      "\n"
     ]
    }
   ],
   "source": [
    "from sklearn.metrics import classification_report\n",
    "y_pred = model.predict(X_test)\n",
    "print(classification_report(y_pred,y_test))"
   ]
  },
  {
   "cell_type": "markdown",
   "id": "b9f16b47",
   "metadata": {},
   "source": [
    "# Using Glove"
   ]
  },
  {
   "cell_type": "code",
   "execution_count": 13,
   "id": "01c80ebb",
   "metadata": {
    "ExecuteTime": {
     "end_time": "2022-03-05T18:58:27.432510Z",
     "start_time": "2022-03-05T18:58:26.956504Z"
    }
   },
   "outputs": [
    {
     "name": "stdout",
     "output_type": "stream",
     "text": [
      "['fasttext-wiki-news-subwords-300', 'conceptnet-numberbatch-17-06-300', 'word2vec-ruscorpora-300', 'word2vec-google-news-300', 'glove-wiki-gigaword-50', 'glove-wiki-gigaword-100', 'glove-wiki-gigaword-200', 'glove-wiki-gigaword-300', 'glove-twitter-25', 'glove-twitter-50', 'glove-twitter-100', 'glove-twitter-200', '__testing_word2vec-matrix-synopsis']\n"
     ]
    }
   ],
   "source": [
    "print(list(gensim.downloader.info()['models'].keys()))"
   ]
  },
  {
   "cell_type": "code",
   "execution_count": 27,
   "id": "7ed45fbb",
   "metadata": {
    "ExecuteTime": {
     "end_time": "2022-03-05T19:27:24.405407Z",
     "start_time": "2022-03-05T19:25:51.498331Z"
    }
   },
   "outputs": [
    {
     "name": "stdout",
     "output_type": "stream",
     "text": [
      "[==================================================] 100.0% 66.0/66.0MB downloaded\n"
     ]
    }
   ],
   "source": [
    "glove_vectors = gensim.downloader.load('glove-wiki-gigaword-50')"
   ]
  },
  {
   "cell_type": "code",
   "execution_count": 28,
   "id": "7c1ec0ac",
   "metadata": {
    "ExecuteTime": {
     "end_time": "2022-03-05T19:28:44.508254Z",
     "start_time": "2022-03-05T19:28:44.490259Z"
    }
   },
   "outputs": [
    {
     "data": {
      "text/plain": [
       "400000"
      ]
     },
     "execution_count": 28,
     "metadata": {},
     "output_type": "execute_result"
    }
   ],
   "source": [
    "len(glove_vectors)"
   ]
  },
  {
   "cell_type": "code",
   "execution_count": 185,
   "id": "8f5a98e1",
   "metadata": {
    "ExecuteTime": {
     "end_time": "2022-03-07T09:42:15.703935Z",
     "start_time": "2022-03-07T09:42:15.694230Z"
    }
   },
   "outputs": [],
   "source": [
    "import re\n",
    "# lemmatizer = nltk.stem.WordNetLemmatizer()\n",
    "# stemmer = nltk.stem.PorterStemmer()\n",
    "def tranform_word(word:str) -> np.ndarray:\n",
    "    word = re.sub(r'[^a-z]', '', word.lower())\n",
    "    if word in glove_vectors:\n",
    "        return glove_vectors[word]\n",
    "#     if not simple:\n",
    "#         token = lemmatizer.lemmatize(word)\n",
    "#         if token in glove_vectors:\n",
    "#             return glove_vectors[token]\n",
    "#         token = stemmer.stem(word)\n",
    "#         if token in glove_vectors:\n",
    "#             return glove_vectors[token]\n",
    "    return None"
   ]
  },
  {
   "cell_type": "code",
   "execution_count": 277,
   "id": "76a58432",
   "metadata": {
    "ExecuteTime": {
     "end_time": "2022-03-07T10:15:12.294564Z",
     "start_time": "2022-03-07T10:15:12.279571Z"
    }
   },
   "outputs": [],
   "source": [
    "EMBEDDING_SIZE = 50"
   ]
  },
  {
   "cell_type": "markdown",
   "id": "a10a32c8",
   "metadata": {},
   "source": [
    "## Sentence Level"
   ]
  },
  {
   "cell_type": "markdown",
   "id": "b83679be",
   "metadata": {
    "ExecuteTime": {
     "end_time": "2022-03-07T06:53:31.292627Z",
     "start_time": "2022-03-07T06:53:31.287615Z"
    }
   },
   "source": [
    "### Preprocess"
   ]
  },
  {
   "cell_type": "code",
   "execution_count": 197,
   "id": "539ecfe7",
   "metadata": {
    "ExecuteTime": {
     "end_time": "2022-03-07T09:46:32.581097Z",
     "start_time": "2022-03-07T09:46:32.561097Z"
    }
   },
   "outputs": [],
   "source": [
    "X_train,X_test,y_train,y_test = train_test_split(df[\"book_text\"],df[\"author_name\"],test_size=TEST_PART)"
   ]
  },
  {
   "cell_type": "code",
   "execution_count": 198,
   "id": "c2cfea13",
   "metadata": {
    "ExecuteTime": {
     "end_time": "2022-03-07T09:46:32.914464Z",
     "start_time": "2022-03-07T09:46:32.904439Z"
    }
   },
   "outputs": [],
   "source": [
    "def num_sentences_based_chucking(df: pd.DataFrame, chunk_size: int):\n",
    "    rows = []\n",
    "    for row in df:\n",
    "        sentences = nltk.tokenize.sent_tokenize(row)\n",
    "        curr_chunk = []\n",
    "        for sentence in sentences:\n",
    "            curr_chunk.append(sentence)\n",
    "            if len(curr_chunk) == chunk_size:\n",
    "                rows.append(\"\".join(curr_chunk))\n",
    "                curr_chunk = []\n",
    "        \n",
    "        rows.append(\"\".join(curr_chunk))  # add the last one\n",
    "    return pd.DataFrame(rows)"
   ]
  },
  {
   "cell_type": "code",
   "execution_count": 199,
   "id": "54f73e7a",
   "metadata": {
    "ExecuteTime": {
     "end_time": "2022-03-07T09:46:36.737177Z",
     "start_time": "2022-03-07T09:46:33.812097Z"
    }
   },
   "outputs": [
    {
     "data": {
      "text/plain": [
       "((35535,), (3934,))"
      ]
     },
     "execution_count": 199,
     "metadata": {},
     "output_type": "execute_result"
    }
   ],
   "source": [
    "NUM_OF_SENTENCE_CHUNK = 3\n",
    "X_train = num_sentences_based_chucking(X_train,NUM_OF_SENTENCE_CHUNK)[0]\n",
    "X_test = num_sentences_based_chucking(X_test,NUM_OF_SENTENCE_CHUNK)[0]\n",
    "X_train.shape,X_test.shape"
   ]
  },
  {
   "cell_type": "markdown",
   "id": "a69088c4",
   "metadata": {},
   "source": [
    "#### Decide max number of words"
   ]
  },
  {
   "cell_type": "code",
   "execution_count": 116,
   "id": "abc2c846",
   "metadata": {
    "ExecuteTime": {
     "end_time": "2022-03-07T07:05:43.943386Z",
     "start_time": "2022-03-07T07:05:33.404461Z"
    }
   },
   "outputs": [
    {
     "data": {
      "application/vnd.jupyter.widget-view+json": {
       "model_id": "f256c50bd372498a99429a56a27f1410",
       "version_major": 2,
       "version_minor": 0
      },
      "text/plain": [
       "Pandas Apply:   0%|          | 0/35525 [00:00<?, ?it/s]"
      ]
     },
     "metadata": {},
     "output_type": "display_data"
    },
    {
     "name": "stderr",
     "output_type": "stream",
     "text": [
      "C:\\ProgramData\\Anaconda3\\lib\\site-packages\\pandas\\core\\nanops.py:1675: DeprecationWarning: the `interpolation=` argument to percentile was renamed to `method=`, which has additional options.\n",
      "Users of the modes 'nearest', 'lower', 'higher', or 'midpoint' are encouraged to review the method they. (Deprecated NumPy 1.22)\n",
      "  return np.percentile(values, q, axis=axis, interpolation=interpolation)\n"
     ]
    },
    {
     "data": {
      "text/plain": [
       "count    35525.000000\n",
       "mean        70.791893\n",
       "std         28.567110\n",
       "min          0.000000\n",
       "25%         56.000000\n",
       "50%         73.000000\n",
       "75%         90.000000\n",
       "max        307.000000\n",
       "Name: 0, dtype: float64"
      ]
     },
     "execution_count": 116,
     "metadata": {},
     "output_type": "execute_result"
    }
   ],
   "source": [
    "num_words = X_train.swifter.apply(lambda text: len(nltk.word_tokenize(text)))\n",
    "num_words.describe()"
   ]
  },
  {
   "cell_type": "code",
   "execution_count": 120,
   "id": "66526290",
   "metadata": {
    "ExecuteTime": {
     "end_time": "2022-03-07T07:06:48.639289Z",
     "start_time": "2022-03-07T07:06:48.619294Z"
    }
   },
   "outputs": [
    {
     "name": "stderr",
     "output_type": "stream",
     "text": [
      "C:\\ProgramData\\Anaconda3\\lib\\site-packages\\pandas\\core\\nanops.py:1675: DeprecationWarning: the `interpolation=` argument to percentile was renamed to `method=`, which has additional options.\n",
      "Users of the modes 'nearest', 'lower', 'higher', or 'midpoint' are encouraged to review the method they. (Deprecated NumPy 1.22)\n",
      "  return np.percentile(values, q, axis=axis, interpolation=interpolation)\n"
     ]
    },
    {
     "data": {
      "text/plain": [
       "0.95    113.00\n",
       "0.97    118.00\n",
       "0.98    122.52\n",
       "0.99    128.00\n",
       "Name: 0, dtype: float64"
      ]
     },
     "execution_count": 120,
     "metadata": {},
     "output_type": "execute_result"
    }
   ],
   "source": [
    "num_words.quantile([0.95,0.97,0.98,0.99])"
   ]
  },
  {
   "cell_type": "code",
   "execution_count": 142,
   "id": "f0d4b956",
   "metadata": {
    "ExecuteTime": {
     "end_time": "2022-03-07T09:17:47.584168Z",
     "start_time": "2022-03-07T09:17:47.571173Z"
    }
   },
   "outputs": [
    {
     "data": {
      "text/plain": [
       "1353     179\n",
       "15730    307\n",
       "21318    195\n",
       "33340    209\n",
       "Name: 0, dtype: int64"
      ]
     },
     "execution_count": 142,
     "metadata": {},
     "output_type": "execute_result"
    }
   ],
   "source": [
    "num_words[num_words>170]"
   ]
  },
  {
   "cell_type": "code",
   "execution_count": 143,
   "id": "b28e9bfa",
   "metadata": {
    "ExecuteTime": {
     "end_time": "2022-03-07T09:18:15.760602Z",
     "start_time": "2022-03-07T09:18:15.748605Z"
    }
   },
   "outputs": [],
   "source": [
    "MAX_LENGTH = 170"
   ]
  },
  {
   "cell_type": "markdown",
   "id": "74bce296",
   "metadata": {},
   "source": [
    "#### Continue Preprocess"
   ]
  },
  {
   "cell_type": "code",
   "execution_count": 228,
   "id": "48f47598",
   "metadata": {
    "ExecuteTime": {
     "end_time": "2022-03-07T09:57:25.079272Z",
     "start_time": "2022-03-07T09:57:25.065274Z"
    }
   },
   "outputs": [],
   "source": [
    "def pad_matrix(arr:np.ndarray,max_length:int) -> np.ndarray:\n",
    "    if arr.size == 0:\n",
    "        return None\n",
    "    if arr.shape[0] == max_length:\n",
    "        return arr\n",
    "    if arr.shape[0] > max_length:\n",
    "        return arr[:max_length,:]\n",
    "    return np.concatenate([arr,np.zeros((max_length - arr.shape[0],arr.shape[1]))],axis=0,dtype=float)"
   ]
  },
  {
   "cell_type": "code",
   "execution_count": 268,
   "id": "97c412c0",
   "metadata": {
    "ExecuteTime": {
     "end_time": "2022-03-07T10:07:37.260021Z",
     "start_time": "2022-03-07T10:07:37.245024Z"
    }
   },
   "outputs": [],
   "source": [
    "def sentence_level_preprocess(text:str):\n",
    "    words = nltk.word_tokenize(text)\n",
    "    result = []\n",
    "    missing_embedding_count = 0\n",
    "    for word in words:\n",
    "        embedding = tranform_word(word)\n",
    "        if embedding is not None:\n",
    "            result.append(embedding)\n",
    "        else:\n",
    "            missing_embedding_count+=1\n",
    "    return pd.Series({\"data\": pad_matrix(np.array(result),MAX_LENGTH),\"missing_embedding_count\":missing_embedding_count})"
   ]
  },
  {
   "cell_type": "code",
   "execution_count": 230,
   "id": "33ae34f3",
   "metadata": {
    "ExecuteTime": {
     "end_time": "2022-03-07T09:57:30.053732Z",
     "start_time": "2022-03-07T09:57:26.456927Z"
    }
   },
   "outputs": [
    {
     "data": {
      "application/vnd.jupyter.widget-view+json": {
       "model_id": "f985e77098a24fedb893bf777b5794ac",
       "version_major": 2,
       "version_minor": 0
      },
      "text/plain": [
       "Pandas Apply:   0%|          | 0/3934 [00:00<?, ?it/s]"
      ]
     },
     "metadata": {},
     "output_type": "display_data"
    }
   ],
   "source": [
    "res = X_test.swifter.apply(sentence_level_preprocess)\n",
    "# res['missing_embedding_count'].describe()"
   ]
  },
  {
   "cell_type": "code",
   "execution_count": 281,
   "id": "0f5814de",
   "metadata": {
    "ExecuteTime": {
     "end_time": "2022-03-07T10:17:50.147472Z",
     "start_time": "2022-03-07T10:17:50.129448Z"
    }
   },
   "outputs": [],
   "source": [
    "def preprocess(X):\n",
    "#     X_train = num_sentences_based_chucking(X_train,NUM_OF_SENTENCE_CHUNK)[0]\n",
    "    res = X.swifter.apply(sentence_level_preprocess)[\"data\"].dropna().reset_index(drop=True)\n",
    "    return np.vstack(res).reshape((res.size,MAX_LENGTH,EMBEDDING_SIZE))\n",
    "#X_train,X_test,y_train,y_test = train_test_split(df[\"book_text\"],df[\"author_name\"],test_size=TEST_PART)"
   ]
  },
  {
   "cell_type": "code",
   "execution_count": 282,
   "id": "3bc539ff",
   "metadata": {
    "ExecuteTime": {
     "end_time": "2022-03-07T10:18:38.736254Z",
     "start_time": "2022-03-07T10:18:01.795564Z"
    }
   },
   "outputs": [
    {
     "data": {
      "application/vnd.jupyter.widget-view+json": {
       "model_id": "64cafa99e7144776a7d191c6a5bcadd2",
       "version_major": 2,
       "version_minor": 0
      },
      "text/plain": [
       "Pandas Apply:   0%|          | 0/3934 [00:00<?, ?it/s]"
      ]
     },
     "metadata": {},
     "output_type": "display_data"
    },
    {
     "data": {
      "application/vnd.jupyter.widget-view+json": {
       "model_id": "4f6e4c3094be4560bfa39bafd1a0f1c8",
       "version_major": 2,
       "version_minor": 0
      },
      "text/plain": [
       "Pandas Apply:   0%|          | 0/35535 [00:00<?, ?it/s]"
      ]
     },
     "metadata": {},
     "output_type": "display_data"
    }
   ],
   "source": [
    "X_test = preprocess(X_test)\n",
    "X_train = preprocess(X_train)"
   ]
  },
  {
   "cell_type": "markdown",
   "id": "5842b550",
   "metadata": {},
   "source": [
    "**Note that we tried to stemm or lemmatize the word before search in glove table but it doesnt help at all**"
   ]
  },
  {
   "cell_type": "code",
   "execution_count": 283,
   "id": "b527ff2b",
   "metadata": {
    "ExecuteTime": {
     "end_time": "2022-03-07T10:18:40.703799Z",
     "start_time": "2022-03-07T10:18:40.697806Z"
    }
   },
   "outputs": [
    {
     "data": {
      "text/plain": [
       "(34049, 170, 50)"
      ]
     },
     "execution_count": 283,
     "metadata": {},
     "output_type": "execute_result"
    }
   ],
   "source": [
    "X_train.shape"
   ]
  },
  {
   "cell_type": "markdown",
   "id": "860ac3f0",
   "metadata": {},
   "source": [
    "### Model"
   ]
  },
  {
   "cell_type": "code",
   "execution_count": 396,
   "id": "0138c0ac",
   "metadata": {
    "ExecuteTime": {
     "end_time": "2022-03-07T12:35:03.287271Z",
     "start_time": "2022-03-07T12:35:03.164039Z"
    }
   },
   "outputs": [
    {
     "name": "stdout",
     "output_type": "stream",
     "text": [
      "Model: \"sequential_19\"\n",
      "_________________________________________________________________\n",
      "Layer (type)                 Output Shape              Param #   \n",
      "=================================================================\n",
      "gru_19 (GRU)                 (None, 170, 100)          45600     \n",
      "_________________________________________________________________\n",
      "average_pooling1d_6 (Average (None, 1, 100)            0         \n",
      "_________________________________________________________________\n",
      "dense_4 (Dense)              (None, 1, 50)             5050      \n",
      "=================================================================\n",
      "Total params: 50,650\n",
      "Trainable params: 50,650\n",
      "Non-trainable params: 0\n",
      "_________________________________________________________________\n"
     ]
    }
   ],
   "source": [
    "from tensorflow.keras.layers import Dense,GRU,AvgPool1D\n",
    "import tensorflow as tf\n",
    "from tensorflow.keras.models import Sequential\n",
    "import pickle\n",
    "\n",
    "model = Sequential()\n",
    "model.add(GRU(100,recurrent_dropout=0.2,input_shape=(MAX_LENGTH,EMBEDDING_SIZE),return_sequences=True))\n",
    "model.add(AvgPool1D(pool_size=(170,)))\n",
    "model.add(Dense(50, activation=\"softmax\"))\n",
    "model.compile(loss=\"categorical_crossentropy\", optimizer='adam',metrics=[\"accuracy\"])\n",
    "model.summary()"
   ]
  },
  {
   "cell_type": "code",
   "execution_count": null,
   "id": "08ef3ef6",
   "metadata": {},
   "outputs": [],
   "source": [
    "X_train,X_val,y_train,y_val = train_test_split(X_train,y_train,test_size=0.2)"
   ]
  },
  {
   "cell_type": "code",
   "execution_count": null,
   "id": "96400a93",
   "metadata": {},
   "outputs": [],
   "source": [
    "callback = tf.keras.callbacks.EarlyStopping(monitor='loss', patience=15)\n",
    "history = model.fit(x=X_train, y=y_train, epochs=200, shuffle=True,\n",
    "          batch_size=200, validation_data=(X_val, y_val),callbacks=[callback])\n",
    "with open(\"sentence_level-history\") as file:\n",
    "    pickle.dump(history, file)"
   ]
  },
  {
   "cell_type": "code",
   "execution_count": null,
   "id": "6c169460",
   "metadata": {},
   "outputs": [],
   "source": [
    "model.save(\"sentence_level\")"
   ]
  },
  {
   "cell_type": "markdown",
   "id": "60737a05",
   "metadata": {},
   "source": [
    "## Article Level"
   ]
  },
  {
   "cell_type": "markdown",
   "id": "22f552dc",
   "metadata": {
    "ExecuteTime": {
     "end_time": "2022-03-07T06:53:55.171287Z",
     "start_time": "2022-03-07T06:53:55.157291Z"
    }
   },
   "source": [
    "### Preprocess\n",
    "**Problems:**\n",
    "1. tranform words without glove embedding\n",
    "2. unequal setence length(padding required)"
   ]
  },
  {
   "cell_type": "code",
   "execution_count": 290,
   "id": "6bc76359",
   "metadata": {
    "ExecuteTime": {
     "end_time": "2022-03-07T10:42:20.230585Z",
     "start_time": "2022-03-07T10:42:20.220588Z"
    }
   },
   "outputs": [],
   "source": [
    "X_train,X_test,y_train,y_test = train_test_split(df[\"book_text\"],df[\"author_name\"],test_size=TEST_PART)"
   ]
  },
  {
   "cell_type": "markdown",
   "id": "2f7a366f",
   "metadata": {},
   "source": [
    "#### Decide Max Setence Length"
   ]
  },
  {
   "cell_type": "code",
   "execution_count": 298,
   "id": "64a21176",
   "metadata": {
    "ExecuteTime": {
     "end_time": "2022-03-07T11:13:54.262854Z",
     "start_time": "2022-03-07T11:13:54.251363Z"
    }
   },
   "outputs": [],
   "source": [
    "def get_number_of_words_per_sentence(text):\n",
    "    sentences = nltk.sent_tokenize(text)\n",
    "    results = []\n",
    "    for sentence in sentences:\n",
    "        results.append(len(nltk.word_tokenize(sentence)))\n",
    "    return pd.Series(results)"
   ]
  },
  {
   "cell_type": "code",
   "execution_count": 325,
   "id": "82cce2ac",
   "metadata": {
    "ExecuteTime": {
     "end_time": "2022-03-07T11:38:04.393761Z",
     "start_time": "2022-03-07T11:37:46.680529Z"
    }
   },
   "outputs": [
    {
     "data": {
      "application/vnd.jupyter.widget-view+json": {
       "model_id": "7bdf22f5eadc4d1493624dfc71d54de6",
       "version_major": 2,
       "version_minor": 0
      },
      "text/plain": [
       "Pandas Apply:   0%|          | 0/4500 [00:00<?, ?it/s]"
      ]
     },
     "metadata": {},
     "output_type": "display_data"
    },
    {
     "name": "stderr",
     "output_type": "stream",
     "text": [
      "C:\\ProgramData\\Anaconda3\\lib\\site-packages\\pandas\\core\\nanops.py:1675: DeprecationWarning: the `interpolation=` argument to percentile was renamed to `method=`, which has additional options.\n",
      "Users of the modes 'nearest', 'lower', 'higher', or 'midpoint' are encouraged to review the method they. (Deprecated NumPy 1.22)\n",
      "  return np.percentile(values, q, axis=axis, interpolation=interpolation)\n",
      "C:\\ProgramData\\Anaconda3\\lib\\site-packages\\pandas\\core\\nanops.py:1675: DeprecationWarning: the `interpolation=` argument to percentile was renamed to `method=`, which has additional options.\n",
      "Users of the modes 'nearest', 'lower', 'higher', or 'midpoint' are encouraged to review the method they. (Deprecated NumPy 1.22)\n",
      "  return np.percentile(values, q, axis=axis, interpolation=interpolation)\n",
      "C:\\ProgramData\\Anaconda3\\lib\\site-packages\\pandas\\core\\nanops.py:1608: DeprecationWarning: the `interpolation=` argument to percentile was renamed to `method=`, which has additional options.\n",
      "Users of the modes 'nearest', 'lower', 'higher', or 'midpoint' are encouraged to review the method they. (Deprecated NumPy 1.22)\n",
      "  return np.percentile(values, q, interpolation=interpolation)\n",
      "C:\\ProgramData\\Anaconda3\\lib\\site-packages\\pandas\\core\\nanops.py:1608: DeprecationWarning: the `interpolation=` argument to percentile was renamed to `method=`, which has additional options.\n",
      "Users of the modes 'nearest', 'lower', 'higher', or 'midpoint' are encouraged to review the method they. (Deprecated NumPy 1.22)\n",
      "  return np.percentile(values, q, interpolation=interpolation)\n",
      "C:\\ProgramData\\Anaconda3\\lib\\site-packages\\pandas\\core\\nanops.py:1608: DeprecationWarning: the `interpolation=` argument to percentile was renamed to `method=`, which has additional options.\n",
      "Users of the modes 'nearest', 'lower', 'higher', or 'midpoint' are encouraged to review the method they. (Deprecated NumPy 1.22)\n",
      "  return np.percentile(values, q, interpolation=interpolation)\n",
      "C:\\ProgramData\\Anaconda3\\lib\\site-packages\\pandas\\core\\nanops.py:1608: DeprecationWarning: the `interpolation=` argument to percentile was renamed to `method=`, which has additional options.\n",
      "Users of the modes 'nearest', 'lower', 'higher', or 'midpoint' are encouraged to review the method they. (Deprecated NumPy 1.22)\n",
      "  return np.percentile(values, q, interpolation=interpolation)\n",
      "C:\\ProgramData\\Anaconda3\\lib\\site-packages\\pandas\\core\\nanops.py:1608: DeprecationWarning: the `interpolation=` argument to percentile was renamed to `method=`, which has additional options.\n",
      "Users of the modes 'nearest', 'lower', 'higher', or 'midpoint' are encouraged to review the method they. (Deprecated NumPy 1.22)\n",
      "  return np.percentile(values, q, interpolation=interpolation)\n",
      "C:\\ProgramData\\Anaconda3\\lib\\site-packages\\pandas\\core\\nanops.py:1608: DeprecationWarning: the `interpolation=` argument to percentile was renamed to `method=`, which has additional options.\n",
      "Users of the modes 'nearest', 'lower', 'higher', or 'midpoint' are encouraged to review the method they. (Deprecated NumPy 1.22)\n",
      "  return np.percentile(values, q, interpolation=interpolation)\n",
      "C:\\ProgramData\\Anaconda3\\lib\\site-packages\\pandas\\core\\nanops.py:1608: DeprecationWarning: the `interpolation=` argument to percentile was renamed to `method=`, which has additional options.\n",
      "Users of the modes 'nearest', 'lower', 'higher', or 'midpoint' are encouraged to review the method they. (Deprecated NumPy 1.22)\n",
      "  return np.percentile(values, q, interpolation=interpolation)\n",
      "C:\\ProgramData\\Anaconda3\\lib\\site-packages\\pandas\\core\\nanops.py:1608: DeprecationWarning: the `interpolation=` argument to percentile was renamed to `method=`, which has additional options.\n",
      "Users of the modes 'nearest', 'lower', 'higher', or 'midpoint' are encouraged to review the method they. (Deprecated NumPy 1.22)\n",
      "  return np.percentile(values, q, interpolation=interpolation)\n",
      "C:\\ProgramData\\Anaconda3\\lib\\site-packages\\pandas\\core\\nanops.py:1608: DeprecationWarning: the `interpolation=` argument to percentile was renamed to `method=`, which has additional options.\n",
      "Users of the modes 'nearest', 'lower', 'higher', or 'midpoint' are encouraged to review the method they. (Deprecated NumPy 1.22)\n",
      "  return np.percentile(values, q, interpolation=interpolation)\n",
      "C:\\ProgramData\\Anaconda3\\lib\\site-packages\\pandas\\core\\nanops.py:1608: DeprecationWarning: the `interpolation=` argument to percentile was renamed to `method=`, which has additional options.\n",
      "Users of the modes 'nearest', 'lower', 'higher', or 'midpoint' are encouraged to review the method they. (Deprecated NumPy 1.22)\n",
      "  return np.percentile(values, q, interpolation=interpolation)\n",
      "C:\\ProgramData\\Anaconda3\\lib\\site-packages\\pandas\\core\\nanops.py:1608: DeprecationWarning: the `interpolation=` argument to percentile was renamed to `method=`, which has additional options.\n",
      "Users of the modes 'nearest', 'lower', 'higher', or 'midpoint' are encouraged to review the method they. (Deprecated NumPy 1.22)\n",
      "  return np.percentile(values, q, interpolation=interpolation)\n",
      "C:\\ProgramData\\Anaconda3\\lib\\site-packages\\pandas\\core\\nanops.py:1608: DeprecationWarning: the `interpolation=` argument to percentile was renamed to `method=`, which has additional options.\n",
      "Users of the modes 'nearest', 'lower', 'higher', or 'midpoint' are encouraged to review the method they. (Deprecated NumPy 1.22)\n",
      "  return np.percentile(values, q, interpolation=interpolation)\n",
      "C:\\ProgramData\\Anaconda3\\lib\\site-packages\\pandas\\core\\nanops.py:1608: DeprecationWarning: the `interpolation=` argument to percentile was renamed to `method=`, which has additional options.\n",
      "Users of the modes 'nearest', 'lower', 'higher', or 'midpoint' are encouraged to review the method they. (Deprecated NumPy 1.22)\n",
      "  return np.percentile(values, q, interpolation=interpolation)\n",
      "C:\\ProgramData\\Anaconda3\\lib\\site-packages\\pandas\\core\\nanops.py:1608: DeprecationWarning: the `interpolation=` argument to percentile was renamed to `method=`, which has additional options.\n",
      "Users of the modes 'nearest', 'lower', 'higher', or 'midpoint' are encouraged to review the method they. (Deprecated NumPy 1.22)\n",
      "  return np.percentile(values, q, interpolation=interpolation)\n",
      "C:\\ProgramData\\Anaconda3\\lib\\site-packages\\pandas\\core\\nanops.py:1608: DeprecationWarning: the `interpolation=` argument to percentile was renamed to `method=`, which has additional options.\n",
      "Users of the modes 'nearest', 'lower', 'higher', or 'midpoint' are encouraged to review the method they. (Deprecated NumPy 1.22)\n",
      "  return np.percentile(values, q, interpolation=interpolation)\n",
      "C:\\ProgramData\\Anaconda3\\lib\\site-packages\\pandas\\core\\nanops.py:1608: DeprecationWarning: the `interpolation=` argument to percentile was renamed to `method=`, which has additional options.\n",
      "Users of the modes 'nearest', 'lower', 'higher', or 'midpoint' are encouraged to review the method they. (Deprecated NumPy 1.22)\n",
      "  return np.percentile(values, q, interpolation=interpolation)\n",
      "C:\\ProgramData\\Anaconda3\\lib\\site-packages\\pandas\\core\\nanops.py:1608: DeprecationWarning: the `interpolation=` argument to percentile was renamed to `method=`, which has additional options.\n",
      "Users of the modes 'nearest', 'lower', 'higher', or 'midpoint' are encouraged to review the method they. (Deprecated NumPy 1.22)\n",
      "  return np.percentile(values, q, interpolation=interpolation)\n",
      "C:\\ProgramData\\Anaconda3\\lib\\site-packages\\pandas\\core\\nanops.py:1608: DeprecationWarning: the `interpolation=` argument to percentile was renamed to `method=`, which has additional options.\n",
      "Users of the modes 'nearest', 'lower', 'higher', or 'midpoint' are encouraged to review the method they. (Deprecated NumPy 1.22)\n",
      "  return np.percentile(values, q, interpolation=interpolation)\n",
      "C:\\ProgramData\\Anaconda3\\lib\\site-packages\\pandas\\core\\nanops.py:1608: DeprecationWarning: the `interpolation=` argument to percentile was renamed to `method=`, which has additional options.\n",
      "Users of the modes 'nearest', 'lower', 'higher', or 'midpoint' are encouraged to review the method they. (Deprecated NumPy 1.22)\n",
      "  return np.percentile(values, q, interpolation=interpolation)\n",
      "C:\\ProgramData\\Anaconda3\\lib\\site-packages\\pandas\\core\\nanops.py:1608: DeprecationWarning: the `interpolation=` argument to percentile was renamed to `method=`, which has additional options.\n",
      "Users of the modes 'nearest', 'lower', 'higher', or 'midpoint' are encouraged to review the method they. (Deprecated NumPy 1.22)\n",
      "  return np.percentile(values, q, interpolation=interpolation)\n",
      "C:\\ProgramData\\Anaconda3\\lib\\site-packages\\pandas\\core\\nanops.py:1608: DeprecationWarning: the `interpolation=` argument to percentile was renamed to `method=`, which has additional options.\n",
      "Users of the modes 'nearest', 'lower', 'higher', or 'midpoint' are encouraged to review the method they. (Deprecated NumPy 1.22)\n",
      "  return np.percentile(values, q, interpolation=interpolation)\n",
      "C:\\ProgramData\\Anaconda3\\lib\\site-packages\\pandas\\core\\nanops.py:1608: DeprecationWarning: the `interpolation=` argument to percentile was renamed to `method=`, which has additional options.\n",
      "Users of the modes 'nearest', 'lower', 'higher', or 'midpoint' are encouraged to review the method they. (Deprecated NumPy 1.22)\n",
      "  return np.percentile(values, q, interpolation=interpolation)\n",
      "C:\\ProgramData\\Anaconda3\\lib\\site-packages\\pandas\\core\\nanops.py:1608: DeprecationWarning: the `interpolation=` argument to percentile was renamed to `method=`, which has additional options.\n",
      "Users of the modes 'nearest', 'lower', 'higher', or 'midpoint' are encouraged to review the method they. (Deprecated NumPy 1.22)\n",
      "  return np.percentile(values, q, interpolation=interpolation)\n",
      "C:\\ProgramData\\Anaconda3\\lib\\site-packages\\pandas\\core\\nanops.py:1608: DeprecationWarning: the `interpolation=` argument to percentile was renamed to `method=`, which has additional options.\n",
      "Users of the modes 'nearest', 'lower', 'higher', or 'midpoint' are encouraged to review the method they. (Deprecated NumPy 1.22)\n",
      "  return np.percentile(values, q, interpolation=interpolation)\n",
      "C:\\ProgramData\\Anaconda3\\lib\\site-packages\\pandas\\core\\nanops.py:1608: DeprecationWarning: the `interpolation=` argument to percentile was renamed to `method=`, which has additional options.\n",
      "Users of the modes 'nearest', 'lower', 'higher', or 'midpoint' are encouraged to review the method they. (Deprecated NumPy 1.22)\n",
      "  return np.percentile(values, q, interpolation=interpolation)\n",
      "C:\\ProgramData\\Anaconda3\\lib\\site-packages\\pandas\\core\\nanops.py:1608: DeprecationWarning: the `interpolation=` argument to percentile was renamed to `method=`, which has additional options.\n",
      "Users of the modes 'nearest', 'lower', 'higher', or 'midpoint' are encouraged to review the method they. (Deprecated NumPy 1.22)\n",
      "  return np.percentile(values, q, interpolation=interpolation)\n",
      "C:\\ProgramData\\Anaconda3\\lib\\site-packages\\pandas\\core\\nanops.py:1608: DeprecationWarning: the `interpolation=` argument to percentile was renamed to `method=`, which has additional options.\n",
      "Users of the modes 'nearest', 'lower', 'higher', or 'midpoint' are encouraged to review the method they. (Deprecated NumPy 1.22)\n",
      "  return np.percentile(values, q, interpolation=interpolation)\n",
      "C:\\ProgramData\\Anaconda3\\lib\\site-packages\\pandas\\core\\nanops.py:1608: DeprecationWarning: the `interpolation=` argument to percentile was renamed to `method=`, which has additional options.\n",
      "Users of the modes 'nearest', 'lower', 'higher', or 'midpoint' are encouraged to review the method they. (Deprecated NumPy 1.22)\n",
      "  return np.percentile(values, q, interpolation=interpolation)\n",
      "C:\\ProgramData\\Anaconda3\\lib\\site-packages\\pandas\\core\\nanops.py:1608: DeprecationWarning: the `interpolation=` argument to percentile was renamed to `method=`, which has additional options.\n",
      "Users of the modes 'nearest', 'lower', 'higher', or 'midpoint' are encouraged to review the method they. (Deprecated NumPy 1.22)\n",
      "  return np.percentile(values, q, interpolation=interpolation)\n",
      "C:\\ProgramData\\Anaconda3\\lib\\site-packages\\pandas\\core\\nanops.py:1608: DeprecationWarning: the `interpolation=` argument to percentile was renamed to `method=`, which has additional options.\n",
      "Users of the modes 'nearest', 'lower', 'higher', or 'midpoint' are encouraged to review the method they. (Deprecated NumPy 1.22)\n",
      "  return np.percentile(values, q, interpolation=interpolation)\n",
      "C:\\ProgramData\\Anaconda3\\lib\\site-packages\\pandas\\core\\nanops.py:1608: DeprecationWarning: the `interpolation=` argument to percentile was renamed to `method=`, which has additional options.\n",
      "Users of the modes 'nearest', 'lower', 'higher', or 'midpoint' are encouraged to review the method they. (Deprecated NumPy 1.22)\n",
      "  return np.percentile(values, q, interpolation=interpolation)\n",
      "C:\\ProgramData\\Anaconda3\\lib\\site-packages\\pandas\\core\\nanops.py:1608: DeprecationWarning: the `interpolation=` argument to percentile was renamed to `method=`, which has additional options.\n",
      "Users of the modes 'nearest', 'lower', 'higher', or 'midpoint' are encouraged to review the method they. (Deprecated NumPy 1.22)\n",
      "  return np.percentile(values, q, interpolation=interpolation)\n",
      "C:\\ProgramData\\Anaconda3\\lib\\site-packages\\pandas\\core\\nanops.py:1608: DeprecationWarning: the `interpolation=` argument to percentile was renamed to `method=`, which has additional options.\n",
      "Users of the modes 'nearest', 'lower', 'higher', or 'midpoint' are encouraged to review the method they. (Deprecated NumPy 1.22)\n",
      "  return np.percentile(values, q, interpolation=interpolation)\n",
      "C:\\ProgramData\\Anaconda3\\lib\\site-packages\\pandas\\core\\nanops.py:1608: DeprecationWarning: the `interpolation=` argument to percentile was renamed to `method=`, which has additional options.\n",
      "Users of the modes 'nearest', 'lower', 'higher', or 'midpoint' are encouraged to review the method they. (Deprecated NumPy 1.22)\n",
      "  return np.percentile(values, q, interpolation=interpolation)\n",
      "C:\\ProgramData\\Anaconda3\\lib\\site-packages\\pandas\\core\\nanops.py:1608: DeprecationWarning: the `interpolation=` argument to percentile was renamed to `method=`, which has additional options.\n",
      "Users of the modes 'nearest', 'lower', 'higher', or 'midpoint' are encouraged to review the method they. (Deprecated NumPy 1.22)\n",
      "  return np.percentile(values, q, interpolation=interpolation)\n",
      "C:\\ProgramData\\Anaconda3\\lib\\site-packages\\pandas\\core\\nanops.py:1608: DeprecationWarning: the `interpolation=` argument to percentile was renamed to `method=`, which has additional options.\n",
      "Users of the modes 'nearest', 'lower', 'higher', or 'midpoint' are encouraged to review the method they. (Deprecated NumPy 1.22)\n",
      "  return np.percentile(values, q, interpolation=interpolation)\n",
      "C:\\ProgramData\\Anaconda3\\lib\\site-packages\\pandas\\core\\nanops.py:1608: DeprecationWarning: the `interpolation=` argument to percentile was renamed to `method=`, which has additional options.\n",
      "Users of the modes 'nearest', 'lower', 'higher', or 'midpoint' are encouraged to review the method they. (Deprecated NumPy 1.22)\n",
      "  return np.percentile(values, q, interpolation=interpolation)\n",
      "C:\\ProgramData\\Anaconda3\\lib\\site-packages\\pandas\\core\\nanops.py:1608: DeprecationWarning: the `interpolation=` argument to percentile was renamed to `method=`, which has additional options.\n",
      "Users of the modes 'nearest', 'lower', 'higher', or 'midpoint' are encouraged to review the method they. (Deprecated NumPy 1.22)\n",
      "  return np.percentile(values, q, interpolation=interpolation)\n",
      "C:\\ProgramData\\Anaconda3\\lib\\site-packages\\pandas\\core\\nanops.py:1608: DeprecationWarning: the `interpolation=` argument to percentile was renamed to `method=`, which has additional options.\n",
      "Users of the modes 'nearest', 'lower', 'higher', or 'midpoint' are encouraged to review the method they. (Deprecated NumPy 1.22)\n",
      "  return np.percentile(values, q, interpolation=interpolation)\n",
      "C:\\ProgramData\\Anaconda3\\lib\\site-packages\\pandas\\core\\nanops.py:1608: DeprecationWarning: the `interpolation=` argument to percentile was renamed to `method=`, which has additional options.\n",
      "Users of the modes 'nearest', 'lower', 'higher', or 'midpoint' are encouraged to review the method they. (Deprecated NumPy 1.22)\n",
      "  return np.percentile(values, q, interpolation=interpolation)\n",
      "C:\\ProgramData\\Anaconda3\\lib\\site-packages\\pandas\\core\\nanops.py:1608: DeprecationWarning: the `interpolation=` argument to percentile was renamed to `method=`, which has additional options.\n",
      "Users of the modes 'nearest', 'lower', 'higher', or 'midpoint' are encouraged to review the method they. (Deprecated NumPy 1.22)\n",
      "  return np.percentile(values, q, interpolation=interpolation)\n",
      "C:\\ProgramData\\Anaconda3\\lib\\site-packages\\pandas\\core\\nanops.py:1608: DeprecationWarning: the `interpolation=` argument to percentile was renamed to `method=`, which has additional options.\n",
      "Users of the modes 'nearest', 'lower', 'higher', or 'midpoint' are encouraged to review the method they. (Deprecated NumPy 1.22)\n",
      "  return np.percentile(values, q, interpolation=interpolation)\n",
      "C:\\ProgramData\\Anaconda3\\lib\\site-packages\\pandas\\core\\nanops.py:1608: DeprecationWarning: the `interpolation=` argument to percentile was renamed to `method=`, which has additional options.\n",
      "Users of the modes 'nearest', 'lower', 'higher', or 'midpoint' are encouraged to review the method they. (Deprecated NumPy 1.22)\n",
      "  return np.percentile(values, q, interpolation=interpolation)\n",
      "C:\\ProgramData\\Anaconda3\\lib\\site-packages\\pandas\\core\\nanops.py:1608: DeprecationWarning: the `interpolation=` argument to percentile was renamed to `method=`, which has additional options.\n",
      "Users of the modes 'nearest', 'lower', 'higher', or 'midpoint' are encouraged to review the method they. (Deprecated NumPy 1.22)\n",
      "  return np.percentile(values, q, interpolation=interpolation)\n",
      "C:\\ProgramData\\Anaconda3\\lib\\site-packages\\pandas\\core\\nanops.py:1608: DeprecationWarning: the `interpolation=` argument to percentile was renamed to `method=`, which has additional options.\n",
      "Users of the modes 'nearest', 'lower', 'higher', or 'midpoint' are encouraged to review the method they. (Deprecated NumPy 1.22)\n",
      "  return np.percentile(values, q, interpolation=interpolation)\n",
      "C:\\ProgramData\\Anaconda3\\lib\\site-packages\\pandas\\core\\nanops.py:1608: DeprecationWarning: the `interpolation=` argument to percentile was renamed to `method=`, which has additional options.\n",
      "Users of the modes 'nearest', 'lower', 'higher', or 'midpoint' are encouraged to review the method they. (Deprecated NumPy 1.22)\n",
      "  return np.percentile(values, q, interpolation=interpolation)\n",
      "C:\\ProgramData\\Anaconda3\\lib\\site-packages\\pandas\\core\\nanops.py:1608: DeprecationWarning: the `interpolation=` argument to percentile was renamed to `method=`, which has additional options.\n",
      "Users of the modes 'nearest', 'lower', 'higher', or 'midpoint' are encouraged to review the method they. (Deprecated NumPy 1.22)\n",
      "  return np.percentile(values, q, interpolation=interpolation)\n",
      "C:\\ProgramData\\Anaconda3\\lib\\site-packages\\pandas\\core\\nanops.py:1608: DeprecationWarning: the `interpolation=` argument to percentile was renamed to `method=`, which has additional options.\n",
      "Users of the modes 'nearest', 'lower', 'higher', or 'midpoint' are encouraged to review the method they. (Deprecated NumPy 1.22)\n",
      "  return np.percentile(values, q, interpolation=interpolation)\n",
      "C:\\ProgramData\\Anaconda3\\lib\\site-packages\\pandas\\core\\nanops.py:1608: DeprecationWarning: the `interpolation=` argument to percentile was renamed to `method=`, which has additional options.\n",
      "Users of the modes 'nearest', 'lower', 'higher', or 'midpoint' are encouraged to review the method they. (Deprecated NumPy 1.22)\n",
      "  return np.percentile(values, q, interpolation=interpolation)\n",
      "C:\\ProgramData\\Anaconda3\\lib\\site-packages\\pandas\\core\\nanops.py:1608: DeprecationWarning: the `interpolation=` argument to percentile was renamed to `method=`, which has additional options.\n",
      "Users of the modes 'nearest', 'lower', 'higher', or 'midpoint' are encouraged to review the method they. (Deprecated NumPy 1.22)\n",
      "  return np.percentile(values, q, interpolation=interpolation)\n",
      "C:\\ProgramData\\Anaconda3\\lib\\site-packages\\pandas\\core\\nanops.py:1608: DeprecationWarning: the `interpolation=` argument to percentile was renamed to `method=`, which has additional options.\n",
      "Users of the modes 'nearest', 'lower', 'higher', or 'midpoint' are encouraged to review the method they. (Deprecated NumPy 1.22)\n",
      "  return np.percentile(values, q, interpolation=interpolation)\n",
      "C:\\ProgramData\\Anaconda3\\lib\\site-packages\\pandas\\core\\nanops.py:1608: DeprecationWarning: the `interpolation=` argument to percentile was renamed to `method=`, which has additional options.\n",
      "Users of the modes 'nearest', 'lower', 'higher', or 'midpoint' are encouraged to review the method they. (Deprecated NumPy 1.22)\n",
      "  return np.percentile(values, q, interpolation=interpolation)\n",
      "C:\\ProgramData\\Anaconda3\\lib\\site-packages\\pandas\\core\\nanops.py:1608: DeprecationWarning: the `interpolation=` argument to percentile was renamed to `method=`, which has additional options.\n",
      "Users of the modes 'nearest', 'lower', 'higher', or 'midpoint' are encouraged to review the method they. (Deprecated NumPy 1.22)\n",
      "  return np.percentile(values, q, interpolation=interpolation)\n",
      "C:\\ProgramData\\Anaconda3\\lib\\site-packages\\pandas\\core\\nanops.py:1608: DeprecationWarning: the `interpolation=` argument to percentile was renamed to `method=`, which has additional options.\n",
      "Users of the modes 'nearest', 'lower', 'higher', or 'midpoint' are encouraged to review the method they. (Deprecated NumPy 1.22)\n",
      "  return np.percentile(values, q, interpolation=interpolation)\n",
      "C:\\ProgramData\\Anaconda3\\lib\\site-packages\\pandas\\core\\nanops.py:1608: DeprecationWarning: the `interpolation=` argument to percentile was renamed to `method=`, which has additional options.\n",
      "Users of the modes 'nearest', 'lower', 'higher', or 'midpoint' are encouraged to review the method they. (Deprecated NumPy 1.22)\n",
      "  return np.percentile(values, q, interpolation=interpolation)\n",
      "C:\\ProgramData\\Anaconda3\\lib\\site-packages\\pandas\\core\\nanops.py:1608: DeprecationWarning: the `interpolation=` argument to percentile was renamed to `method=`, which has additional options.\n",
      "Users of the modes 'nearest', 'lower', 'higher', or 'midpoint' are encouraged to review the method they. (Deprecated NumPy 1.22)\n",
      "  return np.percentile(values, q, interpolation=interpolation)\n",
      "C:\\ProgramData\\Anaconda3\\lib\\site-packages\\pandas\\core\\nanops.py:1608: DeprecationWarning: the `interpolation=` argument to percentile was renamed to `method=`, which has additional options.\n",
      "Users of the modes 'nearest', 'lower', 'higher', or 'midpoint' are encouraged to review the method they. (Deprecated NumPy 1.22)\n",
      "  return np.percentile(values, q, interpolation=interpolation)\n",
      "C:\\ProgramData\\Anaconda3\\lib\\site-packages\\pandas\\core\\nanops.py:1608: DeprecationWarning: the `interpolation=` argument to percentile was renamed to `method=`, which has additional options.\n",
      "Users of the modes 'nearest', 'lower', 'higher', or 'midpoint' are encouraged to review the method they. (Deprecated NumPy 1.22)\n",
      "  return np.percentile(values, q, interpolation=interpolation)\n",
      "C:\\ProgramData\\Anaconda3\\lib\\site-packages\\pandas\\core\\nanops.py:1608: DeprecationWarning: the `interpolation=` argument to percentile was renamed to `method=`, which has additional options.\n",
      "Users of the modes 'nearest', 'lower', 'higher', or 'midpoint' are encouraged to review the method they. (Deprecated NumPy 1.22)\n",
      "  return np.percentile(values, q, interpolation=interpolation)\n",
      "C:\\ProgramData\\Anaconda3\\lib\\site-packages\\pandas\\core\\nanops.py:1608: DeprecationWarning: the `interpolation=` argument to percentile was renamed to `method=`, which has additional options.\n",
      "Users of the modes 'nearest', 'lower', 'higher', or 'midpoint' are encouraged to review the method they. (Deprecated NumPy 1.22)\n",
      "  return np.percentile(values, q, interpolation=interpolation)\n",
      "C:\\ProgramData\\Anaconda3\\lib\\site-packages\\pandas\\core\\nanops.py:1608: DeprecationWarning: the `interpolation=` argument to percentile was renamed to `method=`, which has additional options.\n",
      "Users of the modes 'nearest', 'lower', 'higher', or 'midpoint' are encouraged to review the method they. (Deprecated NumPy 1.22)\n",
      "  return np.percentile(values, q, interpolation=interpolation)\n",
      "C:\\ProgramData\\Anaconda3\\lib\\site-packages\\pandas\\core\\nanops.py:1608: DeprecationWarning: the `interpolation=` argument to percentile was renamed to `method=`, which has additional options.\n",
      "Users of the modes 'nearest', 'lower', 'higher', or 'midpoint' are encouraged to review the method they. (Deprecated NumPy 1.22)\n",
      "  return np.percentile(values, q, interpolation=interpolation)\n",
      "C:\\ProgramData\\Anaconda3\\lib\\site-packages\\pandas\\core\\nanops.py:1608: DeprecationWarning: the `interpolation=` argument to percentile was renamed to `method=`, which has additional options.\n",
      "Users of the modes 'nearest', 'lower', 'higher', or 'midpoint' are encouraged to review the method they. (Deprecated NumPy 1.22)\n",
      "  return np.percentile(values, q, interpolation=interpolation)\n",
      "C:\\ProgramData\\Anaconda3\\lib\\site-packages\\pandas\\core\\nanops.py:1608: DeprecationWarning: the `interpolation=` argument to percentile was renamed to `method=`, which has additional options.\n",
      "Users of the modes 'nearest', 'lower', 'higher', or 'midpoint' are encouraged to review the method they. (Deprecated NumPy 1.22)\n",
      "  return np.percentile(values, q, interpolation=interpolation)\n",
      "C:\\ProgramData\\Anaconda3\\lib\\site-packages\\pandas\\core\\nanops.py:1608: DeprecationWarning: the `interpolation=` argument to percentile was renamed to `method=`, which has additional options.\n",
      "Users of the modes 'nearest', 'lower', 'higher', or 'midpoint' are encouraged to review the method they. (Deprecated NumPy 1.22)\n",
      "  return np.percentile(values, q, interpolation=interpolation)\n"
     ]
    },
    {
     "data": {
      "text/html": [
       "<div>\n",
       "<style scoped>\n",
       "    .dataframe tbody tr th:only-of-type {\n",
       "        vertical-align: middle;\n",
       "    }\n",
       "\n",
       "    .dataframe tbody tr th {\n",
       "        vertical-align: top;\n",
       "    }\n",
       "\n",
       "    .dataframe thead th {\n",
       "        text-align: right;\n",
       "    }\n",
       "</style>\n",
       "<table border=\"1\" class=\"dataframe\">\n",
       "  <thead>\n",
       "    <tr style=\"text-align: right;\">\n",
       "      <th></th>\n",
       "      <th>0</th>\n",
       "      <th>1</th>\n",
       "      <th>2</th>\n",
       "      <th>3</th>\n",
       "      <th>4</th>\n",
       "      <th>5</th>\n",
       "      <th>6</th>\n",
       "      <th>7</th>\n",
       "      <th>8</th>\n",
       "      <th>9</th>\n",
       "      <th>...</th>\n",
       "      <th>57</th>\n",
       "      <th>58</th>\n",
       "      <th>59</th>\n",
       "      <th>60</th>\n",
       "      <th>61</th>\n",
       "      <th>62</th>\n",
       "      <th>63</th>\n",
       "      <th>64</th>\n",
       "      <th>65</th>\n",
       "      <th>66</th>\n",
       "    </tr>\n",
       "  </thead>\n",
       "  <tbody>\n",
       "    <tr>\n",
       "      <th>count</th>\n",
       "      <td>4500.000000</td>\n",
       "      <td>4500.000000</td>\n",
       "      <td>4493.000000</td>\n",
       "      <td>4477.000000</td>\n",
       "      <td>4464.000000</td>\n",
       "      <td>4458.000000</td>\n",
       "      <td>4449.000000</td>\n",
       "      <td>4437.000000</td>\n",
       "      <td>4420.000000</td>\n",
       "      <td>4401.000000</td>\n",
       "      <td>...</td>\n",
       "      <td>4.000000</td>\n",
       "      <td>2.000000</td>\n",
       "      <td>2.000000</td>\n",
       "      <td>2.000000</td>\n",
       "      <td>2.00000</td>\n",
       "      <td>2.000000</td>\n",
       "      <td>1.0</td>\n",
       "      <td>1.0</td>\n",
       "      <td>1.0</td>\n",
       "      <td>1.0</td>\n",
       "    </tr>\n",
       "    <tr>\n",
       "      <th>mean</th>\n",
       "      <td>33.978667</td>\n",
       "      <td>33.950667</td>\n",
       "      <td>29.005787</td>\n",
       "      <td>28.066786</td>\n",
       "      <td>27.333333</td>\n",
       "      <td>27.319874</td>\n",
       "      <td>26.908294</td>\n",
       "      <td>26.715574</td>\n",
       "      <td>26.429638</td>\n",
       "      <td>26.756646</td>\n",
       "      <td>...</td>\n",
       "      <td>20.750000</td>\n",
       "      <td>29.500000</td>\n",
       "      <td>23.500000</td>\n",
       "      <td>19.000000</td>\n",
       "      <td>15.50000</td>\n",
       "      <td>18.000000</td>\n",
       "      <td>32.0</td>\n",
       "      <td>25.0</td>\n",
       "      <td>16.0</td>\n",
       "      <td>12.0</td>\n",
       "    </tr>\n",
       "    <tr>\n",
       "      <th>std</th>\n",
       "      <td>7.419898</td>\n",
       "      <td>10.797692</td>\n",
       "      <td>11.367748</td>\n",
       "      <td>11.413300</td>\n",
       "      <td>11.216505</td>\n",
       "      <td>11.197333</td>\n",
       "      <td>10.909027</td>\n",
       "      <td>10.903411</td>\n",
       "      <td>11.018131</td>\n",
       "      <td>10.973236</td>\n",
       "      <td>...</td>\n",
       "      <td>5.560276</td>\n",
       "      <td>0.707107</td>\n",
       "      <td>0.707107</td>\n",
       "      <td>5.656854</td>\n",
       "      <td>2.12132</td>\n",
       "      <td>16.970563</td>\n",
       "      <td>NaN</td>\n",
       "      <td>NaN</td>\n",
       "      <td>NaN</td>\n",
       "      <td>NaN</td>\n",
       "    </tr>\n",
       "    <tr>\n",
       "      <th>min</th>\n",
       "      <td>2.000000</td>\n",
       "      <td>2.000000</td>\n",
       "      <td>1.000000</td>\n",
       "      <td>1.000000</td>\n",
       "      <td>2.000000</td>\n",
       "      <td>1.000000</td>\n",
       "      <td>1.000000</td>\n",
       "      <td>1.000000</td>\n",
       "      <td>2.000000</td>\n",
       "      <td>1.000000</td>\n",
       "      <td>...</td>\n",
       "      <td>13.000000</td>\n",
       "      <td>29.000000</td>\n",
       "      <td>23.000000</td>\n",
       "      <td>15.000000</td>\n",
       "      <td>14.00000</td>\n",
       "      <td>6.000000</td>\n",
       "      <td>32.0</td>\n",
       "      <td>25.0</td>\n",
       "      <td>16.0</td>\n",
       "      <td>12.0</td>\n",
       "    </tr>\n",
       "    <tr>\n",
       "      <th>25%</th>\n",
       "      <td>30.000000</td>\n",
       "      <td>27.000000</td>\n",
       "      <td>20.000000</td>\n",
       "      <td>20.000000</td>\n",
       "      <td>19.000000</td>\n",
       "      <td>19.000000</td>\n",
       "      <td>19.000000</td>\n",
       "      <td>19.000000</td>\n",
       "      <td>18.000000</td>\n",
       "      <td>19.000000</td>\n",
       "      <td>...</td>\n",
       "      <td>19.000000</td>\n",
       "      <td>29.250000</td>\n",
       "      <td>23.250000</td>\n",
       "      <td>17.000000</td>\n",
       "      <td>14.75000</td>\n",
       "      <td>12.000000</td>\n",
       "      <td>32.0</td>\n",
       "      <td>25.0</td>\n",
       "      <td>16.0</td>\n",
       "      <td>12.0</td>\n",
       "    </tr>\n",
       "    <tr>\n",
       "      <th>50%</th>\n",
       "      <td>34.000000</td>\n",
       "      <td>34.000000</td>\n",
       "      <td>29.000000</td>\n",
       "      <td>28.000000</td>\n",
       "      <td>27.000000</td>\n",
       "      <td>27.000000</td>\n",
       "      <td>26.000000</td>\n",
       "      <td>26.000000</td>\n",
       "      <td>26.000000</td>\n",
       "      <td>26.000000</td>\n",
       "      <td>...</td>\n",
       "      <td>22.000000</td>\n",
       "      <td>29.500000</td>\n",
       "      <td>23.500000</td>\n",
       "      <td>19.000000</td>\n",
       "      <td>15.50000</td>\n",
       "      <td>18.000000</td>\n",
       "      <td>32.0</td>\n",
       "      <td>25.0</td>\n",
       "      <td>16.0</td>\n",
       "      <td>12.0</td>\n",
       "    </tr>\n",
       "    <tr>\n",
       "      <th>75%</th>\n",
       "      <td>38.000000</td>\n",
       "      <td>41.000000</td>\n",
       "      <td>37.000000</td>\n",
       "      <td>35.000000</td>\n",
       "      <td>35.000000</td>\n",
       "      <td>35.000000</td>\n",
       "      <td>34.000000</td>\n",
       "      <td>34.000000</td>\n",
       "      <td>34.000000</td>\n",
       "      <td>34.000000</td>\n",
       "      <td>...</td>\n",
       "      <td>23.750000</td>\n",
       "      <td>29.750000</td>\n",
       "      <td>23.750000</td>\n",
       "      <td>21.000000</td>\n",
       "      <td>16.25000</td>\n",
       "      <td>24.000000</td>\n",
       "      <td>32.0</td>\n",
       "      <td>25.0</td>\n",
       "      <td>16.0</td>\n",
       "      <td>12.0</td>\n",
       "    </tr>\n",
       "    <tr>\n",
       "      <th>max</th>\n",
       "      <td>107.000000</td>\n",
       "      <td>95.000000</td>\n",
       "      <td>87.000000</td>\n",
       "      <td>95.000000</td>\n",
       "      <td>102.000000</td>\n",
       "      <td>114.000000</td>\n",
       "      <td>86.000000</td>\n",
       "      <td>80.000000</td>\n",
       "      <td>90.000000</td>\n",
       "      <td>111.000000</td>\n",
       "      <td>...</td>\n",
       "      <td>26.000000</td>\n",
       "      <td>30.000000</td>\n",
       "      <td>24.000000</td>\n",
       "      <td>23.000000</td>\n",
       "      <td>17.00000</td>\n",
       "      <td>30.000000</td>\n",
       "      <td>32.0</td>\n",
       "      <td>25.0</td>\n",
       "      <td>16.0</td>\n",
       "      <td>12.0</td>\n",
       "    </tr>\n",
       "  </tbody>\n",
       "</table>\n",
       "<p>8 rows × 67 columns</p>\n",
       "</div>"
      ],
      "text/plain": [
       "                0            1            2            3            4   \\\n",
       "count  4500.000000  4500.000000  4493.000000  4477.000000  4464.000000   \n",
       "mean     33.978667    33.950667    29.005787    28.066786    27.333333   \n",
       "std       7.419898    10.797692    11.367748    11.413300    11.216505   \n",
       "min       2.000000     2.000000     1.000000     1.000000     2.000000   \n",
       "25%      30.000000    27.000000    20.000000    20.000000    19.000000   \n",
       "50%      34.000000    34.000000    29.000000    28.000000    27.000000   \n",
       "75%      38.000000    41.000000    37.000000    35.000000    35.000000   \n",
       "max     107.000000    95.000000    87.000000    95.000000   102.000000   \n",
       "\n",
       "                5            6            7            8            9   ...  \\\n",
       "count  4458.000000  4449.000000  4437.000000  4420.000000  4401.000000  ...   \n",
       "mean     27.319874    26.908294    26.715574    26.429638    26.756646  ...   \n",
       "std      11.197333    10.909027    10.903411    11.018131    10.973236  ...   \n",
       "min       1.000000     1.000000     1.000000     2.000000     1.000000  ...   \n",
       "25%      19.000000    19.000000    19.000000    18.000000    19.000000  ...   \n",
       "50%      27.000000    26.000000    26.000000    26.000000    26.000000  ...   \n",
       "75%      35.000000    34.000000    34.000000    34.000000    34.000000  ...   \n",
       "max     114.000000    86.000000    80.000000    90.000000   111.000000  ...   \n",
       "\n",
       "              57         58         59         60        61         62    63  \\\n",
       "count   4.000000   2.000000   2.000000   2.000000   2.00000   2.000000   1.0   \n",
       "mean   20.750000  29.500000  23.500000  19.000000  15.50000  18.000000  32.0   \n",
       "std     5.560276   0.707107   0.707107   5.656854   2.12132  16.970563   NaN   \n",
       "min    13.000000  29.000000  23.000000  15.000000  14.00000   6.000000  32.0   \n",
       "25%    19.000000  29.250000  23.250000  17.000000  14.75000  12.000000  32.0   \n",
       "50%    22.000000  29.500000  23.500000  19.000000  15.50000  18.000000  32.0   \n",
       "75%    23.750000  29.750000  23.750000  21.000000  16.25000  24.000000  32.0   \n",
       "max    26.000000  30.000000  24.000000  23.000000  17.00000  30.000000  32.0   \n",
       "\n",
       "         64    65    66  \n",
       "count   1.0   1.0   1.0  \n",
       "mean   25.0  16.0  12.0  \n",
       "std     NaN   NaN   NaN  \n",
       "min    25.0  16.0  12.0  \n",
       "25%    25.0  16.0  12.0  \n",
       "50%    25.0  16.0  12.0  \n",
       "75%    25.0  16.0  12.0  \n",
       "max    25.0  16.0  12.0  \n",
       "\n",
       "[8 rows x 67 columns]"
      ]
     },
     "execution_count": 325,
     "metadata": {},
     "output_type": "execute_result"
    }
   ],
   "source": [
    "res = X_train.swifter.apply(get_number_of_words_per_sentence).fillna(0)\n",
    "res.describe()"
   ]
  },
  {
   "cell_type": "code",
   "execution_count": 336,
   "id": "00599668",
   "metadata": {
    "ExecuteTime": {
     "end_time": "2022-03-07T11:41:55.884744Z",
     "start_time": "2022-03-07T11:41:55.475359Z"
    }
   },
   "outputs": [
    {
     "data": {
      "text/plain": [
       "<AxesSubplot:>"
      ]
     },
     "execution_count": 336,
     "metadata": {},
     "output_type": "execute_result"
    },
    {
     "data": {
      "image/png": "[encoded data removed]",
      "text/plain": [
       "<Figure size 432x288 with 1 Axes>"
      ]
     },
     "metadata": {
      "needs_background": "light"
     },
     "output_type": "display_data"
    }
   ],
   "source": [
    "res.fillna(0).sort_values(by=1).reset_index(drop=True).plot(legend=False)"
   ]
  },
  {
   "cell_type": "code",
   "execution_count": 350,
   "id": "856ae836",
   "metadata": {
    "ExecuteTime": {
     "end_time": "2022-03-07T11:46:01.616938Z",
     "start_time": "2022-03-07T11:46:01.558355Z"
    }
   },
   "outputs": [
    {
     "name": "stdout",
     "output_type": "stream",
     "text": [
      "val: 50 => 0.7353233830845771\n",
      "val: 70 => 0.0693200663349917\n",
      "val: 75 => 0.04245439469320066\n",
      "val: 80 => 0.025538971807628524\n",
      "val: 85 => 0.015588723051409618\n",
      "val: 90 => 0.011608623548922056\n",
      "val: 100 => 0.007960199004975124\n",
      "val: 150 => 0.0003316749585406302\n"
     ]
    }
   ],
   "source": [
    "values = [50,70,75,80,85,90,100,150]\n",
    "for val in values:\n",
    "    print(f\"val: {val} => {res[res < val].isna().sum().sum()/res.size * 100}\")"
   ]
  },
  {
   "cell_type": "code",
   "execution_count": 370,
   "id": "bed30d81",
   "metadata": {
    "ExecuteTime": {
     "end_time": "2022-03-07T12:01:02.050648Z",
     "start_time": "2022-03-07T12:01:02.036604Z"
    }
   },
   "outputs": [],
   "source": [
    "MAX_SENTENCE_LENGTH = 70\n",
    "MAX_NUMBER_OF_SENTENCE = 45"
   ]
  },
  {
   "cell_type": "code",
   "execution_count": 363,
   "id": "44f16903",
   "metadata": {
    "ExecuteTime": {
     "end_time": "2022-03-07T11:58:25.517565Z",
     "start_time": "2022-03-07T11:58:25.507590Z"
    }
   },
   "outputs": [],
   "source": [
    "def pad_array(arr, pad_size): # TODO: reuse pad_matrix instead\n",
    "    if arr.size == pad_size:\n",
    "        return arr\n",
    "    elif arr.size > pad_size:\n",
    "        return arr[:pad_size,]\n",
    "    return np.concatenate([arr,np.zeros(pad_size - arr.size)],dtype=float)"
   ]
  },
  {
   "cell_type": "code",
   "execution_count": 371,
   "id": "bc22765f",
   "metadata": {
    "ExecuteTime": {
     "end_time": "2022-03-07T12:03:37.383211Z",
     "start_time": "2022-03-07T12:03:37.364049Z"
    }
   },
   "outputs": [],
   "source": [
    "def article_level_preprocess(text):\n",
    "    sentences = nltk.sent_tokenize(text)\n",
    "    result = []\n",
    "    for sentence in sentences:\n",
    "        words = nltk.word_tokenize(sentence)\n",
    "        curr_result = []\n",
    "        for word in words:\n",
    "            embedding = tranform_word(word)\n",
    "            if embedding is not None:\n",
    "                curr_result.append(embedding)\n",
    "        if len(curr_result) != 0:\n",
    "            result.append(pad_array(np.array(curr_result,dtype=float).mean(axis=1,dtype=float),MAX_SENTENCE_LENGTH))\n",
    "    return pad_matrix(np.array(result),MAX_NUMBER_OF_SENTENCE)"
   ]
  },
  {
   "cell_type": "code",
   "execution_count": 381,
   "id": "81b7ce31",
   "metadata": {
    "ExecuteTime": {
     "end_time": "2022-03-07T12:07:59.890862Z",
     "start_time": "2022-03-07T12:07:19.085411Z"
    }
   },
   "outputs": [
    {
     "data": {
      "application/vnd.jupyter.widget-view+json": {
       "model_id": "b60b1aa58dc24ef7b1806bde099c3a00",
       "version_major": 2,
       "version_minor": 0
      },
      "text/plain": [
       "Pandas Apply:   0%|          | 0/4500 [00:00<?, ?it/s]"
      ]
     },
     "metadata": {},
     "output_type": "display_data"
    },
    {
     "data": {
      "application/vnd.jupyter.widget-view+json": {
       "model_id": "bbd1ab0dd439491a8355d154954199f7",
       "version_major": 2,
       "version_minor": 0
      },
      "text/plain": [
       "Pandas Apply:   0%|          | 0/500 [00:00<?, ?it/s]"
      ]
     },
     "metadata": {},
     "output_type": "display_data"
    }
   ],
   "source": [
    "def preprocess(X):\n",
    "    res = X.swifter.apply(article_level_preprocess).reset_index(drop=True)\n",
    "    return np.vstack(res).reshape((res.size,MAX_NUMBER_OF_SENTENCE,MAX_SENTENCE_LENGTH))\n",
    "X_train = preprocess(X_train)\n",
    "X_test = preprocess(X_test)"
   ]
  },
  {
   "cell_type": "markdown",
   "id": "019d350e",
   "metadata": {},
   "source": [
    "### Model"
   ]
  },
  {
   "cell_type": "code",
   "execution_count": null,
   "id": "afc27d03",
   "metadata": {},
   "outputs": [],
   "source": [
    "from tensorflow.keras.layers import Dense,GRU,AvgPool2D\n",
    "from tensorflow.keras import layers\n",
    "from tensorflow.keras.models import Model\n",
    "import tensorflow as tf\n",
    "from tensorflow.keras.models import Sequential\n",
    "model = Sequential()\n",
    "model.add(GRU(100,recurrent_dropout=0.5,input_shape=(100,1)))\n",
    "model.add(AvgPool2D())\n",
    "model.add(Dense(50, activation=\"softmax\"))\n",
    "model.compile(loss=\"categorical_crossentropy\", optimizer='adam',metrics=[\"accuracy\"])\n",
    "model.summary()"
   ]
  },
  {
   "cell_type": "code",
   "execution_count": null,
   "id": "cca171ce",
   "metadata": {},
   "outputs": [],
   "source": [
    "callback = tf.keras.callbacks.EarlyStopping(monitor='loss', patience=15)\n",
    "history = model.fit(x=X_train, y=y_train, epochs=200, shuffle=True,\n",
    "          batch_size=200, validation_data=(X_test, y_test),callbacks=[callback])"
   ]
  },
  {
   "cell_type": "code",
   "execution_count": null,
   "id": "d9cf95ac",
   "metadata": {},
   "outputs": [],
   "source": [
    "model.save(\"article_level\")"
   ]
  },
  {
   "cell_type": "code",
   "execution_count": null,
   "id": "f1a2ce6d",
   "metadata": {},
   "outputs": [],
   "source": []
  },
  {
   "cell_type": "code",
   "execution_count": null,
   "id": "f54ed50e",
   "metadata": {},
   "outputs": [],
   "source": []
  },
  {
   "cell_type": "code",
   "execution_count": null,
   "id": "726ec014",
   "metadata": {},
   "outputs": [],
   "source": []
  }
 ],
 "metadata": {
  "kernelspec": {
   "display_name": "Python 3",
   "language": "python",
   "name": "python3"
  },
  "language_info": {
   "codemirror_mode": {
    "name": "ipython",
    "version": 3
   },
   "file_extension": ".py",
   "mimetype": "text/x-python",
   "name": "python",
   "nbconvert_exporter": "python",
   "pygments_lexer": "ipython3",
   "version": "3.8.8"
  },
  "toc": {
   "base_numbering": 1,
   "nav_menu": {},
   "number_sections": true,
   "sideBar": true,
   "skip_h1_title": false,
   "title_cell": "Table of Contents",
   "title_sidebar": "Contents",
   "toc_cell": false,
   "toc_position": {},
   "toc_section_display": true,
   "toc_window_display": false
  },
  "varInspector": {
   "cols": {
    "lenName": 16,
    "lenType": 16,
    "lenVar": 40
   },
   "kernels_config": {
    "python": {
     "delete_cmd_postfix": "",
     "delete_cmd_prefix": "del ",
     "library": "var_list.py",
     "varRefreshCmd": "print(var_dic_list())"
    },
    "r": {
     "delete_cmd_postfix": ") ",
     "delete_cmd_prefix": "rm(",
     "library": "var_list.r",
     "varRefreshCmd": "cat(var_dic_list()) "
    }
   },
   "types_to_exclude": [
    "module",
    "function",
    "builtin_function_or_method",
    "instance",
    "_Feature"
   ],
   "window_display": false
  }
 },
 "nbformat": 4,
 "nbformat_minor": 5
}
