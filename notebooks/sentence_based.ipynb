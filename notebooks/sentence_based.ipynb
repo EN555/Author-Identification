{
 "cells": [
  {
   "cell_type": "code",
   "execution_count": 2,
   "id": "18a586b5",
   "metadata": {
    "ExecuteTime": {
     "end_time": "2022-03-22T19:45:39.553150Z",
     "start_time": "2022-03-22T19:45:29.092795Z"
    }
   },
   "outputs": [
    {
     "name": "stderr",
     "output_type": "stream",
     "text": [
      "[nltk_data] Downloading package stopwords to\n",
      "[nltk_data]     C:\\Users\\yosef\\AppData\\Roaming\\nltk_data...\n",
      "[nltk_data]   Package stopwords is already up-to-date!\n"
     ]
    }
   ],
   "source": [
    "import numpy as np\n",
    "import pandas as pd\n",
    "import matplotlib.pyplot as plt\n",
    "import seaborn as sns\n",
    "from sklearn.feature_extraction.text import CountVectorizer\n",
    "import nltk\n",
    "import sys\n",
    "sys.path.append(\"../\")\n",
    "from src.preprocess.common import *\n",
    "from src.preprocess.complexStyleFeatures import *\n",
    "from src.preprocess.simpleStyleFeatures import *\n",
    "import seaborn as sns\n",
    "import gensim\n",
    "from gensim.utils import simple_preprocess\n",
    "nltk.download('stopwords')\n",
    "from nltk.corpus import stopwords\n",
    "stop_words = stopwords.words('english')\n",
    "import pickle \n",
    "import gensim.downloader\n",
    "from pprint import pprint\n",
    "DATA_PATH_TRAIN = \"../Data/C50/C50train/\"\n",
    "DATA_PATH_TEST = \"../Data/C50/C50test/\""
   ]
  },
  {
   "cell_type": "markdown",
   "id": "ea28c2f0",
   "metadata": {},
   "source": [
    "# Simple"
   ]
  },
  {
   "cell_type": "code",
   "execution_count": 2,
   "id": "21ad82aa",
   "metadata": {
    "ExecuteTime": {
     "end_time": "2022-03-22T19:46:23.048799Z",
     "start_time": "2022-03-22T19:45:39.607136Z"
    }
   },
   "outputs": [],
   "source": [
    "def get_datasets(data_path: str = \"../Data/C50\") -> pd.DataFrame:\n",
    "    df_test = load_data(f\"{data_path}/C50test\", 50)\n",
    "    df_train = load_data(f\"{data_path}/C50train\", 50)\n",
    "    return df_train.append(df_test, ignore_index=True)\n",
    "df = get_datasets()"
   ]
  },
  {
   "cell_type": "code",
   "execution_count": 4,
   "id": "68d40cc6",
   "metadata": {},
   "outputs": [],
   "source": [
    "df_test = load_data(\"../Data/C50/C50test\", 50)"
   ]
  },
  {
   "cell_type": "code",
   "execution_count": 3,
   "id": "68f922c3",
   "metadata": {
    "ExecuteTime": {
     "end_time": "2022-03-22T19:46:23.128804Z",
     "start_time": "2022-03-22T19:46:23.117803Z"
    }
   },
   "outputs": [],
   "source": [
    "TEST_PART = 0.1"
   ]
  },
  {
   "cell_type": "code",
   "execution_count": 6,
   "id": "fee20ece",
   "metadata": {
    "ExecuteTime": {
     "end_time": "2022-03-22T19:47:35.135345Z",
     "start_time": "2022-03-22T19:47:35.108316Z"
    }
   },
   "outputs": [
    {
     "data": {
      "text/plain": [
       "KevinDrawbaugh       100\n",
       "KevinMorrison        100\n",
       "MartinWolk           100\n",
       "ToddNissen           100\n",
       "JonathanBirt         100\n",
       "AlanCrosby           100\n",
       "NickLouth            100\n",
       "JimGilchrist         100\n",
       "TimFarrand           100\n",
       "JohnMastrini         100\n",
       "WilliamKazer         100\n",
       "MatthewBunce         100\n",
       "DarrenSchuettler     100\n",
       "MarkBendeich         100\n",
       "RogerFillion         100\n",
       "PierreTran           100\n",
       "ScottHillis          100\n",
       "DavidLawder          100\n",
       "MichaelConnor        100\n",
       "EdnaFernandes        100\n",
       "KouroshKarimkhany    100\n",
       "GrahamEarnshaw       100\n",
       "JanLopatka           100\n",
       "FumikoFujisaki       100\n",
       "KarlPenhaul          100\n",
       "AlexanderSmith       100\n",
       "SamuelPerry          100\n",
       "JaneMacartney        100\n",
       "JoWinterbottom       100\n",
       "EricAuchard          100\n",
       "HeatherScoffield     100\n",
       "LynnleyBrowning      100\n",
       "BenjaminKangLim      100\n",
       "LynneO'Donnell       100\n",
       "PatriciaCommins      100\n",
       "LydiaZajc            100\n",
       "AaronPressman        100\n",
       "BradDorfman          100\n",
       "RobinSidel           100\n",
       "MureDickie           100\n",
       "SimonCowell          100\n",
       "PeterHumphrey        100\n",
       "KeithWeir            100\n",
       "MarcelMichelson      100\n",
       "BernardHickey        100\n",
       "TanEeLyn             100\n",
       "SarahDavison         100\n",
       "JoeOrtiz             100\n",
       "TheresePoletti       100\n",
       "KirstinRidley        100\n",
       "Name: author_name, dtype: int64"
      ]
     },
     "execution_count": 6,
     "metadata": {},
     "output_type": "execute_result"
    }
   ],
   "source": [
    "df[\"author_name\"].value_counts()"
   ]
  },
  {
   "cell_type": "markdown",
   "id": "efe63378",
   "metadata": {},
   "source": [
    "## Baseline"
   ]
  },
  {
   "cell_type": "markdown",
   "id": "4320bf51",
   "metadata": {},
   "source": [
    "### Pre"
   ]
  },
  {
   "cell_type": "code",
   "execution_count": 10,
   "id": "1254cefe",
   "metadata": {
    "ExecuteTime": {
     "end_time": "2022-03-05T18:57:28.730252Z",
     "start_time": "2022-03-05T18:57:28.704268Z"
    }
   },
   "outputs": [],
   "source": [
    "X_train,X_test,y_train,y_test = train_test_split(df[\"book_text\"],df[\"author_name\"],test_size=TEST_PART)"
   ]
  },
  {
   "cell_type": "code",
   "execution_count": 20,
   "id": "4eeb6331",
   "metadata": {
    "ExecuteTime": {
     "end_time": "2022-03-05T19:15:25.463398Z",
     "start_time": "2022-03-05T19:15:25.441423Z"
    }
   },
   "outputs": [],
   "source": [
    "def avg_word_len(df: pd.DataFrame) -> pd.DataFrame:\n",
    "    avg_word_len = df.astype(str).swifter.apply(\n",
    "        lambda s: pd.Series(nltk.word_tokenize(s)).map(len).mean()).rename(\"avg_word_len\")\n",
    "    return pd.DataFrame(avg_word_len)\n",
    "\n",
    "\n",
    "def avg_sentence_len(df: pd.DataFrame) -> pd.DataFrame:\n",
    "    sentence_count = df.astype(str).swifter.apply(\n",
    "        lambda text: pd.Series(nltk.sent_tokenize(text)).map(\n",
    "            lambda sent: len(nltk.word_tokenize(sent))).mean()).rename(\"avg_sentence_len\")\n",
    "\n",
    "    return pd.DataFrame(sentence_count)\n",
    "\n",
    "def hapax_disLegemena(x: pd.DataFrame) -> pd.DataFrame:\n",
    "    \"\"\"\n",
    "    hapax disLegemena Measure for lexicographic diversity: v2/N\n",
    "    v2 = number of words that appears twice\n",
    "    N = number of words or number of unique words\n",
    "    \"\"\"\n",
    "\n",
    "    def get_hapax_disLegemena(text: str) -> (float, float):\n",
    "        words = nltk.word_tokenize(text)\n",
    "        words_count = Counter(words)\n",
    "        v2 = len([_ for _, count in words_count.items() if count == 2])\n",
    "        return pd.Series((v2 / (len(words) + EPSILON), v2 / (len(set(words))+EPSILON)))\n",
    "\n",
    "    return pd.DataFrame(x.astype(str).swifter.apply(get_hapax_disLegemena)).set_axis(['hapax_disLegemena(H)', 'hapax_disLegemena(S)'], axis=1)\n"
   ]
  },
  {
   "cell_type": "code",
   "execution_count": 21,
   "id": "90271ee4",
   "metadata": {
    "ExecuteTime": {
     "end_time": "2022-03-05T19:17:42.804988Z",
     "start_time": "2022-03-05T19:15:26.002387Z"
    }
   },
   "outputs": [
    {
     "data": {
      "application/vnd.jupyter.widget-view+json": {
       "model_id": "d5250eaaad0d47b18c1d3f63337c99f6",
       "version_major": 2,
       "version_minor": 0
      },
      "text/plain": [
       "Pandas Apply:   0%|          | 0/4500 [00:00<?, ?it/s]"
      ]
     },
     "metadata": {},
     "output_type": "display_data"
    },
    {
     "data": {
      "application/vnd.jupyter.widget-view+json": {
       "model_id": "b3d0a87c926e4585b812d352414e5482",
       "version_major": 2,
       "version_minor": 0
      },
      "text/plain": [
       "Pandas Apply:   0%|          | 0/4500 [00:00<?, ?it/s]"
      ]
     },
     "metadata": {},
     "output_type": "display_data"
    },
    {
     "data": {
      "application/vnd.jupyter.widget-view+json": {
       "model_id": "d67c48ca94b04d2398a29fbff33ffa32",
       "version_major": 2,
       "version_minor": 0
      },
      "text/plain": [
       "Pandas Apply:   0%|          | 0/4500 [00:00<?, ?it/s]"
      ]
     },
     "metadata": {},
     "output_type": "display_data"
    },
    {
     "data": {
      "application/vnd.jupyter.widget-view+json": {
       "model_id": "e28461d4496c413fb6baad72d86c2e12",
       "version_major": 2,
       "version_minor": 0
      },
      "text/plain": [
       "Pandas Apply:   0%|          | 0/500 [00:00<?, ?it/s]"
      ]
     },
     "metadata": {},
     "output_type": "display_data"
    },
    {
     "data": {
      "application/vnd.jupyter.widget-view+json": {
       "model_id": "cc46ed669b1d4bcaa37194d4300255b3",
       "version_major": 2,
       "version_minor": 0
      },
      "text/plain": [
       "Pandas Apply:   0%|          | 0/500 [00:00<?, ?it/s]"
      ]
     },
     "metadata": {},
     "output_type": "display_data"
    },
    {
     "data": {
      "application/vnd.jupyter.widget-view+json": {
       "model_id": "76a9350305924344abada82172ff399f",
       "version_major": 2,
       "version_minor": 0
      },
      "text/plain": [
       "Pandas Apply:   0%|          | 0/500 [00:00<?, ?it/s]"
      ]
     },
     "metadata": {},
     "output_type": "display_data"
    }
   ],
   "source": [
    "def preprocess(x_train: pd.DataFrame, x_test: pd.DataFrame) -> (pd.DataFrame, pd.DataFrame):\n",
    "    def helper(x: pd.DataFrame) -> pd.DataFrame:\n",
    "        return pd.concat([avg_word_len(x),avg_sentence_len(x),hapax_disLegemena(x)], axis=1)\n",
    "        \n",
    "    return helper(x_train), helper(x_test)\n",
    "\n",
    "X_train,X_test = preprocess(X_train,X_test)"
   ]
  },
  {
   "cell_type": "code",
   "execution_count": 17,
   "id": "4fa4a354",
   "metadata": {
    "ExecuteTime": {
     "end_time": "2022-03-05T19:18:14.087190Z",
     "start_time": "2022-03-05T19:18:14.072176Z"
    }
   },
   "outputs": [
    {
     "data": {
      "text/plain": [
       "{'AaronPressman': 0,\n",
       " 'AlanCrosby': 1,\n",
       " 'AlexanderSmith': 2,\n",
       " 'BenjaminKangLim': 3,\n",
       " 'BernardHickey': 4,\n",
       " 'BradDorfman': 5,\n",
       " 'DarrenSchuettler': 6,\n",
       " 'DavidLawder': 7,\n",
       " 'EdnaFernandes': 8,\n",
       " 'EricAuchard': 9,\n",
       " 'FumikoFujisaki': 10,\n",
       " 'GrahamEarnshaw': 11,\n",
       " 'HeatherScoffield': 12,\n",
       " 'JaneMacartney': 14,\n",
       " 'JanLopatka': 13,\n",
       " 'JimGilchrist': 15,\n",
       " 'JoeOrtiz': 17,\n",
       " 'JohnMastrini': 18,\n",
       " 'JonathanBirt': 19,\n",
       " 'JoWinterbottom': 16,\n",
       " 'KarlPenhaul': 20,\n",
       " 'KeithWeir': 21,\n",
       " 'KevinDrawbaugh': 22,\n",
       " 'KevinMorrison': 23,\n",
       " 'KirstinRidley': 24,\n",
       " 'KouroshKarimkhany': 25,\n",
       " 'LydiaZajc': 26,\n",
       " \"LynneO'Donnell\": 27,\n",
       " 'LynnleyBrowning': 28,\n",
       " 'MarcelMichelson': 29,\n",
       " 'MarkBendeich': 30,\n",
       " 'MartinWolk': 31,\n",
       " 'MatthewBunce': 32,\n",
       " 'MichaelConnor': 33,\n",
       " 'MureDickie': 34,\n",
       " 'NickLouth': 35,\n",
       " 'PatriciaCommins': 36,\n",
       " 'PeterHumphrey': 37,\n",
       " 'PierreTran': 38,\n",
       " 'RobinSidel': 39,\n",
       " 'RogerFillion': 40,\n",
       " 'SamuelPerry': 41,\n",
       " 'SarahDavison': 42,\n",
       " 'ScottHillis': 43,\n",
       " 'SimonCowell': 44,\n",
       " 'TanEeLyn': 45,\n",
       " 'TheresePoletti': 46,\n",
       " 'TimFarrand': 47,\n",
       " 'ToddNissen': 48,\n",
       " 'WilliamKazer': 49}"
      ]
     },
     "execution_count": 17,
     "metadata": {},
     "output_type": "execute_result"
    }
   ],
   "source": [
    "# y_train = pd.Categorical(y_train).codes\n",
    "result = dict(zip(df_test[\"author_name\"],pd.Categorical(df_test[\"author_name\"]).codes))\n",
    "result"
   ]
  },
  {
   "cell_type": "markdown",
   "id": "1353d27d",
   "metadata": {},
   "source": [
    "### Model"
   ]
  },
  {
   "cell_type": "code",
   "execution_count": 24,
   "id": "c06fba97",
   "metadata": {
    "ExecuteTime": {
     "end_time": "2022-03-05T19:21:51.158137Z",
     "start_time": "2022-03-05T19:19:17.823549Z"
    }
   },
   "outputs": [
    {
     "data": {
      "text/plain": [
       "GradientBoostingClassifier(max_depth=7, random_state=0)"
      ]
     },
     "execution_count": 24,
     "metadata": {},
     "output_type": "execute_result"
    }
   ],
   "source": [
    "from sklearn.ensemble import GradientBoostingClassifier\n",
    "model = GradientBoostingClassifier(n_estimators=100,max_depth=7, random_state=0)\n",
    "model.fit(X_train, y_train)"
   ]
  },
  {
   "cell_type": "code",
   "execution_count": 25,
   "id": "89940c0d",
   "metadata": {
    "ExecuteTime": {
     "end_time": "2022-03-05T19:22:05.657283Z",
     "start_time": "2022-03-05T19:22:05.475290Z"
    }
   },
   "outputs": [
    {
     "name": "stdout",
     "output_type": "stream",
     "text": [
      "              precision    recall  f1-score   support\n",
      "\n",
      "           0       0.17      0.40      0.24         5\n",
      "           1       0.30      0.23      0.26        13\n",
      "           2       0.00      0.00      0.00         5\n",
      "           3       0.00      0.00      0.00        10\n",
      "           4       0.09      0.11      0.10         9\n",
      "           5       0.00      0.00      0.00         8\n",
      "           6       0.10      0.09      0.10        11\n",
      "           7       0.16      0.23      0.19        13\n",
      "           8       0.22      0.20      0.21        10\n",
      "           9       0.12      0.12      0.12         8\n",
      "          10       0.07      0.14      0.09         7\n",
      "          11       0.00      0.00      0.00        10\n",
      "          12       0.14      0.08      0.11        12\n",
      "          13       0.06      0.20      0.09         5\n",
      "          14       0.00      0.00      0.00         9\n",
      "          15       0.38      0.23      0.29        13\n",
      "          16       0.10      0.07      0.08        14\n",
      "          17       0.08      0.17      0.11         6\n",
      "          18       0.11      0.08      0.09        13\n",
      "          19       0.18      0.25      0.21         8\n",
      "          20       0.00      0.00      0.00        10\n",
      "          21       0.07      0.12      0.09         8\n",
      "          22       0.14      0.09      0.11        11\n",
      "          23       0.00      0.00      0.00        13\n",
      "          24       0.00      0.00      0.00        11\n",
      "          25       0.12      0.20      0.15         5\n",
      "          26       0.33      0.40      0.36         5\n",
      "          27       0.10      0.11      0.11         9\n",
      "          28       0.08      0.11      0.09         9\n",
      "          29       0.11      0.09      0.10        11\n",
      "          30       0.00      0.00      0.00         5\n",
      "          31       0.14      0.09      0.11        11\n",
      "          32       0.33      0.33      0.33        12\n",
      "          33       0.00      0.00      0.00         8\n",
      "          34       0.08      0.17      0.11         6\n",
      "          35       0.08      0.12      0.10         8\n",
      "          36       0.29      0.27      0.28        15\n",
      "          37       0.17      0.06      0.09        17\n",
      "          38       0.00      0.00      0.00        13\n",
      "          39       0.12      0.08      0.10        13\n",
      "          40       0.00      0.00      0.00         8\n",
      "          41       0.50      0.45      0.48        11\n",
      "          42       0.00      0.00      0.00         6\n",
      "          43       0.00      0.00      0.00        14\n",
      "          44       0.00      0.00      0.00        10\n",
      "          45       0.15      0.17      0.16        12\n",
      "          46       0.21      0.20      0.21        15\n",
      "          47       0.15      0.14      0.15        14\n",
      "          48       0.06      0.08      0.07        12\n",
      "          49       0.00      0.00      0.00         9\n",
      "\n",
      "    accuracy                           0.12       500\n",
      "   macro avg       0.11      0.12      0.11       500\n",
      "weighted avg       0.12      0.12      0.11       500\n",
      "\n"
     ]
    }
   ],
   "source": [
    "from sklearn.metrics import classification_report\n",
    "y_pred = model.predict(X_test)\n",
    "print(classification_report(y_pred,y_test))"
   ]
  },
  {
   "cell_type": "markdown",
   "id": "b9f16b47",
   "metadata": {},
   "source": [
    "# Using Glove"
   ]
  },
  {
   "cell_type": "code",
   "execution_count": 13,
   "id": "01c80ebb",
   "metadata": {
    "ExecuteTime": {
     "end_time": "2022-03-05T18:58:27.432510Z",
     "start_time": "2022-03-05T18:58:26.956504Z"
    }
   },
   "outputs": [
    {
     "name": "stdout",
     "output_type": "stream",
     "text": [
      "['fasttext-wiki-news-subwords-300', 'conceptnet-numberbatch-17-06-300', 'word2vec-ruscorpora-300', 'word2vec-google-news-300', 'glove-wiki-gigaword-50', 'glove-wiki-gigaword-100', 'glove-wiki-gigaword-200', 'glove-wiki-gigaword-300', 'glove-twitter-25', 'glove-twitter-50', 'glove-twitter-100', 'glove-twitter-200', '__testing_word2vec-matrix-synopsis']\n"
     ]
    }
   ],
   "source": [
    "print(list(gensim.downloader.info()['models'].keys()))"
   ]
  },
  {
   "cell_type": "code",
   "execution_count": 2,
   "id": "7ed45fbb",
   "metadata": {
    "ExecuteTime": {
     "end_time": "2022-03-10T18:35:27.185913Z",
     "start_time": "2022-03-10T18:34:50.964652Z"
    }
   },
   "outputs": [],
   "source": [
    "glove_vectors = gensim.downloader.load('glove-wiki-gigaword-50')"
   ]
  },
  {
   "cell_type": "code",
   "execution_count": 28,
   "id": "7c1ec0ac",
   "metadata": {
    "ExecuteTime": {
     "end_time": "2022-03-05T19:28:44.508254Z",
     "start_time": "2022-03-05T19:28:44.490259Z"
    }
   },
   "outputs": [
    {
     "data": {
      "text/plain": [
       "400000"
      ]
     },
     "execution_count": 28,
     "metadata": {},
     "output_type": "execute_result"
    }
   ],
   "source": [
    "len(glove_vectors)"
   ]
  },
  {
   "cell_type": "code",
   "execution_count": 185,
   "id": "8f5a98e1",
   "metadata": {
    "ExecuteTime": {
     "end_time": "2022-03-07T09:42:15.703935Z",
     "start_time": "2022-03-07T09:42:15.694230Z"
    }
   },
   "outputs": [],
   "source": [
    "import re\n",
    "def tranform_word(word:str) -> np.ndarray:\n",
    "    word = re.sub(r'[^a-z]', '', word.lower())\n",
    "    if word in glove_vectors:\n",
    "        return glove_vectors[word]\n",
    "    return None"
   ]
  },
  {
   "cell_type": "code",
   "execution_count": 277,
   "id": "64271e54",
   "metadata": {
    "ExecuteTime": {
     "end_time": "2022-03-07T10:15:12.294564Z",
     "start_time": "2022-03-07T10:15:12.279571Z"
    }
   },
   "outputs": [],
   "source": [
    "EMBEDDING_SIZE = 50"
   ]
  },
  {
   "cell_type": "markdown",
   "id": "a10a32c8",
   "metadata": {},
   "source": [
    "## Sentence Level"
   ]
  },
  {
   "cell_type": "markdown",
   "id": "cce9c1c9",
   "metadata": {
    "ExecuteTime": {
     "end_time": "2022-03-07T06:53:31.292627Z",
     "start_time": "2022-03-07T06:53:31.287615Z"
    }
   },
   "source": [
    "### Preprocess"
   ]
  },
  {
   "cell_type": "code",
   "execution_count": 197,
   "id": "539ecfe7",
   "metadata": {
    "ExecuteTime": {
     "end_time": "2022-03-07T09:46:32.581097Z",
     "start_time": "2022-03-07T09:46:32.561097Z"
    }
   },
   "outputs": [],
   "source": [
    "X_train,X_test,y_train,y_test = train_test_split(df[\"book_text\"],df[\"author_name\"],test_size=TEST_PART)"
   ]
  },
  {
   "cell_type": "code",
   "execution_count": 198,
   "id": "c2cfea13",
   "metadata": {
    "ExecuteTime": {
     "end_time": "2022-03-07T09:46:32.914464Z",
     "start_time": "2022-03-07T09:46:32.904439Z"
    }
   },
   "outputs": [],
   "source": [
    "def num_sentences_based_chucking(df: pd.DataFrame, chunk_size: int):\n",
    "    rows = []\n",
    "    for row in df:\n",
    "        sentences = nltk.tokenize.sent_tokenize(row)\n",
    "        curr_chunk = []\n",
    "        for sentence in sentences:\n",
    "            curr_chunk.append(sentence)\n",
    "            if len(curr_chunk) == chunk_size:\n",
    "                rows.append(\"\".join(curr_chunk))\n",
    "                curr_chunk = []\n",
    "        \n",
    "        rows.append(\"\".join(curr_chunk))  # add the last one\n",
    "    return pd.DataFrame(rows)"
   ]
  },
  {
   "cell_type": "code",
   "execution_count": 199,
   "id": "54f73e7a",
   "metadata": {
    "ExecuteTime": {
     "end_time": "2022-03-07T09:46:36.737177Z",
     "start_time": "2022-03-07T09:46:33.812097Z"
    }
   },
   "outputs": [
    {
     "data": {
      "text/plain": [
       "((35535,), (3934,))"
      ]
     },
     "execution_count": 199,
     "metadata": {},
     "output_type": "execute_result"
    }
   ],
   "source": [
    "NUM_OF_SENTENCE_CHUNK = 3\n",
    "X_train = num_sentences_based_chucking(X_train,NUM_OF_SENTENCE_CHUNK)[0]\n",
    "X_test = num_sentences_based_chucking(X_test,NUM_OF_SENTENCE_CHUNK)[0]\n",
    "X_train.shape,X_test.shape"
   ]
  },
  {
   "cell_type": "markdown",
   "id": "c11d09f1",
   "metadata": {},
   "source": [
    "#### Decide max number of words"
   ]
  },
  {
   "cell_type": "code",
   "execution_count": 116,
   "id": "434f5803",
   "metadata": {
    "ExecuteTime": {
     "end_time": "2022-03-07T07:05:43.943386Z",
     "start_time": "2022-03-07T07:05:33.404461Z"
    }
   },
   "outputs": [
    {
     "data": {
      "application/vnd.jupyter.widget-view+json": {
       "model_id": "f256c50bd372498a99429a56a27f1410",
       "version_major": 2,
       "version_minor": 0
      },
      "text/plain": [
       "Pandas Apply:   0%|          | 0/35525 [00:00<?, ?it/s]"
      ]
     },
     "metadata": {},
     "output_type": "display_data"
    },
    {
     "name": "stderr",
     "output_type": "stream",
     "text": [
      "C:\\ProgramData\\Anaconda3\\lib\\site-packages\\pandas\\core\\nanops.py:1675: DeprecationWarning: the `interpolation=` argument to percentile was renamed to `method=`, which has additional options.\n",
      "Users of the modes 'nearest', 'lower', 'higher', or 'midpoint' are encouraged to review the method they. (Deprecated NumPy 1.22)\n",
      "  return np.percentile(values, q, axis=axis, interpolation=interpolation)\n"
     ]
    },
    {
     "data": {
      "text/plain": [
       "count    35525.000000\n",
       "mean        70.791893\n",
       "std         28.567110\n",
       "min          0.000000\n",
       "25%         56.000000\n",
       "50%         73.000000\n",
       "75%         90.000000\n",
       "max        307.000000\n",
       "Name: 0, dtype: float64"
      ]
     },
     "execution_count": 116,
     "metadata": {},
     "output_type": "execute_result"
    }
   ],
   "source": [
    "num_words = X_train.swifter.apply(lambda text: len(nltk.word_tokenize(text)))\n",
    "num_words.describe()"
   ]
  },
  {
   "cell_type": "code",
   "execution_count": 120,
   "id": "e777c004",
   "metadata": {
    "ExecuteTime": {
     "end_time": "2022-03-07T07:06:48.639289Z",
     "start_time": "2022-03-07T07:06:48.619294Z"
    }
   },
   "outputs": [
    {
     "name": "stderr",
     "output_type": "stream",
     "text": [
      "C:\\ProgramData\\Anaconda3\\lib\\site-packages\\pandas\\core\\nanops.py:1675: DeprecationWarning: the `interpolation=` argument to percentile was renamed to `method=`, which has additional options.\n",
      "Users of the modes 'nearest', 'lower', 'higher', or 'midpoint' are encouraged to review the method they. (Deprecated NumPy 1.22)\n",
      "  return np.percentile(values, q, axis=axis, interpolation=interpolation)\n"
     ]
    },
    {
     "data": {
      "text/plain": [
       "0.95    113.00\n",
       "0.97    118.00\n",
       "0.98    122.52\n",
       "0.99    128.00\n",
       "Name: 0, dtype: float64"
      ]
     },
     "execution_count": 120,
     "metadata": {},
     "output_type": "execute_result"
    }
   ],
   "source": [
    "num_words.quantile([0.95,0.97,0.98,0.99])"
   ]
  },
  {
   "cell_type": "code",
   "execution_count": 142,
   "id": "509e55e9",
   "metadata": {
    "ExecuteTime": {
     "end_time": "2022-03-07T09:17:47.584168Z",
     "start_time": "2022-03-07T09:17:47.571173Z"
    }
   },
   "outputs": [
    {
     "data": {
      "text/plain": [
       "1353     179\n",
       "15730    307\n",
       "21318    195\n",
       "33340    209\n",
       "Name: 0, dtype: int64"
      ]
     },
     "execution_count": 142,
     "metadata": {},
     "output_type": "execute_result"
    }
   ],
   "source": [
    "num_words[num_words>170]"
   ]
  },
  {
   "cell_type": "code",
   "execution_count": 143,
   "id": "5812ac69",
   "metadata": {
    "ExecuteTime": {
     "end_time": "2022-03-07T09:18:15.760602Z",
     "start_time": "2022-03-07T09:18:15.748605Z"
    }
   },
   "outputs": [],
   "source": [
    "MAX_LENGTH = 170"
   ]
  },
  {
   "cell_type": "markdown",
   "id": "96094964",
   "metadata": {},
   "source": [
    "#### Continue Preprocess"
   ]
  },
  {
   "cell_type": "code",
   "execution_count": 228,
   "id": "3c13527f",
   "metadata": {
    "ExecuteTime": {
     "end_time": "2022-03-07T09:57:25.079272Z",
     "start_time": "2022-03-07T09:57:25.065274Z"
    }
   },
   "outputs": [],
   "source": [
    "def pad_matrix(arr:np.ndarray,max_length:int) -> np.ndarray:\n",
    "    if arr.size == 0:\n",
    "        return None\n",
    "    if arr.shape[0] == max_length:\n",
    "        return arr\n",
    "    if arr.shape[0] > max_length:\n",
    "        return arr[:max_length,:]\n",
    "    return np.concatenate([arr,np.zeros((max_length - arr.shape[0],arr.shape[1]))],axis=0,dtype=float)"
   ]
  },
  {
   "cell_type": "code",
   "execution_count": 268,
   "id": "97c412c0",
   "metadata": {
    "ExecuteTime": {
     "end_time": "2022-03-07T10:07:37.260021Z",
     "start_time": "2022-03-07T10:07:37.245024Z"
    }
   },
   "outputs": [],
   "source": [
    "def sentence_level_preprocess(text:str):\n",
    "    words = nltk.word_tokenize(text)\n",
    "    result = []\n",
    "    missing_embedding_count = 0\n",
    "    for word in words:\n",
    "        embedding = tranform_word(word)\n",
    "        if embedding is not None:\n",
    "            result.append(embedding)\n",
    "        else:\n",
    "            missing_embedding_count+=1\n",
    "    return pd.Series({\"data\": pad_matrix(np.array(result),MAX_LENGTH),\"missing_embedding_count\":missing_embedding_count})"
   ]
  },
  {
   "cell_type": "code",
   "execution_count": 230,
   "id": "8480e15a",
   "metadata": {
    "ExecuteTime": {
     "end_time": "2022-03-07T09:57:30.053732Z",
     "start_time": "2022-03-07T09:57:26.456927Z"
    }
   },
   "outputs": [
    {
     "data": {
      "application/vnd.jupyter.widget-view+json": {
       "model_id": "f985e77098a24fedb893bf777b5794ac",
       "version_major": 2,
       "version_minor": 0
      },
      "text/plain": [
       "Pandas Apply:   0%|          | 0/3934 [00:00<?, ?it/s]"
      ]
     },
     "metadata": {},
     "output_type": "display_data"
    }
   ],
   "source": [
    "res = X_test.swifter.apply(sentence_level_preprocess)\n"
   ]
  },
  {
   "cell_type": "code",
   "execution_count": 281,
   "id": "188c422e",
   "metadata": {
    "ExecuteTime": {
     "end_time": "2022-03-07T10:17:50.147472Z",
     "start_time": "2022-03-07T10:17:50.129448Z"
    }
   },
   "outputs": [],
   "source": [
    "def preprocess(X):\n",
    "    res = X.swifter.apply(sentence_level_preprocess)[\"data\"].dropna().reset_index(drop=True)\n",
    "    return np.vstack(res).reshape((res.size,MAX_LENGTH,EMBEDDING_SIZE))\n"
   ]
  },
  {
   "cell_type": "code",
   "execution_count": 282,
   "id": "11b32942",
   "metadata": {
    "ExecuteTime": {
     "end_time": "2022-03-07T10:18:38.736254Z",
     "start_time": "2022-03-07T10:18:01.795564Z"
    }
   },
   "outputs": [
    {
     "data": {
      "application/vnd.jupyter.widget-view+json": {
       "model_id": "64cafa99e7144776a7d191c6a5bcadd2",
       "version_major": 2,
       "version_minor": 0
      },
      "text/plain": [
       "Pandas Apply:   0%|          | 0/3934 [00:00<?, ?it/s]"
      ]
     },
     "metadata": {},
     "output_type": "display_data"
    },
    {
     "data": {
      "application/vnd.jupyter.widget-view+json": {
       "model_id": "4f6e4c3094be4560bfa39bafd1a0f1c8",
       "version_major": 2,
       "version_minor": 0
      },
      "text/plain": [
       "Pandas Apply:   0%|          | 0/35535 [00:00<?, ?it/s]"
      ]
     },
     "metadata": {},
     "output_type": "display_data"
    }
   ],
   "source": [
    "X_test = preprocess(X_test)\n",
    "X_train = preprocess(X_train)"
   ]
  },
  {
   "cell_type": "markdown",
   "id": "34234f42",
   "metadata": {},
   "source": [
    "**Note that we tried to stemm or lemmatize the word before search in glove table but it doesnt help at all**"
   ]
  },
  {
   "cell_type": "code",
   "execution_count": 283,
   "id": "16c9bcff",
   "metadata": {
    "ExecuteTime": {
     "end_time": "2022-03-07T10:18:40.703799Z",
     "start_time": "2022-03-07T10:18:40.697806Z"
    }
   },
   "outputs": [
    {
     "data": {
      "text/plain": [
       "(34049, 170, 50)"
      ]
     },
     "execution_count": 283,
     "metadata": {},
     "output_type": "execute_result"
    }
   ],
   "source": [
    "X_train.shape"
   ]
  },
  {
   "cell_type": "markdown",
   "id": "e5e57a05",
   "metadata": {},
   "source": [
    "### Model"
   ]
  },
  {
   "cell_type": "code",
   "execution_count": 396,
   "id": "0a422ec5",
   "metadata": {
    "ExecuteTime": {
     "end_time": "2022-03-07T12:35:03.287271Z",
     "start_time": "2022-03-07T12:35:03.164039Z"
    }
   },
   "outputs": [
    {
     "name": "stdout",
     "output_type": "stream",
     "text": [
      "Model: \"sequential_19\"\n",
      "_________________________________________________________________\n",
      "Layer (type)                 Output Shape              Param #   \n",
      "=================================================================\n",
      "gru_19 (GRU)                 (None, 170, 100)          45600     \n",
      "_________________________________________________________________\n",
      "average_pooling1d_6 (Average (None, 1, 100)            0         \n",
      "_________________________________________________________________\n",
      "dense_4 (Dense)              (None, 1, 50)             5050      \n",
      "=================================================================\n",
      "Total params: 50,650\n",
      "Trainable params: 50,650\n",
      "Non-trainable params: 0\n",
      "_________________________________________________________________\n"
     ]
    }
   ],
   "source": [
    "from tensorflow.keras.layers import Dense,GRU,AvgPool1D\n",
    "import tensorflow as tf\n",
    "from tensorflow.keras.models import Sequential\n",
    "import pickle\n",
    "\n",
    "model = Sequential()\n",
    "model.add(GRU(100,recurrent_dropout=0.2,input_shape=(MAX_LENGTH,EMBEDDING_SIZE),return_sequences=True))\n",
    "model.add(AvgPool1D(pool_size=(170,)))\n",
    "model.add(Dense(50, activation=\"softmax\"))\n",
    "model.compile(loss=\"categorical_crossentropy\", optimizer='adam',metrics=[\"accuracy\"])\n",
    "model.summary()"
   ]
  },
  {
   "cell_type": "code",
   "execution_count": null,
   "id": "d98273b6",
   "metadata": {},
   "outputs": [],
   "source": [
    "X_train,X_val,y_train,y_val = train_test_split(X_train,y_train,test_size=0.2)"
   ]
  },
  {
   "cell_type": "code",
   "execution_count": null,
   "id": "acc0e0f4",
   "metadata": {},
   "outputs": [],
   "source": [
    "callback = tf.keras.callbacks.EarlyStopping(monitor='loss', patience=30)\n",
    "history = model.fit(x=X_train, y=y_train, epochs=30000, shuffle=True,\n",
    "          batch_size=200, validation_data=(X_val, y_val),callbacks=[callback])\n",
    "with open(\"sentence_level-history\") as file:\n",
    "    pickle.dump(history, file)"
   ]
  },
  {
   "cell_type": "code",
   "execution_count": null,
   "id": "c56bc3c0",
   "metadata": {},
   "outputs": [],
   "source": [
    "model.save(\"sentence_level\")"
   ]
  },
  {
   "cell_type": "markdown",
   "id": "60737a05",
   "metadata": {},
   "source": [
    "## Article Level"
   ]
  },
  {
   "cell_type": "markdown",
   "id": "81fd22b1",
   "metadata": {
    "ExecuteTime": {
     "end_time": "2022-03-07T06:53:55.171287Z",
     "start_time": "2022-03-07T06:53:55.157291Z"
    }
   },
   "source": [
    "### Preprocess\n",
    "**Problems:**\n",
    "1. tranform words without glove embedding\n",
    "2. unequal setence length(padding required)"
   ]
  },
  {
   "cell_type": "code",
   "execution_count": 5,
   "id": "6bc76359",
   "metadata": {
    "ExecuteTime": {
     "end_time": "2022-03-10T19:27:57.803523Z",
     "start_time": "2022-03-10T19:27:57.785524Z"
    }
   },
   "outputs": [],
   "source": [
    "EMBEDDING_SIZE = 50\n",
    "NUM_OF_SENTENCE_CHUNK = 3\n",
    "MAX_LENGTH = 170\n",
    "TEST_PART = 0.1\n",
    "X_train,X_test,y_train,y_test = train_test_split(df[\"book_text\"],df[\"author_name\"],test_size=TEST_PART)"
   ]
  },
  {
   "cell_type": "markdown",
   "id": "4fd33b59",
   "metadata": {},
   "source": [
    "#### Decide Max Setence Length"
   ]
  },
  {
   "cell_type": "code",
   "execution_count": 298,
   "id": "f29082ea",
   "metadata": {
    "ExecuteTime": {
     "end_time": "2022-03-07T11:13:54.262854Z",
     "start_time": "2022-03-07T11:13:54.251363Z"
    }
   },
   "outputs": [],
   "source": [
    "def get_number_of_words_per_sentence(text):\n",
    "    sentences = nltk.sent_tokenize(text)\n",
    "    results = []\n",
    "    for sentence in sentences:\n",
    "        results.append(len(nltk.word_tokenize(sentence)))\n",
    "    return pd.Series(results)"
   ]
  },
  {
   "cell_type": "code",
   "execution_count": 325,
   "id": "c55afed1",
   "metadata": {
    "ExecuteTime": {
     "end_time": "2022-03-07T11:38:04.393761Z",
     "start_time": "2022-03-07T11:37:46.680529Z"
    }
   },
   "outputs": [
    {
     "data": {
      "application/vnd.jupyter.widget-view+json": {
       "model_id": "7bdf22f5eadc4d1493624dfc71d54de6",
       "version_major": 2,
       "version_minor": 0
      },
      "text/plain": [
       "Pandas Apply:   0%|          | 0/4500 [00:00<?, ?it/s]"
      ]
     },
     "metadata": {},
     "output_type": "display_data"
    },
    {
     "name": "stderr",
     "output_type": "stream",
     "text": [
      "C:\\ProgramData\\Anaconda3\\lib\\site-packages\\pandas\\core\\nanops.py:1675: DeprecationWarning: the `interpolation=` argument to percentile was renamed to `method=`, which has additional options.\n",
      "Users of the modes 'nearest', 'lower', 'higher', or 'midpoint' are encouraged to review the method they. (Deprecated NumPy 1.22)\n",
      "  return np.percentile(values, q, axis=axis, interpolation=interpolation)\n",
      "C:\\ProgramData\\Anaconda3\\lib\\site-packages\\pandas\\core\\nanops.py:1675: DeprecationWarning: the `interpolation=` argument to percentile was renamed to `method=`, which has additional options.\n",
      "Users of the modes 'nearest', 'lower', 'higher', or 'midpoint' are encouraged to review the method they. (Deprecated NumPy 1.22)\n",
      "  return np.percentile(values, q, axis=axis, interpolation=interpolation)\n",
      "C:\\ProgramData\\Anaconda3\\lib\\site-packages\\pandas\\core\\nanops.py:1608: DeprecationWarning: the `interpolation=` argument to percentile was renamed to `method=`, which has additional options.\n",
      "Users of the modes 'nearest', 'lower', 'higher', or 'midpoint' are encouraged to review the method they. (Deprecated NumPy 1.22)\n",
      "  return np.percentile(values, q, interpolation=interpolation)\n",
      "C:\\ProgramData\\Anaconda3\\lib\\site-packages\\pandas\\core\\nanops.py:1608: DeprecationWarning: the `interpolation=` argument to percentile was renamed to `method=`, which has additional options.\n",
      "Users of the modes 'nearest', 'lower', 'higher', or 'midpoint' are encouraged to review the method they. (Deprecated NumPy 1.22)\n",
      "  return np.percentile(values, q, interpolation=interpolation)\n",
      "C:\\ProgramData\\Anaconda3\\lib\\site-packages\\pandas\\core\\nanops.py:1608: DeprecationWarning: the `interpolation=` argument to percentile was renamed to `method=`, which has additional options.\n",
      "Users of the modes 'nearest', 'lower', 'higher', or 'midpoint' are encouraged to review the method they. (Deprecated NumPy 1.22)\n",
      "  return np.percentile(values, q, interpolation=interpolation)\n",
      "C:\\ProgramData\\Anaconda3\\lib\\site-packages\\pandas\\core\\nanops.py:1608: DeprecationWarning: the `interpolation=` argument to percentile was renamed to `method=`, which has additional options.\n",
      "Users of the modes 'nearest', 'lower', 'higher', or 'midpoint' are encouraged to review the method they. (Deprecated NumPy 1.22)\n",
      "  return np.percentile(values, q, interpolation=interpolation)\n",
      "C:\\ProgramData\\Anaconda3\\lib\\site-packages\\pandas\\core\\nanops.py:1608: DeprecationWarning: the `interpolation=` argument to percentile was renamed to `method=`, which has additional options.\n",
      "Users of the modes 'nearest', 'lower', 'higher', or 'midpoint' are encouraged to review the method they. (Deprecated NumPy 1.22)\n",
      "  return np.percentile(values, q, interpolation=interpolation)\n",
      "C:\\ProgramData\\Anaconda3\\lib\\site-packages\\pandas\\core\\nanops.py:1608: DeprecationWarning: the `interpolation=` argument to percentile was renamed to `method=`, which has additional options.\n",
      "Users of the modes 'nearest', 'lower', 'higher', or 'midpoint' are encouraged to review the method they. (Deprecated NumPy 1.22)\n",
      "  return np.percentile(values, q, interpolation=interpolation)\n",
      "C:\\ProgramData\\Anaconda3\\lib\\site-packages\\pandas\\core\\nanops.py:1608: DeprecationWarning: the `interpolation=` argument to percentile was renamed to `method=`, which has additional options.\n",
      "Users of the modes 'nearest', 'lower', 'higher', or 'midpoint' are encouraged to review the method they. (Deprecated NumPy 1.22)\n",
      "  return np.percentile(values, q, interpolation=interpolation)\n",
      "C:\\ProgramData\\Anaconda3\\lib\\site-packages\\pandas\\core\\nanops.py:1608: DeprecationWarning: the `interpolation=` argument to percentile was renamed to `method=`, which has additional options.\n",
      "Users of the modes 'nearest', 'lower', 'higher', or 'midpoint' are encouraged to review the method they. (Deprecated NumPy 1.22)\n",
      "  return np.percentile(values, q, interpolation=interpolation)\n",
      "C:\\ProgramData\\Anaconda3\\lib\\site-packages\\pandas\\core\\nanops.py:1608: DeprecationWarning: the `interpolation=` argument to percentile was renamed to `method=`, which has additional options.\n",
      "Users of the modes 'nearest', 'lower', 'higher', or 'midpoint' are encouraged to review the method they. (Deprecated NumPy 1.22)\n",
      "  return np.percentile(values, q, interpolation=interpolation)\n",
      "C:\\ProgramData\\Anaconda3\\lib\\site-packages\\pandas\\core\\nanops.py:1608: DeprecationWarning: the `interpolation=` argument to percentile was renamed to `method=`, which has additional options.\n",
      "Users of the modes 'nearest', 'lower', 'higher', or 'midpoint' are encouraged to review the method they. (Deprecated NumPy 1.22)\n",
      "  return np.percentile(values, q, interpolation=interpolation)\n",
      "C:\\ProgramData\\Anaconda3\\lib\\site-packages\\pandas\\core\\nanops.py:1608: DeprecationWarning: the `interpolation=` argument to percentile was renamed to `method=`, which has additional options.\n",
      "Users of the modes 'nearest', 'lower', 'higher', or 'midpoint' are encouraged to review the method they. (Deprecated NumPy 1.22)\n",
      "  return np.percentile(values, q, interpolation=interpolation)\n",
      "C:\\ProgramData\\Anaconda3\\lib\\site-packages\\pandas\\core\\nanops.py:1608: DeprecationWarning: the `interpolation=` argument to percentile was renamed to `method=`, which has additional options.\n",
      "Users of the modes 'nearest', 'lower', 'higher', or 'midpoint' are encouraged to review the method they. (Deprecated NumPy 1.22)\n",
      "  return np.percentile(values, q, interpolation=interpolation)\n",
      "C:\\ProgramData\\Anaconda3\\lib\\site-packages\\pandas\\core\\nanops.py:1608: DeprecationWarning: the `interpolation=` argument to percentile was renamed to `method=`, which has additional options.\n",
      "Users of the modes 'nearest', 'lower', 'higher', or 'midpoint' are encouraged to review the method they. (Deprecated NumPy 1.22)\n",
      "  return np.percentile(values, q, interpolation=interpolation)\n",
      "C:\\ProgramData\\Anaconda3\\lib\\site-packages\\pandas\\core\\nanops.py:1608: DeprecationWarning: the `interpolation=` argument to percentile was renamed to `method=`, which has additional options.\n",
      "Users of the modes 'nearest', 'lower', 'higher', or 'midpoint' are encouraged to review the method they. (Deprecated NumPy 1.22)\n",
      "  return np.percentile(values, q, interpolation=interpolation)\n",
      "C:\\ProgramData\\Anaconda3\\lib\\site-packages\\pandas\\core\\nanops.py:1608: DeprecationWarning: the `interpolation=` argument to percentile was renamed to `method=`, which has additional options.\n",
      "Users of the modes 'nearest', 'lower', 'higher', or 'midpoint' are encouraged to review the method they. (Deprecated NumPy 1.22)\n",
      "  return np.percentile(values, q, interpolation=interpolation)\n",
      "C:\\ProgramData\\Anaconda3\\lib\\site-packages\\pandas\\core\\nanops.py:1608: DeprecationWarning: the `interpolation=` argument to percentile was renamed to `method=`, which has additional options.\n",
      "Users of the modes 'nearest', 'lower', 'higher', or 'midpoint' are encouraged to review the method they. (Deprecated NumPy 1.22)\n",
      "  return np.percentile(values, q, interpolation=interpolation)\n",
      "C:\\ProgramData\\Anaconda3\\lib\\site-packages\\pandas\\core\\nanops.py:1608: DeprecationWarning: the `interpolation=` argument to percentile was renamed to `method=`, which has additional options.\n",
      "Users of the modes 'nearest', 'lower', 'higher', or 'midpoint' are encouraged to review the method they. (Deprecated NumPy 1.22)\n",
      "  return np.percentile(values, q, interpolation=interpolation)\n",
      "C:\\ProgramData\\Anaconda3\\lib\\site-packages\\pandas\\core\\nanops.py:1608: DeprecationWarning: the `interpolation=` argument to percentile was renamed to `method=`, which has additional options.\n",
      "Users of the modes 'nearest', 'lower', 'higher', or 'midpoint' are encouraged to review the method they. (Deprecated NumPy 1.22)\n",
      "  return np.percentile(values, q, interpolation=interpolation)\n",
      "C:\\ProgramData\\Anaconda3\\lib\\site-packages\\pandas\\core\\nanops.py:1608: DeprecationWarning: the `interpolation=` argument to percentile was renamed to `method=`, which has additional options.\n",
      "Users of the modes 'nearest', 'lower', 'higher', or 'midpoint' are encouraged to review the method they. (Deprecated NumPy 1.22)\n",
      "  return np.percentile(values, q, interpolation=interpolation)\n",
      "C:\\ProgramData\\Anaconda3\\lib\\site-packages\\pandas\\core\\nanops.py:1608: DeprecationWarning: the `interpolation=` argument to percentile was renamed to `method=`, which has additional options.\n",
      "Users of the modes 'nearest', 'lower', 'higher', or 'midpoint' are encouraged to review the method they. (Deprecated NumPy 1.22)\n",
      "  return np.percentile(values, q, interpolation=interpolation)\n",
      "C:\\ProgramData\\Anaconda3\\lib\\site-packages\\pandas\\core\\nanops.py:1608: DeprecationWarning: the `interpolation=` argument to percentile was renamed to `method=`, which has additional options.\n",
      "Users of the modes 'nearest', 'lower', 'higher', or 'midpoint' are encouraged to review the method they. (Deprecated NumPy 1.22)\n",
      "  return np.percentile(values, q, interpolation=interpolation)\n",
      "C:\\ProgramData\\Anaconda3\\lib\\site-packages\\pandas\\core\\nanops.py:1608: DeprecationWarning: the `interpolation=` argument to percentile was renamed to `method=`, which has additional options.\n",
      "Users of the modes 'nearest', 'lower', 'higher', or 'midpoint' are encouraged to review the method they. (Deprecated NumPy 1.22)\n",
      "  return np.percentile(values, q, interpolation=interpolation)\n",
      "C:\\ProgramData\\Anaconda3\\lib\\site-packages\\pandas\\core\\nanops.py:1608: DeprecationWarning: the `interpolation=` argument to percentile was renamed to `method=`, which has additional options.\n",
      "Users of the modes 'nearest', 'lower', 'higher', or 'midpoint' are encouraged to review the method they. (Deprecated NumPy 1.22)\n",
      "  return np.percentile(values, q, interpolation=interpolation)\n",
      "C:\\ProgramData\\Anaconda3\\lib\\site-packages\\pandas\\core\\nanops.py:1608: DeprecationWarning: the `interpolation=` argument to percentile was renamed to `method=`, which has additional options.\n",
      "Users of the modes 'nearest', 'lower', 'higher', or 'midpoint' are encouraged to review the method they. (Deprecated NumPy 1.22)\n",
      "  return np.percentile(values, q, interpolation=interpolation)\n",
      "C:\\ProgramData\\Anaconda3\\lib\\site-packages\\pandas\\core\\nanops.py:1608: DeprecationWarning: the `interpolation=` argument to percentile was renamed to `method=`, which has additional options.\n",
      "Users of the modes 'nearest', 'lower', 'higher', or 'midpoint' are encouraged to review the method they. (Deprecated NumPy 1.22)\n",
      "  return np.percentile(values, q, interpolation=interpolation)\n",
      "C:\\ProgramData\\Anaconda3\\lib\\site-packages\\pandas\\core\\nanops.py:1608: DeprecationWarning: the `interpolation=` argument to percentile was renamed to `method=`, which has additional options.\n",
      "Users of the modes 'nearest', 'lower', 'higher', or 'midpoint' are encouraged to review the method they. (Deprecated NumPy 1.22)\n",
      "  return np.percentile(values, q, interpolation=interpolation)\n",
      "C:\\ProgramData\\Anaconda3\\lib\\site-packages\\pandas\\core\\nanops.py:1608: DeprecationWarning: the `interpolation=` argument to percentile was renamed to `method=`, which has additional options.\n",
      "Users of the modes 'nearest', 'lower', 'higher', or 'midpoint' are encouraged to review the method they. (Deprecated NumPy 1.22)\n",
      "  return np.percentile(values, q, interpolation=interpolation)\n",
      "C:\\ProgramData\\Anaconda3\\lib\\site-packages\\pandas\\core\\nanops.py:1608: DeprecationWarning: the `interpolation=` argument to percentile was renamed to `method=`, which has additional options.\n",
      "Users of the modes 'nearest', 'lower', 'higher', or 'midpoint' are encouraged to review the method they. (Deprecated NumPy 1.22)\n",
      "  return np.percentile(values, q, interpolation=interpolation)\n",
      "C:\\ProgramData\\Anaconda3\\lib\\site-packages\\pandas\\core\\nanops.py:1608: DeprecationWarning: the `interpolation=` argument to percentile was renamed to `method=`, which has additional options.\n",
      "Users of the modes 'nearest', 'lower', 'higher', or 'midpoint' are encouraged to review the method they. (Deprecated NumPy 1.22)\n",
      "  return np.percentile(values, q, interpolation=interpolation)\n",
      "C:\\ProgramData\\Anaconda3\\lib\\site-packages\\pandas\\core\\nanops.py:1608: DeprecationWarning: the `interpolation=` argument to percentile was renamed to `method=`, which has additional options.\n",
      "Users of the modes 'nearest', 'lower', 'higher', or 'midpoint' are encouraged to review the method they. (Deprecated NumPy 1.22)\n",
      "  return np.percentile(values, q, interpolation=interpolation)\n",
      "C:\\ProgramData\\Anaconda3\\lib\\site-packages\\pandas\\core\\nanops.py:1608: DeprecationWarning: the `interpolation=` argument to percentile was renamed to `method=`, which has additional options.\n",
      "Users of the modes 'nearest', 'lower', 'higher', or 'midpoint' are encouraged to review the method they. (Deprecated NumPy 1.22)\n",
      "  return np.percentile(values, q, interpolation=interpolation)\n",
      "C:\\ProgramData\\Anaconda3\\lib\\site-packages\\pandas\\core\\nanops.py:1608: DeprecationWarning: the `interpolation=` argument to percentile was renamed to `method=`, which has additional options.\n",
      "Users of the modes 'nearest', 'lower', 'higher', or 'midpoint' are encouraged to review the method they. (Deprecated NumPy 1.22)\n",
      "  return np.percentile(values, q, interpolation=interpolation)\n",
      "C:\\ProgramData\\Anaconda3\\lib\\site-packages\\pandas\\core\\nanops.py:1608: DeprecationWarning: the `interpolation=` argument to percentile was renamed to `method=`, which has additional options.\n",
      "Users of the modes 'nearest', 'lower', 'higher', or 'midpoint' are encouraged to review the method they. (Deprecated NumPy 1.22)\n",
      "  return np.percentile(values, q, interpolation=interpolation)\n",
      "C:\\ProgramData\\Anaconda3\\lib\\site-packages\\pandas\\core\\nanops.py:1608: DeprecationWarning: the `interpolation=` argument to percentile was renamed to `method=`, which has additional options.\n",
      "Users of the modes 'nearest', 'lower', 'higher', or 'midpoint' are encouraged to review the method they. (Deprecated NumPy 1.22)\n",
      "  return np.percentile(values, q, interpolation=interpolation)\n",
      "C:\\ProgramData\\Anaconda3\\lib\\site-packages\\pandas\\core\\nanops.py:1608: DeprecationWarning: the `interpolation=` argument to percentile was renamed to `method=`, which has additional options.\n",
      "Users of the modes 'nearest', 'lower', 'higher', or 'midpoint' are encouraged to review the method they. (Deprecated NumPy 1.22)\n",
      "  return np.percentile(values, q, interpolation=interpolation)\n",
      "C:\\ProgramData\\Anaconda3\\lib\\site-packages\\pandas\\core\\nanops.py:1608: DeprecationWarning: the `interpolation=` argument to percentile was renamed to `method=`, which has additional options.\n",
      "Users of the modes 'nearest', 'lower', 'higher', or 'midpoint' are encouraged to review the method they. (Deprecated NumPy 1.22)\n",
      "  return np.percentile(values, q, interpolation=interpolation)\n",
      "C:\\ProgramData\\Anaconda3\\lib\\site-packages\\pandas\\core\\nanops.py:1608: DeprecationWarning: the `interpolation=` argument to percentile was renamed to `method=`, which has additional options.\n",
      "Users of the modes 'nearest', 'lower', 'higher', or 'midpoint' are encouraged to review the method they. (Deprecated NumPy 1.22)\n",
      "  return np.percentile(values, q, interpolation=interpolation)\n",
      "C:\\ProgramData\\Anaconda3\\lib\\site-packages\\pandas\\core\\nanops.py:1608: DeprecationWarning: the `interpolation=` argument to percentile was renamed to `method=`, which has additional options.\n",
      "Users of the modes 'nearest', 'lower', 'higher', or 'midpoint' are encouraged to review the method they. (Deprecated NumPy 1.22)\n",
      "  return np.percentile(values, q, interpolation=interpolation)\n",
      "C:\\ProgramData\\Anaconda3\\lib\\site-packages\\pandas\\core\\nanops.py:1608: DeprecationWarning: the `interpolation=` argument to percentile was renamed to `method=`, which has additional options.\n",
      "Users of the modes 'nearest', 'lower', 'higher', or 'midpoint' are encouraged to review the method they. (Deprecated NumPy 1.22)\n",
      "  return np.percentile(values, q, interpolation=interpolation)\n",
      "C:\\ProgramData\\Anaconda3\\lib\\site-packages\\pandas\\core\\nanops.py:1608: DeprecationWarning: the `interpolation=` argument to percentile was renamed to `method=`, which has additional options.\n",
      "Users of the modes 'nearest', 'lower', 'higher', or 'midpoint' are encouraged to review the method they. (Deprecated NumPy 1.22)\n",
      "  return np.percentile(values, q, interpolation=interpolation)\n",
      "C:\\ProgramData\\Anaconda3\\lib\\site-packages\\pandas\\core\\nanops.py:1608: DeprecationWarning: the `interpolation=` argument to percentile was renamed to `method=`, which has additional options.\n",
      "Users of the modes 'nearest', 'lower', 'higher', or 'midpoint' are encouraged to review the method they. (Deprecated NumPy 1.22)\n",
      "  return np.percentile(values, q, interpolation=interpolation)\n",
      "C:\\ProgramData\\Anaconda3\\lib\\site-packages\\pandas\\core\\nanops.py:1608: DeprecationWarning: the `interpolation=` argument to percentile was renamed to `method=`, which has additional options.\n",
      "Users of the modes 'nearest', 'lower', 'higher', or 'midpoint' are encouraged to review the method they. (Deprecated NumPy 1.22)\n",
      "  return np.percentile(values, q, interpolation=interpolation)\n",
      "C:\\ProgramData\\Anaconda3\\lib\\site-packages\\pandas\\core\\nanops.py:1608: DeprecationWarning: the `interpolation=` argument to percentile was renamed to `method=`, which has additional options.\n",
      "Users of the modes 'nearest', 'lower', 'higher', or 'midpoint' are encouraged to review the method they. (Deprecated NumPy 1.22)\n",
      "  return np.percentile(values, q, interpolation=interpolation)\n",
      "C:\\ProgramData\\Anaconda3\\lib\\site-packages\\pandas\\core\\nanops.py:1608: DeprecationWarning: the `interpolation=` argument to percentile was renamed to `method=`, which has additional options.\n",
      "Users of the modes 'nearest', 'lower', 'higher', or 'midpoint' are encouraged to review the method they. (Deprecated NumPy 1.22)\n",
      "  return np.percentile(values, q, interpolation=interpolation)\n",
      "C:\\ProgramData\\Anaconda3\\lib\\site-packages\\pandas\\core\\nanops.py:1608: DeprecationWarning: the `interpolation=` argument to percentile was renamed to `method=`, which has additional options.\n",
      "Users of the modes 'nearest', 'lower', 'higher', or 'midpoint' are encouraged to review the method they. (Deprecated NumPy 1.22)\n",
      "  return np.percentile(values, q, interpolation=interpolation)\n",
      "C:\\ProgramData\\Anaconda3\\lib\\site-packages\\pandas\\core\\nanops.py:1608: DeprecationWarning: the `interpolation=` argument to percentile was renamed to `method=`, which has additional options.\n",
      "Users of the modes 'nearest', 'lower', 'higher', or 'midpoint' are encouraged to review the method they. (Deprecated NumPy 1.22)\n",
      "  return np.percentile(values, q, interpolation=interpolation)\n",
      "C:\\ProgramData\\Anaconda3\\lib\\site-packages\\pandas\\core\\nanops.py:1608: DeprecationWarning: the `interpolation=` argument to percentile was renamed to `method=`, which has additional options.\n",
      "Users of the modes 'nearest', 'lower', 'higher', or 'midpoint' are encouraged to review the method they. (Deprecated NumPy 1.22)\n",
      "  return np.percentile(values, q, interpolation=interpolation)\n",
      "C:\\ProgramData\\Anaconda3\\lib\\site-packages\\pandas\\core\\nanops.py:1608: DeprecationWarning: the `interpolation=` argument to percentile was renamed to `method=`, which has additional options.\n",
      "Users of the modes 'nearest', 'lower', 'higher', or 'midpoint' are encouraged to review the method they. (Deprecated NumPy 1.22)\n",
      "  return np.percentile(values, q, interpolation=interpolation)\n",
      "C:\\ProgramData\\Anaconda3\\lib\\site-packages\\pandas\\core\\nanops.py:1608: DeprecationWarning: the `interpolation=` argument to percentile was renamed to `method=`, which has additional options.\n",
      "Users of the modes 'nearest', 'lower', 'higher', or 'midpoint' are encouraged to review the method they. (Deprecated NumPy 1.22)\n",
      "  return np.percentile(values, q, interpolation=interpolation)\n",
      "C:\\ProgramData\\Anaconda3\\lib\\site-packages\\pandas\\core\\nanops.py:1608: DeprecationWarning: the `interpolation=` argument to percentile was renamed to `method=`, which has additional options.\n",
      "Users of the modes 'nearest', 'lower', 'higher', or 'midpoint' are encouraged to review the method they. (Deprecated NumPy 1.22)\n",
      "  return np.percentile(values, q, interpolation=interpolation)\n",
      "C:\\ProgramData\\Anaconda3\\lib\\site-packages\\pandas\\core\\nanops.py:1608: DeprecationWarning: the `interpolation=` argument to percentile was renamed to `method=`, which has additional options.\n",
      "Users of the modes 'nearest', 'lower', 'higher', or 'midpoint' are encouraged to review the method they. (Deprecated NumPy 1.22)\n",
      "  return np.percentile(values, q, interpolation=interpolation)\n",
      "C:\\ProgramData\\Anaconda3\\lib\\site-packages\\pandas\\core\\nanops.py:1608: DeprecationWarning: the `interpolation=` argument to percentile was renamed to `method=`, which has additional options.\n",
      "Users of the modes 'nearest', 'lower', 'higher', or 'midpoint' are encouraged to review the method they. (Deprecated NumPy 1.22)\n",
      "  return np.percentile(values, q, interpolation=interpolation)\n",
      "C:\\ProgramData\\Anaconda3\\lib\\site-packages\\pandas\\core\\nanops.py:1608: DeprecationWarning: the `interpolation=` argument to percentile was renamed to `method=`, which has additional options.\n",
      "Users of the modes 'nearest', 'lower', 'higher', or 'midpoint' are encouraged to review the method they. (Deprecated NumPy 1.22)\n",
      "  return np.percentile(values, q, interpolation=interpolation)\n",
      "C:\\ProgramData\\Anaconda3\\lib\\site-packages\\pandas\\core\\nanops.py:1608: DeprecationWarning: the `interpolation=` argument to percentile was renamed to `method=`, which has additional options.\n",
      "Users of the modes 'nearest', 'lower', 'higher', or 'midpoint' are encouraged to review the method they. (Deprecated NumPy 1.22)\n",
      "  return np.percentile(values, q, interpolation=interpolation)\n",
      "C:\\ProgramData\\Anaconda3\\lib\\site-packages\\pandas\\core\\nanops.py:1608: DeprecationWarning: the `interpolation=` argument to percentile was renamed to `method=`, which has additional options.\n",
      "Users of the modes 'nearest', 'lower', 'higher', or 'midpoint' are encouraged to review the method they. (Deprecated NumPy 1.22)\n",
      "  return np.percentile(values, q, interpolation=interpolation)\n",
      "C:\\ProgramData\\Anaconda3\\lib\\site-packages\\pandas\\core\\nanops.py:1608: DeprecationWarning: the `interpolation=` argument to percentile was renamed to `method=`, which has additional options.\n",
      "Users of the modes 'nearest', 'lower', 'higher', or 'midpoint' are encouraged to review the method they. (Deprecated NumPy 1.22)\n",
      "  return np.percentile(values, q, interpolation=interpolation)\n",
      "C:\\ProgramData\\Anaconda3\\lib\\site-packages\\pandas\\core\\nanops.py:1608: DeprecationWarning: the `interpolation=` argument to percentile was renamed to `method=`, which has additional options.\n",
      "Users of the modes 'nearest', 'lower', 'higher', or 'midpoint' are encouraged to review the method they. (Deprecated NumPy 1.22)\n",
      "  return np.percentile(values, q, interpolation=interpolation)\n",
      "C:\\ProgramData\\Anaconda3\\lib\\site-packages\\pandas\\core\\nanops.py:1608: DeprecationWarning: the `interpolation=` argument to percentile was renamed to `method=`, which has additional options.\n",
      "Users of the modes 'nearest', 'lower', 'higher', or 'midpoint' are encouraged to review the method they. (Deprecated NumPy 1.22)\n",
      "  return np.percentile(values, q, interpolation=interpolation)\n",
      "C:\\ProgramData\\Anaconda3\\lib\\site-packages\\pandas\\core\\nanops.py:1608: DeprecationWarning: the `interpolation=` argument to percentile was renamed to `method=`, which has additional options.\n",
      "Users of the modes 'nearest', 'lower', 'higher', or 'midpoint' are encouraged to review the method they. (Deprecated NumPy 1.22)\n",
      "  return np.percentile(values, q, interpolation=interpolation)\n",
      "C:\\ProgramData\\Anaconda3\\lib\\site-packages\\pandas\\core\\nanops.py:1608: DeprecationWarning: the `interpolation=` argument to percentile was renamed to `method=`, which has additional options.\n",
      "Users of the modes 'nearest', 'lower', 'higher', or 'midpoint' are encouraged to review the method they. (Deprecated NumPy 1.22)\n",
      "  return np.percentile(values, q, interpolation=interpolation)\n",
      "C:\\ProgramData\\Anaconda3\\lib\\site-packages\\pandas\\core\\nanops.py:1608: DeprecationWarning: the `interpolation=` argument to percentile was renamed to `method=`, which has additional options.\n",
      "Users of the modes 'nearest', 'lower', 'higher', or 'midpoint' are encouraged to review the method they. (Deprecated NumPy 1.22)\n",
      "  return np.percentile(values, q, interpolation=interpolation)\n",
      "C:\\ProgramData\\Anaconda3\\lib\\site-packages\\pandas\\core\\nanops.py:1608: DeprecationWarning: the `interpolation=` argument to percentile was renamed to `method=`, which has additional options.\n",
      "Users of the modes 'nearest', 'lower', 'higher', or 'midpoint' are encouraged to review the method they. (Deprecated NumPy 1.22)\n",
      "  return np.percentile(values, q, interpolation=interpolation)\n",
      "C:\\ProgramData\\Anaconda3\\lib\\site-packages\\pandas\\core\\nanops.py:1608: DeprecationWarning: the `interpolation=` argument to percentile was renamed to `method=`, which has additional options.\n",
      "Users of the modes 'nearest', 'lower', 'higher', or 'midpoint' are encouraged to review the method they. (Deprecated NumPy 1.22)\n",
      "  return np.percentile(values, q, interpolation=interpolation)\n",
      "C:\\ProgramData\\Anaconda3\\lib\\site-packages\\pandas\\core\\nanops.py:1608: DeprecationWarning: the `interpolation=` argument to percentile was renamed to `method=`, which has additional options.\n",
      "Users of the modes 'nearest', 'lower', 'higher', or 'midpoint' are encouraged to review the method they. (Deprecated NumPy 1.22)\n",
      "  return np.percentile(values, q, interpolation=interpolation)\n",
      "C:\\ProgramData\\Anaconda3\\lib\\site-packages\\pandas\\core\\nanops.py:1608: DeprecationWarning: the `interpolation=` argument to percentile was renamed to `method=`, which has additional options.\n",
      "Users of the modes 'nearest', 'lower', 'higher', or 'midpoint' are encouraged to review the method they. (Deprecated NumPy 1.22)\n",
      "  return np.percentile(values, q, interpolation=interpolation)\n"
     ]
    },
    {
     "data": {
      "text/html": [
       "<div>\n",
       "<style scoped>\n",
       "    .dataframe tbody tr th:only-of-type {\n",
       "        vertical-align: middle;\n",
       "    }\n",
       "\n",
       "    .dataframe tbody tr th {\n",
       "        vertical-align: top;\n",
       "    }\n",
       "\n",
       "    .dataframe thead th {\n",
       "        text-align: right;\n",
       "    }\n",
       "</style>\n",
       "<table border=\"1\" class=\"dataframe\">\n",
       "  <thead>\n",
       "    <tr style=\"text-align: right;\">\n",
       "      <th></th>\n",
       "      <th>0</th>\n",
       "      <th>1</th>\n",
       "      <th>2</th>\n",
       "      <th>3</th>\n",
       "      <th>4</th>\n",
       "      <th>5</th>\n",
       "      <th>6</th>\n",
       "      <th>7</th>\n",
       "      <th>8</th>\n",
       "      <th>9</th>\n",
       "      <th>...</th>\n",
       "      <th>57</th>\n",
       "      <th>58</th>\n",
       "      <th>59</th>\n",
       "      <th>60</th>\n",
       "      <th>61</th>\n",
       "      <th>62</th>\n",
       "      <th>63</th>\n",
       "      <th>64</th>\n",
       "      <th>65</th>\n",
       "      <th>66</th>\n",
       "    </tr>\n",
       "  </thead>\n",
       "  <tbody>\n",
       "    <tr>\n",
       "      <th>count</th>\n",
       "      <td>4500.000000</td>\n",
       "      <td>4500.000000</td>\n",
       "      <td>4493.000000</td>\n",
       "      <td>4477.000000</td>\n",
       "      <td>4464.000000</td>\n",
       "      <td>4458.000000</td>\n",
       "      <td>4449.000000</td>\n",
       "      <td>4437.000000</td>\n",
       "      <td>4420.000000</td>\n",
       "      <td>4401.000000</td>\n",
       "      <td>...</td>\n",
       "      <td>4.000000</td>\n",
       "      <td>2.000000</td>\n",
       "      <td>2.000000</td>\n",
       "      <td>2.000000</td>\n",
       "      <td>2.00000</td>\n",
       "      <td>2.000000</td>\n",
       "      <td>1.0</td>\n",
       "      <td>1.0</td>\n",
       "      <td>1.0</td>\n",
       "      <td>1.0</td>\n",
       "    </tr>\n",
       "    <tr>\n",
       "      <th>mean</th>\n",
       "      <td>33.978667</td>\n",
       "      <td>33.950667</td>\n",
       "      <td>29.005787</td>\n",
       "      <td>28.066786</td>\n",
       "      <td>27.333333</td>\n",
       "      <td>27.319874</td>\n",
       "      <td>26.908294</td>\n",
       "      <td>26.715574</td>\n",
       "      <td>26.429638</td>\n",
       "      <td>26.756646</td>\n",
       "      <td>...</td>\n",
       "      <td>20.750000</td>\n",
       "      <td>29.500000</td>\n",
       "      <td>23.500000</td>\n",
       "      <td>19.000000</td>\n",
       "      <td>15.50000</td>\n",
       "      <td>18.000000</td>\n",
       "      <td>32.0</td>\n",
       "      <td>25.0</td>\n",
       "      <td>16.0</td>\n",
       "      <td>12.0</td>\n",
       "    </tr>\n",
       "    <tr>\n",
       "      <th>std</th>\n",
       "      <td>7.419898</td>\n",
       "      <td>10.797692</td>\n",
       "      <td>11.367748</td>\n",
       "      <td>11.413300</td>\n",
       "      <td>11.216505</td>\n",
       "      <td>11.197333</td>\n",
       "      <td>10.909027</td>\n",
       "      <td>10.903411</td>\n",
       "      <td>11.018131</td>\n",
       "      <td>10.973236</td>\n",
       "      <td>...</td>\n",
       "      <td>5.560276</td>\n",
       "      <td>0.707107</td>\n",
       "      <td>0.707107</td>\n",
       "      <td>5.656854</td>\n",
       "      <td>2.12132</td>\n",
       "      <td>16.970563</td>\n",
       "      <td>NaN</td>\n",
       "      <td>NaN</td>\n",
       "      <td>NaN</td>\n",
       "      <td>NaN</td>\n",
       "    </tr>\n",
       "    <tr>\n",
       "      <th>min</th>\n",
       "      <td>2.000000</td>\n",
       "      <td>2.000000</td>\n",
       "      <td>1.000000</td>\n",
       "      <td>1.000000</td>\n",
       "      <td>2.000000</td>\n",
       "      <td>1.000000</td>\n",
       "      <td>1.000000</td>\n",
       "      <td>1.000000</td>\n",
       "      <td>2.000000</td>\n",
       "      <td>1.000000</td>\n",
       "      <td>...</td>\n",
       "      <td>13.000000</td>\n",
       "      <td>29.000000</td>\n",
       "      <td>23.000000</td>\n",
       "      <td>15.000000</td>\n",
       "      <td>14.00000</td>\n",
       "      <td>6.000000</td>\n",
       "      <td>32.0</td>\n",
       "      <td>25.0</td>\n",
       "      <td>16.0</td>\n",
       "      <td>12.0</td>\n",
       "    </tr>\n",
       "    <tr>\n",
       "      <th>25%</th>\n",
       "      <td>30.000000</td>\n",
       "      <td>27.000000</td>\n",
       "      <td>20.000000</td>\n",
       "      <td>20.000000</td>\n",
       "      <td>19.000000</td>\n",
       "      <td>19.000000</td>\n",
       "      <td>19.000000</td>\n",
       "      <td>19.000000</td>\n",
       "      <td>18.000000</td>\n",
       "      <td>19.000000</td>\n",
       "      <td>...</td>\n",
       "      <td>19.000000</td>\n",
       "      <td>29.250000</td>\n",
       "      <td>23.250000</td>\n",
       "      <td>17.000000</td>\n",
       "      <td>14.75000</td>\n",
       "      <td>12.000000</td>\n",
       "      <td>32.0</td>\n",
       "      <td>25.0</td>\n",
       "      <td>16.0</td>\n",
       "      <td>12.0</td>\n",
       "    </tr>\n",
       "    <tr>\n",
       "      <th>50%</th>\n",
       "      <td>34.000000</td>\n",
       "      <td>34.000000</td>\n",
       "      <td>29.000000</td>\n",
       "      <td>28.000000</td>\n",
       "      <td>27.000000</td>\n",
       "      <td>27.000000</td>\n",
       "      <td>26.000000</td>\n",
       "      <td>26.000000</td>\n",
       "      <td>26.000000</td>\n",
       "      <td>26.000000</td>\n",
       "      <td>...</td>\n",
       "      <td>22.000000</td>\n",
       "      <td>29.500000</td>\n",
       "      <td>23.500000</td>\n",
       "      <td>19.000000</td>\n",
       "      <td>15.50000</td>\n",
       "      <td>18.000000</td>\n",
       "      <td>32.0</td>\n",
       "      <td>25.0</td>\n",
       "      <td>16.0</td>\n",
       "      <td>12.0</td>\n",
       "    </tr>\n",
       "    <tr>\n",
       "      <th>75%</th>\n",
       "      <td>38.000000</td>\n",
       "      <td>41.000000</td>\n",
       "      <td>37.000000</td>\n",
       "      <td>35.000000</td>\n",
       "      <td>35.000000</td>\n",
       "      <td>35.000000</td>\n",
       "      <td>34.000000</td>\n",
       "      <td>34.000000</td>\n",
       "      <td>34.000000</td>\n",
       "      <td>34.000000</td>\n",
       "      <td>...</td>\n",
       "      <td>23.750000</td>\n",
       "      <td>29.750000</td>\n",
       "      <td>23.750000</td>\n",
       "      <td>21.000000</td>\n",
       "      <td>16.25000</td>\n",
       "      <td>24.000000</td>\n",
       "      <td>32.0</td>\n",
       "      <td>25.0</td>\n",
       "      <td>16.0</td>\n",
       "      <td>12.0</td>\n",
       "    </tr>\n",
       "    <tr>\n",
       "      <th>max</th>\n",
       "      <td>107.000000</td>\n",
       "      <td>95.000000</td>\n",
       "      <td>87.000000</td>\n",
       "      <td>95.000000</td>\n",
       "      <td>102.000000</td>\n",
       "      <td>114.000000</td>\n",
       "      <td>86.000000</td>\n",
       "      <td>80.000000</td>\n",
       "      <td>90.000000</td>\n",
       "      <td>111.000000</td>\n",
       "      <td>...</td>\n",
       "      <td>26.000000</td>\n",
       "      <td>30.000000</td>\n",
       "      <td>24.000000</td>\n",
       "      <td>23.000000</td>\n",
       "      <td>17.00000</td>\n",
       "      <td>30.000000</td>\n",
       "      <td>32.0</td>\n",
       "      <td>25.0</td>\n",
       "      <td>16.0</td>\n",
       "      <td>12.0</td>\n",
       "    </tr>\n",
       "  </tbody>\n",
       "</table>\n",
       "<p>8 rows × 67 columns</p>\n",
       "</div>"
      ],
      "text/plain": [
       "                0            1            2            3            4   \\\n",
       "count  4500.000000  4500.000000  4493.000000  4477.000000  4464.000000   \n",
       "mean     33.978667    33.950667    29.005787    28.066786    27.333333   \n",
       "std       7.419898    10.797692    11.367748    11.413300    11.216505   \n",
       "min       2.000000     2.000000     1.000000     1.000000     2.000000   \n",
       "25%      30.000000    27.000000    20.000000    20.000000    19.000000   \n",
       "50%      34.000000    34.000000    29.000000    28.000000    27.000000   \n",
       "75%      38.000000    41.000000    37.000000    35.000000    35.000000   \n",
       "max     107.000000    95.000000    87.000000    95.000000   102.000000   \n",
       "\n",
       "                5            6            7            8            9   ...  \\\n",
       "count  4458.000000  4449.000000  4437.000000  4420.000000  4401.000000  ...   \n",
       "mean     27.319874    26.908294    26.715574    26.429638    26.756646  ...   \n",
       "std      11.197333    10.909027    10.903411    11.018131    10.973236  ...   \n",
       "min       1.000000     1.000000     1.000000     2.000000     1.000000  ...   \n",
       "25%      19.000000    19.000000    19.000000    18.000000    19.000000  ...   \n",
       "50%      27.000000    26.000000    26.000000    26.000000    26.000000  ...   \n",
       "75%      35.000000    34.000000    34.000000    34.000000    34.000000  ...   \n",
       "max     114.000000    86.000000    80.000000    90.000000   111.000000  ...   \n",
       "\n",
       "              57         58         59         60        61         62    63  \\\n",
       "count   4.000000   2.000000   2.000000   2.000000   2.00000   2.000000   1.0   \n",
       "mean   20.750000  29.500000  23.500000  19.000000  15.50000  18.000000  32.0   \n",
       "std     5.560276   0.707107   0.707107   5.656854   2.12132  16.970563   NaN   \n",
       "min    13.000000  29.000000  23.000000  15.000000  14.00000   6.000000  32.0   \n",
       "25%    19.000000  29.250000  23.250000  17.000000  14.75000  12.000000  32.0   \n",
       "50%    22.000000  29.500000  23.500000  19.000000  15.50000  18.000000  32.0   \n",
       "75%    23.750000  29.750000  23.750000  21.000000  16.25000  24.000000  32.0   \n",
       "max    26.000000  30.000000  24.000000  23.000000  17.00000  30.000000  32.0   \n",
       "\n",
       "         64    65    66  \n",
       "count   1.0   1.0   1.0  \n",
       "mean   25.0  16.0  12.0  \n",
       "std     NaN   NaN   NaN  \n",
       "min    25.0  16.0  12.0  \n",
       "25%    25.0  16.0  12.0  \n",
       "50%    25.0  16.0  12.0  \n",
       "75%    25.0  16.0  12.0  \n",
       "max    25.0  16.0  12.0  \n",
       "\n",
       "[8 rows x 67 columns]"
      ]
     },
     "execution_count": 325,
     "metadata": {},
     "output_type": "execute_result"
    }
   ],
   "source": [
    "res = X_train.swifter.apply(get_number_of_words_per_sentence).fillna(0)\n",
    "res.describe()"
   ]
  },
  {
   "cell_type": "code",
   "execution_count": 336,
   "id": "5a7b8abc",
   "metadata": {
    "ExecuteTime": {
     "end_time": "2022-03-07T11:41:55.884744Z",
     "start_time": "2022-03-07T11:41:55.475359Z"
    }
   },
   "outputs": [
    {
     "data": {
      "text/plain": [
       "<AxesSubplot:>"
      ]
     },
     "execution_count": 336,
     "metadata": {},
     "output_type": "execute_result"
    },
    {
     "data": {
      "image/png": "[encoded data removed]",
      "text/plain": [
       "<Figure size 432x288 with 1 Axes>"
      ]
     },
     "metadata": {
      "needs_background": "light"
     },
     "output_type": "display_data"
    }
   ],
   "source": [
    "res.fillna(0).sort_values(by=1).reset_index(drop=True).plot(legend=False)"
   ]
  },
  {
   "cell_type": "code",
   "execution_count": 350,
   "id": "40ab9d3d",
   "metadata": {
    "ExecuteTime": {
     "end_time": "2022-03-07T11:46:01.616938Z",
     "start_time": "2022-03-07T11:46:01.558355Z"
    }
   },
   "outputs": [
    {
     "name": "stdout",
     "output_type": "stream",
     "text": [
      "val: 50 => 0.7353233830845771\n",
      "val: 70 => 0.0693200663349917\n",
      "val: 75 => 0.04245439469320066\n",
      "val: 80 => 0.025538971807628524\n",
      "val: 85 => 0.015588723051409618\n",
      "val: 90 => 0.011608623548922056\n",
      "val: 100 => 0.007960199004975124\n",
      "val: 150 => 0.0003316749585406302\n"
     ]
    }
   ],
   "source": [
    "values = [50,70,75,80,85,90,100,150]\n",
    "for val in values:\n",
    "    print(f\"val: {val} => {res[res < val].isna().sum().sum()/res.size * 100}\")"
   ]
  },
  {
   "cell_type": "markdown",
   "id": "ff247d74",
   "metadata": {},
   "source": [
    "### Let's Try all"
   ]
  },
  {
   "cell_type": "markdown",
   "id": "1961f20f",
   "metadata": {},
   "source": [
    "![Arcircitecture](https://i.ibb.co/j5PTCf8/artitecture.png)"
   ]
  },
  {
   "cell_type": "code",
   "execution_count": null,
   "id": "22cd074e",
   "metadata": {
    "ExecuteTime": {
     "start_time": "2022-03-13T21:10:20.660Z"
    }
   },
   "outputs": [],
   "source": [
    "import sys\n",
    "sys.path.append(\"../\")\n",
    "import pickle\n",
    "import tensorflow as tf\n",
    "import numpy as np\n",
    "import nltk\n",
    "import pandas as pd\n",
    "import gensim.downloader\n",
    "import gensim\n",
    "from typing import Optional\n",
    "import swifter\n",
    "from PythonCode.preprocess.common import merge_datasets\n",
    "from PythonCode.preprocess.word_embedding_features import sentence_level_preprocess\n",
    "from sklearn.model_selection import train_test_split\n",
    "from keras.layers import Dense, GRU, AvgPool1D\n",
    "from keras.models import Sequential\n",
    "from sklearn.metrics import classification_report\n",
    "NUM_OF_SENTENCE_CHUNK = 3\n",
    "MAX_LENGTH = 170\n",
    "TEST_PART = 0.1\n",
    "VALIDATION_PART = 0.2"
   ]
  },
  {
   "cell_type": "code",
   "execution_count": null,
   "id": "359003e1",
   "metadata": {
    "ExecuteTime": {
     "start_time": "2022-03-13T21:10:22.158Z"
    }
   },
   "outputs": [],
   "source": [
    "print(\"downloading pretrained embedding model.\\nthis may take a while...\")\n",
    "glove_vectors = gensim.downloader.load('glove-wiki-gigaword-50')\n",
    "EMBEDDING_SIZE = 50"
   ]
  },
  {
   "cell_type": "code",
   "execution_count": 4,
   "id": "5a9da1ac",
   "metadata": {
    "ExecuteTime": {
     "end_time": "2022-03-13T17:39:33.979473Z",
     "start_time": "2022-03-13T17:39:32.471367Z"
    }
   },
   "outputs": [],
   "source": [
    "df = merge_datasets(data_path=\"../Data/C50\")"
   ]
  },
  {
   "cell_type": "code",
   "execution_count": 5,
   "id": "dff74fc0",
   "metadata": {
    "ExecuteTime": {
     "end_time": "2022-03-13T17:39:37.802151Z",
     "start_time": "2022-03-13T17:39:37.781153Z"
    }
   },
   "outputs": [
    {
     "ename": "TypeError",
     "evalue": "sentence_level_preprocess() missing 1 required positional argument: 'embedding_table'",
     "output_type": "error",
     "traceback": [
      "\u001b[1;31m---------------------------------------------------------------------------\u001b[0m",
      "\u001b[1;31mTypeError\u001b[0m                                 Traceback (most recent call last)",
      "Input \u001b[1;32mIn [5]\u001b[0m, in \u001b[0;36m<module>\u001b[1;34m\u001b[0m\n\u001b[1;32m----> 1\u001b[0m (X_train, y_train),(X_test,y_test) \u001b[38;5;241m=\u001b[39m \u001b[43msentence_level_preprocess\u001b[49m\u001b[43m(\u001b[49m\u001b[43mdf\u001b[49m\u001b[43m)\u001b[49m\n",
      "\u001b[1;31mTypeError\u001b[0m: sentence_level_preprocess() missing 1 required positional argument: 'embedding_table'"
     ]
    }
   ],
   "source": [
    "(X_train, y_train),(X_test,y_test) = sentence_level_preprocess(df,glove_vectors)"
   ]
  },
  {
   "cell_type": "code",
   "execution_count": 38,
   "id": "3a255bcf",
   "metadata": {
    "ExecuteTime": {
     "end_time": "2022-03-11T09:49:46.572042Z",
     "start_time": "2022-03-11T07:37:51.680495Z"
    }
   },
   "outputs": [
    {
     "name": "stdout",
     "output_type": "stream",
     "text": [
      "Model: \"sequential\"\n",
      "_________________________________________________________________\n",
      "Layer (type)                 Output Shape              Param #   \n",
      "=================================================================\n",
      "gru (GRU)                    (None, 170, 100)          45600     \n",
      "_________________________________________________________________\n",
      "average_pooling1d (AveragePo (None, 1, 100)            0         \n",
      "_________________________________________________________________\n",
      "dense (Dense)                (None, 1, 50)             5050      \n",
      "=================================================================\n",
      "Total params: 50,650\n",
      "Trainable params: 50,650\n",
      "Non-trainable params: 0\n",
      "_________________________________________________________________\n",
      "None\n",
      "Epoch 1/30000\n",
      "285/285 [==============================] - 127s 441ms/step - loss: 2.4644 - accuracy: 0.3194 - val_loss: 1.4596 - val_accuracy: 0.5308\n",
      "INFO:tensorflow:Assets written to: .\\sentence_level_preprocess-checkpoints\\assets\n",
      "Epoch 2/30000\n",
      "285/285 [==============================] - 116s 409ms/step - loss: 1.2059 - accuracy: 0.6038 - val_loss: 0.9952 - val_accuracy: 0.6663\n",
      "INFO:tensorflow:Assets written to: .\\sentence_level_preprocess-checkpoints\\assets\n",
      "Epoch 3/30000\n",
      "285/285 [==============================] - 131s 460ms/step - loss: 0.8863 - accuracy: 0.7009 - val_loss: 0.7583 - val_accuracy: 0.7382\n",
      "INFO:tensorflow:Assets written to: .\\sentence_level_preprocess-checkpoints\\assets\n",
      "Epoch 4/30000\n",
      "285/285 [==============================] - 194s 680ms/step - loss: 0.6990 - accuracy: 0.7604 - val_loss: 0.6128 - val_accuracy: 0.7847\n",
      "INFO:tensorflow:Assets written to: .\\sentence_level_preprocess-checkpoints\\assets\n",
      "Epoch 5/30000\n",
      "285/285 [==============================] - 215s 755ms/step - loss: 0.5770 - accuracy: 0.8021 - val_loss: 0.5025 - val_accuracy: 0.8317\n",
      "INFO:tensorflow:Assets written to: .\\sentence_level_preprocess-checkpoints\\assets\n",
      "Epoch 6/30000\n",
      "285/285 [==============================] - 229s 802ms/step - loss: 0.4797 - accuracy: 0.8394 - val_loss: 0.4087 - val_accuracy: 0.8629\n",
      "INFO:tensorflow:Assets written to: .\\sentence_level_preprocess-checkpoints\\assets\n",
      "Epoch 7/30000\n",
      "285/285 [==============================] - 239s 837ms/step - loss: 0.4039 - accuracy: 0.8645 - val_loss: 0.3371 - val_accuracy: 0.8859\n",
      "INFO:tensorflow:Assets written to: .\\sentence_level_preprocess-checkpoints\\assets\n",
      "Epoch 8/30000\n",
      "285/285 [==============================] - 278s 975ms/step - loss: 0.3434 - accuracy: 0.8858 - val_loss: 0.2812 - val_accuracy: 0.9048\n",
      "INFO:tensorflow:Assets written to: .\\sentence_level_preprocess-checkpoints\\assets\n",
      "Epoch 9/30000\n",
      "285/285 [==============================] - 231s 812ms/step - loss: 0.2915 - accuracy: 0.9060 - val_loss: 0.2471 - val_accuracy: 0.9185\n",
      "INFO:tensorflow:Assets written to: .\\sentence_level_preprocess-checkpoints\\assets\n",
      "Epoch 10/30000\n",
      "285/285 [==============================] - 245s 861ms/step - loss: 0.2480 - accuracy: 0.9202 - val_loss: 0.1880 - val_accuracy: 0.9444\n",
      "INFO:tensorflow:Assets written to: .\\sentence_level_preprocess-checkpoints\\assets\n",
      "Epoch 11/30000\n",
      "285/285 [==============================] - 276s 968ms/step - loss: 0.2127 - accuracy: 0.9340 - val_loss: 0.1633 - val_accuracy: 0.9536\n",
      "INFO:tensorflow:Assets written to: .\\sentence_level_preprocess-checkpoints\\assets\n",
      "Epoch 12/30000\n",
      "285/285 [==============================] - 295s 1s/step - loss: 0.1844 - accuracy: 0.9454 - val_loss: 0.1319 - val_accuracy: 0.9621\n",
      "INFO:tensorflow:Assets written to: .\\sentence_level_preprocess-checkpoints\\assets\n",
      "Epoch 13/30000\n",
      "285/285 [==============================] - 320s 1s/step - loss: 0.1558 - accuracy: 0.9555 - val_loss: 0.1043 - val_accuracy: 0.9704\n",
      "INFO:tensorflow:Assets written to: .\\sentence_level_preprocess-checkpoints\\assets\n",
      "Epoch 14/30000\n",
      "285/285 [==============================] - 365s 1s/step - loss: 0.1330 - accuracy: 0.9625 - val_loss: 0.0976 - val_accuracy: 0.9735\n",
      "INFO:tensorflow:Assets written to: .\\sentence_level_preprocess-checkpoints\\assets\n",
      "Epoch 15/30000\n",
      "285/285 [==============================] - 302s 1s/step - loss: 0.1209 - accuracy: 0.9658 - val_loss: 0.0654 - val_accuracy: 0.9855\n",
      "INFO:tensorflow:Assets written to: .\\sentence_level_preprocess-checkpoints\\assets\n",
      "Epoch 16/30000\n",
      "285/285 [==============================] - 301s 1s/step - loss: 0.1003 - accuracy: 0.9724 - val_loss: 0.0548 - val_accuracy: 0.9895\n",
      "INFO:tensorflow:Assets written to: .\\sentence_level_preprocess-checkpoints\\assets\n",
      "Epoch 17/30000\n",
      "285/285 [==============================] - 293s 1s/step - loss: 0.0847 - accuracy: 0.9780 - val_loss: 0.0425 - val_accuracy: 0.9918\n",
      "INFO:tensorflow:Assets written to: .\\sentence_level_preprocess-checkpoints\\assets\n",
      "Epoch 18/30000\n",
      "285/285 [==============================] - 344s 1s/step - loss: 0.0707 - accuracy: 0.9828 - val_loss: 0.0330 - val_accuracy: 0.9948\n",
      "INFO:tensorflow:Assets written to: .\\sentence_level_preprocess-checkpoints\\assets\n",
      "Epoch 19/30000\n",
      "285/285 [==============================] - 344s 1s/step - loss: 0.0676 - accuracy: 0.9826 - val_loss: 0.0375 - val_accuracy: 0.9917\n",
      "Epoch 20/30000\n",
      "285/285 [==============================] - 335s 1s/step - loss: 0.0564 - accuracy: 0.9864 - val_loss: 0.0212 - val_accuracy: 0.9970\n",
      "INFO:tensorflow:Assets written to: .\\sentence_level_preprocess-checkpoints\\assets\n",
      "Epoch 21/30000\n",
      "285/285 [==============================] - 357s 1s/step - loss: 0.0507 - accuracy: 0.9882 - val_loss: 0.0313 - val_accuracy: 0.9911\n",
      "Epoch 22/30000\n",
      "285/285 [==============================] - 339s 1s/step - loss: 0.0462 - accuracy: 0.9890 - val_loss: 0.0141 - val_accuracy: 0.9982\n",
      "INFO:tensorflow:Assets written to: .\\sentence_level_preprocess-checkpoints\\assets\n",
      "Epoch 23/30000\n",
      "285/285 [==============================] - 364s 1s/step - loss: 0.0369 - accuracy: 0.9917 - val_loss: 0.0168 - val_accuracy: 0.9970\n",
      "Epoch 24/30000\n",
      "285/285 [==============================] - 374s 1s/step - loss: 0.0361 - accuracy: 0.9917 - val_loss: 0.0119 - val_accuracy: 0.9981\n",
      "Epoch 25/30000\n",
      "285/285 [==============================] - 373s 1s/step - loss: 0.0341 - accuracy: 0.9919 - val_loss: 0.0105 - val_accuracy: 0.9985\n",
      "INFO:tensorflow:Assets written to: .\\sentence_level_preprocess-checkpoints\\assets\n",
      "Epoch 26/30000\n",
      "285/285 [==============================] - 388s 1s/step - loss: 0.0238 - accuracy: 0.9954 - val_loss: 0.0079 - val_accuracy: 0.9992\n",
      "INFO:tensorflow:Assets written to: .\\sentence_level_preprocess-checkpoints\\assets\n",
      "Epoch 27/30000\n",
      "285/285 [==============================] - 295s 1s/step - loss: 0.0294 - accuracy: 0.9931 - val_loss: 0.0073 - val_accuracy: 0.9992\n",
      "INFO:tensorflow:Assets written to: .\\sentence_level_preprocess-checkpoints\\assets\n",
      "Epoch 28/30000\n",
      "208/285 [====================>.........] - ETA: 1:04 - loss: 0.0216 - accuracy: 0.9953"
     ]
    },
    {
     "ename": "KeyboardInterrupt",
     "evalue": "",
     "output_type": "error",
     "traceback": [
      "\u001b[1;31m---------------------------------------------------------------------------\u001b[0m",
      "\u001b[1;31mKeyboardInterrupt\u001b[0m                         Traceback (most recent call last)",
      "Input \u001b[1;32mIn [38]\u001b[0m, in \u001b[0;36m<module>\u001b[1;34m\u001b[0m\n\u001b[0;32m      8\u001b[0m callback \u001b[38;5;241m=\u001b[39m tf\u001b[38;5;241m.\u001b[39mkeras\u001b[38;5;241m.\u001b[39mcallbacks\u001b[38;5;241m.\u001b[39mEarlyStopping(monitor\u001b[38;5;241m=\u001b[39m\u001b[38;5;124m'\u001b[39m\u001b[38;5;124mval_loss\u001b[39m\u001b[38;5;124m'\u001b[39m, patience\u001b[38;5;241m=\u001b[39m\u001b[38;5;241m30\u001b[39m)\n\u001b[0;32m      9\u001b[0m model_checkpoint_callback \u001b[38;5;241m=\u001b[39m tf\u001b[38;5;241m.\u001b[39mkeras\u001b[38;5;241m.\u001b[39mcallbacks\u001b[38;5;241m.\u001b[39mModelCheckpoint(filepath\u001b[38;5;241m=\u001b[39m\u001b[38;5;124m\"\u001b[39m\u001b[38;5;124m./sentence_level_preprocess-checkpoints\u001b[39m\u001b[38;5;124m\"\u001b[39m, \n\u001b[0;32m     10\u001b[0m                                                                save_weights_only\u001b[38;5;241m=\u001b[39m\u001b[38;5;28;01mFalse\u001b[39;00m,\n\u001b[0;32m     11\u001b[0m                                                                monitor\u001b[38;5;241m=\u001b[39m\u001b[38;5;124m'\u001b[39m\u001b[38;5;124mval_accuracy\u001b[39m\u001b[38;5;124m'\u001b[39m, mode\u001b[38;5;241m=\u001b[39m\u001b[38;5;124m'\u001b[39m\u001b[38;5;124mmax\u001b[39m\u001b[38;5;124m'\u001b[39m,\n\u001b[0;32m     12\u001b[0m                                                                save_best_only\u001b[38;5;241m=\u001b[39m\u001b[38;5;28;01mTrue\u001b[39;00m)\n\u001b[1;32m---> 13\u001b[0m history \u001b[38;5;241m=\u001b[39m \u001b[43mmodel\u001b[49m\u001b[38;5;241;43m.\u001b[39;49m\u001b[43mfit\u001b[49m\u001b[43m(\u001b[49m\u001b[43mx\u001b[49m\u001b[38;5;241;43m=\u001b[39;49m\u001b[43mX_train\u001b[49m\u001b[43m,\u001b[49m\u001b[43m \u001b[49m\u001b[43my\u001b[49m\u001b[38;5;241;43m=\u001b[39;49m\u001b[43my_train\u001b[49m\u001b[43m,\u001b[49m\u001b[43m \u001b[49m\u001b[43mepochs\u001b[49m\u001b[38;5;241;43m=\u001b[39;49m\u001b[38;5;241;43m30000\u001b[39;49m\u001b[43m,\u001b[49m\u001b[43m \u001b[49m\u001b[43mshuffle\u001b[49m\u001b[38;5;241;43m=\u001b[39;49m\u001b[38;5;28;43;01mTrue\u001b[39;49;00m\u001b[43m,\u001b[49m\n\u001b[0;32m     14\u001b[0m \u001b[43m                    \u001b[49m\u001b[43mbatch_size\u001b[49m\u001b[38;5;241;43m=\u001b[39;49m\u001b[38;5;241;43m200\u001b[39;49m\u001b[43m,\u001b[49m\u001b[43m \u001b[49m\u001b[43mvalidation_data\u001b[49m\u001b[38;5;241;43m=\u001b[39;49m\u001b[43m(\u001b[49m\u001b[43mX_val\u001b[49m\u001b[43m,\u001b[49m\u001b[43m \u001b[49m\u001b[43my_val\u001b[49m\u001b[43m)\u001b[49m\u001b[43m,\u001b[49m\u001b[43m \u001b[49m\u001b[43mcallbacks\u001b[49m\u001b[38;5;241;43m=\u001b[39;49m\u001b[43m[\u001b[49m\u001b[43mcallback\u001b[49m\u001b[43m,\u001b[49m\u001b[43mmodel_checkpoint_callback\u001b[49m\u001b[43m]\u001b[49m\u001b[43m)\u001b[49m\n\u001b[0;32m     15\u001b[0m \u001b[38;5;28;01mwith\u001b[39;00m \u001b[38;5;28mopen\u001b[39m(\u001b[38;5;124m\"\u001b[39m\u001b[38;5;124msentence_level_preprocess-history\u001b[39m\u001b[38;5;124m\"\u001b[39m,\u001b[38;5;124m\"\u001b[39m\u001b[38;5;124mwb\u001b[39m\u001b[38;5;124m\"\u001b[39m) \u001b[38;5;28;01mas\u001b[39;00m file:\n\u001b[0;32m     16\u001b[0m     pickle\u001b[38;5;241m.\u001b[39mdump(history, file)\n",
      "File \u001b[1;32m~\\AppData\\Roaming\\Python\\Python38\\site-packages\\keras\\engine\\training.py:1184\u001b[0m, in \u001b[0;36mModel.fit\u001b[1;34m(self, x, y, batch_size, epochs, verbose, callbacks, validation_split, validation_data, shuffle, class_weight, sample_weight, initial_epoch, steps_per_epoch, validation_steps, validation_batch_size, validation_freq, max_queue_size, workers, use_multiprocessing)\u001b[0m\n\u001b[0;32m   1177\u001b[0m \u001b[38;5;28;01mwith\u001b[39;00m tf\u001b[38;5;241m.\u001b[39mprofiler\u001b[38;5;241m.\u001b[39mexperimental\u001b[38;5;241m.\u001b[39mTrace(\n\u001b[0;32m   1178\u001b[0m     \u001b[38;5;124m'\u001b[39m\u001b[38;5;124mtrain\u001b[39m\u001b[38;5;124m'\u001b[39m,\n\u001b[0;32m   1179\u001b[0m     epoch_num\u001b[38;5;241m=\u001b[39mepoch,\n\u001b[0;32m   1180\u001b[0m     step_num\u001b[38;5;241m=\u001b[39mstep,\n\u001b[0;32m   1181\u001b[0m     batch_size\u001b[38;5;241m=\u001b[39mbatch_size,\n\u001b[0;32m   1182\u001b[0m     _r\u001b[38;5;241m=\u001b[39m\u001b[38;5;241m1\u001b[39m):\n\u001b[0;32m   1183\u001b[0m   callbacks\u001b[38;5;241m.\u001b[39mon_train_batch_begin(step)\n\u001b[1;32m-> 1184\u001b[0m   tmp_logs \u001b[38;5;241m=\u001b[39m \u001b[38;5;28;43mself\u001b[39;49m\u001b[38;5;241;43m.\u001b[39;49m\u001b[43mtrain_function\u001b[49m\u001b[43m(\u001b[49m\u001b[43miterator\u001b[49m\u001b[43m)\u001b[49m\n\u001b[0;32m   1185\u001b[0m   \u001b[38;5;28;01mif\u001b[39;00m data_handler\u001b[38;5;241m.\u001b[39mshould_sync:\n\u001b[0;32m   1186\u001b[0m     context\u001b[38;5;241m.\u001b[39masync_wait()\n",
      "File \u001b[1;32m~\\AppData\\Roaming\\Python\\Python38\\site-packages\\tensorflow\\python\\eager\\def_function.py:885\u001b[0m, in \u001b[0;36mFunction.__call__\u001b[1;34m(self, *args, **kwds)\u001b[0m\n\u001b[0;32m    882\u001b[0m compiler \u001b[38;5;241m=\u001b[39m \u001b[38;5;124m\"\u001b[39m\u001b[38;5;124mxla\u001b[39m\u001b[38;5;124m\"\u001b[39m \u001b[38;5;28;01mif\u001b[39;00m \u001b[38;5;28mself\u001b[39m\u001b[38;5;241m.\u001b[39m_jit_compile \u001b[38;5;28;01melse\u001b[39;00m \u001b[38;5;124m\"\u001b[39m\u001b[38;5;124mnonXla\u001b[39m\u001b[38;5;124m\"\u001b[39m\n\u001b[0;32m    884\u001b[0m \u001b[38;5;28;01mwith\u001b[39;00m OptionalXlaContext(\u001b[38;5;28mself\u001b[39m\u001b[38;5;241m.\u001b[39m_jit_compile):\n\u001b[1;32m--> 885\u001b[0m   result \u001b[38;5;241m=\u001b[39m \u001b[38;5;28;43mself\u001b[39;49m\u001b[38;5;241;43m.\u001b[39;49m\u001b[43m_call\u001b[49m\u001b[43m(\u001b[49m\u001b[38;5;241;43m*\u001b[39;49m\u001b[43margs\u001b[49m\u001b[43m,\u001b[49m\u001b[43m \u001b[49m\u001b[38;5;241;43m*\u001b[39;49m\u001b[38;5;241;43m*\u001b[39;49m\u001b[43mkwds\u001b[49m\u001b[43m)\u001b[49m\n\u001b[0;32m    887\u001b[0m new_tracing_count \u001b[38;5;241m=\u001b[39m \u001b[38;5;28mself\u001b[39m\u001b[38;5;241m.\u001b[39mexperimental_get_tracing_count()\n\u001b[0;32m    888\u001b[0m without_tracing \u001b[38;5;241m=\u001b[39m (tracing_count \u001b[38;5;241m==\u001b[39m new_tracing_count)\n",
      "File \u001b[1;32m~\\AppData\\Roaming\\Python\\Python38\\site-packages\\tensorflow\\python\\eager\\def_function.py:917\u001b[0m, in \u001b[0;36mFunction._call\u001b[1;34m(self, *args, **kwds)\u001b[0m\n\u001b[0;32m    914\u001b[0m   \u001b[38;5;28mself\u001b[39m\u001b[38;5;241m.\u001b[39m_lock\u001b[38;5;241m.\u001b[39mrelease()\n\u001b[0;32m    915\u001b[0m   \u001b[38;5;66;03m# In this case we have created variables on the first call, so we run the\u001b[39;00m\n\u001b[0;32m    916\u001b[0m   \u001b[38;5;66;03m# defunned version which is guaranteed to never create variables.\u001b[39;00m\n\u001b[1;32m--> 917\u001b[0m   \u001b[38;5;28;01mreturn\u001b[39;00m \u001b[38;5;28;43mself\u001b[39;49m\u001b[38;5;241;43m.\u001b[39;49m\u001b[43m_stateless_fn\u001b[49m\u001b[43m(\u001b[49m\u001b[38;5;241;43m*\u001b[39;49m\u001b[43margs\u001b[49m\u001b[43m,\u001b[49m\u001b[43m \u001b[49m\u001b[38;5;241;43m*\u001b[39;49m\u001b[38;5;241;43m*\u001b[39;49m\u001b[43mkwds\u001b[49m\u001b[43m)\u001b[49m  \u001b[38;5;66;03m# pylint: disable=not-callable\u001b[39;00m\n\u001b[0;32m    918\u001b[0m \u001b[38;5;28;01melif\u001b[39;00m \u001b[38;5;28mself\u001b[39m\u001b[38;5;241m.\u001b[39m_stateful_fn \u001b[38;5;129;01mis\u001b[39;00m \u001b[38;5;129;01mnot\u001b[39;00m \u001b[38;5;28;01mNone\u001b[39;00m:\n\u001b[0;32m    919\u001b[0m   \u001b[38;5;66;03m# Release the lock early so that multiple threads can perform the call\u001b[39;00m\n\u001b[0;32m    920\u001b[0m   \u001b[38;5;66;03m# in parallel.\u001b[39;00m\n\u001b[0;32m    921\u001b[0m   \u001b[38;5;28mself\u001b[39m\u001b[38;5;241m.\u001b[39m_lock\u001b[38;5;241m.\u001b[39mrelease()\n",
      "File \u001b[1;32m~\\AppData\\Roaming\\Python\\Python38\\site-packages\\tensorflow\\python\\eager\\function.py:3039\u001b[0m, in \u001b[0;36mFunction.__call__\u001b[1;34m(self, *args, **kwargs)\u001b[0m\n\u001b[0;32m   3036\u001b[0m \u001b[38;5;28;01mwith\u001b[39;00m \u001b[38;5;28mself\u001b[39m\u001b[38;5;241m.\u001b[39m_lock:\n\u001b[0;32m   3037\u001b[0m   (graph_function,\n\u001b[0;32m   3038\u001b[0m    filtered_flat_args) \u001b[38;5;241m=\u001b[39m \u001b[38;5;28mself\u001b[39m\u001b[38;5;241m.\u001b[39m_maybe_define_function(args, kwargs)\n\u001b[1;32m-> 3039\u001b[0m \u001b[38;5;28;01mreturn\u001b[39;00m \u001b[43mgraph_function\u001b[49m\u001b[38;5;241;43m.\u001b[39;49m\u001b[43m_call_flat\u001b[49m\u001b[43m(\u001b[49m\n\u001b[0;32m   3040\u001b[0m \u001b[43m    \u001b[49m\u001b[43mfiltered_flat_args\u001b[49m\u001b[43m,\u001b[49m\u001b[43m \u001b[49m\u001b[43mcaptured_inputs\u001b[49m\u001b[38;5;241;43m=\u001b[39;49m\u001b[43mgraph_function\u001b[49m\u001b[38;5;241;43m.\u001b[39;49m\u001b[43mcaptured_inputs\u001b[49m\u001b[43m)\u001b[49m\n",
      "File \u001b[1;32m~\\AppData\\Roaming\\Python\\Python38\\site-packages\\tensorflow\\python\\eager\\function.py:1963\u001b[0m, in \u001b[0;36mConcreteFunction._call_flat\u001b[1;34m(self, args, captured_inputs, cancellation_manager)\u001b[0m\n\u001b[0;32m   1959\u001b[0m possible_gradient_type \u001b[38;5;241m=\u001b[39m gradients_util\u001b[38;5;241m.\u001b[39mPossibleTapeGradientTypes(args)\n\u001b[0;32m   1960\u001b[0m \u001b[38;5;28;01mif\u001b[39;00m (possible_gradient_type \u001b[38;5;241m==\u001b[39m gradients_util\u001b[38;5;241m.\u001b[39mPOSSIBLE_GRADIENT_TYPES_NONE\n\u001b[0;32m   1961\u001b[0m     \u001b[38;5;129;01mand\u001b[39;00m executing_eagerly):\n\u001b[0;32m   1962\u001b[0m   \u001b[38;5;66;03m# No tape is watching; skip to running the function.\u001b[39;00m\n\u001b[1;32m-> 1963\u001b[0m   \u001b[38;5;28;01mreturn\u001b[39;00m \u001b[38;5;28mself\u001b[39m\u001b[38;5;241m.\u001b[39m_build_call_outputs(\u001b[38;5;28;43mself\u001b[39;49m\u001b[38;5;241;43m.\u001b[39;49m\u001b[43m_inference_function\u001b[49m\u001b[38;5;241;43m.\u001b[39;49m\u001b[43mcall\u001b[49m\u001b[43m(\u001b[49m\n\u001b[0;32m   1964\u001b[0m \u001b[43m      \u001b[49m\u001b[43mctx\u001b[49m\u001b[43m,\u001b[49m\u001b[43m \u001b[49m\u001b[43margs\u001b[49m\u001b[43m,\u001b[49m\u001b[43m \u001b[49m\u001b[43mcancellation_manager\u001b[49m\u001b[38;5;241;43m=\u001b[39;49m\u001b[43mcancellation_manager\u001b[49m\u001b[43m)\u001b[49m)\n\u001b[0;32m   1965\u001b[0m forward_backward \u001b[38;5;241m=\u001b[39m \u001b[38;5;28mself\u001b[39m\u001b[38;5;241m.\u001b[39m_select_forward_and_backward_functions(\n\u001b[0;32m   1966\u001b[0m     args,\n\u001b[0;32m   1967\u001b[0m     possible_gradient_type,\n\u001b[0;32m   1968\u001b[0m     executing_eagerly)\n\u001b[0;32m   1969\u001b[0m forward_function, args_with_tangents \u001b[38;5;241m=\u001b[39m forward_backward\u001b[38;5;241m.\u001b[39mforward()\n",
      "File \u001b[1;32m~\\AppData\\Roaming\\Python\\Python38\\site-packages\\tensorflow\\python\\eager\\function.py:591\u001b[0m, in \u001b[0;36m_EagerDefinedFunction.call\u001b[1;34m(self, ctx, args, cancellation_manager)\u001b[0m\n\u001b[0;32m    589\u001b[0m \u001b[38;5;28;01mwith\u001b[39;00m _InterpolateFunctionError(\u001b[38;5;28mself\u001b[39m):\n\u001b[0;32m    590\u001b[0m   \u001b[38;5;28;01mif\u001b[39;00m cancellation_manager \u001b[38;5;129;01mis\u001b[39;00m \u001b[38;5;28;01mNone\u001b[39;00m:\n\u001b[1;32m--> 591\u001b[0m     outputs \u001b[38;5;241m=\u001b[39m \u001b[43mexecute\u001b[49m\u001b[38;5;241;43m.\u001b[39;49m\u001b[43mexecute\u001b[49m\u001b[43m(\u001b[49m\n\u001b[0;32m    592\u001b[0m \u001b[43m        \u001b[49m\u001b[38;5;28;43mstr\u001b[39;49m\u001b[43m(\u001b[49m\u001b[38;5;28;43mself\u001b[39;49m\u001b[38;5;241;43m.\u001b[39;49m\u001b[43msignature\u001b[49m\u001b[38;5;241;43m.\u001b[39;49m\u001b[43mname\u001b[49m\u001b[43m)\u001b[49m\u001b[43m,\u001b[49m\n\u001b[0;32m    593\u001b[0m \u001b[43m        \u001b[49m\u001b[43mnum_outputs\u001b[49m\u001b[38;5;241;43m=\u001b[39;49m\u001b[38;5;28;43mself\u001b[39;49m\u001b[38;5;241;43m.\u001b[39;49m\u001b[43m_num_outputs\u001b[49m\u001b[43m,\u001b[49m\n\u001b[0;32m    594\u001b[0m \u001b[43m        \u001b[49m\u001b[43minputs\u001b[49m\u001b[38;5;241;43m=\u001b[39;49m\u001b[43margs\u001b[49m\u001b[43m,\u001b[49m\n\u001b[0;32m    595\u001b[0m \u001b[43m        \u001b[49m\u001b[43mattrs\u001b[49m\u001b[38;5;241;43m=\u001b[39;49m\u001b[43mattrs\u001b[49m\u001b[43m,\u001b[49m\n\u001b[0;32m    596\u001b[0m \u001b[43m        \u001b[49m\u001b[43mctx\u001b[49m\u001b[38;5;241;43m=\u001b[39;49m\u001b[43mctx\u001b[49m\u001b[43m)\u001b[49m\n\u001b[0;32m    597\u001b[0m   \u001b[38;5;28;01melse\u001b[39;00m:\n\u001b[0;32m    598\u001b[0m     outputs \u001b[38;5;241m=\u001b[39m execute\u001b[38;5;241m.\u001b[39mexecute_with_cancellation(\n\u001b[0;32m    599\u001b[0m         \u001b[38;5;28mstr\u001b[39m(\u001b[38;5;28mself\u001b[39m\u001b[38;5;241m.\u001b[39msignature\u001b[38;5;241m.\u001b[39mname),\n\u001b[0;32m    600\u001b[0m         num_outputs\u001b[38;5;241m=\u001b[39m\u001b[38;5;28mself\u001b[39m\u001b[38;5;241m.\u001b[39m_num_outputs,\n\u001b[1;32m   (...)\u001b[0m\n\u001b[0;32m    603\u001b[0m         ctx\u001b[38;5;241m=\u001b[39mctx,\n\u001b[0;32m    604\u001b[0m         cancellation_manager\u001b[38;5;241m=\u001b[39mcancellation_manager)\n",
      "File \u001b[1;32m~\\AppData\\Roaming\\Python\\Python38\\site-packages\\tensorflow\\python\\eager\\execute.py:59\u001b[0m, in \u001b[0;36mquick_execute\u001b[1;34m(op_name, num_outputs, inputs, attrs, ctx, name)\u001b[0m\n\u001b[0;32m     57\u001b[0m \u001b[38;5;28;01mtry\u001b[39;00m:\n\u001b[0;32m     58\u001b[0m   ctx\u001b[38;5;241m.\u001b[39mensure_initialized()\n\u001b[1;32m---> 59\u001b[0m   tensors \u001b[38;5;241m=\u001b[39m \u001b[43mpywrap_tfe\u001b[49m\u001b[38;5;241;43m.\u001b[39;49m\u001b[43mTFE_Py_Execute\u001b[49m\u001b[43m(\u001b[49m\u001b[43mctx\u001b[49m\u001b[38;5;241;43m.\u001b[39;49m\u001b[43m_handle\u001b[49m\u001b[43m,\u001b[49m\u001b[43m \u001b[49m\u001b[43mdevice_name\u001b[49m\u001b[43m,\u001b[49m\u001b[43m \u001b[49m\u001b[43mop_name\u001b[49m\u001b[43m,\u001b[49m\n\u001b[0;32m     60\u001b[0m \u001b[43m                                      \u001b[49m\u001b[43minputs\u001b[49m\u001b[43m,\u001b[49m\u001b[43m \u001b[49m\u001b[43mattrs\u001b[49m\u001b[43m,\u001b[49m\u001b[43m \u001b[49m\u001b[43mnum_outputs\u001b[49m\u001b[43m)\u001b[49m\n\u001b[0;32m     61\u001b[0m \u001b[38;5;28;01mexcept\u001b[39;00m core\u001b[38;5;241m.\u001b[39m_NotOkStatusException \u001b[38;5;28;01mas\u001b[39;00m e:\n\u001b[0;32m     62\u001b[0m   \u001b[38;5;28;01mif\u001b[39;00m name \u001b[38;5;129;01mis\u001b[39;00m \u001b[38;5;129;01mnot\u001b[39;00m \u001b[38;5;28;01mNone\u001b[39;00m:\n",
      "\u001b[1;31mKeyboardInterrupt\u001b[0m: "
     ]
    }
   ],
   "source": [
    "model = Sequential()\n",
    "model.add(GRU(100, recurrent_dropout=0.2, input_shape=(MAX_LENGTH, EMBEDDING_SIZE), return_sequences=True))\n",
    "model.add(AvgPool1D(pool_size=(170,)))\n",
    "model.add(Dense(50, activation=\"softmax\"))\n",
    "model.compile(loss=\"categorical_crossentropy\", optimizer='adam', metrics=[\"accuracy\"])\n",
    "print(model.summary())\n",
    "X_train, X_val, y_train, y_val = train_test_split(X_train, y_train, test_size=VALIDATION_PART)\n",
    "callback = tf.keras.callbacks.EarlyStopping(monitor='val_loss', patience=30)\n",
    "model_checkpoint_callback = tf.keras.callbacks.ModelCheckpoint(filepath=\"./sentence_level_preprocess-checkpoints\", \n",
    "                                                               save_weights_only=False,\n",
    "                                                               monitor='val_accuracy', mode='max',\n",
    "                                                               save_best_only=True)\n",
    "history = model.fit(x=X_train, y=y_train, epochs=30000, shuffle=True,\n",
    "                    batch_size=200, validation_data=(X_val, y_val), callbacks=[callback,model_checkpoint_callback])\n",
    "with open(\"sentence_level_preprocess-history\",\"wb\") as file:\n",
    "    pickle.dump(history, file)\n",
    "model.save(\"sentence_level_preprocess\")\n",
    "y_pred = model.predict(X_test)\n",
    "print(classification_report(y_pred.argmax(axis=-1).flatten(),y_test.argmax(axis=-1).flatten()))"
   ]
  },
  {
   "cell_type": "code",
   "execution_count": 39,
   "id": "6de04cdd",
   "metadata": {
    "ExecuteTime": {
     "end_time": "2022-03-11T09:50:09.172353Z",
     "start_time": "2022-03-11T09:49:55.899973Z"
    }
   },
   "outputs": [
    {
     "name": "stdout",
     "output_type": "stream",
     "text": [
      "              precision    recall  f1-score   support\n",
      "\n",
      "           0       0.91      0.79      0.84       224\n",
      "           1       0.78      1.00      0.88        70\n",
      "           2       0.23      0.39      0.29        92\n",
      "           3       0.37      0.76      0.50        92\n",
      "           4       0.85      0.67      0.75       268\n",
      "           5       0.69      0.68      0.69       138\n",
      "           6       0.86      1.00      0.92       244\n",
      "           7       0.92      0.78      0.85       314\n",
      "           8       0.72      0.82      0.77        68\n",
      "           9       0.40      0.85      0.55        78\n",
      "          10       1.00      0.88      0.94       238\n",
      "          11       0.73      1.00      0.84       114\n",
      "          12       1.00      0.92      0.96       288\n",
      "          13       1.00      0.80      0.89       132\n",
      "          14       0.20      0.27      0.23       134\n",
      "          15       0.86      1.00      0.92        84\n",
      "          16       0.92      0.72      0.80       212\n",
      "          17       0.73      0.74      0.74       162\n",
      "          18       0.71      0.76      0.74        84\n",
      "          19       0.78      0.63      0.70       146\n",
      "          20       1.00      1.00      1.00        82\n",
      "          21       0.84      0.71      0.77       130\n",
      "          22       0.45      0.75      0.56       112\n",
      "          23       0.71      0.75      0.73       126\n",
      "          24       0.26      0.77      0.38        62\n",
      "          25       0.73      1.00      0.85       132\n",
      "          26       1.00      0.91      0.95       114\n",
      "          27       0.91      0.92      0.92       224\n",
      "          28       1.00      1.00      1.00       138\n",
      "          29       0.83      1.00      0.91        68\n",
      "          30       0.69      1.00      0.81        96\n",
      "          31       0.79      0.90      0.84       126\n",
      "          32       1.00      0.94      0.97       224\n",
      "          33       0.73      0.61      0.66       244\n",
      "          34       0.67      0.47      0.55       180\n",
      "          35       0.90      0.62      0.73       252\n",
      "          36       0.47      1.00      0.64        60\n",
      "          37       0.75      0.43      0.55       258\n",
      "          38       1.00      0.82      0.90       154\n",
      "          39       0.90      0.75      0.82       176\n",
      "          40       0.92      1.00      0.96       156\n",
      "          41       0.90      0.71      0.80       230\n",
      "          42       0.72      0.91      0.80       178\n",
      "          43       0.19      0.16      0.17        98\n",
      "          44       0.87      0.87      0.87       152\n",
      "          45       0.42      0.56      0.48       122\n",
      "          46       1.00      0.57      0.73       312\n",
      "          47       0.76      0.85      0.80       118\n",
      "          48       0.72      0.84      0.78       194\n",
      "          49       0.88      0.43      0.58       208\n",
      "\n",
      "    accuracy                           0.76      7908\n",
      "   macro avg       0.75      0.77      0.75      7908\n",
      "weighted avg       0.80      0.76      0.77      7908\n",
      "\n"
     ]
    }
   ],
   "source": [
    "y_pred = model.predict(X_test)\n",
    "print(classification_report(y_pred.argmax(axis=-1).flatten(),y_test.argmax(axis=-1).flatten()))"
   ]
  },
  {
   "cell_type": "code",
   "execution_count": 40,
   "id": "f24e4604",
   "metadata": {
    "ExecuteTime": {
     "end_time": "2022-03-11T09:50:39.350459Z",
     "start_time": "2022-03-11T09:50:38.289319Z"
    }
   },
   "outputs": [],
   "source": [
    "from tensorflow import keras\n",
    "model = keras.models.load_model('sentence_level_preprocess-checkpoints')"
   ]
  },
  {
   "cell_type": "code",
   "execution_count": 42,
   "id": "2832490e",
   "metadata": {
    "ExecuteTime": {
     "end_time": "2022-03-11T09:51:53.237362Z",
     "start_time": "2022-03-11T09:51:39.670702Z"
    }
   },
   "outputs": [],
   "source": [
    "y_pred = model.predict(X_test)"
   ]
  },
  {
   "cell_type": "code",
   "execution_count": 43,
   "id": "d560d654",
   "metadata": {
    "ExecuteTime": {
     "end_time": "2022-03-11T09:51:53.331803Z",
     "start_time": "2022-03-11T09:51:53.303543Z"
    }
   },
   "outputs": [
    {
     "name": "stdout",
     "output_type": "stream",
     "text": [
      "              precision    recall  f1-score   support\n",
      "\n",
      "           0       0.80      0.76      0.78       204\n",
      "           1       0.78      1.00      0.88        70\n",
      "           2       0.35      0.49      0.41       110\n",
      "           3       0.55      0.57      0.56       184\n",
      "           4       0.88      0.73      0.79       256\n",
      "           5       0.69      0.73      0.71       128\n",
      "           6       0.94      1.00      0.97       266\n",
      "           7       0.92      0.75      0.83       328\n",
      "           8       0.82      0.84      0.83        76\n",
      "           9       0.51      0.65      0.57       130\n",
      "          10       1.00      0.93      0.96       226\n",
      "          11       0.73      0.90      0.81       126\n",
      "          12       0.92      1.00      0.96       244\n",
      "          13       0.74      1.00      0.85        78\n",
      "          14       0.10      0.18      0.13       100\n",
      "          15       0.86      0.86      0.86        98\n",
      "          16       0.92      0.72      0.80       212\n",
      "          17       0.73      0.74      0.74       162\n",
      "          18       1.00      0.65      0.79       138\n",
      "          19       0.78      0.67      0.72       138\n",
      "          20       1.00      1.00      1.00        82\n",
      "          21       0.84      0.71      0.77       130\n",
      "          22       0.63      0.62      0.63       190\n",
      "          23       0.71      0.78      0.75       120\n",
      "          24       0.26      0.77      0.38        62\n",
      "          25       0.73      0.79      0.76       168\n",
      "          26       1.00      0.91      0.95       114\n",
      "          27       0.91      0.84      0.87       246\n",
      "          28       1.00      1.00      1.00       138\n",
      "          29       0.83      1.00      0.91        68\n",
      "          30       0.69      1.00      0.81        96\n",
      "          31       0.79      0.90      0.84       126\n",
      "          32       1.00      1.00      1.00       210\n",
      "          33       0.73      0.65      0.69       226\n",
      "          34       0.33      0.35      0.34       120\n",
      "          35       0.90      0.60      0.72       258\n",
      "          36       0.47      1.00      0.64        60\n",
      "          37       0.87      0.43      0.57       304\n",
      "          38       1.00      0.82      0.90       154\n",
      "          39       0.90      0.69      0.79       190\n",
      "          40       0.79      1.00      0.88       134\n",
      "          41       1.00      1.00      1.00       182\n",
      "          42       0.72      0.84      0.77       194\n",
      "          43       0.33      0.20      0.25       140\n",
      "          44       0.87      0.87      0.87       152\n",
      "          45       0.33      0.59      0.42        88\n",
      "          46       1.00      0.70      0.82       256\n",
      "          47       0.76      0.85      0.80       118\n",
      "          48       0.66      0.88      0.76       168\n",
      "          49       0.71      0.51      0.60       140\n",
      "\n",
      "    accuracy                           0.76      7908\n",
      "   macro avg       0.76      0.77      0.75      7908\n",
      "weighted avg       0.80      0.76      0.77      7908\n",
      "\n"
     ]
    }
   ],
   "source": [
    "from sklearn.metrics import classification_report\n",
    "print(classification_report(y_pred.argmax(axis=-1).flatten(),y_test.argmax(axis=-1).flatten()))"
   ]
  },
  {
   "cell_type": "markdown",
   "id": "414c146b",
   "metadata": {},
   "source": [
    "### Hyper param tunning"
   ]
  },
  {
   "cell_type": "code",
   "execution_count": 1,
   "id": "837ac7a0",
   "metadata": {
    "ExecuteTime": {
     "end_time": "2022-03-16T22:00:57.834592Z",
     "start_time": "2022-03-16T22:00:42.107714Z"
    }
   },
   "outputs": [],
   "source": [
    "import sys\n",
    "sys.path.append(\"../\")\n",
    "import pickle\n",
    "import tensorflow as tf\n",
    "import numpy as np\n",
    "import nltk\n",
    "import pandas as pd\n",
    "import gensim.downloader\n",
    "import gensim\n",
    "from typing import Optional\n",
    "import swifter\n",
    "from PythonCode.preprocess.common import merge_datasets\n",
    "from PythonCode.preprocess.word_embedding_features import sentence_level_preprocess\n",
    "from sklearn.model_selection import train_test_split\n",
    "from keras.layers import Dense, GRU, AvgPool1D\n",
    "from keras.models import Sequential\n",
    "from sklearn.metrics import classification_report\n",
    "NUM_OF_SENTENCE_CHUNK = 3\n",
    "MAX_LENGTH = 170\n",
    "TEST_PART = 0.1\n",
    "VALIDATION_PART = 0.2"
   ]
  },
  {
   "cell_type": "code",
   "execution_count": 2,
   "id": "1c911291",
   "metadata": {
    "ExecuteTime": {
     "end_time": "2022-03-14T16:05:31.397335Z",
     "start_time": "2022-03-14T16:05:31.384323Z"
    }
   },
   "outputs": [],
   "source": [
    "df = merge_datasets(data_path=\"../Data/C50\")"
   ]
  },
  {
   "cell_type": "code",
   "execution_count": null,
   "id": "5597c88f",
   "metadata": {
    "ExecuteTime": {
     "end_time": "2022-03-14T16:05:06.287465Z",
     "start_time": "2022-03-14T16:05:06.287465Z"
    }
   },
   "outputs": [],
   "source": [
    "glove_vectors = gensim.downloader.load('glove-wiki-gigaword-300')"
   ]
  },
  {
   "cell_type": "code",
   "execution_count": 4,
   "id": "32f15648",
   "metadata": {
    "ExecuteTime": {
     "end_time": "2022-03-14T06:24:49.448208Z",
     "start_time": "2022-03-14T06:24:49.436039Z"
    }
   },
   "outputs": [],
   "source": [
    "# class CustomDataGen(tf.keras.utils.Sequence):\n",
    "    \n",
    "#     def __init__(self, df,batch_size):\n",
    "#         self.df = df.copy()\n",
    "#         self.batch_size = batch_size\n",
    "        \n",
    "#     def on_epoch_end(self):\n",
    "#         self.df = self.df.sample(frac=1).reset_index(drop=True)\n",
    "    \n",
    "#     def __get_output(self, label, num_classes):\n",
    "#         return tf.keras.utils.to_categorical(label, num_classes=num_classes)\n",
    "    \n",
    "#     def __getitem__(self, index):\n",
    "#         batches = self.df[index * self.batch_size:(index + 1) * self.batch_size]\n",
    "#         X, y = (batches)\n",
    "#         return X, y\n",
    "    \n",
    "#     def __len__(self):\n",
    "#         return self.n // self.batch_size"
   ]
  },
  {
   "cell_type": "code",
   "execution_count": 5,
   "id": "e2f5f75f",
   "metadata": {
    "ExecuteTime": {
     "end_time": "2022-03-14T06:24:49.495882Z",
     "start_time": "2022-03-14T06:24:49.482482Z"
    }
   },
   "outputs": [],
   "source": [
    "EMBEDDING_SIZE = 300"
   ]
  },
  {
   "cell_type": "code",
   "execution_count": 6,
   "id": "2a755fee",
   "metadata": {
    "ExecuteTime": {
     "end_time": "2022-03-14T06:24:49.543435Z",
     "start_time": "2022-03-14T06:24:49.529462Z"
    }
   },
   "outputs": [],
   "source": [
    "from PythonCode.Constants import *\n",
    "from PythonCode.preprocess.word_embedding_features import num_sentences_based_chucking,tranform_word,preprocess_labels\n",
    "def sentence_level_preprocess(X,embedding_table):\n",
    "    data = num_sentences_based_chucking(X, NUM_OF_SENTENCE_CHUNK)\n",
    "    X_pre = np.zeros((data[\"y\"].size, MAX_LENGTH, 300),dtype=np.float32)\n",
    "    for i, text in enumerate(data[\"X\"]):\n",
    "        words = nltk.word_tokenize(text)\n",
    "        for j, word in enumerate(words):\n",
    "            embedding = tranform_word(word, embedding_table)\n",
    "            if embedding is not None and j < MAX_LENGTH:\n",
    "                X_pre[i, j] = embedding\n",
    "    return X_pre, preprocess_labels(data[\"y\"])\n",
    "\n",
    "X_train, X_test, y_train, y_test = train_test_split(df[TEXT_COLUMN_NAME], df[AUTHOR_NAME_COLUMN_NAME],\n",
    "                                                    test_size=TEST_PART)\n",
    "X_train, y_train = sentence_level_preprocess(pd.concat([X_train.rename(\"X\"), y_train.rename(\"y\")], axis=1))"
   ]
  },
  {
   "cell_type": "code",
   "execution_count": 7,
   "id": "66ac8b80",
   "metadata": {
    "ExecuteTime": {
     "end_time": "2022-03-14T06:31:07.929209Z",
     "start_time": "2022-03-14T06:24:49.576008Z"
    }
   },
   "outputs": [],
   "source": [
    "# (X_train, y_train),(X_test,y_test) = sentence_level_preprocess(df,glove_vectors)"
   ]
  },
  {
   "cell_type": "code",
   "execution_count": 3,
   "id": "951bb23f",
   "metadata": {
    "ExecuteTime": {
     "end_time": "2022-03-14T16:06:03.215886Z",
     "start_time": "2022-03-14T16:05:38.902883Z"
    }
   },
   "outputs": [],
   "source": [
    "with open('X_train.npy', 'rb') as f:\n",
    "    X_train = np.load(f)\n",
    "with open('y_train.npy', 'rb') as f:\n",
    "    y_train = np.load(f)"
   ]
  },
  {
   "cell_type": "code",
   "execution_count": 12,
   "id": "033269f2",
   "metadata": {
    "ExecuteTime": {
     "end_time": "2022-03-14T16:30:33.901435Z",
     "start_time": "2022-03-14T16:30:33.772449Z"
    }
   },
   "outputs": [
    {
     "name": "stdout",
     "output_type": "stream",
     "text": [
      "Model: \"sequential_2\"\n",
      "_________________________________________________________________\n",
      "Layer (type)                 Output Shape              Param #   \n",
      "=================================================================\n",
      "gru_2 (GRU)                  (None, 170, 100)          120600    \n",
      "_________________________________________________________________\n",
      "average_pooling1d_2 (Average (None, 1, 100)            0         \n",
      "_________________________________________________________________\n",
      "dropout_2 (Dropout)          (None, 1, 100)            0         \n",
      "_________________________________________________________________\n",
      "dense_2 (Dense)              (None, 1, 50)             5050      \n",
      "=================================================================\n",
      "Total params: 125,650\n",
      "Trainable params: 125,650\n",
      "Non-trainable params: 0\n",
      "_________________________________________________________________\n"
     ]
    }
   ],
   "source": [
    "from keras.layers import Lambda,Dropout\n",
    "model = Sequential()\n",
    "model.add(GRU(100, recurrent_dropout=0.5, input_shape=(MAX_LENGTH, 300), return_sequences=True))\n",
    "model.add(AvgPool1D(pool_size=(170,)))\n",
    "model.add(Dropout(0.1))\n",
    "model.add(Dense(50, activation=\"softmax\",kernel_regularizer='l1'))\n",
    "model.compile(loss=\"categorical_crossentropy\", optimizer='adam', metrics=[\"accuracy\"])\n",
    "model.summary()"
   ]
  },
  {
   "cell_type": "code",
   "execution_count": 5,
   "id": "49e3dc8f",
   "metadata": {
    "ExecuteTime": {
     "end_time": "2022-03-14T16:08:16.845289Z",
     "start_time": "2022-03-14T16:06:41.829115Z"
    }
   },
   "outputs": [],
   "source": [
    "model_name = \"sentence_level_preprocess-300\"\n",
    "X_train, X_val, y_train, y_val = train_test_split(X_train, y_train, test_size=VALIDATION_PART)\n",
    "callback = tf.keras.callbacks.EarlyStopping(monitor='val_loss', patience=5)\n",
    "model_checkpoint_callback = tf.keras.callbacks.ModelCheckpoint(filepath=f\"./{model_name}-checkpoints\", \n",
    "                                                               save_weights_only=False,\n",
    "                                                               monitor='val_accuracy', mode='max',\n",
    "                                                               save_best_only=True)"
   ]
  },
  {
   "cell_type": "code",
   "execution_count": 6,
   "id": "cc35d35a",
   "metadata": {
    "ExecuteTime": {
     "end_time": "2022-03-14T16:08:16.969337Z",
     "start_time": "2022-03-14T16:08:16.909314Z"
    }
   },
   "outputs": [],
   "source": [
    "from sklearn.utils import class_weight\n",
    "simple_y_train = y_train.argmax(axis=-1).flatten()\n",
    "class_weights = class_weight.compute_class_weight('balanced',np.unique(simple_y_train),simple_y_train)\n",
    "dict_class_weights = {i:v for i,v in enumerate(class_weights)}"
   ]
  },
  {
   "cell_type": "code",
   "execution_count": 7,
   "id": "eaa2de2a",
   "metadata": {
    "ExecuteTime": {
     "end_time": "2022-03-14T16:08:17.032324Z",
     "start_time": "2022-03-14T16:08:17.003307Z"
    }
   },
   "outputs": [],
   "source": [
    "from tensorflow.python.keras.engine.training_utils_v1 import standardize_weights\n",
    "standardize_weight_class = standardize_weights(simple_y_train,class_weight=dict_class_weights)"
   ]
  },
  {
   "cell_type": "code",
   "execution_count": 9,
   "id": "014d4083",
   "metadata": {
    "ExecuteTime": {
     "end_time": "2022-03-14T16:08:27.307750Z",
     "start_time": "2022-03-14T16:08:27.288696Z"
    }
   },
   "outputs": [
    {
     "data": {
      "text/plain": [
       "((45456,), (45456, 1, 50))"
      ]
     },
     "execution_count": 9,
     "metadata": {},
     "output_type": "execute_result"
    }
   ],
   "source": [
    "standardize_weight_class.shape,y_train.shape"
   ]
  },
  {
   "cell_type": "code",
   "execution_count": null,
   "id": "96777938",
   "metadata": {
    "ExecuteTime": {
     "start_time": "2022-03-14T16:30:44.510Z"
    },
    "scrolled": false
   },
   "outputs": [
    {
     "name": "stdout",
     "output_type": "stream",
     "text": [
      "Epoch 1/200\n",
      "228/228 [==============================] - 280s 1s/step - loss: 5.1190 - accuracy: 0.1454 - val_loss: 3.6450 - val_accuracy: 0.2042\n",
      "Epoch 2/200\n",
      "228/228 [==============================] - 252s 1s/step - loss: 3.5213 - accuracy: 0.2171 - val_loss: 3.3592 - val_accuracy: 0.2900\n",
      "Epoch 3/200\n",
      "228/228 [==============================] - 247s 1s/step - loss: 3.2919 - accuracy: 0.3045 - val_loss: 3.1745 - val_accuracy: 0.3475\n",
      "Epoch 4/200\n",
      "228/228 [==============================] - 242s 1s/step - loss: 3.1418 - accuracy: 0.3933 - val_loss: 3.0257 - val_accuracy: 0.4581\n",
      "INFO:tensorflow:Assets written to: .\\sentence_level_preprocess-300-checkpoints\\assets\n",
      "Epoch 5/200\n",
      "228/228 [==============================] - 253s 1s/step - loss: 3.0187 - accuracy: 0.4512 - val_loss: 2.9231 - val_accuracy: 0.4875\n",
      "INFO:tensorflow:Assets written to: .\\sentence_level_preprocess-300-checkpoints\\assets\n",
      "Epoch 6/200\n",
      "228/228 [==============================] - 267s 1s/step - loss: 2.9336 - accuracy: 0.4815 - val_loss: 2.8252 - val_accuracy: 0.5353\n",
      "INFO:tensorflow:Assets written to: .\\sentence_level_preprocess-300-checkpoints\\assets\n",
      "Epoch 7/200\n",
      "228/228 [==============================] - 321s 1s/step - loss: 2.8561 - accuracy: 0.5103 - val_loss: 2.7521 - val_accuracy: 0.5610\n",
      "INFO:tensorflow:Assets written to: .\\sentence_level_preprocess-300-checkpoints\\assets\n",
      "Epoch 8/200\n",
      "228/228 [==============================] - 317s 1s/step - loss: 2.7988 - accuracy: 0.5309 - val_loss: 2.6943 - val_accuracy: 0.5729\n",
      "INFO:tensorflow:Assets written to: .\\sentence_level_preprocess-300-checkpoints\\assets\n",
      "Epoch 9/200\n",
      "228/228 [==============================] - 300s 1s/step - loss: 2.7460 - accuracy: 0.5490 - val_loss: 2.6434 - val_accuracy: 0.5856\n",
      "INFO:tensorflow:Assets written to: .\\sentence_level_preprocess-300-checkpoints\\assets\n",
      "Epoch 10/200\n",
      "228/228 [==============================] - 325s 1s/step - loss: 2.7052 - accuracy: 0.5673 - val_loss: 2.6096 - val_accuracy: 0.6031\n",
      "INFO:tensorflow:Assets written to: .\\sentence_level_preprocess-300-checkpoints\\assets\n",
      "Epoch 11/200\n",
      "228/228 [==============================] - 414s 2s/step - loss: 2.6681 - accuracy: 0.5798 - val_loss: 2.5545 - val_accuracy: 0.6178\n",
      "INFO:tensorflow:Assets written to: .\\sentence_level_preprocess-300-checkpoints\\assets\n",
      "Epoch 12/200\n",
      "228/228 [==============================] - 383s 2s/step - loss: 2.6316 - accuracy: 0.5883 - val_loss: 2.5285 - val_accuracy: 0.6300\n",
      "INFO:tensorflow:Assets written to: .\\sentence_level_preprocess-300-checkpoints\\assets\n",
      "Epoch 13/200\n",
      "228/228 [==============================] - 414s 2s/step - loss: 2.5956 - accuracy: 0.6005 - val_loss: 2.4856 - val_accuracy: 0.6426\n",
      "INFO:tensorflow:Assets written to: .\\sentence_level_preprocess-300-checkpoints\\assets\n",
      "Epoch 14/200\n",
      "228/228 [==============================] - 443s 2s/step - loss: 2.5594 - accuracy: 0.6144 - val_loss: 2.4477 - val_accuracy: 0.6540\n",
      "INFO:tensorflow:Assets written to: .\\sentence_level_preprocess-300-checkpoints\\assets\n",
      "Epoch 15/200\n",
      "228/228 [==============================] - 385s 2s/step - loss: 2.5321 - accuracy: 0.6243 - val_loss: 2.4173 - val_accuracy: 0.6732\n",
      "INFO:tensorflow:Assets written to: .\\sentence_level_preprocess-300-checkpoints\\assets\n",
      "Epoch 16/200\n",
      "228/228 [==============================] - 359s 2s/step - loss: 2.5143 - accuracy: 0.6359 - val_loss: 2.4021 - val_accuracy: 0.6871\n",
      "INFO:tensorflow:Assets written to: .\\sentence_level_preprocess-300-checkpoints\\assets\n",
      "Epoch 17/200\n",
      "228/228 [==============================] - 482s 2s/step - loss: 2.5031 - accuracy: 0.6417 - val_loss: 2.3835 - val_accuracy: 0.6932\n",
      "INFO:tensorflow:Assets written to: .\\sentence_level_preprocess-300-checkpoints\\assets\n",
      "Epoch 18/200\n",
      "228/228 [==============================] - 443s 2s/step - loss: 2.4718 - accuracy: 0.6592 - val_loss: 2.3598 - val_accuracy: 0.7093\n",
      "INFO:tensorflow:Assets written to: .\\sentence_level_preprocess-300-checkpoints\\assets\n",
      "Epoch 19/200\n",
      "228/228 [==============================] - 377s 2s/step - loss: 2.4546 - accuracy: 0.6691 - val_loss: 2.3449 - val_accuracy: 0.7163\n",
      "INFO:tensorflow:Assets written to: .\\sentence_level_preprocess-300-checkpoints\\assets\n",
      "Epoch 20/200\n",
      "228/228 [==============================] - 403s 2s/step - loss: 2.4390 - accuracy: 0.6793 - val_loss: 2.3231 - val_accuracy: 0.7308\n",
      "INFO:tensorflow:Assets written to: .\\sentence_level_preprocess-300-checkpoints\\assets\n",
      "Epoch 21/200\n",
      "228/228 [==============================] - 361s 2s/step - loss: 2.4236 - accuracy: 0.6858 - val_loss: 2.3043 - val_accuracy: 0.7424\n",
      "INFO:tensorflow:Assets written to: .\\sentence_level_preprocess-300-checkpoints\\assets\n",
      "Epoch 22/200\n",
      "228/228 [==============================] - 376s 2s/step - loss: 2.4107 - accuracy: 0.6924 - val_loss: 2.2909 - val_accuracy: 0.7445\n",
      "INFO:tensorflow:Assets written to: .\\sentence_level_preprocess-300-checkpoints\\assets\n",
      "Epoch 23/200\n",
      "228/228 [==============================] - 396s 2s/step - loss: 2.4585 - accuracy: 0.6804 - val_loss: 2.3368 - val_accuracy: 0.7411\n",
      "Epoch 24/200\n",
      "228/228 [==============================] - 399s 2s/step - loss: 2.4144 - accuracy: 0.6973 - val_loss: 2.2799 - val_accuracy: 0.7491\n",
      "INFO:tensorflow:Assets written to: .\\sentence_level_preprocess-300-checkpoints\\assets\n",
      "Epoch 25/200\n",
      "228/228 [==============================] - 405s 2s/step - loss: 2.3849 - accuracy: 0.7048 - val_loss: 2.2616 - val_accuracy: 0.7487\n",
      "Epoch 26/200\n",
      "228/228 [==============================] - 400s 2s/step - loss: 2.3697 - accuracy: 0.7081 - val_loss: 2.2601 - val_accuracy: 0.7402\n",
      "Epoch 27/200\n",
      "228/228 [==============================] - 398s 2s/step - loss: 2.3637 - accuracy: 0.7104 - val_loss: 2.2369 - val_accuracy: 0.7586\n",
      "INFO:tensorflow:Assets written to: .\\sentence_level_preprocess-300-checkpoints\\assets\n",
      "Epoch 28/200\n",
      "228/228 [==============================] - 376s 2s/step - loss: 2.3514 - accuracy: 0.7141 - val_loss: 2.2247 - val_accuracy: 0.7588\n",
      "INFO:tensorflow:Assets written to: .\\sentence_level_preprocess-300-checkpoints\\assets\n",
      "Epoch 29/200\n",
      "228/228 [==============================] - 487s 2s/step - loss: 2.3382 - accuracy: 0.7183 - val_loss: 2.2181 - val_accuracy: 0.7613\n",
      "INFO:tensorflow:Assets written to: .\\sentence_level_preprocess-300-checkpoints\\assets\n",
      "Epoch 30/200\n",
      "228/228 [==============================] - 924s 4s/step - loss: 2.3310 - accuracy: 0.7233 - val_loss: 2.2071 - val_accuracy: 0.7669\n",
      "INFO:tensorflow:Assets written to: .\\sentence_level_preprocess-300-checkpoints\\assets\n",
      "Epoch 31/200\n",
      "228/228 [==============================] - 701s 3s/step - loss: 2.3666 - accuracy: 0.7108 - val_loss: 2.2416 - val_accuracy: 0.7511\n",
      "Epoch 32/200\n",
      "228/228 [==============================] - 693s 3s/step - loss: 2.3423 - accuracy: 0.7191 - val_loss: 2.2034 - val_accuracy: 0.7636\n",
      "Epoch 33/200\n",
      "228/228 [==============================] - 677s 3s/step - loss: 2.3232 - accuracy: 0.7273 - val_loss: 2.1945 - val_accuracy: 0.7656\n",
      "Epoch 34/200\n",
      "228/228 [==============================] - 683s 3s/step - loss: 2.3152 - accuracy: 0.7285 - val_loss: 2.1837 - val_accuracy: 0.7702\n",
      "INFO:tensorflow:Assets written to: .\\sentence_level_preprocess-300-checkpoints\\assets\n",
      "Epoch 35/200\n",
      "228/228 [==============================] - 415s 2s/step - loss: 2.3074 - accuracy: 0.7308 - val_loss: 2.1785 - val_accuracy: 0.7725\n",
      "INFO:tensorflow:Assets written to: .\\sentence_level_preprocess-300-checkpoints\\assets\n",
      "Epoch 36/200\n",
      "228/228 [==============================] - 419s 2s/step - loss: 2.2991 - accuracy: 0.7357 - val_loss: 2.1691 - val_accuracy: 0.7770\n",
      "INFO:tensorflow:Assets written to: .\\sentence_level_preprocess-300-checkpoints\\assets\n",
      "Epoch 37/200\n",
      "228/228 [==============================] - 383s 2s/step - loss: 2.2958 - accuracy: 0.7374 - val_loss: 2.1678 - val_accuracy: 0.7706\n",
      "Epoch 38/200\n",
      "228/228 [==============================] - 378s 2s/step - loss: 2.2902 - accuracy: 0.7364 - val_loss: 2.1605 - val_accuracy: 0.7786\n",
      "INFO:tensorflow:Assets written to: .\\sentence_level_preprocess-300-checkpoints\\assets\n",
      "Epoch 39/200\n",
      "228/228 [==============================] - 367s 2s/step - loss: 2.2868 - accuracy: 0.7370 - val_loss: 2.1543 - val_accuracy: 0.7797\n",
      "INFO:tensorflow:Assets written to: .\\sentence_level_preprocess-300-checkpoints\\assets\n",
      "Epoch 40/200\n",
      "228/228 [==============================] - 447s 2s/step - loss: 2.2860 - accuracy: 0.7437 - val_loss: 2.1490 - val_accuracy: 0.7760\n",
      "Epoch 41/200\n",
      "228/228 [==============================] - 437s 2s/step - loss: 2.2767 - accuracy: 0.7434 - val_loss: 2.1400 - val_accuracy: 0.7837\n",
      "INFO:tensorflow:Assets written to: .\\sentence_level_preprocess-300-checkpoints\\assets\n",
      "Epoch 42/200\n",
      "228/228 [==============================] - 441s 2s/step - loss: 2.2674 - accuracy: 0.7499 - val_loss: 2.1368 - val_accuracy: 0.7893\n",
      "INFO:tensorflow:Assets written to: .\\sentence_level_preprocess-300-checkpoints\\assets\n",
      "Epoch 43/200\n",
      "228/228 [==============================] - 383s 2s/step - loss: 2.2651 - accuracy: 0.7508 - val_loss: 2.1322 - val_accuracy: 0.7895\n",
      "INFO:tensorflow:Assets written to: .\\sentence_level_preprocess-300-checkpoints\\assets\n",
      "Epoch 44/200\n",
      "228/228 [==============================] - 398s 2s/step - loss: 2.2831 - accuracy: 0.7445 - val_loss: 2.1714 - val_accuracy: 0.7775\n",
      "Epoch 45/200\n",
      "228/228 [==============================] - 392s 2s/step - loss: 2.2701 - accuracy: 0.7509 - val_loss: 2.1252 - val_accuracy: 0.7914\n",
      "INFO:tensorflow:Assets written to: .\\sentence_level_preprocess-300-checkpoints\\assets\n",
      "Epoch 46/200\n",
      "228/228 [==============================] - 386s 2s/step - loss: 2.2600 - accuracy: 0.7546 - val_loss: 2.1222 - val_accuracy: 0.7900\n",
      "Epoch 47/200\n",
      "228/228 [==============================] - 383s 2s/step - loss: 2.2523 - accuracy: 0.7587 - val_loss: 2.1363 - val_accuracy: 0.7863\n",
      "Epoch 48/200\n",
      "228/228 [==============================] - 383s 2s/step - loss: 2.2573 - accuracy: 0.7556 - val_loss: 2.1138 - val_accuracy: 0.7969\n",
      "INFO:tensorflow:Assets written to: .\\sentence_level_preprocess-300-checkpoints\\assets\n",
      "Epoch 49/200\n",
      "228/228 [==============================] - 399s 2s/step - loss: 2.2429 - accuracy: 0.7626 - val_loss: 2.1040 - val_accuracy: 0.8037\n",
      "INFO:tensorflow:Assets written to: .\\sentence_level_preprocess-300-checkpoints\\assets\n",
      "Epoch 50/200\n",
      "228/228 [==============================] - 437s 2s/step - loss: 2.2384 - accuracy: 0.7646 - val_loss: 2.1041 - val_accuracy: 0.7992\n",
      "Epoch 51/200\n",
      "228/228 [==============================] - 432s 2s/step - loss: 2.2348 - accuracy: 0.7635 - val_loss: 2.0967 - val_accuracy: 0.8023\n",
      "Epoch 52/200\n",
      "228/228 [==============================] - 438s 2s/step - loss: 2.2326 - accuracy: 0.7669 - val_loss: 2.1022 - val_accuracy: 0.8012\n",
      "Epoch 53/200\n",
      "228/228 [==============================] - 431s 2s/step - loss: 2.2411 - accuracy: 0.7657 - val_loss: 2.1010 - val_accuracy: 0.8046\n",
      "INFO:tensorflow:Assets written to: .\\sentence_level_preprocess-300-checkpoints\\assets\n",
      "Epoch 54/200\n",
      "228/228 [==============================] - 405s 2s/step - loss: 2.2280 - accuracy: 0.7688 - val_loss: 2.0930 - val_accuracy: 0.8119\n",
      "INFO:tensorflow:Assets written to: .\\sentence_level_preprocess-300-checkpoints\\assets\n",
      "Epoch 55/200\n",
      "228/228 [==============================] - 342s 2s/step - loss: 2.2249 - accuracy: 0.7722 - val_loss: 2.0869 - val_accuracy: 0.8161\n",
      "INFO:tensorflow:Assets written to: .\\sentence_level_preprocess-300-checkpoints\\assets\n",
      "Epoch 56/200\n",
      "228/228 [==============================] - 399s 2s/step - loss: 2.2196 - accuracy: 0.7715 - val_loss: 2.0877 - val_accuracy: 0.8101\n",
      "Epoch 57/200\n",
      "228/228 [==============================] - 390s 2s/step - loss: 2.2292 - accuracy: 0.7698 - val_loss: 2.0859 - val_accuracy: 0.8091\n",
      "Epoch 58/200\n",
      " 49/228 [=====>........................] - ETA: 4:43 - loss: 2.2231 - accuracy: 0.7721"
     ]
    }
   ],
   "source": [
    "history = model.fit(x=X_train, y=y_train, epochs=200, shuffle=True,workers=8,use_multiprocessing=True,\n",
    "                    sample_weight=standardize_weight_class,\n",
    "                    batch_size=128, validation_data=(X_val, y_val), callbacks=[callback,model_checkpoint_callback])"
   ]
  },
  {
   "cell_type": "code",
   "execution_count": 4,
   "id": "3bb45e5e",
   "metadata": {
    "ExecuteTime": {
     "end_time": "2022-03-16T22:06:03.374378Z",
     "start_time": "2022-03-16T22:06:00.865309Z"
    }
   },
   "outputs": [],
   "source": [
    "with open('y_test.npy', 'rb') as f:\n",
    "    y_test = np.load(f)\n",
    "model = tf.keras.models.load_model('sentence_level_preprocess-300-checkpoints')"
   ]
  },
  {
   "cell_type": "code",
   "execution_count": 7,
   "id": "e9475b9a",
   "metadata": {
    "ExecuteTime": {
     "end_time": "2022-03-16T22:08:03.629113Z",
     "start_time": "2022-03-16T22:08:03.075612Z"
    }
   },
   "outputs": [
    {
     "ename": "ValueError",
     "evalue": "Cannot load file containing pickled data when allow_pickle=False",
     "output_type": "error",
     "traceback": [
      "\u001b[1;31m---------------------------------------------------------------------------\u001b[0m",
      "\u001b[1;31mValueError\u001b[0m                                Traceback (most recent call last)",
      "Input \u001b[1;32mIn [7]\u001b[0m, in \u001b[0;36m<module>\u001b[1;34m\u001b[0m\n\u001b[0;32m      1\u001b[0m \u001b[38;5;28;01mwith\u001b[39;00m \u001b[38;5;28mopen\u001b[39m(\u001b[38;5;124m'\u001b[39m\u001b[38;5;124mX_test.npy\u001b[39m\u001b[38;5;124m'\u001b[39m, \u001b[38;5;124m'\u001b[39m\u001b[38;5;124mrb\u001b[39m\u001b[38;5;124m'\u001b[39m) \u001b[38;5;28;01mas\u001b[39;00m f:\n\u001b[1;32m----> 2\u001b[0m     X_test \u001b[38;5;241m=\u001b[39m \u001b[43mnp\u001b[49m\u001b[38;5;241;43m.\u001b[39;49m\u001b[43mload\u001b[49m\u001b[43m(\u001b[49m\u001b[43mf\u001b[49m\u001b[43m)\u001b[49m\n",
      "File \u001b[1;32m~\\AppData\\Roaming\\Python\\Python38\\site-packages\\numpy\\lib\\npyio.py:435\u001b[0m, in \u001b[0;36mload\u001b[1;34m(file, mmap_mode, allow_pickle, fix_imports, encoding)\u001b[0m\n\u001b[0;32m    432\u001b[0m \u001b[38;5;28;01melse\u001b[39;00m:\n\u001b[0;32m    433\u001b[0m     \u001b[38;5;66;03m# Try a pickle\u001b[39;00m\n\u001b[0;32m    434\u001b[0m     \u001b[38;5;28;01mif\u001b[39;00m \u001b[38;5;129;01mnot\u001b[39;00m allow_pickle:\n\u001b[1;32m--> 435\u001b[0m         \u001b[38;5;28;01mraise\u001b[39;00m \u001b[38;5;167;01mValueError\u001b[39;00m(\u001b[38;5;124m\"\u001b[39m\u001b[38;5;124mCannot load file containing pickled data \u001b[39m\u001b[38;5;124m\"\u001b[39m\n\u001b[0;32m    436\u001b[0m                          \u001b[38;5;124m\"\u001b[39m\u001b[38;5;124mwhen allow_pickle=False\u001b[39m\u001b[38;5;124m\"\u001b[39m)\n\u001b[0;32m    437\u001b[0m     \u001b[38;5;28;01mtry\u001b[39;00m:\n\u001b[0;32m    438\u001b[0m         \u001b[38;5;28;01mreturn\u001b[39;00m pickle\u001b[38;5;241m.\u001b[39mload(fid, \u001b[38;5;241m*\u001b[39m\u001b[38;5;241m*\u001b[39mpickle_kwargs)\n",
      "\u001b[1;31mValueError\u001b[0m: Cannot load file containing pickled data when allow_pickle=False"
     ]
    }
   ],
   "source": [
    "with open('X_test.npy', 'rb') as f:\n",
    "    X_test = np.load(f)"
   ]
  },
  {
   "cell_type": "code",
   "execution_count": 2,
   "id": "75e92dbe",
   "metadata": {
    "ExecuteTime": {
     "end_time": "2022-03-16T22:01:08.866760Z",
     "start_time": "2022-03-16T22:01:07.779297Z"
    }
   },
   "outputs": [
    {
     "ename": "NameError",
     "evalue": "name 'X_test' is not defined",
     "output_type": "error",
     "traceback": [
      "\u001b[1;31m---------------------------------------------------------------------------\u001b[0m",
      "\u001b[1;31mNameError\u001b[0m                                 Traceback (most recent call last)",
      "Input \u001b[1;32mIn [2]\u001b[0m, in \u001b[0;36m<module>\u001b[1;34m\u001b[0m\n\u001b[0;32m      1\u001b[0m \u001b[38;5;28;01mwith\u001b[39;00m \u001b[38;5;28mopen\u001b[39m(\u001b[38;5;124m'\u001b[39m\u001b[38;5;124mX_test.npy\u001b[39m\u001b[38;5;124m'\u001b[39m, \u001b[38;5;124m'\u001b[39m\u001b[38;5;124mwb\u001b[39m\u001b[38;5;124m'\u001b[39m) \u001b[38;5;28;01mas\u001b[39;00m f:\n\u001b[1;32m----> 2\u001b[0m     np\u001b[38;5;241m.\u001b[39msave(f,\u001b[43mX_test\u001b[49m)\n\u001b[0;32m      3\u001b[0m \u001b[38;5;28;01mwith\u001b[39;00m \u001b[38;5;28mopen\u001b[39m(\u001b[38;5;124m'\u001b[39m\u001b[38;5;124my_test.npy\u001b[39m\u001b[38;5;124m'\u001b[39m, \u001b[38;5;124m'\u001b[39m\u001b[38;5;124mwb\u001b[39m\u001b[38;5;124m'\u001b[39m) \u001b[38;5;28;01mas\u001b[39;00m f:\n\u001b[0;32m      4\u001b[0m     np\u001b[38;5;241m.\u001b[39msave(f,y_test)\n",
      "\u001b[1;31mNameError\u001b[0m: name 'X_test' is not defined"
     ]
    }
   ],
   "source": [
    "y_pred = model.predict(X_test)\n",
    "print(classification_report(y_pred.argmax(axis=-1).flatten(),y_test.argmax(axis=-1).flatten()))"
   ]
  },
  {
   "cell_type": "markdown",
   "id": "d138e809",
   "metadata": {},
   "source": [
    "## Fully Connected instead avg"
   ]
  },
  {
   "cell_type": "code",
   "execution_count": null,
   "id": "5e0c1a40",
   "metadata": {
    "ExecuteTime": {
     "start_time": "2022-03-14T16:31:59.361Z"
    }
   },
   "outputs": [],
   "source": [
    "from keras.layers import Dropout\n",
    "model = Sequential()\n",
    "model.add(GRU(150, recurrent_dropout=0.5, input_shape=(MAX_LENGTH, 300), return_sequences=True))\n",
    "model.add(Dense(100,activation=\"relu\",kernel_regularizer='l1'))\n",
    "model.add(Dropout(0.3))\n",
    "model.add(Dense(75,activation=\"relu\"))\n",
    "model.add(Dense(50, activation=\"softmax\"))\n",
    "model.compile(loss=\"categorical_crossentropy\", optimizer='adam', metrics=[\"accuracy\"])\n",
    "model.summary()"
   ]
  },
  {
   "cell_type": "code",
   "execution_count": 13,
   "id": "a066ce5b",
   "metadata": {
    "ExecuteTime": {
     "end_time": "2022-03-14T07:22:12.464688Z",
     "start_time": "2022-03-14T07:21:57.709814Z"
    }
   },
   "outputs": [
    {
     "name": "stdout",
     "output_type": "stream",
     "text": [
      "              precision    recall  f1-score   support\n",
      "\n",
      "           0       1.00      0.88      0.93       144\n",
      "           1       0.86      0.85      0.86       162\n",
      "           2       0.76      0.81      0.79       254\n",
      "           3       0.67      0.43      0.53       162\n",
      "           4       0.91      0.88      0.89       238\n",
      "           5       0.63      0.59      0.61       136\n",
      "           6       0.75      0.93      0.83       152\n",
      "           7       0.77      0.81      0.79       170\n",
      "           8       0.90      0.80      0.84       196\n",
      "           9       0.90      0.82      0.86       206\n",
      "          10       1.00      0.93      0.97       180\n",
      "          11       0.74      0.80      0.77       158\n",
      "          12       1.00      0.81      0.90       226\n",
      "          13       0.85      0.76      0.80       108\n",
      "          14       0.56      0.56      0.56       142\n",
      "          15       1.00      0.79      0.88        76\n",
      "          16       1.00      1.00      1.00       106\n",
      "          17       0.87      0.69      0.77       228\n",
      "          18       0.35      0.54      0.42        78\n",
      "          19       0.83      0.93      0.88       192\n",
      "          20       1.00      1.00      1.00       114\n",
      "          21       0.85      0.67      0.75       158\n",
      "          22       0.73      0.59      0.65       194\n",
      "          23       0.76      0.70      0.73       138\n",
      "          24       0.70      0.71      0.71       118\n",
      "          25       0.82      1.00      0.90       162\n",
      "          26       0.86      0.87      0.86       150\n",
      "          27       0.82      0.82      0.82       170\n",
      "          28       1.00      1.00      1.00       192\n",
      "          29       0.89      0.64      0.74       176\n",
      "          30       0.83      1.00      0.91        98\n",
      "          31       0.75      0.75      0.75       120\n",
      "          32       1.00      1.00      1.00       170\n",
      "          33       0.79      1.00      0.89       108\n",
      "          34       0.27      0.48      0.35        84\n",
      "          35       0.76      0.77      0.76       146\n",
      "          36       0.67      0.85      0.75       150\n",
      "          37       0.80      0.43      0.56       312\n",
      "          38       0.75      1.00      0.85       200\n",
      "          39       0.89      1.00      0.94       134\n",
      "          40       0.80      1.00      0.89       166\n",
      "          41       0.60      0.80      0.69       130\n",
      "          42       0.30      0.68      0.41       100\n",
      "          43       0.14      0.13      0.13        92\n",
      "          44       0.83      1.00      0.90       114\n",
      "          45       0.34      0.40      0.37       180\n",
      "          46       1.00      0.69      0.82       222\n",
      "          47       0.91      0.79      0.85       154\n",
      "          48       0.88      0.79      0.83       162\n",
      "          49       0.25      0.21      0.23       184\n",
      "\n",
      "    accuracy                           0.77      7912\n",
      "   macro avg       0.77      0.77      0.76      7912\n",
      "weighted avg       0.79      0.77      0.77      7912\n",
      "\n"
     ]
    }
   ],
   "source": [
    "# with open(f\"./{model_name}-history\",\"wb\") as file:\n",
    "#     pickle.dump(history, file)\n",
    "# model.save(model_name)\n",
    "model = tf.keras.models.load_model('sentence_level_preprocess-300-checkpoints')\n",
    "y_pred = model.predict(X_test)\n",
    "print(classification_report(y_pred.argmax(axis=-1).flatten(),y_test.argmax(axis=-1).flatten()))"
   ]
  },
  {
   "cell_type": "code",
   "execution_count": 29,
   "id": "9d833e5b",
   "metadata": {
    "ExecuteTime": {
     "end_time": "2022-03-14T07:28:06.386753Z",
     "start_time": "2022-03-14T07:28:05.544845Z"
    }
   },
   "outputs": [
    {
     "data": {
      "text/plain": [
       "<AxesSubplot:>"
      ]
     },
     "execution_count": 29,
     "metadata": {},
     "output_type": "execute_result"
    },
    {
     "data": {
      "image/png": "[encoded data removed]",
      "text/plain": [
       "<Figure size 432x288 with 1 Axes>"
      ]
     },
     "metadata": {
      "needs_background": "light"
     },
     "output_type": "display_data"
    }
   ],
   "source": [
    "np.abs(pd.Series(y_test.argmax(axis=-1).flatten()).value_counts()/y_test.shape[0] * 100 - pd.Series(y_train.argmax(axis=-1).flatten()).value_counts()/y_train.shape[0] *100).plot(kind='bar')"
   ]
  },
  {
   "cell_type": "code",
   "execution_count": null,
   "id": "a2dfbbf9",
   "metadata": {},
   "outputs": [],
   "source": []
  }
 ],
 "metadata": {
  "interpreter": {
   "hash": "fed6871eb726fa4567b353fc35e8561ef77d3a1fff6dfd076463e4890681050f"
  },
  "kernelspec": {
   "display_name": "Python 3.9.7 64-bit",
   "language": "python",
   "name": "python3"
  },
  "language_info": {
   "codemirror_mode": {
    "name": "ipython",
    "version": 3
   },
   "file_extension": ".py",
   "mimetype": "text/x-python",
   "name": "python",
   "nbconvert_exporter": "python",
   "pygments_lexer": "ipython3",
   "version": "3.9.7"
  },
  "toc": {
   "base_numbering": 1,
   "nav_menu": {},
   "number_sections": true,
   "sideBar": true,
   "skip_h1_title": false,
   "title_cell": "Table of Contents",
   "title_sidebar": "Contents",
   "toc_cell": false,
   "toc_position": {},
   "toc_section_display": true,
   "toc_window_display": false
  },
  "varInspector": {
   "cols": {
    "lenName": 16,
    "lenType": 16,
    "lenVar": 40
   },
   "kernels_config": {
    "python": {
     "delete_cmd_postfix": "",
     "delete_cmd_prefix": "del ",
     "library": "var_list.py",
     "varRefreshCmd": "print(var_dic_list())"
    },
    "r": {
     "delete_cmd_postfix": ") ",
     "delete_cmd_prefix": "rm(",
     "library": "var_list.r",
     "varRefreshCmd": "cat(var_dic_list()) "
    }
   },
   "types_to_exclude": [
    "module",
    "function",
    "builtin_function_or_method",
    "instance",
    "_Feature"
   ],
   "window_display": false
  }
 },
 "nbformat": 4,
 "nbformat_minor": 5
}
