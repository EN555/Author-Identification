{
 "cells": [
  {
   "cell_type": "code",
   "execution_count": 1,
   "metadata": {
    "ExecuteTime": {
     "end_time": "2021-12-13T11:12:29.168751Z",
     "start_time": "2021-12-13T11:12:24.799410Z"
    }
   },
   "outputs": [
    {
     "name": "stderr",
     "output_type": "stream",
     "text": [
      "[nltk_data] Downloading package punkt to\n",
      "[nltk_data]     C:\\Users\\eviat\\AppData\\Roaming\\nltk_data...\n",
      "[nltk_data]   Package punkt is already up-to-date!\n",
      "[nltk_data] Downloading package averaged_perceptron_tagger to\n",
      "[nltk_data]     C:\\Users\\eviat\\AppData\\Roaming\\nltk_data...\n",
      "[nltk_data]   Package averaged_perceptron_tagger is already up-to-\n",
      "[nltk_data]       date!\n"
     ]
    }
   ],
   "source": [
    "from PythonCode.preprocess import *"
   ]
  },
  {
   "cell_type": "code",
   "execution_count": 2,
   "metadata": {
    "ExecuteTime": {
     "end_time": "2021-12-13T11:12:29.698321Z",
     "start_time": "2021-12-13T11:12:29.170716Z"
    }
   },
   "outputs": [],
   "source": [
    "from PythonCode.models import *"
   ]
  },
  {
   "cell_type": "code",
   "execution_count": 3,
   "metadata": {
    "ExecuteTime": {
     "end_time": "2021-12-13T11:12:29.714283Z",
     "start_time": "2021-12-13T11:12:29.700289Z"
    }
   },
   "outputs": [],
   "source": [
    "import pandas as pd\n",
    "import swifter\n",
    "import nltk\n",
    "from nltk.stem import PorterStemmer\n",
    "from nltk.tokenize import word_tokenize\n",
    "import string\n",
    "from typing import List\n",
    "from nltk.corpus import stopwords\n",
    "from itertools import islice\n",
    "from sklearn.preprocessing import StandardScaler\n",
    "from sklearn.preprocessing import MinMaxScaler\n",
    "from sklearn.model_selection import train_test_split\n",
    "from sklearn.feature_extraction.text import CountVectorizer\n",
    "import os\n",
    "import sys\n",
    "from abc import ABC, abstractmethod"
   ]
  },
  {
   "cell_type": "code",
   "execution_count": 4,
   "metadata": {
    "ExecuteTime": {
     "end_time": "2021-12-13T11:12:29.730232Z",
     "start_time": "2021-12-13T11:12:29.715248Z"
    }
   },
   "outputs": [],
   "source": [
    "# def load_data(path: str) -> pd.DataFrame:\n",
    "#     rows_list = []\n",
    "#     _, authors, _ = next(os.walk(path))\n",
    "#     for author_name in islice(authors, 2):\n",
    "#             curr_row = {\"author_name\": author_name}\n",
    "#             author_path = os.path.join(path, author_name)\n",
    "#             _, _, books_files = next(os.walk(author_path))\n",
    "#             for book_name in books_files:\n",
    "#                 curr_row[\"book_name\"] = book_name\n",
    "#                 with open(os.path.join(author_path, book_name), \"r\") as book:\n",
    "#                     curr_row[\"book_text\"] = book.read()\n",
    "#                 rows_list.append(curr_row.copy())\n",
    "#     return pd.DataFrame(rows_list)"
   ]
  },
  {
   "cell_type": "code",
   "execution_count": 5,
   "metadata": {
    "ExecuteTime": {
     "end_time": "2021-12-13T11:12:29.746196Z",
     "start_time": "2021-12-13T11:12:29.734199Z"
    }
   },
   "outputs": [],
   "source": [
    "# data  = load_data(\"Data/C50train/\")"
   ]
  },
  {
   "cell_type": "code",
   "execution_count": 31,
   "metadata": {
    "ExecuteTime": {
     "end_time": "2021-12-10T13:32:50.304046Z",
     "start_time": "2021-12-10T13:32:50.289101Z"
    }
   },
   "outputs": [],
   "source": [
    "# data.shape"
   ]
  },
  {
   "cell_type": "code",
   "execution_count": 32,
   "metadata": {
    "ExecuteTime": {
     "end_time": "2021-12-10T13:32:52.458870Z",
     "start_time": "2021-12-10T13:32:50.424990Z"
    }
   },
   "outputs": [
    {
     "name": "stdout",
     "output_type": "stream",
     "text": [
      "      $    &    '    ''   'S  'congest  'll   'm  'meltdown  'problem  ...  \\\n",
      "0   1.0  0.0  0.0   2.0  0.0       0.0  0.0  0.0        0.0       0.0  ...   \n",
      "1   0.0  0.0  0.0   8.0  0.0       0.0  0.0  0.0        0.0       0.0  ...   \n",
      "2   0.0  0.0  0.0  10.0  0.0       0.0  0.0  0.0        0.0       0.0  ...   \n",
      "3   3.0  0.0  1.0   7.0  0.0       0.0  0.0  1.0        0.0       0.0  ...   \n",
      "4   2.0  0.0  1.0   5.0  0.0       0.0  0.0  0.0        0.0       0.0  ...   \n",
      "..  ...  ...  ...   ...  ...       ...  ...  ...        ...       ...  ...   \n",
      "95  NaN  NaN  NaN   NaN  NaN       NaN  NaN  NaN        NaN       NaN  ...   \n",
      "96  NaN  NaN  NaN   NaN  NaN       NaN  NaN  NaN        NaN       NaN  ...   \n",
      "97  NaN  NaN  NaN   NaN  NaN       NaN  NaN  NaN        NaN       NaN  ...   \n",
      "98  NaN  NaN  NaN   NaN  NaN       NaN  NaN  NaN        NaN       NaN  ...   \n",
      "99  NaN  NaN  NaN   NaN  NaN       NaN  NaN  NaN        NaN       NaN  ...   \n",
      "\n",
      "    young  yugoslavia  zagreb  zagrebacka  zeman  zero  zivnostenska  zombi  \\\n",
      "0     0.0         0.0     0.0         0.0    0.0   0.0           0.0    0.0   \n",
      "1     0.0         0.0     0.0         0.0    0.0   0.0           0.0    0.0   \n",
      "2     0.0         0.0     0.0         0.0    0.0   0.0           0.0    0.0   \n",
      "3     0.0         0.0     0.0         0.0    0.0   0.0           0.0    0.0   \n",
      "4     0.0         0.0     0.0         0.0    0.0   0.0           0.0    0.0   \n",
      "..    ...         ...     ...         ...    ...   ...           ...    ...   \n",
      "95    NaN         NaN     NaN         NaN    NaN   NaN           NaN    NaN   \n",
      "96    NaN         NaN     NaN         NaN    NaN   NaN           NaN    NaN   \n",
      "97    NaN         NaN     NaN         NaN    NaN   NaN           NaN    NaN   \n",
      "98    NaN         NaN     NaN         NaN    NaN   NaN           NaN    NaN   \n",
      "99    NaN         NaN     NaN         NaN    NaN   NaN           NaN    NaN   \n",
      "\n",
      "    zone  zubizarreta  \n",
      "0    0.0          0.0  \n",
      "1    0.0          0.0  \n",
      "2    0.0          0.0  \n",
      "3    1.0          0.0  \n",
      "4    0.0          0.0  \n",
      "..   ...          ...  \n",
      "95   NaN          NaN  \n",
      "96   NaN          NaN  \n",
      "97   NaN          NaN  \n",
      "98   NaN          NaN  \n",
      "99   NaN          NaN  \n",
      "\n",
      "[93 rows x 3683 columns]\n"
     ]
    },
    {
     "data": {
      "text/plain": [
       "(      $    &    '    ''   'S  'congest  'll   'm  'meltdown  'problem  ...  \\\n",
       " 0   1.0  0.0  0.0   2.0  0.0       0.0  0.0  0.0        0.0       0.0  ...   \n",
       " 1   0.0  0.0  0.0   8.0  0.0       0.0  0.0  0.0        0.0       0.0  ...   \n",
       " 2   0.0  0.0  0.0  10.0  0.0       0.0  0.0  0.0        0.0       0.0  ...   \n",
       " 3   3.0  0.0  1.0   7.0  0.0       0.0  0.0  1.0        0.0       0.0  ...   \n",
       " 4   2.0  0.0  1.0   5.0  0.0       0.0  0.0  0.0        0.0       0.0  ...   \n",
       " ..  ...  ...  ...   ...  ...       ...  ...  ...        ...       ...  ...   \n",
       " 95  NaN  NaN  NaN   NaN  NaN       NaN  NaN  NaN        NaN       NaN  ...   \n",
       " 96  NaN  NaN  NaN   NaN  NaN       NaN  NaN  NaN        NaN       NaN  ...   \n",
       " 97  NaN  NaN  NaN   NaN  NaN       NaN  NaN  NaN        NaN       NaN  ...   \n",
       " 98  NaN  NaN  NaN   NaN  NaN       NaN  NaN  NaN        NaN       NaN  ...   \n",
       " 99  NaN  NaN  NaN   NaN  NaN       NaN  NaN  NaN        NaN       NaN  ...   \n",
       " \n",
       "     young  yugoslavia  zagreb  zagrebacka  zeman  zero  zivnostenska  zombi  \\\n",
       " 0     0.0         0.0     0.0         0.0    0.0   0.0           0.0    0.0   \n",
       " 1     0.0         0.0     0.0         0.0    0.0   0.0           0.0    0.0   \n",
       " 2     0.0         0.0     0.0         0.0    0.0   0.0           0.0    0.0   \n",
       " 3     0.0         0.0     0.0         0.0    0.0   0.0           0.0    0.0   \n",
       " 4     0.0         0.0     0.0         0.0    0.0   0.0           0.0    0.0   \n",
       " ..    ...         ...     ...         ...    ...   ...           ...    ...   \n",
       " 95    NaN         NaN     NaN         NaN    NaN   NaN           NaN    NaN   \n",
       " 96    NaN         NaN     NaN         NaN    NaN   NaN           NaN    NaN   \n",
       " 97    NaN         NaN     NaN         NaN    NaN   NaN           NaN    NaN   \n",
       " 98    NaN         NaN     NaN         NaN    NaN   NaN           NaN    NaN   \n",
       " 99    NaN         NaN     NaN         NaN    NaN   NaN           NaN    NaN   \n",
       " \n",
       "     zone  zubizarreta  \n",
       " 0    0.0          0.0  \n",
       " 1    0.0          0.0  \n",
       " 2    0.0          0.0  \n",
       " 3    1.0          0.0  \n",
       " 4    0.0          0.0  \n",
       " ..   ...          ...  \n",
       " 95   NaN          NaN  \n",
       " 96   NaN          NaN  \n",
       " 97   NaN          NaN  \n",
       " 98   NaN          NaN  \n",
       " 99   NaN          NaN  \n",
       " \n",
       " [93 rows x 3683 columns],\n",
       "       $    &    '    ''   'S  'congest  'll   'm  'meltdown  'problem  ...  \\\n",
       " 0   0.0  0.0  0.0   1.0  0.0       0.0  0.0  0.0        0.0       0.0  ...   \n",
       " 1   1.0  0.0  1.0   1.0  0.0       0.0  0.0  0.0        0.0       0.0  ...   \n",
       " 2   0.0  0.0  0.0   0.0  0.0       0.0  0.0  0.0        0.0       0.0  ...   \n",
       " 3   1.0  0.0  0.0   2.0  0.0       0.0  0.0  0.0        0.0       0.0  ...   \n",
       " 4   0.0  0.0  1.0  10.0  0.0       0.0  0.0  0.0        0.0       0.0  ...   \n",
       " 5   0.0  0.0  0.0   3.0  0.0       0.0  0.0  0.0        0.0       0.0  ...   \n",
       " 6   0.0  0.0  0.0   5.0  0.0       0.0  0.0  0.0        0.0       0.0  ...   \n",
       " 7   4.0  0.0  0.0   4.0  0.0       0.0  0.0  0.0        0.0       0.0  ...   \n",
       " 8   0.0  0.0  1.0   4.0  0.0       0.0  0.0  1.0        0.0       0.0  ...   \n",
       " 9   2.0  0.0  3.0   9.0  0.0       1.0  0.0  0.0        1.0       1.0  ...   \n",
       " 10  0.0  0.0  0.0   4.0  0.0       0.0  0.0  0.0        0.0       0.0  ...   \n",
       " 11  3.0  0.0  1.0  12.0  0.0       0.0  0.0  0.0        0.0       0.0  ...   \n",
       " 12  1.0  1.0  0.0  18.0  0.0       0.0  0.0  0.0        0.0       0.0  ...   \n",
       " 13  2.0  0.0  1.0   6.0  0.0       0.0  0.0  0.0        0.0       0.0  ...   \n",
       " 14  0.0  0.0  0.0   9.0  0.0       0.0  0.0  0.0        0.0       0.0  ...   \n",
       " 15  1.0  0.0  0.0   3.0  0.0       0.0  0.0  0.0        0.0       0.0  ...   \n",
       " 16  4.0  0.0  0.0   2.0  0.0       0.0  0.0  0.0        0.0       0.0  ...   \n",
       " 17  1.0  0.0  0.0   8.0  0.0       0.0  0.0  0.0        0.0       0.0  ...   \n",
       " 18  0.0  0.0  0.0   4.0  0.0       0.0  0.0  0.0        0.0       0.0  ...   \n",
       " 19  0.0  1.0  0.0  11.0  0.0       0.0  1.0  0.0        0.0       0.0  ...   \n",
       " 20  0.0  2.0  1.0  10.0  0.0       0.0  0.0  0.0        0.0       0.0  ...   \n",
       " 21  0.0  0.0  1.0   9.0  0.0       0.0  0.0  1.0        0.0       0.0  ...   \n",
       " 22  0.0  0.0  0.0   7.0  1.0       0.0  0.0  0.0        0.0       0.0  ...   \n",
       " 23  0.0  0.0  0.0   2.0  0.0       0.0  0.0  1.0        0.0       0.0  ...   \n",
       " 24  0.0  0.0  0.0   2.0  0.0       0.0  1.0  0.0        0.0       0.0  ...   \n",
       " 25  0.0  0.0  0.0   5.0  0.0       0.0  0.0  0.0        0.0       0.0  ...   \n",
       " 26  0.0  0.0  1.0   9.0  0.0       0.0  0.0  0.0        0.0       0.0  ...   \n",
       " 27  0.0  0.0  0.0   1.0  0.0       0.0  0.0  0.0        0.0       0.0  ...   \n",
       " 28  0.0  0.0  0.0   5.0  0.0       0.0  0.0  0.0        0.0       0.0  ...   \n",
       " 29  0.0  1.0  0.0   1.0  0.0       0.0  0.0  0.0        0.0       0.0  ...   \n",
       " 32  NaN  NaN  NaN   NaN  NaN       NaN  NaN  NaN        NaN       NaN  ...   \n",
       " 35  NaN  NaN  NaN   NaN  NaN       NaN  NaN  NaN        NaN       NaN  ...   \n",
       " 36  NaN  NaN  NaN   NaN  NaN       NaN  NaN  NaN        NaN       NaN  ...   \n",
       " 38  NaN  NaN  NaN   NaN  NaN       NaN  NaN  NaN        NaN       NaN  ...   \n",
       " 39  NaN  NaN  NaN   NaN  NaN       NaN  NaN  NaN        NaN       NaN  ...   \n",
       " 44  NaN  NaN  NaN   NaN  NaN       NaN  NaN  NaN        NaN       NaN  ...   \n",
       " 48  NaN  NaN  NaN   NaN  NaN       NaN  NaN  NaN        NaN       NaN  ...   \n",
       " 49  NaN  NaN  NaN   NaN  NaN       NaN  NaN  NaN        NaN       NaN  ...   \n",
       " 54  NaN  NaN  NaN   NaN  NaN       NaN  NaN  NaN        NaN       NaN  ...   \n",
       " 58  NaN  NaN  NaN   NaN  NaN       NaN  NaN  NaN        NaN       NaN  ...   \n",
       " 59  NaN  NaN  NaN   NaN  NaN       NaN  NaN  NaN        NaN       NaN  ...   \n",
       " 60  NaN  NaN  NaN   NaN  NaN       NaN  NaN  NaN        NaN       NaN  ...   \n",
       " 64  NaN  NaN  NaN   NaN  NaN       NaN  NaN  NaN        NaN       NaN  ...   \n",
       " 75  NaN  NaN  NaN   NaN  NaN       NaN  NaN  NaN        NaN       NaN  ...   \n",
       " 77  NaN  NaN  NaN   NaN  NaN       NaN  NaN  NaN        NaN       NaN  ...   \n",
       " 78  NaN  NaN  NaN   NaN  NaN       NaN  NaN  NaN        NaN       NaN  ...   \n",
       " 79  NaN  NaN  NaN   NaN  NaN       NaN  NaN  NaN        NaN       NaN  ...   \n",
       " 80  NaN  NaN  NaN   NaN  NaN       NaN  NaN  NaN        NaN       NaN  ...   \n",
       " 82  NaN  NaN  NaN   NaN  NaN       NaN  NaN  NaN        NaN       NaN  ...   \n",
       " 89  NaN  NaN  NaN   NaN  NaN       NaN  NaN  NaN        NaN       NaN  ...   \n",
       " \n",
       "     young  yugoslavia  zagreb  zagrebacka  zeman  zero  zivnostenska  zombi  \\\n",
       " 0     0.0         0.0     0.0         0.0    0.0   0.0           0.0    0.0   \n",
       " 1     0.0         0.0     0.0         0.0    0.0   0.0           0.0    0.0   \n",
       " 2     0.0         0.0     0.0         0.0    0.0   0.0           0.0    0.0   \n",
       " 3     0.0         0.0     0.0         0.0    0.0   0.0           0.0    0.0   \n",
       " 4     0.0         0.0     0.0         0.0    0.0   0.0           0.0    0.0   \n",
       " 5     0.0         0.0     0.0         0.0    0.0   0.0           0.0    0.0   \n",
       " 6     0.0         0.0     0.0         0.0    0.0   0.0           0.0    0.0   \n",
       " 7     0.0         0.0     0.0         0.0    0.0   0.0           0.0    0.0   \n",
       " 8     0.0         0.0     0.0         0.0    0.0   0.0           0.0    0.0   \n",
       " 9     0.0         0.0     0.0         0.0    0.0   0.0           0.0    0.0   \n",
       " 10    0.0         0.0     0.0         0.0    0.0   0.0           0.0    0.0   \n",
       " 11    0.0         0.0     0.0         0.0    0.0   0.0           0.0    0.0   \n",
       " 12    0.0         0.0     0.0         0.0    0.0   0.0           0.0    0.0   \n",
       " 13    0.0         0.0     0.0         0.0    0.0   0.0           0.0    0.0   \n",
       " 14    0.0         0.0     0.0         0.0    0.0   0.0           0.0    0.0   \n",
       " 15    0.0         0.0     0.0         0.0    0.0   0.0           0.0    0.0   \n",
       " 16    0.0         0.0     0.0         0.0    0.0   0.0           0.0    0.0   \n",
       " 17    0.0         0.0     0.0         0.0    0.0   0.0           0.0    0.0   \n",
       " 18    0.0         0.0     0.0         0.0    0.0   0.0           0.0    0.0   \n",
       " 19    0.0         0.0     0.0         0.0    0.0   0.0           0.0    0.0   \n",
       " 20    0.0         0.0     0.0         0.0    0.0   0.0           0.0    0.0   \n",
       " 21    0.0         0.0     0.0         0.0    2.0   0.0           0.0    1.0   \n",
       " 22    0.0         0.0     2.0         1.0    0.0   0.0           0.0    0.0   \n",
       " 23    0.0         0.0     0.0         0.0    0.0   0.0           0.0    0.0   \n",
       " 24    0.0         0.0     0.0         0.0    0.0   0.0           0.0    0.0   \n",
       " 25    0.0         0.0     0.0         0.0    0.0   0.0           0.0    0.0   \n",
       " 26    0.0         0.0     0.0         0.0    0.0   0.0           0.0    0.0   \n",
       " 27    0.0         0.0     0.0         0.0    0.0   0.0           0.0    0.0   \n",
       " 28    0.0         0.0     0.0         0.0    0.0   0.0           0.0    0.0   \n",
       " 29    0.0         0.0     0.0         0.0    0.0   0.0           0.0    0.0   \n",
       " 32    NaN         NaN     NaN         NaN    NaN   NaN           NaN    NaN   \n",
       " 35    NaN         NaN     NaN         NaN    NaN   NaN           NaN    NaN   \n",
       " 36    NaN         NaN     NaN         NaN    NaN   NaN           NaN    NaN   \n",
       " 38    NaN         NaN     NaN         NaN    NaN   NaN           NaN    NaN   \n",
       " 39    NaN         NaN     NaN         NaN    NaN   NaN           NaN    NaN   \n",
       " 44    NaN         NaN     NaN         NaN    NaN   NaN           NaN    NaN   \n",
       " 48    NaN         NaN     NaN         NaN    NaN   NaN           NaN    NaN   \n",
       " 49    NaN         NaN     NaN         NaN    NaN   NaN           NaN    NaN   \n",
       " 54    NaN         NaN     NaN         NaN    NaN   NaN           NaN    NaN   \n",
       " 58    NaN         NaN     NaN         NaN    NaN   NaN           NaN    NaN   \n",
       " 59    NaN         NaN     NaN         NaN    NaN   NaN           NaN    NaN   \n",
       " 60    NaN         NaN     NaN         NaN    NaN   NaN           NaN    NaN   \n",
       " 64    NaN         NaN     NaN         NaN    NaN   NaN           NaN    NaN   \n",
       " 75    NaN         NaN     NaN         NaN    NaN   NaN           NaN    NaN   \n",
       " 77    NaN         NaN     NaN         NaN    NaN   NaN           NaN    NaN   \n",
       " 78    NaN         NaN     NaN         NaN    NaN   NaN           NaN    NaN   \n",
       " 79    NaN         NaN     NaN         NaN    NaN   NaN           NaN    NaN   \n",
       " 80    NaN         NaN     NaN         NaN    NaN   NaN           NaN    NaN   \n",
       " 82    NaN         NaN     NaN         NaN    NaN   NaN           NaN    NaN   \n",
       " 89    NaN         NaN     NaN         NaN    NaN   NaN           NaN    NaN   \n",
       " \n",
       "     zone  zubizarreta  \n",
       " 0    0.0          0.0  \n",
       " 1    0.0          0.0  \n",
       " 2    0.0          0.0  \n",
       " 3    0.0          0.0  \n",
       " 4    0.0          0.0  \n",
       " 5    0.0          0.0  \n",
       " 6    0.0          0.0  \n",
       " 7    0.0          0.0  \n",
       " 8    0.0          0.0  \n",
       " 9    0.0          0.0  \n",
       " 10   0.0          0.0  \n",
       " 11   0.0          0.0  \n",
       " 12   0.0          0.0  \n",
       " 13   0.0          0.0  \n",
       " 14   0.0          0.0  \n",
       " 15   0.0          0.0  \n",
       " 16   0.0          0.0  \n",
       " 17   0.0          0.0  \n",
       " 18   0.0          0.0  \n",
       " 19   0.0          0.0  \n",
       " 20   0.0          0.0  \n",
       " 21   0.0          0.0  \n",
       " 22   0.0          0.0  \n",
       " 23   0.0          0.0  \n",
       " 24   0.0          0.0  \n",
       " 25   0.0          0.0  \n",
       " 26   0.0          0.0  \n",
       " 27   0.0          0.0  \n",
       " 28   0.0          0.0  \n",
       " 29   0.0          0.0  \n",
       " 32   NaN          NaN  \n",
       " 35   NaN          NaN  \n",
       " 36   NaN          NaN  \n",
       " 38   NaN          NaN  \n",
       " 39   NaN          NaN  \n",
       " 44   NaN          NaN  \n",
       " 48   NaN          NaN  \n",
       " 49   NaN          NaN  \n",
       " 54   NaN          NaN  \n",
       " 58   NaN          NaN  \n",
       " 59   NaN          NaN  \n",
       " 60   NaN          NaN  \n",
       " 64   NaN          NaN  \n",
       " 75   NaN          NaN  \n",
       " 77   NaN          NaN  \n",
       " 78   NaN          NaN  \n",
       " 79   NaN          NaN  \n",
       " 80   NaN          NaN  \n",
       " 82   NaN          NaN  \n",
       " 89   NaN          NaN  \n",
       " \n",
       " [50 rows x 3683 columns],\n",
       " 0     0\n",
       " 1     1\n",
       " 2     1\n",
       " 3     1\n",
       " 4     1\n",
       "      ..\n",
       " 65    0\n",
       " 66    0\n",
       " 67    0\n",
       " 68    0\n",
       " 69    0\n",
       " Length: 70, dtype: int64,\n",
       " 0     0\n",
       " 1     0\n",
       " 2     1\n",
       " 3     0\n",
       " 4     1\n",
       " 5     0\n",
       " 6     1\n",
       " 7     0\n",
       " 8     1\n",
       " 9     1\n",
       " 10    0\n",
       " 11    1\n",
       " 12    1\n",
       " 13    1\n",
       " 14    1\n",
       " 15    0\n",
       " 16    1\n",
       " 17    1\n",
       " 18    0\n",
       " 19    1\n",
       " 20    1\n",
       " 21    0\n",
       " 22    0\n",
       " 23    0\n",
       " 24    1\n",
       " 25    1\n",
       " 26    1\n",
       " 27    0\n",
       " 28    1\n",
       " 29    1\n",
       " dtype: int64)"
      ]
     },
     "execution_count": 32,
     "metadata": {},
     "output_type": "execute_result"
    }
   ],
   "source": [
    "preprocess_pipeline(\"Data/C50train\", [\"bag of words\"], 0.3,(\"x_train_2.csv\",\"x_test_2.csv\", \"y_train_2.csv\", \"y_test_2.csv\"))"
   ]
  },
  {
   "cell_type": "code",
   "execution_count": 33,
   "metadata": {
    "ExecuteTime": {
     "end_time": "2021-12-10T13:32:52.809389Z",
     "start_time": "2021-12-10T13:32:52.460828Z"
    }
   },
   "outputs": [],
   "source": [
    "x_train = pd.read_csv(\"x_train_2.csv\", index_col=0)\n",
    "y_train = pd.read_csv(\"y_train_2.csv\",index_col=0)\n",
    "x_test = pd.read_csv(\"x_test_2.csv\", index_col=0)\n",
    "y_test = pd.read_csv(\"y_test_2.csv\", index_col=0)"
   ]
  },
  {
   "cell_type": "code",
   "execution_count": 34,
   "metadata": {
    "ExecuteTime": {
     "end_time": "2021-12-10T13:32:52.825427Z",
     "start_time": "2021-12-10T13:32:52.812385Z"
    }
   },
   "outputs": [
    {
     "data": {
      "text/plain": [
       "(93, 3683)"
      ]
     },
     "execution_count": 34,
     "metadata": {},
     "output_type": "execute_result"
    }
   ],
   "source": [
    "x_train.shape"
   ]
  },
  {
   "cell_type": "code",
   "execution_count": 35,
   "metadata": {
    "ExecuteTime": {
     "end_time": "2021-12-10T13:32:52.841460Z",
     "start_time": "2021-12-10T13:32:52.827322Z"
    }
   },
   "outputs": [],
   "source": [
    "x_train = x_train.dropna()"
   ]
  },
  {
   "cell_type": "code",
   "execution_count": 36,
   "metadata": {
    "ExecuteTime": {
     "end_time": "2021-12-10T13:32:52.857159Z",
     "start_time": "2021-12-10T13:32:52.842196Z"
    }
   },
   "outputs": [
    {
     "data": {
      "text/plain": [
       "(70, 3683)"
      ]
     },
     "execution_count": 36,
     "metadata": {},
     "output_type": "execute_result"
    }
   ],
   "source": [
    "x_train.shape"
   ]
  },
  {
   "cell_type": "code",
   "execution_count": 37,
   "metadata": {
    "ExecuteTime": {
     "end_time": "2021-12-10T13:32:52.873040Z",
     "start_time": "2021-12-10T13:32:52.858005Z"
    }
   },
   "outputs": [],
   "source": [
    "x_test = x_test.dropna()"
   ]
  },
  {
   "cell_type": "code",
   "execution_count": 38,
   "metadata": {
    "ExecuteTime": {
     "end_time": "2021-12-10T13:32:52.888692Z",
     "start_time": "2021-12-10T13:32:52.874839Z"
    }
   },
   "outputs": [
    {
     "data": {
      "text/plain": [
       "(30, 1)"
      ]
     },
     "execution_count": 38,
     "metadata": {},
     "output_type": "execute_result"
    }
   ],
   "source": [
    "y_test.shape"
   ]
  },
  {
   "cell_type": "code",
   "execution_count": 41,
   "metadata": {
    "ExecuteTime": {
     "end_time": "2021-12-10T13:37:52.542924Z",
     "start_time": "2021-12-10T13:37:52.306297Z"
    }
   },
   "outputs": [
    {
     "name": "stderr",
     "output_type": "stream",
     "text": [
      "C:\\Users\\eviat\\anaconda3\\lib\\site-packages\\sklearn\\utils\\validation.py:985: DataConversionWarning: A column-vector y was passed when a 1d array was expected. Please change the shape of y to (n_samples, ), for example using ravel().\n",
      "  y = column_or_1d(y, warn=True)\n",
      "C:\\Users\\eviat\\anaconda3\\lib\\site-packages\\sklearn\\utils\\validation.py:985: DataConversionWarning: A column-vector y was passed when a 1d array was expected. Please change the shape of y to (n_samples, ), for example using ravel().\n",
      "  y = column_or_1d(y, warn=True)\n",
      "C:\\Users\\eviat\\anaconda3\\lib\\site-packages\\sklearn\\utils\\validation.py:985: DataConversionWarning: A column-vector y was passed when a 1d array was expected. Please change the shape of y to (n_samples, ), for example using ravel().\n",
      "  y = column_or_1d(y, warn=True)\n",
      "C:\\Users\\eviat\\anaconda3\\lib\\site-packages\\sklearn\\utils\\validation.py:985: DataConversionWarning: A column-vector y was passed when a 1d array was expected. Please change the shape of y to (n_samples, ), for example using ravel().\n",
      "  y = column_or_1d(y, warn=True)\n",
      "C:\\Users\\eviat\\anaconda3\\lib\\site-packages\\sklearn\\utils\\validation.py:985: DataConversionWarning: A column-vector y was passed when a 1d array was expected. Please change the shape of y to (n_samples, ), for example using ravel().\n",
      "  y = column_or_1d(y, warn=True)\n",
      "C:\\Users\\eviat\\anaconda3\\lib\\site-packages\\sklearn\\utils\\validation.py:985: DataConversionWarning: A column-vector y was passed when a 1d array was expected. Please change the shape of y to (n_samples, ), for example using ravel().\n",
      "  y = column_or_1d(y, warn=True)\n"
     ]
    },
    {
     "name": "stdout",
     "output_type": "stream",
     "text": [
      "              precision    recall  f1-score   support\n",
      "\n",
      "           0       1.00      1.00      1.00        12\n",
      "           1       1.00      1.00      1.00        18\n",
      "\n",
      "    accuracy                           1.00        30\n",
      "   macro avg       1.00      1.00      1.00        30\n",
      "weighted avg       1.00      1.00      1.00        30\n",
      "\n"
     ]
    },
    {
     "data": {
      "image/png": "[encoded data removed]",
      "text/plain": [
       "<Figure size 720x504 with 2 Axes>"
      ]
     },
     "metadata": {},
     "output_type": "display_data"
    }
   ],
   "source": [
    "from sklearn.naive_bayes import MultinomialNB\n",
    "class Naive_Bayes(Model):\n",
    "    def train(self, x_train, y_train,**kwargs):\n",
    "        self.mnb = MultinomialNB(**kwargs)\n",
    "        self.mnb.fit(x_train, y_train)\n",
    "        return self.mnb\n",
    "    def predict(self,x_test):\n",
    "        return self.mnb.predict(x_test)\n",
    "Naive_Bayes().pipeline(x_train.values, y_train.values, x_test.values, y_test.values,\"Multinomial Naive Bayes 2 Authors\",do_cross_validation=True)"
   ]
  },
  {
   "cell_type": "code",
   "execution_count": null,
   "metadata": {},
   "outputs": [],
   "source": []
  },
  {
   "cell_type": "code",
   "execution_count": null,
   "metadata": {},
   "outputs": [],
   "source": []
  },
  {
   "cell_type": "code",
   "execution_count": null,
   "metadata": {},
   "outputs": [],
   "source": []
  }
 ],
 "metadata": {
  "kernelspec": {
   "display_name": "Python 3",
   "language": "python",
   "name": "python3"
  },
  "language_info": {
   "codemirror_mode": {
    "name": "ipython",
    "version": 3
   },
   "file_extension": ".py",
   "mimetype": "text/x-python",
   "name": "python",
   "nbconvert_exporter": "python",
   "pygments_lexer": "ipython3",
   "version": "3.8.3"
  },
  "toc": {
   "base_numbering": 1,
   "nav_menu": {},
   "number_sections": true,
   "sideBar": true,
   "skip_h1_title": false,
   "title_cell": "Table of Contents",
   "title_sidebar": "Contents",
   "toc_cell": false,
   "toc_position": {},
   "toc_section_display": true,
   "toc_window_display": false
  }
 },
 "nbformat": 4,
 "nbformat_minor": 4
}
