{
 "cells": [
  {
   "cell_type": "code",
   "execution_count": 1,
   "metadata": {
    "ExecuteTime": {
     "end_time": "2021-12-13T12:53:12.899268Z",
     "start_time": "2021-12-13T12:53:10.518505Z"
    }
   },
   "outputs": [
    {
     "name": "stderr",
     "output_type": "stream",
     "text": [
      "[nltk_data] Downloading package punkt to\n",
      "[nltk_data]     C:\\Users\\eviat\\AppData\\Roaming\\nltk_data...\n",
      "[nltk_data]   Package punkt is already up-to-date!\n",
      "[nltk_data] Downloading package averaged_perceptron_tagger to\n",
      "[nltk_data]     C:\\Users\\eviat\\AppData\\Roaming\\nltk_data...\n",
      "[nltk_data]   Package averaged_perceptron_tagger is already up-to-\n",
      "[nltk_data]       date!\n"
     ]
    }
   ],
   "source": [
    "from PythonCode.preprocess import *"
   ]
  },
  {
   "cell_type": "code",
   "execution_count": 2,
   "metadata": {
    "ExecuteTime": {
     "end_time": "2021-12-13T12:53:13.148292Z",
     "start_time": "2021-12-13T12:53:12.901234Z"
    }
   },
   "outputs": [],
   "source": [
    "from PythonCode.models import *"
   ]
  },
  {
   "cell_type": "code",
   "execution_count": 3,
   "metadata": {
    "ExecuteTime": {
     "end_time": "2021-12-13T12:53:13.163158Z",
     "start_time": "2021-12-13T12:53:13.151188Z"
    }
   },
   "outputs": [],
   "source": [
    "import pandas as pd\n",
    "import swifter\n",
    "import nltk\n",
    "from nltk.stem import PorterStemmer\n",
    "from nltk.tokenize import word_tokenize\n",
    "import string\n",
    "from typing import List\n",
    "from nltk.corpus import stopwords\n",
    "from itertools import islice\n",
    "from sklearn.preprocessing import StandardScaler\n",
    "from sklearn.preprocessing import MinMaxScaler\n",
    "from sklearn.model_selection import train_test_split\n",
    "from sklearn.feature_extraction.text import CountVectorizer\n",
    "import os\n",
    "import sys\n",
    "from abc import ABC, abstractmethod"
   ]
  },
  {
   "cell_type": "code",
   "execution_count": 4,
   "metadata": {
    "ExecuteTime": {
     "end_time": "2021-12-13T12:53:13.178583Z",
     "start_time": "2021-12-13T12:53:13.166148Z"
    }
   },
   "outputs": [],
   "source": [
    "# def load_data(path: str) -> pd.DataFrame:\n",
    "#     rows_list = []\n",
    "#     _, authors, _ = next(os.walk(path))\n",
    "#     for author_name in islice(authors, 2):\n",
    "#             curr_row = {\"author_name\": author_name}\n",
    "#             author_path = os.path.join(path, author_name)\n",
    "#             _, _, books_files = next(os.walk(author_path))\n",
    "#             for book_name in books_files:\n",
    "#                 curr_row[\"book_name\"] = book_name\n",
    "#                 with open(os.path.join(author_path, book_name), \"r\") as book:\n",
    "#                     curr_row[\"book_text\"] = book.read()\n",
    "#                 rows_list.append(curr_row.copy())\n",
    "#     return pd.DataFrame(rows_list)"
   ]
  },
  {
   "cell_type": "code",
   "execution_count": 5,
   "metadata": {
    "ExecuteTime": {
     "end_time": "2021-12-13T12:53:13.194668Z",
     "start_time": "2021-12-13T12:53:13.179593Z"
    }
   },
   "outputs": [],
   "source": [
    "# data  = load_data(\"Data/C50train/\")"
   ]
  },
  {
   "cell_type": "code",
   "execution_count": 6,
   "metadata": {
    "ExecuteTime": {
     "end_time": "2021-12-13T12:53:13.210634Z",
     "start_time": "2021-12-13T12:53:13.196545Z"
    }
   },
   "outputs": [],
   "source": [
    "# data.shape"
   ]
  },
  {
   "cell_type": "code",
   "execution_count": 7,
   "metadata": {
    "ExecuteTime": {
     "end_time": "2021-12-13T12:53:14.853168Z",
     "start_time": "2021-12-13T12:53:13.212624Z"
    }
   },
   "outputs": [
    {
     "name": "stderr",
     "output_type": "stream",
     "text": [
      "C:\\Users\\eviat\\anaconda3\\lib\\site-packages\\sklearn\\feature_extraction\\text.py:538: UserWarning: The parameter 'stop_words' will not be used since 'analyzer' != 'word'\n",
      "  warnings.warn(\n"
     ]
    },
    {
     "data": {
      "text/plain": [
       "(      $    &    '    ''   'm  're   's  've    (    )  ...  without  won  \\\n",
       " 0   1.0  0.0  0.0   8.0  0.0  1.0  0.0  0.0  1.0  1.0  ...      0.0  0.0   \n",
       " 1   1.0  0.0  0.0   1.0  0.0  0.0  5.0  0.0  0.0  0.0  ...      0.0  0.0   \n",
       " 2   0.0  1.0  0.0  11.0  0.0  0.0  7.0  1.0  0.0  0.0  ...      1.0  0.0   \n",
       " 3   0.0  1.0  0.0  11.0  0.0  0.0  7.0  1.0  0.0  0.0  ...      1.0  0.0   \n",
       " 4   1.0  0.0  1.0   1.0  0.0  0.0  1.0  0.0  3.0  3.0  ...      0.0  0.0   \n",
       " ..  ...  ...  ...   ...  ...  ...  ...  ...  ...  ...  ...      ...  ...   \n",
       " 95  NaN  NaN  NaN   NaN  NaN  NaN  NaN  NaN  NaN  NaN  ...      NaN  NaN   \n",
       " 96  NaN  NaN  NaN   NaN  NaN  NaN  NaN  NaN  NaN  NaN  ...      NaN  NaN   \n",
       " 97  NaN  NaN  NaN   NaN  NaN  NaN  NaN  NaN  NaN  NaN  ...      NaN  NaN   \n",
       " 98  NaN  NaN  NaN   NaN  NaN  NaN  NaN  NaN  NaN  NaN  ...      NaN  NaN   \n",
       " 99  NaN  NaN  NaN   NaN  NaN  NaN  NaN  NaN  NaN  NaN  ...      NaN  NaN   \n",
       " \n",
       "     wood  work  world  would  year  year-end  yet  you  \n",
       " 0    0.0   0.0    1.0    2.0   1.0       0.0  0.0  0.0  \n",
       " 1    0.0   0.0    3.0    1.0   1.0       0.0  0.0  0.0  \n",
       " 2    0.0   2.0    0.0    3.0   1.0       0.0  0.0  2.0  \n",
       " 3    0.0   2.0    0.0    3.0   1.0       0.0  0.0  2.0  \n",
       " 4    0.0   0.0    0.0    2.0   1.0       0.0  0.0  0.0  \n",
       " ..   ...   ...    ...    ...   ...       ...  ...  ...  \n",
       " 95   NaN   NaN    NaN    NaN   NaN       NaN  NaN  NaN  \n",
       " 96   NaN   NaN    NaN    NaN   NaN       NaN  NaN  NaN  \n",
       " 97   NaN   NaN    NaN    NaN   NaN       NaN  NaN  NaN  \n",
       " 98   NaN   NaN    NaN    NaN   NaN       NaN  NaN  NaN  \n",
       " 99   NaN   NaN    NaN    NaN   NaN       NaN  NaN  NaN  \n",
       " \n",
       " [94 rows x 655 columns],\n",
       "       $    &    '    ''   'm  're   's  've     (     )  ...  without  won  \\\n",
       " 0   0.0  0.0  0.0   1.0  0.0  0.0  2.0  0.0   2.0   2.0  ...      0.0  0.0   \n",
       " 1   0.0  0.0  0.0   5.0  0.0  0.0  7.0  0.0   4.0   4.0  ...      0.0  1.0   \n",
       " 2   0.0  0.0  1.0  15.0  0.0  2.0  5.0  1.0   1.0   1.0  ...      1.0  0.0   \n",
       " 3   0.0  0.0  0.0   4.0  0.0  0.0  9.0  0.0   2.0   2.0  ...      0.0  0.0   \n",
       " 4   0.0  0.0  0.0   2.0  0.0  0.0  4.0  0.0   2.0   2.0  ...      0.0  0.0   \n",
       " 5   4.0  0.0  0.0   2.0  0.0  0.0  2.0  0.0   0.0   0.0  ...      0.0  0.0   \n",
       " 6   2.0  0.0  1.0   6.0  0.0  0.0  1.0  0.0   0.0   0.0  ...      0.0  0.0   \n",
       " 7   0.0  0.0  1.0   3.0  0.0  0.0  4.0  0.0   2.0   2.0  ...      0.0  0.0   \n",
       " 8   1.0  0.0  0.0   3.0  0.0  0.0  1.0  0.0   0.0   0.0  ...      0.0  0.0   \n",
       " 9   0.0  0.0  0.0   4.0  0.0  0.0  8.0  0.0   0.0   0.0  ...      0.0  0.0   \n",
       " 10  1.0  0.0  0.0   2.0  0.0  0.0  5.0  1.0   0.0   0.0  ...      0.0  0.0   \n",
       " 11  1.0  1.0  0.0  18.0  0.0  1.0  1.0  1.0   0.0   0.0  ...      0.0  1.0   \n",
       " 12  0.0  0.0  0.0   2.0  1.0  0.0  4.0  0.0   0.0   0.0  ...      0.0  0.0   \n",
       " 13  0.0  0.0  0.0   5.0  0.0  0.0  2.0  0.0   0.0   0.0  ...      0.0  0.0   \n",
       " 14  2.0  0.0  1.0   5.0  0.0  0.0  9.0  0.0   0.0   0.0  ...      0.0  0.0   \n",
       " 15  0.0  0.0  0.0   0.0  0.0  0.0  1.0  0.0   0.0   0.0  ...      0.0  0.0   \n",
       " 16  0.0  0.0  0.0  10.0  0.0  3.0  6.0  0.0   2.0   2.0  ...      0.0  0.0   \n",
       " 17  0.0  0.0  1.0   5.0  0.0  0.0  8.0  0.0  11.0  11.0  ...      0.0  0.0   \n",
       " 18  0.0  2.0  1.0  10.0  0.0  0.0  5.0  0.0   0.0   0.0  ...      0.0  0.0   \n",
       " 19  0.0  0.0  0.0   6.0  0.0  0.0  3.0  0.0   1.0   1.0  ...      0.0  0.0   \n",
       " 20  0.0  0.0  0.0   5.0  0.0  0.0  3.0  0.0   0.0   0.0  ...      0.0  0.0   \n",
       " 21  0.0  0.0  1.0  10.0  0.0  1.0  2.0  0.0   0.0   0.0  ...      0.0  0.0   \n",
       " 22  0.0  0.0  0.0   1.0  0.0  0.0  0.0  0.0   0.0   0.0  ...      0.0  0.0   \n",
       " 23  0.0  0.0  0.0   4.0  0.0  0.0  3.0  0.0   2.0   2.0  ...      0.0  0.0   \n",
       " 24  1.0  0.0  0.0   3.0  1.0  0.0  5.0  2.0   1.0   1.0  ...      0.0  1.0   \n",
       " 25  0.0  0.0  0.0   3.0  2.0  0.0  7.0  0.0   5.0   5.0  ...      0.0  0.0   \n",
       " 26  0.0  2.0  1.0   7.0  0.0  0.0  1.0  0.0   2.0   2.0  ...      0.0  0.0   \n",
       " 27  3.0  0.0  1.0   7.0  1.0  1.0  2.0  0.0   0.0   0.0  ...      0.0  0.0   \n",
       " 28  0.0  1.0  0.0   1.0  0.0  0.0  1.0  0.0   0.0   0.0  ...      0.0  0.0   \n",
       " 29  0.0  0.0  1.0   9.0  0.0  0.0  5.0  0.0   0.0   0.0  ...      1.0  0.0   \n",
       " 34  NaN  NaN  NaN   NaN  NaN  NaN  NaN  NaN   NaN   NaN  ...      NaN  NaN   \n",
       " 37  NaN  NaN  NaN   NaN  NaN  NaN  NaN  NaN   NaN   NaN  ...      NaN  NaN   \n",
       " 38  NaN  NaN  NaN   NaN  NaN  NaN  NaN  NaN   NaN   NaN  ...      NaN  NaN   \n",
       " 39  NaN  NaN  NaN   NaN  NaN  NaN  NaN  NaN   NaN   NaN  ...      NaN  NaN   \n",
       " 46  NaN  NaN  NaN   NaN  NaN  NaN  NaN  NaN   NaN   NaN  ...      NaN  NaN   \n",
       " 47  NaN  NaN  NaN   NaN  NaN  NaN  NaN  NaN   NaN   NaN  ...      NaN  NaN   \n",
       " 49  NaN  NaN  NaN   NaN  NaN  NaN  NaN  NaN   NaN   NaN  ...      NaN  NaN   \n",
       " 50  NaN  NaN  NaN   NaN  NaN  NaN  NaN  NaN   NaN   NaN  ...      NaN  NaN   \n",
       " 53  NaN  NaN  NaN   NaN  NaN  NaN  NaN  NaN   NaN   NaN  ...      NaN  NaN   \n",
       " 56  NaN  NaN  NaN   NaN  NaN  NaN  NaN  NaN   NaN   NaN  ...      NaN  NaN   \n",
       " 57  NaN  NaN  NaN   NaN  NaN  NaN  NaN  NaN   NaN   NaN  ...      NaN  NaN   \n",
       " 58  NaN  NaN  NaN   NaN  NaN  NaN  NaN  NaN   NaN   NaN  ...      NaN  NaN   \n",
       " 64  NaN  NaN  NaN   NaN  NaN  NaN  NaN  NaN   NaN   NaN  ...      NaN  NaN   \n",
       " 66  NaN  NaN  NaN   NaN  NaN  NaN  NaN  NaN   NaN   NaN  ...      NaN  NaN   \n",
       " 69  NaN  NaN  NaN   NaN  NaN  NaN  NaN  NaN   NaN   NaN  ...      NaN  NaN   \n",
       " 71  NaN  NaN  NaN   NaN  NaN  NaN  NaN  NaN   NaN   NaN  ...      NaN  NaN   \n",
       " 77  NaN  NaN  NaN   NaN  NaN  NaN  NaN  NaN   NaN   NaN  ...      NaN  NaN   \n",
       " 83  NaN  NaN  NaN   NaN  NaN  NaN  NaN  NaN   NaN   NaN  ...      NaN  NaN   \n",
       " 86  NaN  NaN  NaN   NaN  NaN  NaN  NaN  NaN   NaN   NaN  ...      NaN  NaN   \n",
       " 91  NaN  NaN  NaN   NaN  NaN  NaN  NaN  NaN   NaN   NaN  ...      NaN  NaN   \n",
       " 92  NaN  NaN  NaN   NaN  NaN  NaN  NaN  NaN   NaN   NaN  ...      NaN  NaN   \n",
       " \n",
       "     wood  work  world  would  year  year-end  yet  you  \n",
       " 0    0.0   0.0    0.0    1.0   2.0       0.0  1.0  0.0  \n",
       " 1    1.0   0.0    0.0    2.0   0.0       0.0  0.0  0.0  \n",
       " 2    0.0   1.0    0.0    5.0   0.0       0.0  0.0  4.0  \n",
       " 3    0.0   0.0    1.0    1.0   0.0       0.0  0.0  0.0  \n",
       " 4    0.0   1.0    0.0    2.0   0.0       0.0  1.0  0.0  \n",
       " 5    0.0   1.0    1.0    0.0   0.0       0.0  0.0  0.0  \n",
       " 6    0.0   0.0    0.0    0.0   2.0       0.0  0.0  0.0  \n",
       " 7    0.0   0.0    0.0    3.0   1.0       0.0  0.0  0.0  \n",
       " 8    0.0   0.0    0.0    1.0   0.0       0.0  0.0  0.0  \n",
       " 9    0.0   0.0    2.0    0.0   0.0       0.0  0.0  1.0  \n",
       " 10   0.0   0.0    3.0    2.0   1.0       0.0  0.0  0.0  \n",
       " 11   0.0   0.0    3.0    4.0   1.0       0.0  0.0  0.0  \n",
       " 12   0.0   0.0    4.0    1.0   1.0       0.0  0.0  0.0  \n",
       " 13   0.0   0.0    1.0    1.0   0.0       0.0  0.0  0.0  \n",
       " 14   0.0   0.0    0.0    1.0   3.0       0.0  0.0  0.0  \n",
       " 15   0.0   1.0    0.0    0.0   0.0       0.0  0.0  0.0  \n",
       " 16   0.0   0.0    0.0    1.0   0.0       0.0  0.0  0.0  \n",
       " 17   0.0   0.0    0.0    1.0   0.0       0.0  1.0  0.0  \n",
       " 18   0.0   0.0    0.0    1.0   2.0       0.0  0.0  0.0  \n",
       " 19   1.0   0.0    0.0    1.0   5.0       0.0  0.0  0.0  \n",
       " 20   0.0   0.0    0.0    1.0   0.0       0.0  0.0  0.0  \n",
       " 21   0.0   0.0    0.0    2.0   0.0       0.0  1.0  0.0  \n",
       " 22   1.0   0.0    0.0    2.0   0.0       0.0  0.0  1.0  \n",
       " 23   0.0   1.0    0.0    5.0   1.0       0.0  0.0  0.0  \n",
       " 24   0.0   0.0    2.0    0.0   2.0       0.0  0.0  0.0  \n",
       " 25   0.0   0.0    2.0    2.0   1.0       0.0  0.0  0.0  \n",
       " 26   0.0   1.0    0.0    1.0   2.0       0.0  0.0  0.0  \n",
       " 27   0.0   1.0    3.0    2.0   2.0       0.0  0.0  0.0  \n",
       " 28   0.0   0.0    0.0    0.0   3.0       0.0  0.0  0.0  \n",
       " 29   0.0   0.0    0.0    5.0   0.0       0.0  0.0  0.0  \n",
       " 34   NaN   NaN    NaN    NaN   NaN       NaN  NaN  NaN  \n",
       " 37   NaN   NaN    NaN    NaN   NaN       NaN  NaN  NaN  \n",
       " 38   NaN   NaN    NaN    NaN   NaN       NaN  NaN  NaN  \n",
       " 39   NaN   NaN    NaN    NaN   NaN       NaN  NaN  NaN  \n",
       " 46   NaN   NaN    NaN    NaN   NaN       NaN  NaN  NaN  \n",
       " 47   NaN   NaN    NaN    NaN   NaN       NaN  NaN  NaN  \n",
       " 49   NaN   NaN    NaN    NaN   NaN       NaN  NaN  NaN  \n",
       " 50   NaN   NaN    NaN    NaN   NaN       NaN  NaN  NaN  \n",
       " 53   NaN   NaN    NaN    NaN   NaN       NaN  NaN  NaN  \n",
       " 56   NaN   NaN    NaN    NaN   NaN       NaN  NaN  NaN  \n",
       " 57   NaN   NaN    NaN    NaN   NaN       NaN  NaN  NaN  \n",
       " 58   NaN   NaN    NaN    NaN   NaN       NaN  NaN  NaN  \n",
       " 64   NaN   NaN    NaN    NaN   NaN       NaN  NaN  NaN  \n",
       " 66   NaN   NaN    NaN    NaN   NaN       NaN  NaN  NaN  \n",
       " 69   NaN   NaN    NaN    NaN   NaN       NaN  NaN  NaN  \n",
       " 71   NaN   NaN    NaN    NaN   NaN       NaN  NaN  NaN  \n",
       " 77   NaN   NaN    NaN    NaN   NaN       NaN  NaN  NaN  \n",
       " 83   NaN   NaN    NaN    NaN   NaN       NaN  NaN  NaN  \n",
       " 86   NaN   NaN    NaN    NaN   NaN       NaN  NaN  NaN  \n",
       " 91   NaN   NaN    NaN    NaN   NaN       NaN  NaN  NaN  \n",
       " 92   NaN   NaN    NaN    NaN   NaN       NaN  NaN  NaN  \n",
       " \n",
       " [51 rows x 655 columns],\n",
       " 0     0\n",
       " 1     1\n",
       " 2     0\n",
       " 3     0\n",
       " 4     1\n",
       "      ..\n",
       " 65    0\n",
       " 66    1\n",
       " 67    0\n",
       " 68    0\n",
       " 69    0\n",
       " Length: 70, dtype: int64,\n",
       " 0     0\n",
       " 1     0\n",
       " 2     1\n",
       " 3     0\n",
       " 4     1\n",
       " 5     1\n",
       " 6     1\n",
       " 7     0\n",
       " 8     0\n",
       " 9     0\n",
       " 10    0\n",
       " 11    1\n",
       " 12    0\n",
       " 13    1\n",
       " 14    1\n",
       " 15    1\n",
       " 16    1\n",
       " 17    0\n",
       " 18    1\n",
       " 19    0\n",
       " 20    0\n",
       " 21    1\n",
       " 22    0\n",
       " 23    1\n",
       " 24    0\n",
       " 25    0\n",
       " 26    1\n",
       " 27    1\n",
       " 28    1\n",
       " 29    1\n",
       " dtype: int64)"
      ]
     },
     "execution_count": 7,
     "metadata": {},
     "output_type": "execute_result"
    }
   ],
   "source": [
    "preprocess_pipeline(\"Data/C50train\", [\"bag of words\"], 0.3,(\"x_train_2_norm.csv\",\"x_test_2_norm.csv\", \"y_train_2.csv\", \"y_test_2.csv\"))"
   ]
  },
  {
   "cell_type": "code",
   "execution_count": 17,
   "metadata": {
    "ExecuteTime": {
     "end_time": "2021-12-13T13:19:36.504247Z",
     "start_time": "2021-12-13T13:19:36.205900Z"
    }
   },
   "outputs": [],
   "source": [
    "x_train = pd.read_csv(\"x_train_2.csv\", index_col=0)\n",
    "y_train = pd.read_csv(\"y_train_2.csv\",index_col=0)\n",
    "x_test = pd.read_csv(\"x_test_2.csv\", index_col=0)\n",
    "y_test = pd.read_csv(\"y_test_2.csv\", index_col=0)"
   ]
  },
  {
   "cell_type": "code",
   "execution_count": 18,
   "metadata": {
    "ExecuteTime": {
     "end_time": "2021-12-13T13:19:41.650694Z",
     "start_time": "2021-12-13T13:19:41.642716Z"
    }
   },
   "outputs": [
    {
     "data": {
      "text/plain": [
       "(93, 3657)"
      ]
     },
     "execution_count": 18,
     "metadata": {},
     "output_type": "execute_result"
    }
   ],
   "source": [
    "x_train.shape"
   ]
  },
  {
   "cell_type": "code",
   "execution_count": 19,
   "metadata": {
    "ExecuteTime": {
     "end_time": "2021-12-13T13:19:41.900523Z",
     "start_time": "2021-12-13T13:19:41.882634Z"
    }
   },
   "outputs": [],
   "source": [
    "x_train = x_train.dropna()"
   ]
  },
  {
   "cell_type": "code",
   "execution_count": 20,
   "metadata": {
    "ExecuteTime": {
     "end_time": "2021-12-13T13:19:42.133832Z",
     "start_time": "2021-12-13T13:19:42.119827Z"
    }
   },
   "outputs": [
    {
     "data": {
      "text/plain": [
       "(70, 3657)"
      ]
     },
     "execution_count": 20,
     "metadata": {},
     "output_type": "execute_result"
    }
   ],
   "source": [
    "x_train.shape"
   ]
  },
  {
   "cell_type": "code",
   "execution_count": 21,
   "metadata": {
    "ExecuteTime": {
     "end_time": "2021-12-13T13:19:42.434881Z",
     "start_time": "2021-12-13T13:19:42.416965Z"
    }
   },
   "outputs": [],
   "source": [
    "x_test = x_test.dropna()"
   ]
  },
  {
   "cell_type": "code",
   "execution_count": 22,
   "metadata": {
    "ExecuteTime": {
     "end_time": "2021-12-13T13:19:42.983831Z",
     "start_time": "2021-12-13T13:19:42.962842Z"
    }
   },
   "outputs": [
    {
     "data": {
      "text/plain": [
       "(30, 1)"
      ]
     },
     "execution_count": 22,
     "metadata": {},
     "output_type": "execute_result"
    }
   ],
   "source": [
    "y_test.shape"
   ]
  },
  {
   "cell_type": "code",
   "execution_count": 23,
   "metadata": {
    "ExecuteTime": {
     "end_time": "2021-12-13T13:19:44.184519Z",
     "start_time": "2021-12-13T13:19:43.986840Z"
    }
   },
   "outputs": [
    {
     "name": "stdout",
     "output_type": "stream",
     "text": [
      "              precision    recall  f1-score   support\n",
      "\n",
      "           0       0.35      0.43      0.39        14\n",
      "           1       0.38      0.31      0.34        16\n",
      "\n",
      "    accuracy                           0.37        30\n",
      "   macro avg       0.37      0.37      0.37        30\n",
      "weighted avg       0.37      0.37      0.36        30\n",
      "\n"
     ]
    },
    {
     "name": "stderr",
     "output_type": "stream",
     "text": [
      "C:\\Users\\eviat\\anaconda3\\lib\\site-packages\\sklearn\\utils\\validation.py:985: DataConversionWarning: A column-vector y was passed when a 1d array was expected. Please change the shape of y to (n_samples, ), for example using ravel().\n",
      "  y = column_or_1d(y, warn=True)\n"
     ]
    },
    {
     "data": {
      "image/png": "[encoded data removed]",
      "text/plain": [
       "<Figure size 720x504 with 2 Axes>"
      ]
     },
     "metadata": {},
     "output_type": "display_data"
    }
   ],
   "source": [
    "from sklearn.naive_bayes import MultinomialNB\n",
    "class Naive_Bayes(Model):\n",
    "    def train(self, x_train, y_train,**kwargs):\n",
    "        self.mnb = MultinomialNB(**kwargs)\n",
    "        self.mnb.fit(x_train, y_train)\n",
    "        return self.mnb\n",
    "    def predict(self,x_test):\n",
    "        return self.mnb.predict(x_test)\n",
    "Naive_Bayes().pipeline(x_train.values, y_train.values, x_test.values, y_test.values,\"Multinomial Naive Bayes 2 Authors\",do_cross_validation=False)"
   ]
  },
  {
   "cell_type": "code",
   "execution_count": 15,
   "metadata": {
    "ExecuteTime": {
     "end_time": "2021-12-13T12:53:44.373269Z",
     "start_time": "2021-12-13T12:53:44.158574Z"
    }
   },
   "outputs": [
    {
     "name": "stdout",
     "output_type": "stream",
     "text": [
      "              precision    recall  f1-score   support\n",
      "\n",
      "           0       0.31      0.29      0.30        14\n",
      "           1       0.41      0.44      0.42        16\n",
      "\n",
      "    accuracy                           0.37        30\n",
      "   macro avg       0.36      0.36      0.36        30\n",
      "weighted avg       0.36      0.37      0.36        30\n",
      "\n"
     ]
    },
    {
     "name": "stderr",
     "output_type": "stream",
     "text": [
      "C:\\Users\\eviat\\anaconda3\\lib\\site-packages\\sklearn\\neighbors\\_classification.py:198: DataConversionWarning: A column-vector y was passed when a 1d array was expected. Please change the shape of y to (n_samples,), for example using ravel().\n",
      "  return self._fit(X, y)\n"
     ]
    },
    {
     "data": {
      "image/png": "[encoded data removed]",
      "text/plain": [
       "<Figure size 720x504 with 2 Axes>"
      ]
     },
     "metadata": {},
     "output_type": "display_data"
    }
   ],
   "source": [
    "from sklearn.neighbors import KNeighborsClassifier\n",
    "class KNN(Model):\n",
    "    def train(self, x_train, y_train,**kwargs):\n",
    "        self.mnb = KNeighborsClassifier(n_neighbors=7, weights= 'distance', p=2)\n",
    "        self.mnb.fit(x_train, y_train)\n",
    "        return self.mnb\n",
    "    def predict(self,x_test):\n",
    "        return self.mnb.predict(x_test)\n",
    "KNN().pipeline(x_train.values, y_train.values, x_test.values, y_test.values,\"KNN 2 Authors 1.3\",do_cross_validation=False)"
   ]
  },
  {
   "cell_type": "code",
   "execution_count": 16,
   "metadata": {
    "ExecuteTime": {
     "end_time": "2021-12-13T12:53:45.346361Z",
     "start_time": "2021-12-13T12:53:45.089488Z"
    }
   },
   "outputs": [
    {
     "name": "stderr",
     "output_type": "stream",
     "text": [
      "C:\\Users\\eviat\\anaconda3\\lib\\site-packages\\sklearn\\neighbors\\_classification.py:198: DataConversionWarning: A column-vector y was passed when a 1d array was expected. Please change the shape of y to (n_samples,), for example using ravel().\n",
      "  return self._fit(X, y)\n"
     ]
    },
    {
     "name": "stdout",
     "output_type": "stream",
     "text": [
      "              precision    recall  f1-score   support\n",
      "\n",
      "           0       0.31      0.29      0.30        14\n",
      "           1       0.41      0.44      0.42        16\n",
      "\n",
      "    accuracy                           0.37        30\n",
      "   macro avg       0.36      0.36      0.36        30\n",
      "weighted avg       0.36      0.37      0.36        30\n",
      "\n"
     ]
    },
    {
     "data": {
      "image/png": "[encoded data removed]",
      "text/plain": [
       "<Figure size 720x504 with 2 Axes>"
      ]
     },
     "metadata": {},
     "output_type": "display_data"
    }
   ],
   "source": [
    "from sklearn.linear_model import SGDClassifier\n",
    "class LogisticRegression(Model):\n",
    "    def train(self, x_train, y_train,**kwargs):\n",
    "        self.mnb = SGDClassifier(loss='log')\n",
    "        self.mnb.fit(x_train, y_train)\n",
    "        return self.mnb\n",
    "    def predict(self,x_test):\n",
    "        return self.mnb.predict(x_test)\n",
    "KNN().pipeline(x_train.values, y_train.values, x_test.values, y_test.values,\"LogisticRegression 2 Authors 1.1\",do_cross_validation=False)"
   ]
  },
  {
   "cell_type": "code",
   "execution_count": null,
   "metadata": {},
   "outputs": [],
   "source": []
  }
 ],
 "metadata": {
  "kernelspec": {
   "display_name": "Python 3",
   "language": "python",
   "name": "python3"
  },
  "language_info": {
   "codemirror_mode": {
    "name": "ipython",
    "version": 3
   },
   "file_extension": ".py",
   "mimetype": "text/x-python",
   "name": "python",
   "nbconvert_exporter": "python",
   "pygments_lexer": "ipython3",
   "version": "3.8.3"
  },
  "toc": {
   "base_numbering": 1,
   "nav_menu": {},
   "number_sections": true,
   "sideBar": true,
   "skip_h1_title": false,
   "title_cell": "Table of Contents",
   "title_sidebar": "Contents",
   "toc_cell": false,
   "toc_position": {},
   "toc_section_display": true,
   "toc_window_display": false
  }
 },
 "nbformat": 4,
 "nbformat_minor": 4
}
