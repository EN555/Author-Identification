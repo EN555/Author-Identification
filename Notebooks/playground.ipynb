{
 "cells": [
  {
   "cell_type": "markdown",
   "id": "e1a8e4d0",
   "metadata": {},
   "source": [
    "# Playground"
   ]
  },
  {
   "cell_type": "code",
   "execution_count": 1,
   "id": "f79f5eb9",
   "metadata": {
    "ExecuteTime": {
     "end_time": "2021-11-10T21:20:04.684857Z",
     "start_time": "2021-11-10T21:20:03.109112Z"
    }
   },
   "outputs": [],
   "source": [
    "import numpy as np\n",
    "import pandas as pd\n",
    "import matplotlib.pyplot as plt"
   ]
  },
  {
   "cell_type": "code",
   "execution_count": 2,
   "id": "c6d4fe6f",
   "metadata": {
    "ExecuteTime": {
     "end_time": "2021-11-10T21:21:49.857994Z",
     "start_time": "2021-11-10T21:20:04.720833Z"
    }
   },
   "outputs": [],
   "source": [
    "df = pd.read_csv(\"../data.csv\",index_col=0)"
   ]
  },
  {
   "cell_type": "code",
   "execution_count": 9,
   "id": "7559cd2c",
   "metadata": {
    "ExecuteTime": {
     "end_time": "2021-11-10T21:34:44.140679Z",
     "start_time": "2021-11-10T21:34:44.096690Z"
    }
   },
   "outputs": [
    {
     "data": {
      "text/plain": [
       "Harun Yahya                  91\n",
       "Harun Yahya (Adnan Oktar)    58\n",
       "Rod Island                   48\n",
       "Jesus (AJ Miller)            47\n",
       "Faisal Fahim                 36\n",
       "                             ..\n",
       "Tommy Strelka                 1\n",
       "J.L. Berg                     1\n",
       "Anthony E Thorogood           1\n",
       "Fernando Davalos              1\n",
       "Jeffrey Rubin                 1\n",
       "Name: author, Length: 7792, dtype: int64"
      ]
     },
     "execution_count": 9,
     "metadata": {},
     "output_type": "execute_result"
    }
   ],
   "source": [
    "df[\"author\"].value_counts()"
   ]
  },
  {
   "cell_type": "code",
   "execution_count": 5,
   "id": "5ba15e75",
   "metadata": {
    "ExecuteTime": {
     "end_time": "2021-11-10T21:27:59.368539Z",
     "start_time": "2021-11-10T21:27:59.324545Z"
    }
   },
   "outputs": [
    {
     "data": {
      "text/plain": [
       "100.00000000000001"
      ]
     },
     "execution_count": 5,
     "metadata": {},
     "output_type": "execute_result"
    }
   ],
   "source": [
    "s = (df[\"author\"].value_counts()/df.shape[0] * 100).sort_values()\n",
    "s.sum()"
   ]
  },
  {
   "cell_type": "code",
   "execution_count": 8,
   "id": "3f9d0da2",
   "metadata": {
    "ExecuteTime": {
     "end_time": "2021-11-10T21:34:08.126897Z",
     "start_time": "2021-11-10T21:34:07.751143Z"
    }
   },
   "outputs": [
    {
     "data": {
      "text/plain": [
       "<matplotlib.collections.PathCollection at 0x248905732e0>"
      ]
     },
     "execution_count": 8,
     "metadata": {},
     "output_type": "execute_result"
    },
    {
     "data": {
      "image/png": "[encoded data removed]",
      "text/plain": [
       "<Figure size 432x288 with 1 Axes>"
      ]
     },
     "metadata": {
      "needs_background": "light"
     },
     "output_type": "display_data"
    }
   ],
   "source": [
    "plt.scatter(list(range(s.values.size)),s.values)"
   ]
  },
  {
   "cell_type": "code",
   "execution_count": 22,
   "id": "bab73153",
   "metadata": {
    "ExecuteTime": {
     "end_time": "2021-11-10T21:56:50.951844Z",
     "start_time": "2021-11-10T21:55:49.074856Z"
    }
   },
   "outputs": [
    {
     "data": {
      "application/vnd.jupyter.widget-view+json": {
       "model_id": "a53257bb2c034ecabfdae05633140658",
       "version_major": 2,
       "version_minor": 0
      },
      "text/plain": [
       "Pandas Apply:   0%|          | 0/12341 [00:00<?, ?it/s]"
      ]
     },
     "metadata": {},
     "output_type": "display_data"
    }
   ],
   "source": [
    "import swifter\n",
    "count_lines = df[\"Text\"].swifter.apply(lambda s : s.replace(\"\\n\\n\",\" \").replace(\"  \",\" \").count(' '))"
   ]
  },
  {
   "cell_type": "code",
   "execution_count": 24,
   "id": "a12d1e3b",
   "metadata": {
    "ExecuteTime": {
     "end_time": "2021-11-10T21:57:18.975621Z",
     "start_time": "2021-11-10T21:57:18.595605Z"
    }
   },
   "outputs": [
    {
     "data": {
      "text/plain": [
       "<matplotlib.collections.PathCollection at 0x24891723d00>"
      ]
     },
     "execution_count": 24,
     "metadata": {},
     "output_type": "execute_result"
    },
    {
     "data": {
      "image/png": "[encoded data removed]",
      "text/plain": [
       "<Figure size 432x288 with 1 Axes>"
      ]
     },
     "metadata": {
      "needs_background": "light"
     },
     "output_type": "display_data"
    }
   ],
   "source": [
    "plt.scatter(list(range(count_lines.values.size)),count_lines.values/(9*20))\n",
    "plt.ylim(0,)"
   ]
  },
  {
   "cell_type": "code",
   "execution_count": 30,
   "id": "ef8bcf86",
   "metadata": {
    "ExecuteTime": {
     "end_time": "2021-11-10T21:59:00.472004Z",
     "start_time": "2021-11-10T21:59:00.439885Z"
    }
   },
   "outputs": [
    {
     "data": {
      "text/plain": [
       "count    12341.000000\n",
       "mean       363.425015\n",
       "std        343.611704\n",
       "min          0.005556\n",
       "25%        180.338889\n",
       "50%        300.733333\n",
       "75%        462.666667\n",
       "max      22686.361111\n",
       "Name: Text, dtype: float64"
      ]
     },
     "execution_count": 30,
     "metadata": {},
     "output_type": "execute_result"
    }
   ],
   "source": [
    "(count_lines*200).describe()"
   ]
  },
  {
   "cell_type": "code",
   "execution_count": null,
   "id": "964aabe0",
   "metadata": {},
   "outputs": [],
   "source": []
  }
 ],
 "metadata": {
  "kernelspec": {
   "display_name": "Python 3",
   "language": "python",
   "name": "python3"
  },
  "language_info": {
   "codemirror_mode": {
    "name": "ipython",
    "version": 3
   },
   "file_extension": ".py",
   "mimetype": "text/x-python",
   "name": "python",
   "nbconvert_exporter": "python",
   "pygments_lexer": "ipython3",
   "version": "3.8.8"
  },
  "toc": {
   "base_numbering": 1,
   "nav_menu": {},
   "number_sections": true,
   "sideBar": true,
   "skip_h1_title": false,
   "title_cell": "Table of Contents",
   "title_sidebar": "Contents",
   "toc_cell": false,
   "toc_position": {},
   "toc_section_display": true,
   "toc_window_display": false
  },
  "varInspector": {
   "cols": {
    "lenName": 16,
    "lenType": 16,
    "lenVar": 40
   },
   "kernels_config": {
    "python": {
     "delete_cmd_postfix": "",
     "delete_cmd_prefix": "del ",
     "library": "var_list.py",
     "varRefreshCmd": "print(var_dic_list())"
    },
    "r": {
     "delete_cmd_postfix": ") ",
     "delete_cmd_prefix": "rm(",
     "library": "var_list.r",
     "varRefreshCmd": "cat(var_dic_list()) "
    }
   },
   "types_to_exclude": [
    "module",
    "function",
    "builtin_function_or_method",
    "instance",
    "_Feature"
   ],
   "window_display": false
  }
 },
 "nbformat": 4,
 "nbformat_minor": 5
}
